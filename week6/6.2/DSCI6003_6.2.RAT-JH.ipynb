{
 "cells": [
  {
   "cell_type": "markdown",
   "metadata": {},
   "source": [
    "### RAT 6.2"
   ]
  },
  {
   "cell_type": "markdown",
   "metadata": {},
   "source": [
    "- Describe the basic algorithms for Ada Boosting\n",
    "- Describe use cases for Ada Boosting"
   ]
  },
  {
   "cell_type": "markdown",
   "metadata": {
    "collapsed": false
   },
   "source": [
    "> The basic algorithm is \n",
    "- 1) Build a decision tree \n",
    "- 2) See how many errors there were in your original decision tree\n",
    "- 3) Apply a weight to the errors (i.e. duplicate these rows so that they have a higher probability of being correctly identified).\n",
    "- 4) Build the next deicsion tree with the weights applied to the data as your input (to change the probability of diving the data).\n",
    "- 5) Repeat this process for a set depth (number of boosted trees).\n"
   ]
  },
  {
   "cell_type": "markdown",
   "metadata": {},
   "source": [
    "- AdaBoost is useful because in general it tends to not overfit because it works to maximize the margin (number of correct cases relative to incorrect cases) of each row of data.\n",
    "\n",
    "- The basic idea behind AdaBoost is that you have a series of 'weak learners' these are rules that guess a prediction slightly better than 50/50%. If you combine a series of these 'weak learners' it is possible to create a 'strong learner' a prediction that works correctly the majority of the time.\n",
    "\n",
    "- Boosting in general help to reduce variance with mininal increase in bias.\n",
    "\n",
    "- Use cases include wanting a better accuracy score than a pure decision tree when you don't need the intreperatibility of the individual trees. "
   ]
  },
  {
   "cell_type": "code",
   "execution_count": null,
   "metadata": {
    "collapsed": true
   },
   "outputs": [],
   "source": []
  }
 ],
 "metadata": {
  "kernelspec": {
   "display_name": "Python 3",
   "language": "python",
   "name": "python3"
  },
  "language_info": {
   "codemirror_mode": {
    "name": "ipython",
    "version": 3
   },
   "file_extension": ".py",
   "mimetype": "text/x-python",
   "name": "python",
   "nbconvert_exporter": "python",
   "pygments_lexer": "ipython3",
   "version": "3.5.2"
  }
 },
 "nbformat": 4,
 "nbformat_minor": 0
}
