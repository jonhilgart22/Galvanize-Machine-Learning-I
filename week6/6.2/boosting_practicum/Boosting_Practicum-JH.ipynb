{
 "cells": [
  {
   "cell_type": "markdown",
   "metadata": {},
   "source": [
    "# DSCI 6003 Boosting Practicum\n",
    "\n",
    "\n",
    "Save all work for the below section as an ipython notebook in a single directory. \n",
    "\n",
    "## Introduction to Boosting Regressors\n",
    "\n",
    "Here we will use boosting to solve a regression problem. Specifically we would\n",
    "like to predict Boston house prices based on 13 features.\n",
    "\n",
    "\n",
    "A) Import the following libraries.\n",
    "\n",
    "   ```python\n",
    "   from sklearn.tree import DecisionTreeRegressor\n",
    "   from sklearn.ensemble import RandomForestRegressor\n",
    "   from sklearn.ensemble import GradientBoostingRegressor\n",
    "   from sklearn.ensemble import AdaBoostRegressor\n",
    "   from sklearn.datasets import load_boston\n",
    "   from sklearn.cross_validation import train_test_split, cross_val_score\n",
    "   from sklearn.grid_search import GridSearchCV\n",
    "   from sklearn.metrics import mean_squared_error, r2_score\n",
    "   from sklearn.ensemble.partial_dependence import plot_partial_dependence\n",
    "   import matplotlib.pyplot as plt\n",
    "   import numpy as np\n",
    "   ```\n",
    "\n",
    "B) Import the data.\n",
    "\n",
    "   ```python\n",
    "   boston = load_boston()\n",
    "   # House Prices\n",
    "   y = boston.target\n",
    "   # The other 13 features\n",
    "   x = boston.data\n",
    "   ```\n",
    "\n",
    "   Do a `train_test_split` where `train : test` is `80 : 20`. Set\n",
    "   `random_state=1` so the exact same split can be replicated later.\n",
    "   All subsequent model selection will be carried out with the train set.\n",
    "\n",
    "C) We are interested in comparing 3 classes of ML algorithms here:\n",
    "   - `RandomForestRegressor`\n",
    "   - `AdaBoostRegressor`\n",
    "   - `GradientBoostingRegressor`\n",
    "\n",
    "   Boosted decision trees (`AdaBoost`, `GradientBoosting` & others)\n",
    "   have been shown empirically to outperform `RandomForest` on average\n",
    "   ([_Table 4 - R. Caruana et. al._](/readings/compare_ml_algo.pdf)) in terms\n",
    "   of predictive power. The runtime for boosting algorithms, as you will\n",
    "   experience, is also competitive with random forest.\n",
    "\n",
    "   As a starting point, below are instantiations of the 3 classes of\n",
    "   algorithms. I have given you a set of hyperparameters for each\n",
    "   class. Do not worry about tuning the parameters for now, we will do a\n",
    "   `GridSearch` at the end of the exercise.\n",
    "\n",
    "   ```python\n",
    "   rf = RandomForestRegressor(n_estimators=100,\n",
    "                               n_jobs=-1,\n",
    "                               random_state=1)\n",
    "\n",
    "   gdbr = GradientBoostingRegressor(learning_rate=0.1,\n",
    "                                     loss='ls',\n",
    "                                     n_estimators=100,\n",
    "                                     random_state=1)\n",
    "\n",
    "   abr = AdaBoostRegressor(DecisionTreeRegressor(),\n",
    "                            learning_rate=0.1,\n",
    "                            loss='linear',\n",
    "                            n_estimators=100,\n",
    "                            random_state=1)\n",
    "   ```\n",
    "   **Note:**\n",
    "   `n_jobs=-1` _allows the process to be run on multiple cores on\n",
    "   your computer. Only parallel algorithms such as_ `RandomForest` _can\n",
    "   do that. Boosting is sequential (the current step depends on the residuals\n",
    "   from the previous) and does not have that option._\n",
    "   `n_jobs=-1` _is not a hyperparameter._\n",
    "\n",
    "\n",
    "4. Using `cross_val_score` in `sklearn`, define a function that \n",
    "   calculates the cross-validated train MSE and R2 for `AdaBoostRegressor`,\n",
    "   `GradientBoostingRegressor`, `RandomForestRegressor`.\n",
    "\n",
    "   **Your output should be similar to this (Do not worry if the numbers do\n",
    "   not match up exactly):**\n",
    "\n",
    "   ```\n",
    "   RandomForestRegressor Train CV | MSE: 9.881 | R2: 0.866\n",
    "   GradientBoostingRegressor Train CV | MSE: 8.453 | R2: 0.886\n",
    "   AdaBoostRegressor Train CV | MSE: 10.335 | R2: 0.861\n",
    "   ```\n",
    "\n",
    "   Which of the models cross validates the best? Why is it inappropriate\n",
    "   to make a judgement on the performance of the models\n",
    "   based only on the evidence we have thus far?\n",
    "\n",
    "5. Define a new instance of `GradientBoostingRegressor` with the exact same\n",
    "   hyperparameters as above, except change the `learning_rate` to `1`\n",
    "   (instead of `0.1`). Calculate the cross-validated train MSE.\n",
    "    What do you notice?\n",
    "\n",
    "6. We're going to make a plot to help us understand the impact of the learning rate\n",
    "   and the improvements in error after each iteration of the boosting.\n",
    "   \n",
    "   [`staged_predict`](http://scikit-learn.org/stable/modules/generated/sklearn.ensemble.GradientBoostingRegressor.html#sklearn.ensemble.GradientBoostingRegressor.staged_predict) is a method in both\n",
    "   `GradientBoostingRegressor` and `AdaBoostRegressor`. It allows us to get\n",
    "   predictions from the estimator after each iteration of the boosting.\n",
    "   \n",
    "   Using\n",
    "   `stage_predict`, define a function `stage_score_plot` that calculates the test and train\n",
    "   MSE from each estimator. Do the calculations for `GradientBoostingRegressor`\n",
    "   with `learning_rate=1` and `learning_rate=0.1`\n",
    "\n",
    "   ```python\n",
    "   def stage_score_plot(model, train_x, train_y, test_x, test_y):\n",
    "      '''\n",
    "      INPUT:\n",
    "         model: GradientBoostingRegressor or AdaBoostRegressor\n",
    "         train_x: 2d numpy array\n",
    "         train_y: 1d numpy array\n",
    "         test_x: 2d numpy array\n",
    "         test_y: 1d numpy array\n",
    "      \n",
    "      Create a plot of the number of iterations vs the MSE for the model for\n",
    "      both the training set and test set.\n",
    "      '''\n",
    "      \n",
    "      #### YOUR CODE HERE ####\n",
    "   ```\n",
    "   \n",
    "   You should be able to run your code like this:\n",
    "   \n",
    "   ```python\n",
    "   stage_score_plot(gdbr, train_x, train_y, test_x, test_y)\n",
    "   plt.legend()\n",
    "   plt.show()\n",
    "   ```\n",
    "   \n",
    "   And get a result which looks like this:\n",
    "\n",
    "   ![stage_score_plot](images/stage_score_plot.png)\n",
    "   \n",
    "   In order to get the labels for the plot, you can use `model.__class__.__name__` to get the model name and `model.learning_rate` to get the learning rate.\n",
    "\n",
    "7. Use your `stage_score_plot` function to make a plot that shows the error\n",
    "   for gradient boosting with a learning rate of 0.1 and 1.\n",
    "\n",
    "   Since you are comparing two models and we're showing both the training and\n",
    "   test error, you should have 4 lines on your graph.\n",
    "\n",
    "8. Given your plot, explain the behavior of the test / train curves\n",
    "   for the two (0.1 and 1) learning rates. With a lower learning rate (0.1),\n",
    "   what is necessary to obtain a low test error?\n",
    "\n",
    "9. Using the `stage_score_plot` function, make a plot like you did above of\n",
    "    the MSE for `GradientBoostingRegressor` with `learning_rate=0.1`.\n",
    "\n",
    "    Add a horizontal line to indicate where the `RandomForestRegressor` test\n",
    "   error is at.\n",
    "\n",
    "   Your plot should look something like this:\n",
    "\n",
    "   ![gradient boosting](images/gradboost.png)\n",
    "\n",
    "   a. How many iterations does it take until Gradient Boosting beats Random Forest?\n",
    "\n",
    "10. Make a similar plot for `AdaBoost`. Again have the `learning_rate=0.1`\n",
    "    and add a horizontal line for the Random Forest test error.\n",
    "\n",
    "    Don't expect AdaBoost to be as smooth as the Gradient Boosting graph.\n",
    "\n",
    "    a. How many iterations does it take till AdaBoost beats Random Forest?\n",
    "\n",
    "11. As seen above when we compared two learning rates, suboptimal hyperparameters\n",
    "    can give rise to higher error\n",
    "    (MSE). Therefore, we aim to search for the set of hyperparameters that\n",
    "    would give us the lowest cross-validated train error. The search of these\n",
    "    hyperparameters is known as grid-search. For each hyperparameter, a set\n",
    "    of values are specified. The combination of the hyperparameters at different\n",
    "    values will constitute the search space. We try each possible combination\n",
    "    of parameters and find the combination which minimizes error.\n",
    "\n",
    "    Use `GridSearchCV` for to find the best `RandomForestRegressor`\n",
    "    and `GradientBoostRegressor` models respectively.\n",
    "    Remember to specify `n_jobs=-1` in `GridSearchCV` to use all the cores of your\n",
    "    machine and speed up your search.\n",
    "\n",
    "    Here are some values to start out with trying for hyperparameters for Random Forest:\n",
    "\n",
    "    ```python\n",
    "    random_forest_grid = {'max_depth': [3, None],\n",
    "                          'max_features': ['sqrt', 'log2', None],\n",
    "                          'min_samples_split': [1, 2, 4],\n",
    "                          'min_samples_leaf': [1, 2, 4],\n",
    "                          'bootstrap': [True, False],\n",
    "                          'n_estimators': [10, 20, 40],\n",
    "                          'random_state': [1]}\n",
    "\n",
    "    rf_gridsearch = GridSearchCV(RandomForestRegressor(),\n",
    "                                 random_forest_grid,\n",
    "                                 n_jobs=-1,\n",
    "                                 verbose=True,\n",
    "                                 scoring='mean_squared_error')\n",
    "    rf_gridsearch.fit(train_x, train_y)\n",
    "\n",
    "    print \"best parameters:\", rf_gridsearch.best_params_\n",
    "\n",
    "    best_rf_model = rf_gridsearch.best_estimator_\n",
    "    ```\n",
    "\n",
    "    Feel free to change it to try a different set of parameters.\n",
    "\n",
    "    Note that this will take about 3-5 minutes to run. The total number of combinations is:\n",
    "    `2 * 3 * 3 * 3 * 2 * 3 * 1 = 324`. We are trying each of these possibilities!\n",
    "\n",
    "    a. What are the optimal parameters?\n",
    "\n",
    "    b. What is the MSE you get on the test set with these parameters?\n",
    "\n",
    "    c. How does this compare with the MSE with the default parameters?\n",
    "\n",
    "12. Go through the same process for `GradientBoosting`. Try several values for\n",
    "    these hyperparameters:\n",
    "\n",
    "    * `learning_rate`\n",
    "    * `max_depth`\n",
    "    * `min_samples_leaf`\n",
    "    * `max_features`\n",
    "    * `n_estimators`\n",
    "    \n",
    "    If you're unsure what values to include, take a look at sklearn's default. Include the default value and at least \n",
    "    one value less than and greater than the default value. Here's the [docs on Gradient Boosting](http://scikit-learn.org/stable/modules/generated/sklearn.ensemble.GradientBoostingClassifier.html#sklearn.ensemble.GradientBoostingClassifier) where you can see the defaults.\n",
    "    If you want a set of starting parameters, [here](https://gist.github.com/pprett/3989337#file-grid_search-py-L115) is\n",
    "    a reference.\n",
    "\n",
    "    a. What are the parameters that give the optimal model?\n",
    "\n",
    "    b. How does the MSE for this model compare with the original MSE you got with Gradient Boosting\n",
    "    before tuning the parameters?\n",
    "\n",
    "13. Go through the same process for `AdaBoost`. Note you need to define different hyperparameters\n",
    "    in the base estimator to perform the gridsearch. This will also take much longer to run,\n",
    "    so feel free to just leave it running after you figure out some parameters to try.\n",
    "\n",
    "## Studying the AdaBoost Classifier\n",
    "We have encountered `AdaBoostRegressor` and its gradient\n",
    "descent variant, `GradientBoostingRegressor`. The base form of AdaBoost was\n",
    "introduced in 1995 as an ensemble classifier, `AdaBoostClassifier`.\n",
    "Understanding `AdaBoostClassifier` is regarded as the defacto\n",
    "introduction to the world of seemingly endless variants of boosting algorithms\n",
    "([refs](readings)). To gain a more entrenched understanding of boosting\n",
    "in general, I would recommend [this](readings/explaining_boosting.pdf).\n",
    "\n",
    "Make yourself familiar with the reading if you are not comfortable.\n",
    "\n",
    "\n",
    "## Implementing the AdaBoost Classifier\n",
    "Here we will build a simplified version of `AdaBoostClassifier`. In this case,\n",
    "our classifier, `AdaBoostBinaryClassifier`, will only predict binary outcomes.\n",
    "The starter code is in the [code](code) folder. The `.py` file contains the \n",
    "core functions you would have to implement this afternoon. Fill in the rest depending \n",
    "on your progress.\n",
    "\n",
    "Your code should exactly implement this pseudocode:\n",
    "\n",
    "![adaboost](images/adaboost_algorithm_1.png)\n",
    "\n",
    "We're going to be using the spam dataset. It's in the [data](data) folder. You can see the feature names [here](https://archive.ics.uci.edu/ml/machine-learning-databases/spambase/spambase.names).\n",
    "\n",
    "Here's how you should be able to run your code after you're finished:\n",
    "\n",
    "```python\n",
    "from boosting import AdaBoostBinaryClassifier\n",
    "import numpy as np\n",
    "from sklearn.cross_validation import train_test_split\n",
    "\n",
    "data = np.genfromtxt('data/spam.csv', delimiter=',')\n",
    "\n",
    "y = data[:, -1]\n",
    "x = data[:, 0:-1]\n",
    "\n",
    "train_x, test_x, train_y, test_y = train_test_split(x, y)\n",
    "\n",
    "my_ada = AdaBoostBinaryClassifier(n_estimators=50)\n",
    "my_ada.fit(train_x, train_y)\n",
    "print \"Accuracy:\", my_ada.score(test_x, test_y)\n",
    "```\n",
    "\n",
    "1. Take a look at the `__init__` method. You shouldn't need to change anything here. Note how we are creating Decision Trees that are just stumps! (max depth is 1). \n",
    "\n",
    "2. Implement the `_boost` method. This will be doing steps (a)-(d) inside the for loop.\n",
    "\n",
    "    Because we need many copies of the estimator, the first step is to clone it. This code is given for you.\n",
    "\n",
    "    In this function `sample_weight` refers to the *wi*'s in the above description of the algorithm.\n",
    "\n",
    "    You will need to do these steps:\n",
    "\n",
    "    * Fix the Decision Tree using the weights. You can do this like this: `estimator.fit(x, y, sample_weight=sample_weight)`\n",
    "    * Calculate the error term (`estimator_error`)\n",
    "    * Calculate the alphas (`estimator_weight`)\n",
    "    * Update the weights (`sample_weight`)\n",
    "\n",
    "3. Implement the `fit` method. This is steps 1 and 2 from above.\n",
    "\n",
    "    You should have a for loop that calls your `_boost` method `n_estimators` times. Make sure to save all the estimators in `self.estimators_`. You also need to save all the estimator weights in `self.estimator_weight_`.\n",
    "\n",
    "4. Implement the `predict` method. This is step 3 from above.\n",
    "\n",
    "    Note that the algorithm considers the predictions to be either -1 or 1. So once you get predictions back from your Decision Trees, change the 0's to -1's.\n",
    "\n",
    "5. Implement the `score` method.\n",
    "\n",
    "    This should call the predict method and then calculate the accuracy.\n",
    "\n",
    "6. Load the file `data/spam_data.csv` into a dataframe. Use `train_test_split` to create test and train sets.\n",
    "   Train your implementation of `AdaBoostBinaryClassifier` on the train set and get the train and test accuracy scores. \n",
    "   Compare your results with sklearn's [AdaBoostClassifier](http://scikit-learn.org/stable/modules/generated/sklearn.ensemble.AdaBoostClassifier.html).\n",
    "   You should get approximately the same accuracy. \n",
    "   \n",
    "   **Review the steps to implement the algorithm and make sure you have understood the underpinnings of boosting.**  \n"
   ]
  },
  {
   "cell_type": "code",
   "execution_count": 1,
   "metadata": {
    "collapsed": false
   },
   "outputs": [
    {
     "name": "stdout",
     "output_type": "stream",
     "text": [
      "Populating the interactive namespace from numpy and matplotlib\n"
     ]
    }
   ],
   "source": [
    "from sklearn.tree import DecisionTreeRegressor\n",
    "from sklearn.ensemble import RandomForestRegressor\n",
    "from sklearn.ensemble import GradientBoostingRegressor\n",
    "from sklearn.ensemble import AdaBoostRegressor\n",
    "from sklearn.datasets import load_boston\n",
    "from sklearn.cross_validation import train_test_split, cross_val_score\n",
    "from sklearn.grid_search import GridSearchCV\n",
    "from sklearn.metrics import mean_squared_error, r2_score\n",
    "from sklearn.ensemble.partial_dependence import plot_partial_dependence\n",
    "import matplotlib.pyplot as plt\n",
    "import numpy as np\n",
    "import pandas as pd\n",
    "%pylab inline"
   ]
  },
  {
   "cell_type": "code",
   "execution_count": 2,
   "metadata": {
    "collapsed": true
   },
   "outputs": [],
   "source": [
    "boston = load_boston()"
   ]
  },
  {
   "cell_type": "code",
   "execution_count": 3,
   "metadata": {
    "collapsed": false
   },
   "outputs": [],
   "source": [
    "# House Prices\n",
    "y = boston.target\n",
    "# The other 13 features\n",
    "X = boston.data"
   ]
  },
  {
   "cell_type": "code",
   "execution_count": 4,
   "metadata": {
    "collapsed": false
   },
   "outputs": [
    {
     "data": {
      "text/html": [
       "<div>\n",
       "<table border=\"1\" class=\"dataframe\">\n",
       "  <thead>\n",
       "    <tr style=\"text-align: right;\">\n",
       "      <th></th>\n",
       "      <th>0</th>\n",
       "      <th>1</th>\n",
       "      <th>2</th>\n",
       "      <th>3</th>\n",
       "      <th>4</th>\n",
       "      <th>5</th>\n",
       "      <th>6</th>\n",
       "      <th>7</th>\n",
       "      <th>8</th>\n",
       "      <th>9</th>\n",
       "      <th>10</th>\n",
       "      <th>11</th>\n",
       "      <th>12</th>\n",
       "    </tr>\n",
       "  </thead>\n",
       "  <tbody>\n",
       "    <tr>\n",
       "      <th>count</th>\n",
       "      <td>506.000000</td>\n",
       "      <td>506.000000</td>\n",
       "      <td>506.000000</td>\n",
       "      <td>506.000000</td>\n",
       "      <td>506.000000</td>\n",
       "      <td>506.000000</td>\n",
       "      <td>506.000000</td>\n",
       "      <td>506.000000</td>\n",
       "      <td>506.000000</td>\n",
       "      <td>506.000000</td>\n",
       "      <td>506.000000</td>\n",
       "      <td>506.000000</td>\n",
       "      <td>506.000000</td>\n",
       "    </tr>\n",
       "    <tr>\n",
       "      <th>mean</th>\n",
       "      <td>3.593761</td>\n",
       "      <td>11.363636</td>\n",
       "      <td>11.136779</td>\n",
       "      <td>0.069170</td>\n",
       "      <td>0.554695</td>\n",
       "      <td>6.284634</td>\n",
       "      <td>68.574901</td>\n",
       "      <td>3.795043</td>\n",
       "      <td>9.549407</td>\n",
       "      <td>408.237154</td>\n",
       "      <td>18.455534</td>\n",
       "      <td>356.674032</td>\n",
       "      <td>12.653063</td>\n",
       "    </tr>\n",
       "    <tr>\n",
       "      <th>std</th>\n",
       "      <td>8.596783</td>\n",
       "      <td>23.322453</td>\n",
       "      <td>6.860353</td>\n",
       "      <td>0.253994</td>\n",
       "      <td>0.115878</td>\n",
       "      <td>0.702617</td>\n",
       "      <td>28.148861</td>\n",
       "      <td>2.105710</td>\n",
       "      <td>8.707259</td>\n",
       "      <td>168.537116</td>\n",
       "      <td>2.164946</td>\n",
       "      <td>91.294864</td>\n",
       "      <td>7.141062</td>\n",
       "    </tr>\n",
       "    <tr>\n",
       "      <th>min</th>\n",
       "      <td>0.006320</td>\n",
       "      <td>0.000000</td>\n",
       "      <td>0.460000</td>\n",
       "      <td>0.000000</td>\n",
       "      <td>0.385000</td>\n",
       "      <td>3.561000</td>\n",
       "      <td>2.900000</td>\n",
       "      <td>1.129600</td>\n",
       "      <td>1.000000</td>\n",
       "      <td>187.000000</td>\n",
       "      <td>12.600000</td>\n",
       "      <td>0.320000</td>\n",
       "      <td>1.730000</td>\n",
       "    </tr>\n",
       "    <tr>\n",
       "      <th>25%</th>\n",
       "      <td>0.082045</td>\n",
       "      <td>0.000000</td>\n",
       "      <td>5.190000</td>\n",
       "      <td>0.000000</td>\n",
       "      <td>0.449000</td>\n",
       "      <td>5.885500</td>\n",
       "      <td>45.025000</td>\n",
       "      <td>2.100175</td>\n",
       "      <td>4.000000</td>\n",
       "      <td>279.000000</td>\n",
       "      <td>17.400000</td>\n",
       "      <td>375.377500</td>\n",
       "      <td>6.950000</td>\n",
       "    </tr>\n",
       "    <tr>\n",
       "      <th>50%</th>\n",
       "      <td>0.256510</td>\n",
       "      <td>0.000000</td>\n",
       "      <td>9.690000</td>\n",
       "      <td>0.000000</td>\n",
       "      <td>0.538000</td>\n",
       "      <td>6.208500</td>\n",
       "      <td>77.500000</td>\n",
       "      <td>3.207450</td>\n",
       "      <td>5.000000</td>\n",
       "      <td>330.000000</td>\n",
       "      <td>19.050000</td>\n",
       "      <td>391.440000</td>\n",
       "      <td>11.360000</td>\n",
       "    </tr>\n",
       "    <tr>\n",
       "      <th>75%</th>\n",
       "      <td>3.647423</td>\n",
       "      <td>12.500000</td>\n",
       "      <td>18.100000</td>\n",
       "      <td>0.000000</td>\n",
       "      <td>0.624000</td>\n",
       "      <td>6.623500</td>\n",
       "      <td>94.075000</td>\n",
       "      <td>5.188425</td>\n",
       "      <td>24.000000</td>\n",
       "      <td>666.000000</td>\n",
       "      <td>20.200000</td>\n",
       "      <td>396.225000</td>\n",
       "      <td>16.955000</td>\n",
       "    </tr>\n",
       "    <tr>\n",
       "      <th>max</th>\n",
       "      <td>88.976200</td>\n",
       "      <td>100.000000</td>\n",
       "      <td>27.740000</td>\n",
       "      <td>1.000000</td>\n",
       "      <td>0.871000</td>\n",
       "      <td>8.780000</td>\n",
       "      <td>100.000000</td>\n",
       "      <td>12.126500</td>\n",
       "      <td>24.000000</td>\n",
       "      <td>711.000000</td>\n",
       "      <td>22.000000</td>\n",
       "      <td>396.900000</td>\n",
       "      <td>37.970000</td>\n",
       "    </tr>\n",
       "  </tbody>\n",
       "</table>\n",
       "</div>"
      ],
      "text/plain": [
       "               0           1           2           3           4           5   \\\n",
       "count  506.000000  506.000000  506.000000  506.000000  506.000000  506.000000   \n",
       "mean     3.593761   11.363636   11.136779    0.069170    0.554695    6.284634   \n",
       "std      8.596783   23.322453    6.860353    0.253994    0.115878    0.702617   \n",
       "min      0.006320    0.000000    0.460000    0.000000    0.385000    3.561000   \n",
       "25%      0.082045    0.000000    5.190000    0.000000    0.449000    5.885500   \n",
       "50%      0.256510    0.000000    9.690000    0.000000    0.538000    6.208500   \n",
       "75%      3.647423   12.500000   18.100000    0.000000    0.624000    6.623500   \n",
       "max     88.976200  100.000000   27.740000    1.000000    0.871000    8.780000   \n",
       "\n",
       "               6           7           8           9           10          11  \\\n",
       "count  506.000000  506.000000  506.000000  506.000000  506.000000  506.000000   \n",
       "mean    68.574901    3.795043    9.549407  408.237154   18.455534  356.674032   \n",
       "std     28.148861    2.105710    8.707259  168.537116    2.164946   91.294864   \n",
       "min      2.900000    1.129600    1.000000  187.000000   12.600000    0.320000   \n",
       "25%     45.025000    2.100175    4.000000  279.000000   17.400000  375.377500   \n",
       "50%     77.500000    3.207450    5.000000  330.000000   19.050000  391.440000   \n",
       "75%     94.075000    5.188425   24.000000  666.000000   20.200000  396.225000   \n",
       "max    100.000000   12.126500   24.000000  711.000000   22.000000  396.900000   \n",
       "\n",
       "               12  \n",
       "count  506.000000  \n",
       "mean    12.653063  \n",
       "std      7.141062  \n",
       "min      1.730000  \n",
       "25%      6.950000  \n",
       "50%     11.360000  \n",
       "75%     16.955000  \n",
       "max     37.970000  "
      ]
     },
     "execution_count": 4,
     "metadata": {},
     "output_type": "execute_result"
    }
   ],
   "source": [
    "pd.DataFrame(X).describe()"
   ]
  },
  {
   "cell_type": "markdown",
   "metadata": {},
   "source": [
    "Do a train_test_split where train : test is 80 : 20. Set  random_state=1 so the exact same split can be replicated later. All subsequent model selection will be carried out with the train set."
   ]
  },
  {
   "cell_type": "code",
   "execution_count": 5,
   "metadata": {
    "collapsed": true
   },
   "outputs": [],
   "source": [
    "#X_train, X_test, y_train, y_test = train_test_split(\n",
    "#    X, y, test_size=0.33, random_state=42)\n",
    "X_train, X_test, y_train, y_test = train_test_split(X,y,test_size=.20,random_state=1)"
   ]
  },
  {
   "cell_type": "markdown",
   "metadata": {},
   "source": [
    "C) We are interested in comparing 3 classes of ML algorithms here:\n",
    "   - `RandomForestRegressor`\n",
    "   - `AdaBoostRegressor`\n",
    "   - `GradientBoostingRegressor`\n",
    "\n",
    "   Boosted decision trees (`AdaBoost`, `GradientBoosting` & others)\n",
    "   have been shown empirically to outperform `RandomForest` on average\n",
    "   ([_Table 4 - R. Caruana et. al._](/readings/compare_ml_algo.pdf)) in terms\n",
    "   of predictive power. The runtime for boosting algorithms, as you will\n",
    "   experience, is also competitive with random forest.\n",
    "\n",
    "   As a starting point, below are instantiations of the 3 classes of\n",
    "   algorithms. I have given you a set of hyperparameters for each\n",
    "   class. Do not worry about tuning the parameters for now, we will do a\n",
    "   `GridSearch` at the end of the exercise.\n",
    "\n",
    "   ```python\n",
    "   rf = RandomForestRegressor(n_estimators=100,\n",
    "                               n_jobs=-1,\n",
    "                               random_state=1)\n",
    "\n",
    "   gdbr = GradientBoostingRegressor(learning_rate=0.1,\n",
    "                                     loss='ls',\n",
    "                                     n_estimators=100,\n",
    "                                     random_state=1)\n",
    "\n",
    "   abr = AdaBoostRegressor(DecisionTreeRegressor(),\n",
    "                            learning_rate=0.1,\n",
    "                            loss='linear',\n",
    "                            n_estimators=100,\n",
    "                            random_state=1)\n",
    "   ```\n",
    "   **Note:**\n",
    "   `n_jobs=-1` _allows the process to be run on multiple cores on\n",
    "   your computer. Only parallel algorithms such as_ `RandomForest` _can\n",
    "   do that. Boosting is sequential (the current step depends on the residuals\n",
    "   from the previous) and does not have that option._\n",
    "   `n_jobs=-1` _is not a hyperparameter._\n"
   ]
  },
  {
   "cell_type": "code",
   "execution_count": 6,
   "metadata": {
    "collapsed": true
   },
   "outputs": [],
   "source": [
    "rf = RandomForestRegressor(n_estimators=100,\n",
    "                          n_jobs=-1,\n",
    "                          random_state=1)"
   ]
  },
  {
   "cell_type": "code",
   "execution_count": 7,
   "metadata": {
    "collapsed": true
   },
   "outputs": [],
   "source": [
    "gdbr = GradientBoostingRegressor(learning_rate=0.1,\n",
    "                                loss='ls',\n",
    "                                n_estimators=100,\n",
    "                                random_state=1)"
   ]
  },
  {
   "cell_type": "code",
   "execution_count": 8,
   "metadata": {
    "collapsed": true
   },
   "outputs": [],
   "source": [
    "abr = AdaBoostRegressor(DecisionTreeRegressor(),\n",
    "                       learning_rate=0.1,\n",
    "                       loss='linear',\n",
    "                       n_estimators=100,\n",
    "                       random_state=1)"
   ]
  },
  {
   "cell_type": "markdown",
   "metadata": {},
   "source": [
    "4. Using `cross_val_score` in `sklearn`, define a function that \n",
    "   calculates the cross-validated train MSE and R2 for `AdaBoostRegressor`,\n",
    "   `GradientBoostingRegressor`, `RandomForestRegressor`.\n",
    "\n",
    "   **Your output should be similar to this (Do not worry if the numbers do\n",
    "   not match up exactly):**\n",
    "\n",
    "   ```\n",
    "   RandomForestRegressor Train CV | MSE: 9.881 | R2: 0.866\n",
    "   GradientBoostingRegressor Train CV | MSE: 8.453 | R2: 0.886\n",
    "   AdaBoostRegressor Train CV | MSE: 10.335 | R2: 0.861\n",
    "   ```\n",
    "\n",
    "   Which of the models cross validates the best? Why is it inappropriate\n",
    "   to make a judgement on the performance of the models\n",
    "   based only on the evidence we have thus far?"
   ]
  },
  {
   "cell_type": "code",
   "execution_count": 9,
   "metadata": {
    "collapsed": true
   },
   "outputs": [],
   "source": [
    "def model_validation(model,data_x_train,data_y_train):\n",
    "    model.fit(data_x_train,data_y_train)\n",
    "    #sklearn MSE return a negative number, multiply by -1\n",
    "    mse = -1*np.mean(cross_val_score(model, data_x_train, data_y_train, scoring='mean_squared_error',cv=10))\n",
    "    \n",
    "    r2 = np.mean(cross_val_score(model, data_x_train, data_y_train, scoring='r2',cv=10))\n",
    "    print('MSE| ',mse)\n",
    "    print('R2 |',r2)"
   ]
  },
  {
   "cell_type": "code",
   "execution_count": 10,
   "metadata": {
    "collapsed": false
   },
   "outputs": [
    {
     "name": "stdout",
     "output_type": "stream",
     "text": [
      "Random Forest\n",
      "MSE|  9.86487375189\n",
      "R2 | 0.866534138143\n"
     ]
    }
   ],
   "source": [
    "#X_train, X_test, y_train, y_test\n",
    "print('Random Forest')\n",
    "model_validation(rf,X_train,y_train)"
   ]
  },
  {
   "cell_type": "code",
   "execution_count": 11,
   "metadata": {
    "collapsed": false
   },
   "outputs": [
    {
     "name": "stdout",
     "output_type": "stream",
     "text": [
      "Gradient Boost\n",
      "MSE|  8.53295666219\n",
      "R2 | 0.884588588823\n"
     ]
    }
   ],
   "source": [
    "print('Gradient Boost')\n",
    "model_validation(gdbr,X_train,y_train)"
   ]
  },
  {
   "cell_type": "code",
   "execution_count": 12,
   "metadata": {
    "collapsed": false
   },
   "outputs": [
    {
     "name": "stdout",
     "output_type": "stream",
     "text": [
      "AdaBoost\n",
      "MSE|  10.2990926829\n",
      "R2 | 0.86236573353\n"
     ]
    }
   ],
   "source": [
    "print('AdaBoost')\n",
    "model_validation(abr,X_train,y_train)"
   ]
  },
  {
   "cell_type": "markdown",
   "metadata": {},
   "source": [
    "From the MSE and R2, gradient boost performs the best from the CV folds. We can't choose a model right now because there are other varibles to consider such as Precision and Recall. MSE and R2 only look at the  correct labeling of data, not false negatives. We can use additional tools, like ROC curves, to evaluate these models further."
   ]
  },
  {
   "cell_type": "markdown",
   "metadata": {},
   "source": [
    "5. Define a new instance of `GradientBoostingRegressor` with the exact same\n",
    "   hyperparameters as above, except change the `learning_rate` to `1`\n",
    "   (instead of `0.1`). Calculate the cross-validated train MSE.\n",
    "    What do you notice?\n"
   ]
  },
  {
   "cell_type": "code",
   "execution_count": 13,
   "metadata": {
    "collapsed": true
   },
   "outputs": [],
   "source": [
    "gdbr = GradientBoostingRegressor(learning_rate=1,\n",
    "                                loss='ls',\n",
    "                                n_estimators=100,\n",
    "                                random_state=1)"
   ]
  },
  {
   "cell_type": "code",
   "execution_count": 14,
   "metadata": {
    "collapsed": false
   },
   "outputs": [
    {
     "data": {
      "text/plain": [
       "506"
      ]
     },
     "execution_count": 14,
     "metadata": {},
     "output_type": "execute_result"
    }
   ],
   "source": [
    "len(X)"
   ]
  },
  {
   "cell_type": "code",
   "execution_count": 15,
   "metadata": {
    "collapsed": false
   },
   "outputs": [
    {
     "name": "stdout",
     "output_type": "stream",
     "text": [
      "Gradient Boost\n",
      "MSE|  21.1492136646\n",
      "R2 | 0.725343234446\n"
     ]
    }
   ],
   "source": [
    "print('Gradient Boost')\n",
    "model_validation(gdbr,X_train,y_train)"
   ]
  },
  {
   "cell_type": "markdown",
   "metadata": {},
   "source": [
    "Increasing the learning rate, deacrses the over R2 and increases the MSE. This is because we miss the optimal solution since our step size is too large (jumping back and forth over a valley)."
   ]
  },
  {
   "cell_type": "markdown",
   "metadata": {},
   "source": [
    "6. We're going to make a plot to help us understand the impact of the learning rate\n",
    "   and the improvements in error after each iteration of the boosting.\n",
    "   \n",
    "   [`staged_predict`](http://scikit-learn.org/stable/modules/generated/sklearn.ensemble.GradientBoostingRegressor.html#sklearn.ensemble.GradientBoostingRegressor.staged_predict) is a method in both\n",
    "   `GradientBoostingRegressor` and `AdaBoostRegressor`. It allows us to get\n",
    "   predictions from the estimator after each iteration of the boosting.\n",
    "   \n",
    "   Using\n",
    "   `stage_predict`, define a function `stage_score_plot` that calculates the test and train\n",
    "   MSE from each estimator. Do the calculations for `GradientBoostingRegressor`\n",
    "   with `learning_rate=1` and `learning_rate=0.1`\n",
    "\n",
    "   ```python\n",
    "   def stage_score_plot(model, train_x, train_y, test_x, test_y):\n",
    "      '''\n",
    "      INPUT:\n",
    "         model: GradientBoostingRegressor or AdaBoostRegressor\n",
    "         train_x: 2d numpy array\n",
    "         train_y: 1d numpy array\n",
    "         test_x: 2d numpy array\n",
    "         test_y: 1d numpy array\n",
    "      \n",
    "      Create a plot of the number of iterations vs the MSE for the model for\n",
    "      both the training set and test set.\n",
    "      '''\n",
    "      \n",
    "      #### YOUR CODE HERE ####\n",
    "   ```\n",
    "   \n",
    "   You should be able to run your code like this:\n",
    "   \n",
    "   ```python\n",
    "   stage_score_plot(gdbr, train_x, train_y, test_x, test_y)\n",
    "   plt.legend()\n",
    "   plt.show()\n",
    "   ```\n",
    "   \n",
    "   And get a result which looks like this:\n",
    "\n",
    "   ![stage_score_plot](images/stage_score_plot.png)\n",
    "   \n",
    "   In order to get the labels for the plot, you can use `model.__class__.__name__` to get the model name and `model.learning_rate` to get the learning rate."
   ]
  },
  {
   "cell_type": "code",
   "execution_count": 16,
   "metadata": {
    "collapsed": false
   },
   "outputs": [],
   "source": [
    "gdbr_p1 = GradientBoostingRegressor(learning_rate=.1,\n",
    "                                loss='ls',\n",
    "                                n_estimators=100,\n",
    "                                random_state=1)\n",
    "gdbr_1= GradientBoostingRegressor(learning_rate=1,\n",
    "                                loss='ls',\n",
    "                                n_estimators=100,\n",
    "                                random_state=1)"
   ]
  },
  {
   "cell_type": "code",
   "execution_count": 17,
   "metadata": {
    "collapsed": false
   },
   "outputs": [],
   "source": [
    "def stage_score_plot(model, train_x, train_y, test_x, test_y,learn_rate):\n",
    "    \"\"\"predict MSE from training and testing data over each gradient fold\"\"\"\n",
    "    model.fit(train_x,train_y)\n",
    "    train_error = np.zeros((len(train_x)))\n",
    "    test_error = np.zeros((len(test_x)))\n",
    "    for i, mse in enumerate(model.staged_predict(train_x)):\n",
    "        train_error[i] =mean_squared_error(train_y,mse)\n",
    "    for i, mse in enumerate(model.staged_predict(test_x)):\n",
    "        test_error[i] =mean_squared_error(test_y,mse)\n",
    "    plt.plot(test_error,label='test error {} '.format(learn_rate))\n",
    "    plt.plot(train_error, label='train error {}'.format(learn_rate))\n",
    "    plt.ylabel(\"MSE\")\n",
    "    plt.xlabel('Iterations')\n",
    "    plt.legend()\n",
    "    plt.title('MSE over Iterations')\n",
    "    plt.xlim((0,99))"
   ]
  },
  {
   "cell_type": "code",
   "execution_count": 18,
   "metadata": {
    "collapsed": false
   },
   "outputs": [
    {
     "data": {
      "image/png": "[encoded data removed]",
      "text/plain": [
       "<matplotlib.figure.Figure at 0x114d0da58>"
      ]
     },
     "metadata": {},
     "output_type": "display_data"
    }
   ],
   "source": [
    "stage_score_plot(gdbr_p1,X_train,  y_train,X_test, y_test,.1)"
   ]
  },
  {
   "cell_type": "code",
   "execution_count": 19,
   "metadata": {
    "collapsed": false
   },
   "outputs": [
    {
     "data": {
      "image/png": "[encoded data removed]",
      "text/plain": [
       "<matplotlib.figure.Figure at 0x114deaf60>"
      ]
     },
     "metadata": {},
     "output_type": "display_data"
    }
   ],
   "source": [
    "stage_score_plot(gdbr_1,X_train,  y_train,X_test, y_test,1)"
   ]
  },
  {
   "cell_type": "markdown",
   "metadata": {},
   "source": [
    "7. Use your `stage_score_plot` function to make a plot that shows the error\n",
    "   for gradient boosting with a learning rate of 0.1 and 1.\n",
    "\n",
    "   Since you are comparing two models and we're showing both the training and\n",
    "   test error, you should have 4 lines on your graph.7. Use your `stage_score_plot` function to make a plot that shows the error\n",
    "   for gradient boosting with a learning rate of 0.1 and 1.\n",
    "\n",
    "   Since you are comparing two models and we're showing both the training and\n",
    "   test error, you should have 4 lines on your graph."
   ]
  },
  {
   "cell_type": "code",
   "execution_count": 20,
   "metadata": {
    "collapsed": false
   },
   "outputs": [
    {
     "data": {
      "image/png": "[encoded data removed]",
      "text/plain": [
       "<matplotlib.figure.Figure at 0x114f3ab70>"
      ]
     },
     "metadata": {},
     "output_type": "display_data"
    }
   ],
   "source": [
    "plt.figure()\n",
    "stage_score_plot(gdbr_p1,X_train,  y_train,X_test, y_test,.1)\n",
    "stage_score_plot(gdbr_1,X_train,  y_train,X_test, y_test,1)"
   ]
  },
  {
   "cell_type": "markdown",
   "metadata": {},
   "source": [
    "8. Given your plot, explain the behavior of the test / train curves\n",
    "   for the two (0.1 and 1) learning rates. With a lower learning rate (0.1),\n",
    "   what is necessary to obtain a low test error?"
   ]
  },
  {
   "cell_type": "markdown",
   "metadata": {},
   "source": [
    ">Given the two different learning rates, we see that at 1 there are much larger jumps in the MSE. In fact, we can not fidn the optimal solution at al alpha of 1.  .At .1 there is a much smoother learning function. For the lower learning rate, you need a large number of iterations to achieve a low test error."
   ]
  },
  {
   "cell_type": "markdown",
   "metadata": {},
   "source": [
    "9. Using the `stage_score_plot` function, make a plot like you did above of\n",
    "    the MSE for `GradientBoostingRegressor` with `learning_rate=0.1`.\n",
    "\n",
    "    Add a horizontal line to indicate where the `RandomForestRegressor` test\n",
    "   error is at.\n",
    "\n",
    "   Your plot should look something like this:\n",
    "\n",
    "   ![gradient boosting](images/gradboost.png)\n",
    "\n",
    "   a. How many iterations does it take until Gradient Boosting beats Random Forest?"
   ]
  },
  {
   "cell_type": "code",
   "execution_count": 21,
   "metadata": {
    "collapsed": true
   },
   "outputs": [],
   "source": [
    "rf = RandomForestRegressor(n_estimators=100,\n",
    "                          n_jobs=-1,\n",
    "                          random_state=1)"
   ]
  },
  {
   "cell_type": "code",
   "execution_count": 22,
   "metadata": {
    "collapsed": false
   },
   "outputs": [],
   "source": [
    "\n",
    "def stage_score_plot_rf(model,rf_model, train_x, train_y, test_x, test_y,learn_rate):\n",
    "    \"\"\"predict MSE from training and testing data over each gradient fold. Compare to RF.\"\"\"\n",
    "\n",
    "    rf_model.fit(train_x,train_y)\n",
    "    test_error_rf = mean_squared_error(test_y,rf_model.predict(test_x))\n",
    "    \n",
    "    model.fit(train_x,train_y)\n",
    "    train_error = np.zeros((len(train_x)))\n",
    "    test_error = np.zeros((len(test_x)))\n",
    "    \n",
    "    for i, mse in enumerate(model.staged_predict(train_x)):\n",
    "        train_error[i] =mean_squared_error(train_y,mse)\n",
    "    for i, mse in enumerate(model.staged_predict(test_x)):\n",
    "        test_error[i] =mean_squared_error(test_y,mse)\n",
    "\n",
    "    plt.plot(test_error,label='GDBR test error {} '.format(learn_rate))\n",
    "    plt.plot(train_error, label='GDBR train error {}'.format(learn_rate))\n",
    "    plt.plot([i for i in range(len(test_error))],[test_error_rf for _ in range(len(test_error))],label='Random Forest Test') \n",
    "\n",
    "    plt.ylabel(\"MSE\")\n",
    "    plt.xlabel('Iterations')\n",
    "    plt.legend()\n",
    "    plt.title('MSE over Iterations')\n",
    "    plt.xlim((0,99))"
   ]
  },
  {
   "cell_type": "code",
   "execution_count": 23,
   "metadata": {
    "collapsed": false
   },
   "outputs": [
    {
     "data": {
      "image/png": "[encoded data removed]",
      "text/plain": [
       "<matplotlib.figure.Figure at 0x118b1f518>"
      ]
     },
     "metadata": {},
     "output_type": "display_data"
    }
   ],
   "source": [
    "stage_score_plot_rf(gdbr_p1,rf,X_train,  y_train,X_test, y_test,.1)"
   ]
  },
  {
   "cell_type": "markdown",
   "metadata": {},
   "source": [
    "- It takes about 51 iterations until gradient boosting beats random forest."
   ]
  },
  {
   "cell_type": "markdown",
   "metadata": {},
   "source": [
    "10. Make a similar plot for `AdaBoost`. Again have the `learning_rate=0.1`\n",
    "    and add a horizontal line for the Random Forest test error.\n",
    "\n",
    "    Don't expect AdaBoost to be as smooth as the Gradient Boosting graph.\n",
    "\n",
    "    a. How many iterations does it take till AdaBoost beats Random Forest?"
   ]
  },
  {
   "cell_type": "code",
   "execution_count": 24,
   "metadata": {
    "collapsed": true
   },
   "outputs": [],
   "source": [
    "abr = AdaBoostRegressor(DecisionTreeRegressor(),\n",
    "                       learning_rate=0.1,\n",
    "                       loss='linear',\n",
    "                       n_estimators=100,\n",
    "                       random_state=1)"
   ]
  },
  {
   "cell_type": "code",
   "execution_count": 25,
   "metadata": {
    "collapsed": true
   },
   "outputs": [],
   "source": [
    "\n",
    "def stage_score_plot_rf_ada(model,rf_model, train_x, train_y, test_x, test_y,learn_rate):\n",
    "    \"\"\"predict MSE from training and testing data over each gradient fold. Compare to RF.\"\"\"\n",
    "\n",
    "    rf_model.fit(train_x,train_y)\n",
    "    test_error_rf = mean_squared_error(test_y,rf_model.predict(test_x))\n",
    "    \n",
    "    model.fit(train_x,train_y)\n",
    "    train_error = np.zeros((len(train_x)))\n",
    "    test_error = np.zeros((len(test_x)))\n",
    "    \n",
    "    for i, mse in enumerate(model.staged_predict(train_x)):\n",
    "        train_error[i] =mean_squared_error(train_y,mse)\n",
    "    for i, mse in enumerate(model.staged_predict(test_x)):\n",
    "        test_error[i] =mean_squared_error(test_y,mse)\n",
    "\n",
    "    plt.plot(test_error,label='ADA test error {} '.format(learn_rate))\n",
    "    plt.plot(train_error, label='ADA train error {}'.format(learn_rate))\n",
    "    plt.plot([i for i in range(len(test_error))],[test_error_rf for _ in range(len(test_error))],label='Random Forest Test') \n",
    "\n",
    "    plt.ylabel(\"MSE\")\n",
    "    plt.xlabel('Iterations')\n",
    "    plt.legend()\n",
    "    plt.title('MSE over Iterations')\n",
    "    plt.xlim((0,99))"
   ]
  },
  {
   "cell_type": "code",
   "execution_count": 26,
   "metadata": {
    "collapsed": false
   },
   "outputs": [
    {
     "data": {
      "image/png": "[encoded data removed]",
      "text/plain": [
       "<matplotlib.figure.Figure at 0x114d0f7f0>"
      ]
     },
     "metadata": {},
     "output_type": "display_data"
    }
   ],
   "source": [
    "stage_score_plot_rf_ada(abr,rf,X_train,  y_train,X_test, y_test,.1)"
   ]
  },
  {
   "cell_type": "markdown",
   "metadata": {},
   "source": [
    ">It takes about 12 iterations until ADAboost beats random forest. However, as we add additional iterations, the MSE increases until it is about equal with RF. We should stop ADAboost around 20 iterations."
   ]
  },
  {
   "cell_type": "markdown",
   "metadata": {},
   "source": [
    "11. As seen above when we compared two learning rates, suboptimal hyperparameters\n",
    "    can give rise to higher error\n",
    "    (MSE). Therefore, we aim to search for the set of hyperparameters that\n",
    "    would give us the lowest cross-validated train error. The search of these\n",
    "    hyperparameters is known as grid-search. For each hyperparameter, a set\n",
    "    of values are specified. The combination of the hyperparameters at different\n",
    "    values will constitute the search space. We try each possible combination\n",
    "    of parameters and find the combination which minimizes error.\n",
    "\n",
    "    Use `GridSearchCV` for to find the best `RandomForestRegressor`\n",
    "    and `GradientBoostRegressor` models respectively.\n",
    "    Remember to specify `n_jobs=-1` in `GridSearchCV` to use all the cores of your\n",
    "    machine and speed up your search.\n",
    "\n",
    "    Here are some values to start out with trying for hyperparameters for Random Forest:\n",
    "\n",
    "    ```python\n",
    "    random_forest_grid = {'max_depth': [3, None],\n",
    "                          'max_features': ['sqrt', 'log2', None],\n",
    "                          'min_samples_split': [1, 2, 4],\n",
    "                          'min_samples_leaf': [1, 2, 4],\n",
    "                          'bootstrap': [True, False],\n",
    "                          'n_estimators': [10, 20, 40],\n",
    "                          'random_state': [1]}\n",
    "\n",
    "    rf_gridsearch = GridSearchCV(RandomForestRegressor(),\n",
    "                                 random_forest_grid,\n",
    "                                 n_jobs=-1,\n",
    "                                 verbose=True,\n",
    "                                 scoring='mean_squared_error')\n",
    "    rf_gridsearch.fit(train_x, train_y)\n",
    "\n",
    "    print \"best parameters:\", rf_gridsearch.best_params_\n",
    "\n",
    "    best_rf_model = rf_gridsearch.best_estimator_\n",
    "    ```\n",
    "\n",
    "    Feel free to change it to try a different set of parameters.\n",
    "\n",
    "    Note that this will take about 3-5 minutes to run. The total number of combinations is:\n",
    "    `2 * 3 * 3 * 3 * 2 * 3 * 1 = 324`. We are trying each of these possibilities!\n",
    "\n",
    "    a. What are the optimal parameters?\n",
    "\n",
    "    b. What is the MSE you get on the test set with these parameters?\n",
    "\n",
    "    c. How does this compare with the MSE with the default parameters?"
   ]
  },
  {
   "cell_type": "code",
   "execution_count": 27,
   "metadata": {
    "collapsed": true
   },
   "outputs": [],
   "source": [
    "import time"
   ]
  },
  {
   "cell_type": "code",
   "execution_count": 28,
   "metadata": {
    "collapsed": false
   },
   "outputs": [
    {
     "name": "stdout",
     "output_type": "stream",
     "text": [
      "Fitting 3 folds for each of 324 candidates, totalling 972 fits\n"
     ]
    },
    {
     "name": "stderr",
     "output_type": "stream",
     "text": [
      "[Parallel(n_jobs=1)]: Done  49 tasks       | elapsed:    1.9s\n",
      "[Parallel(n_jobs=1)]: Done 199 tasks       | elapsed:    6.8s\n",
      "[Parallel(n_jobs=1)]: Done 449 tasks       | elapsed:   14.7s\n",
      "[Parallel(n_jobs=1)]: Done 799 tasks       | elapsed:   26.3s\n"
     ]
    },
    {
     "name": "stdout",
     "output_type": "stream",
     "text": [
      "best parameters: {'min_samples_split': 1, 'min_samples_leaf': 1, 'max_depth': None, 'random_state': 1, 'bootstrap': True, 'n_estimators': 40, 'max_features': None}\n"
     ]
    },
    {
     "name": "stderr",
     "output_type": "stream",
     "text": [
      "[Parallel(n_jobs=1)]: Done 972 out of 972 | elapsed:   33.6s finished\n"
     ]
    }
   ],
   "source": [
    "random_forest_grid = {'max_depth': [3, None],\n",
    "                      'max_features': ['sqrt', 'log2', None],\n",
    "                      'min_samples_split': [1, 2, 4],\n",
    "                      'min_samples_leaf': [1, 2, 4],\n",
    "                      'bootstrap': [True, False],\n",
    "                      'n_estimators': [10, 20, 40],\n",
    "                      'random_state': [1]}\n",
    "\n",
    "rf_gridsearch = GridSearchCV(RandomForestRegressor(),\n",
    "                             random_forest_grid,\n",
    "                             verbose=True,\n",
    "                             scoring='mean_squared_error')\n",
    "rf_gridsearch.fit(X_train, y_train)\n",
    "\n",
    "print(\"best parameters:\", rf_gridsearch.best_params_)\n",
    "\n",
    "best_rf_model = rf_gridsearch.best_estimator_"
   ]
  },
  {
   "cell_type": "code",
   "execution_count": 29,
   "metadata": {
    "collapsed": false
   },
   "outputs": [
    {
     "name": "stdout",
     "output_type": "stream",
     "text": [
      "RandomForestRegressor(bootstrap=True, criterion='mse', max_depth=None,\n",
      "           max_features=None, max_leaf_nodes=None, min_samples_leaf=1,\n",
      "           min_samples_split=1, min_weight_fraction_leaf=0.0,\n",
      "           n_estimators=40, n_jobs=1, oob_score=False, random_state=1,\n",
      "           verbose=0, warm_start=False)\n"
     ]
    }
   ],
   "source": [
    "print(best_rf_model)"
   ]
  },
  {
   "cell_type": "markdown",
   "metadata": {},
   "source": [
    "a. What are the optimal parameters?\n",
    "b. What is the MSE you get on the test set with these parameters?\n",
    "c. How does this compare with the MSE with the default parameters?"
   ]
  },
  {
   "cell_type": "code",
   "execution_count": 30,
   "metadata": {
    "collapsed": true
   },
   "outputs": [],
   "source": [
    "# optimal parameters for Random Forest are given above"
   ]
  },
  {
   "cell_type": "code",
   "execution_count": 32,
   "metadata": {
    "collapsed": false
   },
   "outputs": [
    {
     "name": "stdout",
     "output_type": "stream",
     "text": [
      "8.81696930147  MSE for optimal parameters on test data for RF.\n",
      "9.56983529412  MSE for default parameters on test data for RF.\n"
     ]
    }
   ],
   "source": [
    "#Using best parameters\n",
    "rf_best = RandomForestRegressor(bootstrap=True, criterion='mse', max_depth=None,\n",
    "           max_features=None, max_leaf_nodes=None,\n",
    "           min_samples_leaf=1,\n",
    "           min_samples_split=1, min_weight_fraction_leaf=0.0,\n",
    "           n_estimators=40, n_jobs=1, oob_score=False, random_state=1,\n",
    "           verbose=0, warm_start=False)\n",
    "rf_best.fit(X_train,y_train)\n",
    "rf_default = RandomForestRegressor().fit(X_train,y_train)\n",
    "\n",
    "\n",
    "print(mean_squared_error(y_test,rf_best.predict(X_test)),' MSE for optimal parameters on test data for RF.')\n",
    "print(mean_squared_error(y_test,rf_default.predict(X_test)), ' MSE for default parameters on test data for RF.')"
   ]
  },
  {
   "cell_type": "code",
   "execution_count": null,
   "metadata": {
    "collapsed": true
   },
   "outputs": [],
   "source": []
  },
  {
   "cell_type": "code",
   "execution_count": null,
   "metadata": {
    "collapsed": true
   },
   "outputs": [],
   "source": []
  },
  {
   "cell_type": "markdown",
   "metadata": {},
   "source": [
    "12. Go through the same process for `GradientBoosting`. Try several values for\n",
    "    these hyperparameters:\n",
    "\n",
    "    * `learning_rate`\n",
    "    * `max_depth`\n",
    "    * `min_samples_leaf`\n",
    "    * `max_features`\n",
    "    * `n_estimators`\n",
    "    \n",
    "    If you're unsure what values to include, take a look at sklearn's default. Include the default value and at least \n",
    "    one value less than and greater than the default value. Here's the [docs on Gradient Boosting](http://scikit-learn.org/stable/modules/generated/sklearn.ensemble.GradientBoostingClassifier.html#sklearn.ensemble.GradientBoostingClassifier) where you can see the defaults.\n",
    "    If you want a set of starting parameters, [here](https://gist.github.com/pprett/3989337#file-grid_search-py-L115) is\n",
    "    a reference.\n",
    "\n",
    "    a. What are the parameters that give the optimal model?\n",
    "\n",
    "    b. How does the MSE for this model compare with the original MSE you got with Gradient Boosting\n",
    "    before tuning the parameters?"
   ]
  },
  {
   "cell_type": "code",
   "execution_count": 43,
   "metadata": {
    "collapsed": false
   },
   "outputs": [
    {
     "name": "stdout",
     "output_type": "stream",
     "text": [
      "Fitting 3 folds for each of 3780 candidates, totalling 11340 fits\n"
     ]
    },
    {
     "name": "stderr",
     "output_type": "stream",
     "text": [
      "[Parallel(n_jobs=1)]: Done  49 tasks       | elapsed:    0.7s\n",
      "[Parallel(n_jobs=1)]: Done 199 tasks       | elapsed:    2.5s\n",
      "[Parallel(n_jobs=1)]: Done 449 tasks       | elapsed:    6.7s\n",
      "[Parallel(n_jobs=1)]: Done 799 tasks       | elapsed:   16.5s\n",
      "[Parallel(n_jobs=1)]: Done 1249 tasks       | elapsed:   24.1s\n",
      "[Parallel(n_jobs=1)]: Done 1799 tasks       | elapsed:   35.7s\n",
      "[Parallel(n_jobs=1)]: Done 2449 tasks       | elapsed:   48.0s\n",
      "[Parallel(n_jobs=1)]: Done 3199 tasks       | elapsed:  1.0min\n",
      "[Parallel(n_jobs=1)]: Done 4049 tasks       | elapsed:  1.3min\n",
      "[Parallel(n_jobs=1)]: Done 4999 tasks       | elapsed:  1.6min\n",
      "[Parallel(n_jobs=1)]: Done 6049 tasks       | elapsed:  1.9min\n",
      "[Parallel(n_jobs=1)]: Done 7199 tasks       | elapsed:  2.2min\n",
      "[Parallel(n_jobs=1)]: Done 8449 tasks       | elapsed:  2.6min\n",
      "[Parallel(n_jobs=1)]: Done 9799 tasks       | elapsed:  3.3min\n",
      "[Parallel(n_jobs=1)]: Done 11249 tasks       | elapsed:  3.7min\n"
     ]
    },
    {
     "name": "stdout",
     "output_type": "stream",
     "text": [
      "best parameters: {'loss': 'ls', 'min_samples_split': 9, 'n_estimators': 200, 'max_depth': 3, 'learning_rate': 0.079500000000000015}\n",
      "GradientBoostingRegressor(alpha=0.9, init=None,\n",
      "             learning_rate=0.079500000000000015, loss='ls', max_depth=3,\n",
      "             max_features=None, max_leaf_nodes=None, min_samples_leaf=1,\n",
      "             min_samples_split=9, min_weight_fraction_leaf=0.0,\n",
      "             n_estimators=200, presort='auto', random_state=None,\n",
      "             subsample=1.0, verbose=0, warm_start=False)\n"
     ]
    },
    {
     "name": "stderr",
     "output_type": "stream",
     "text": [
      "[Parallel(n_jobs=1)]: Done 11340 out of 11340 | elapsed:  3.7min finished\n"
     ]
    }
   ],
   "source": [
    "gdbr_grid = {'loss' : ['ls'],\n",
    "                      'learning_rate': [i for i in np.linspace(.001,1.1,15)],\n",
    "                      'n_estimators': [1, 5, 10,25,50,100,200],\n",
    "                      'max_depth': [1, 2, 3,5],\n",
    "                      'min_samples_split': [i for i in range(1,10)]}\n",
    "\n",
    "gdbr_gridsearch = GridSearchCV(GradientBoostingRegressor(),\n",
    "                             gdbr_grid,\n",
    "                             verbose=True,\n",
    "                             scoring='mean_squared_error')\n",
    "gdbr_gridsearch.fit(X_train, y_train)\n",
    "\n",
    "print(\"best parameters:\", gdbr_gridsearch.best_params_)\n",
    "\n",
    "print(gdbr_gridsearch.best_estimator_)\n"
   ]
  },
  {
   "cell_type": "code",
   "execution_count": 46,
   "metadata": {
    "collapsed": false
   },
   "outputs": [
    {
     "name": "stdout",
     "output_type": "stream",
     "text": [
      "7.46087479141  MSE for optimal parameters on test data for GDBR.\n",
      "7.4609648648  MSE for default parameters on test data for GDBR.\n"
     ]
    }
   ],
   "source": [
    "# Using best parameters for GDBR\n",
    "\n",
    "best_gdbr = GradientBoostingRegressor(alpha=0.9, init=None,\n",
    "             learning_rate=0.079500000000000015, loss='ls', max_depth=3,\n",
    "             max_features=None, max_leaf_nodes=None, min_samples_leaf=1,\n",
    "             min_samples_split=9, min_weight_fraction_leaf=0.0,\n",
    "             n_estimators=200, presort='auto', random_state=None,\n",
    "             subsample=1.0, verbose=0, warm_start=False).fit(X_train,y_train)\n",
    "default_gdbr = GradientBoostingRegressor().fit(X_train,y_train)\n",
    "\n",
    "\n",
    "print(mean_squared_error(y_test,best_gdbr.predict(X_test)),' MSE for optimal parameters on test data for GDBR.')\n",
    "print(mean_squared_error(y_test,default_gdbr.predict(X_test)), ' MSE for default parameters on test data for GDBR.')"
   ]
  },
  {
   "cell_type": "markdown",
   "metadata": {},
   "source": [
    "13. Go through the same process for `AdaBoost`. Note you need to define different hyperparameters\n",
    "    in the base estimator to perform the gridsearch. This will also take much longer to run,\n",
    "    so feel free to just leave it running after you figure out some parameters to try."
   ]
  },
  {
   "cell_type": "code",
   "execution_count": 39,
   "metadata": {
    "collapsed": false
   },
   "outputs": [
    {
     "name": "stdout",
     "output_type": "stream",
     "text": [
      "Fitting 3 folds for each of 900 candidates, totalling 2700 fits\n"
     ]
    },
    {
     "name": "stderr",
     "output_type": "stream",
     "text": [
      "[Parallel(n_jobs=1)]: Done  49 tasks       | elapsed:    3.3s\n",
      "[Parallel(n_jobs=1)]: Done 199 tasks       | elapsed:   16.5s\n",
      "[Parallel(n_jobs=1)]: Done 449 tasks       | elapsed:   39.7s\n",
      "[Parallel(n_jobs=1)]: Done 799 tasks       | elapsed:  1.3min\n",
      "[Parallel(n_jobs=1)]: Done 1249 tasks       | elapsed:  2.2min\n",
      "[Parallel(n_jobs=1)]: Done 1799 tasks       | elapsed:  2.8min\n",
      "[Parallel(n_jobs=1)]: Done 2449 tasks       | elapsed:  3.5min\n",
      "[Parallel(n_jobs=1)]: Done 2700 out of 2700 | elapsed:  3.7min finished\n"
     ]
    },
    {
     "name": "stdout",
     "output_type": "stream",
     "text": [
      "best parameters: {'loss': 'exponential', 'n_estimators': 81, 'learning_rate': 0.47200000000000009}\n",
      "AdaBoostRegressor(base_estimator=None, learning_rate=0.47200000000000009,\n",
      "         loss='exponential', n_estimators=81, random_state=None)\n"
     ]
    }
   ],
   "source": [
    "ada_grid = {'loss' : ['linear', 'square', 'exponential'],\n",
    "                      'learning_rate': [i for i in np.linspace(.001,1.1,15)],\n",
    "                      'n_estimators': [i for i in range(1,100,5)],}\n",
    "\n",
    "ada_gridsearch = GridSearchCV(AdaBoostRegressor(),\n",
    "                             ada_grid,\n",
    "                             verbose=True,\n",
    "                             scoring='mean_squared_error')\n",
    "ada_gridsearch.fit(X_train, y_train)\n",
    "\n",
    "print(\"best parameters:\", ada_gridsearch.best_params_)\n",
    "\n",
    "print(ada_gridsearch.best_estimator_)\n"
   ]
  },
  {
   "cell_type": "code",
   "execution_count": 35,
   "metadata": {
    "collapsed": false
   },
   "outputs": [
    {
     "name": "stdout",
     "output_type": "stream",
     "text": [
      "15.7650945021  MSE for optimal parameters on test data for ADA.\n",
      "16.1627653619  MSE for default parameters on test data for ADA.\n"
     ]
    }
   ],
   "source": [
    "# Using best parameters for ADA\n",
    "\n",
    "best_ada = AdaBoostRegressor(base_estimator=None, learning_rate=0.78600000000000014,\n",
    "         loss='exponential', n_estimators=51, random_state=None).fit(X_train,y_train)\n",
    "default_ada = AdaBoostRegressor().fit(X_train,y_train)\n",
    "\n",
    "\n",
    "print(mean_squared_error(y_test,best_ada.predict(X_test)),' MSE for optimal parameters on test data for ADA.')\n",
    "print(mean_squared_error(y_test,default_ada.predict(X_test)), ' MSE for default parameters on test data for ADA.')"
   ]
  },
  {
   "cell_type": "markdown",
   "metadata": {},
   "source": [
    "## Studying the AdaBoost Classifier\n",
    "We have encountered `AdaBoostRegressor` and its gradient\n",
    "descent variant, `GradientBoostingRegressor`. The base form of AdaBoost was\n",
    "introduced in 1995 as an ensemble classifier, `AdaBoostClassifier`.\n",
    "Understanding `AdaBoostClassifier` is regarded as the defacto\n",
    "introduction to the world of seemingly endless variants of boosting algorithms\n",
    "([refs](readings)). To gain a more entrenched understanding of boosting\n",
    "in general, I would recommend [this](readings/explaining_boosting.pdf).\n",
    "\n",
    "Make yourself familiar with the reading if you are not comfortable.\n",
    "\n",
    "\n",
    "## Implementing the AdaBoost Classifier\n",
    "Here we will build a simplified version of `AdaBoostClassifier`. In this case,\n",
    "our classifier, `AdaBoostBinaryClassifier`, will only predict binary outcomes.\n",
    "The starter code is in the [code](code) folder. The `.py` file contains the \n",
    "core functions you would have to implement this afternoon. Fill in the rest depending \n",
    "on your progress.\n",
    "\n",
    "Your code should exactly implement this pseudocode:\n",
    "\n",
    "![adaboost](images/adaboost_algorithm_1.png)\n",
    "\n",
    "We're going to be using the spam dataset. It's in the [data](data) folder. You can see the feature names [here](https://archive.ics.uci.edu/ml/machine-learning-databases/spambase/spambase.names).\n",
    "\n",
    "Here's how you should be able to run your code after you're finished:\n",
    "\n",
    "```python\n",
    "from boosting import AdaBoostBinaryClassifier\n",
    "import numpy as np\n",
    "from sklearn.cross_validation import train_test_split\n",
    "\n",
    "data = np.genfromtxt('data/spam.csv', delimiter=',')\n",
    "\n",
    "y = data[:, -1]\n",
    "x = data[:, 0:-1]\n",
    "\n",
    "train_x, test_x, train_y, test_y = train_test_split(x, y)\n",
    "\n",
    "my_ada = AdaBoostBinaryClassifier(n_estimators=50)\n",
    "my_ada.fit(train_x, train_y)\n",
    "print \"Accuracy:\", my_ada.score(test_x, test_y)\n",
    "```"
   ]
  },
  {
   "cell_type": "markdown",
   "metadata": {},
   "source": [
    "1. Take a look at the `__init__` method. You shouldn't need to change anything here. Note how we are creating Decision Trees that are just stumps! (max depth is 1). \n",
    "\n",
    "2. Implement the `_boost` method. This will be doing steps (a)-(d) inside the for loop.\n",
    "\n",
    "    Because we need many copies of the estimator, the first step is to clone it. This code is given for you.\n",
    "\n",
    "    In this function `sample_weight` refers to the *wi*'s in the above description of the algorithm.\n",
    "\n",
    "    You will need to do these steps:\n",
    "\n",
    "    * Fix the Decision Tree using the weights. You can do this like this: `estimator.fit(x, y, sample_weight=sample_weight)`\n",
    "    * Calculate the error term (`estimator_error`)\n",
    "    * Calculate the alphas (`estimator_weight`)\n",
    "    * Update the weights (`sample_weight`)\n",
    "\n",
    "3. Implement the `fit` method. This is steps 1 and 2 from above.\n",
    "\n",
    "    You should have a for loop that calls your `_boost` method `n_estimators` times. Make sure to save all the estimators in `self.estimators_`. You also need to save all the estimator weights in `self.estimator_weight_`.\n",
    "\n",
    "4. Implement the `predict` method. This is step 3 from above.\n",
    "\n",
    "    Note that the algorithm considers the predictions to be either -1 or 1. So once you get predictions back from your Decision Trees, change the 0's to -1's.\n",
    "\n",
    "5. Implement the `score` method.\n",
    "\n",
    "    This should call the predict method and then calculate the accuracy.\n",
    "\n",
    "6. Load the file `data/spam_data.csv` into a dataframe. Use `train_test_split` to create test and train sets.\n",
    "   Train your implementation of `AdaBoostBinaryClassifier` on the train set and get the train and test accuracy scores. \n",
    "   Compare your results with sklearn's [AdaBoostClassifier](http://scikit-learn.org/stable/modules/generated/sklearn.ensemble.AdaBoostClassifier.html).\n",
    "   You should get approximately the same accuracy. \n",
    "   \n",
    "   **Review the steps to implement the algorithm and make sure you have understood the underpinnings of boosting.**  \n"
   ]
  },
  {
   "cell_type": "code",
   "execution_count": 47,
   "metadata": {
    "collapsed": false
   },
   "outputs": [
    {
     "name": "stdout",
     "output_type": "stream",
     "text": [
      "Populating the interactive namespace from numpy and matplotlib\n"
     ]
    }
   ],
   "source": [
    "from sklearn.tree import DecisionTreeRegressor\n",
    "from sklearn.tree import DecisionTreeClassifier\n",
    "from sklearn.ensemble import RandomForestRegressor\n",
    "from sklearn.ensemble import GradientBoostingRegressor\n",
    "from sklearn.ensemble import AdaBoostRegressor\n",
    "from sklearn.datasets import load_boston\n",
    "from sklearn.cross_validation import train_test_split, cross_val_score\n",
    "from sklearn.grid_search import GridSearchCV\n",
    "from sklearn.metrics import mean_squared_error, r2_score\n",
    "from sklearn.ensemble.partial_dependence import plot_partial_dependence\n",
    "import matplotlib.pyplot as plt\n",
    "import numpy as np\n",
    "import pandas as pd\n",
    "%pylab inline\n",
    "from sklearn.base import clone\n",
    "from collections import Counter\n",
    "from collections import defaultdict"
   ]
  },
  {
   "cell_type": "code",
   "execution_count": 48,
   "metadata": {
    "collapsed": false
   },
   "outputs": [],
   "source": [
    "\n",
    "\n",
    "\n",
    "class AdaBoostBinaryClassifier(object):\n",
    "    '''\n",
    "    INPUT:\n",
    "    - n_estimator (int)\n",
    "      * The number of estimators to use in boosting\n",
    "      * Default: 50\n",
    "    \n",
    "    - learning_rate (float)\n",
    "      * Determines how fast the error would shrink\n",
    "      * Lower learning rate means more accurate decision boundary,\n",
    "        but slower to converge\n",
    "      * Default: 1\n",
    "    '''\n",
    "\n",
    "    def __init__(self,\n",
    "                 n_estimators=50,\n",
    "                 learning_rate=1):\n",
    "\n",
    "        self.base_estimator = DecisionTreeClassifier(max_depth=1) ## create a decision tree\n",
    "        self.n_estimator = n_estimators\n",
    "        self.learning_rate = learning_rate\n",
    "\n",
    "        # Will be filled-in in the fit() step\n",
    "        self.estimators_ = []\n",
    "        self.estimator_weight_ = np.zeros(self.n_estimator, dtype=np.float)\n",
    "\n",
    "    def fit(self, x, y):\n",
    "        '''\n",
    "        INPUT:\n",
    "        - x: 2d numpy array, feature matrix\n",
    "        - y: numpy array, labels\n",
    "\n",
    "        Build the estimators for the AdaBoost estimator.\n",
    "        '''\n",
    "\n",
    "        # Initialize weights to 1 / n_samples\n",
    "            # For each of n_estimators, boost\n",
    "        sample_weight=np.array([round(1/len(x),6) for _ in range(len(x))])\n",
    "\n",
    "        for i in range(self.n_estimator):\n",
    "            \n",
    "            estimator,sample_weight,estimator_weight = self._boost(x,y,sample_weight)\n",
    "            # Append estimator, sample_weights and error to lists\n",
    "            self.estimator_weight_[i]=estimator_weight\n",
    "            self.estimators_.append(estimator)\n",
    "            sample_weight = sample_weight\n",
    "            \n",
    "    def _boost(self, x, y, sample_weight):\n",
    "        '''\n",
    "        INPUT:\n",
    "        - x: 2d numpy array, feature matrix\n",
    "        - y: numpy array, labels\n",
    "        - sample_weight: numpy array\n",
    "\n",
    "        OUTPUT:\n",
    "        - estimator: DecisionTreeClassifier\n",
    "        - sample_weight: numpy array (updated weights)\n",
    "        - estimator_weight: float (weight of estimator)\n",
    "\n",
    "        Go through one iteration of the AdaBoost algorithm. Build one estimator.\n",
    "        '''\n",
    "\n",
    "        estimator = clone(self.base_estimator)\n",
    "        # Fit according to sample weights, emphasizing certain data points\n",
    "        estimator.fit(x, y, sample_weight=sample_weight)\n",
    "        # Calculate instances incorrectly classified and store as incorrect\n",
    "        number_incorrectly_classified = estimator.predict(x) != y\n",
    "        # calculate fraction of error as estimator_error\n",
    "        estimator_error=np.sum(sample_weight * number_incorrectly_classified) / np.sum(sample_weight)\n",
    "\n",
    "        # Update estimator weights\n",
    "\n",
    "        estimator_weight = self.learning_rate * (np.log((1-estimator_error)/estimator_error)) ##alpha\n",
    "        # Update sample weights\n",
    "        sample_weight_i =sample_weight* np.exp(estimator_weight * number_incorrectly_classified)\n",
    "        #print(sample_weight_i,'sample weight i')\n",
    "\n",
    "        return estimator,sample_weight_i,estimator_weight\n",
    "\n",
    "\n",
    "\n",
    "    \n",
    "\n",
    "    def predict(self, x):\n",
    "        '''\n",
    "        INPUT:\n",
    "        - x: 2d numpy array, feature matrix\n",
    "\n",
    "        OUTPUT:\n",
    "        - labels: numpy array of predictions (0 or 1)\n",
    "        '''\n",
    "\n",
    "        # get predictions from tree family\n",
    "    \n",
    "        # list of predictions\n",
    "        predictions = np.array([estimator.predict(x) for estimator in self.estimators_]) ## predict given the estimator weight\n",
    "        ## see which predictions ==0 and set to 1\n",
    "        predictions[predictions ==0] = -1\n",
    "        ## we have all the predictions and all estimator weights. now multiply them together\n",
    "        ## need to take transpose so that the dimensions match up \n",
    "            \n",
    "        #print(predictions.T.dot(self.estimator_weight_), ' _____________') ## this return negative and positive number,\n",
    "        #want 1 and 0 for True and False\n",
    "        \n",
    "        weighted_predictions = np.array([p.dot(self.estimator_weight_[c]) for c,p in enumerate(predictions)])\n",
    "        final_predictions = defaultdict(list)\n",
    "\n",
    "        \n",
    "        for predict in weighted_predictions:\n",
    "            for c,prediction in enumerate(predict):\n",
    "                final_predictions[c].append(prediction)\n",
    "                \n",
    "        return np.array([sum(v) for k,v in final_predictions.items()])>=0 ### if sum < 0 , predict false, if sum > 0 ,predict true\n",
    "\n",
    "\n",
    "    \n",
    "\n",
    "    def score(self, x, y):\n",
    "        '''\n",
    "        INPUT:\n",
    "        - x: 2d numpy array, feature matrix\n",
    "        - y: numpy array, labels\n",
    "\n",
    "        OUTPUT:\n",
    "        - score: float (accuracy score between 0 and 1)\n",
    "        '''\n",
    "\n",
    "\n",
    "        # calculate score as usual\n",
    "        y_hat = self.predict(x)\n",
    "        return sum(y_hat==y)/float(len(y))\n",
    "\n",
    "\n"
   ]
  },
  {
   "cell_type": "code",
   "execution_count": 55,
   "metadata": {
    "collapsed": false,
    "scrolled": false
   },
   "outputs": [
    {
     "name": "stdout",
     "output_type": "stream",
     "text": [
      "Accuracy for Adaboost coded by hand: 93.74%\n"
     ]
    }
   ],
   "source": [
    "#import boosting\n",
    "import numpy as np\n",
    "from sklearn.cross_validation import train_test_split\n",
    "\n",
    "data = np.genfromtxt('data/spam.csv', delimiter=',')\n",
    "\n",
    "y = data[:, -1]\n",
    "x = data[:, 0:-1]\n",
    "\n",
    "train_x, test_x, train_y, test_y = train_test_split(x, y)\n",
    "\n",
    "my_ada = AdaBoostBinaryClassifier(n_estimators=50)\n",
    "my_ada.fit(train_x, train_y)\n",
    "print(\"Accuracy for Adaboost coded by hand: {:.2%}\".format( my_ada.score(test_x, test_y)))"
   ]
  },
  {
   "cell_type": "code",
   "execution_count": 50,
   "metadata": {
    "collapsed": false
   },
   "outputs": [],
   "source": [
    "from sklearn.ensemble import AdaBoostClassifier"
   ]
  },
  {
   "cell_type": "code",
   "execution_count": 56,
   "metadata": {
    "collapsed": false
   },
   "outputs": [
    {
     "name": "stdout",
     "output_type": "stream",
     "text": [
      "435.0\n",
      "Accuracy for sklearn adaboost:94.44%\n"
     ]
    }
   ],
   "source": [
    "ada.fit(train_x, train_y)\n",
    "print(sum(ada.predict(test_x)))\n",
    "print(\"Accuracy for sklearn adaboost:{:.2%}\".format(ada.score(test_x, test_y)))"
   ]
  },
  {
   "cell_type": "code",
   "execution_count": null,
   "metadata": {
    "collapsed": false
   },
   "outputs": [],
   "source": []
  },
  {
   "cell_type": "code",
   "execution_count": null,
   "metadata": {
    "collapsed": true
   },
   "outputs": [],
   "source": []
  }
 ],
 "metadata": {
  "anaconda-cloud": {},
  "kernelspec": {
   "display_name": "Python [default]",
   "language": "python",
   "name": "python3"
  },
  "language_info": {
   "codemirror_mode": {
    "name": "ipython",
    "version": 3
   },
   "file_extension": ".py",
   "mimetype": "text/x-python",
   "name": "python",
   "nbconvert_exporter": "python",
   "pygments_lexer": "ipython3",
   "version": "3.5.2"
  }
 },
 "nbformat": 4,
 "nbformat_minor": 0
}
