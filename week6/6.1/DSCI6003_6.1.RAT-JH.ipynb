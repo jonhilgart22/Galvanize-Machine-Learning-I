{
 "cells": [
  {
   "cell_type": "markdown",
   "metadata": {},
   "source": [
    "## RAT 6.1"
   ]
  },
  {
   "cell_type": "markdown",
   "metadata": {},
   "source": [
    "- Describe Bagging and use cases for bagging with standard classifiers\t \n",
    "\n",
    "- Discuss Ensemble Classifiers and the Wisdom of the Crowd in the context of machine learning\n",
    "\n",
    "- How would you architect a new data pipeline solution? (Be creative and apply what you learned:) "
   ]
  },
  {
   "cell_type": "markdown",
   "metadata": {
    "collapsed": true
   },
   "source": [
    "Bagging (Boostrap Aggregating): Is the process of randomly sampling with replacement from your data set, creating new models (all using the same algorithm) from these random samples, and then averaging the results (or taking the most common answer) and the final predition. This technique helps reduce variance and prevent overfitting."
   ]
  },
  {
   "cell_type": "markdown",
   "metadata": {},
   "source": [
    "> Ensemble Classifiers is a series of different algorithms that are applied to a classification problem. Each algorithm is allowed to vote on a prediction, and then the majority of the predictions is used as the final prediction.\n",
    "\n",
    ">Wisdom of the crowd: This states that you should take the majority prediction from a ensemble methods in machine learning."
   ]
  },
  {
   "cell_type": "markdown",
   "metadata": {},
   "source": [
    "- Data pipeline would be a process of storing data somewhere (i.e. SQL of hadoop), cleaning the data, processing the data (feature engineering - using random forest algorithm or another algorithms) to create a model (for either classification or regression problem), testing the model to determine the optimal complexity (using k-folds validation), using the final model on new data for prediction."
   ]
  },
  {
   "cell_type": "code",
   "execution_count": null,
   "metadata": {
    "collapsed": true
   },
   "outputs": [],
   "source": []
  }
 ],
 "metadata": {
  "kernelspec": {
   "display_name": "Python 3",
   "language": "python",
   "name": "python3"
  },
  "language_info": {
   "codemirror_mode": {
    "name": "ipython",
    "version": 3
   },
   "file_extension": ".py",
   "mimetype": "text/x-python",
   "name": "python",
   "nbconvert_exporter": "python",
   "pygments_lexer": "ipython3",
   "version": "3.5.2"
  }
 },
 "nbformat": 4,
 "nbformat_minor": 0
}
