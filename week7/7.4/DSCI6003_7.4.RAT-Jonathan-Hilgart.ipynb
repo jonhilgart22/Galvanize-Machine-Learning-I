{
 "cells": [
  {
   "cell_type": "markdown",
   "metadata": {},
   "source": [
    "# 7.4 RAT\n",
    "\n",
    "1. Write an explanation in your own words of why and how kMeans works. Why does it produce non deterministic results and why would enhancements like kmeans++ exist?\n",
    "\n",
    "2. Why is PAM an improvement over kMeans? List the reasons. Is there a reason we would seriously use kmeans over PAM, given implementations with equal computational performance?\n",
    "\n",
    "3. Why might we use PAM (or its high-performance sister, CLARA) over a variant of DBSCAN?\n",
    "\n",
    "3. Develop two case examples where a data scientist might use clustering."
   ]
  },
  {
   "cell_type": "markdown",
   "metadata": {},
   "source": [
    "- 1) Kmeans is a method of find clusters of data. The way it works is you first initialize k number of centers of clusters (at random), then you go through the data and compute center that is closest to each data point and assign a label to each data point. Then, you compute the new center of the labeled data, find the closest points to that new center and repeat a set number of times.\n",
    "- KMeans produces non-deterministic results because it may find the local solution but not the maximum solution. This is because the centers of the cluster are initialized at random and therefore may be only a local minimum at the end of the iterations.\n",
    "- KMeans++ is a method for finding better potential centers of the clusters. The way it works is you initialize a random point (as your first center), and then you calculate the distance of every other data point to this initial center. Translate the distance into probability ( higher distance = more probability) and then pick the next cetner. This is used in an attempt to spread out the centers throughout the data to find a solution closer to the global maximum."
   ]
  },
  {
   "cell_type": "markdown",
   "metadata": {},
   "source": [
    "- 2) PAM is faster than kMeans because it is a greedy algorithm.You select existing points as the centers.\n",
    "- Kmeans is easy to understand, and most peole know what it is. \n"
   ]
  },
  {
   "cell_type": "markdown",
   "metadata": {},
   "source": [
    "- 3) DBSCAN is a density based clustering technique. PAM is faster to compute."
   ]
  },
  {
   "cell_type": "markdown",
   "metadata": {},
   "source": [
    "- Use clustering to segment customers, cluster similar products together. "
   ]
  },
  {
   "cell_type": "code",
   "execution_count": null,
   "metadata": {
    "collapsed": true
   },
   "outputs": [],
   "source": []
  }
 ],
 "metadata": {
  "anaconda-cloud": {},
  "kernelspec": {
   "display_name": "Python [conda root]",
   "language": "python",
   "name": "conda-root-py"
  },
  "language_info": {
   "codemirror_mode": {
    "name": "ipython",
    "version": 3
   },
   "file_extension": ".py",
   "mimetype": "text/x-python",
   "name": "python",
   "nbconvert_exporter": "python",
   "pygments_lexer": "ipython3",
   "version": "3.5.2"
  }
 },
 "nbformat": 4,
 "nbformat_minor": 0
}
