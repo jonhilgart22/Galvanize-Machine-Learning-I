{
 "cells": [
  {
   "cell_type": "code",
   "execution_count": 1,
   "metadata": {
    "collapsed": false
   },
   "outputs": [],
   "source": [
    "# Put import statements here"
   ]
  },
  {
   "cell_type": "markdown",
   "metadata": {},
   "source": [
    "# DSCI6003 KMeans Lab\n",
    "\n",
    "In this lab you are going to:\n",
    "    1. Implement KMeans using SKlearn\n",
    "    2. Tune the algorithm to find the best parameters\n",
    "\n",
    "For this dataset, we are not going to tell you what the optimal number of clusters are. You will have to figure that out using the within class sum of squares and silhouette coefficient. \n",
    "\n",
    "### Part 1: Graphing\n",
    "\n",
    "1. Load the data from the kmeans_data.txt. \n",
    "\n",
    "2. Plot the dataset. Can you see any distinct clusters? \n",
    "\n",
    "2. Run KMeans on it using 3 centroids. \n",
    "\n",
    "3. Plot the three centroids (These will be the mean of your clusters). What do you notice? Do the centroids seem intuitive? \n",
    "\n",
    "### Part 2: Calculating\n",
    "\n",
    "1. Calculate the intra-cluster sums of squares. The beginning of the function is given to you below. The output should be a plot of the within cluster sum of squares for a given number of clusters. The formula is:\n",
    "\n",
    "$$ \\displaystyle W_k = \\sum_{k=1}^K \\sum_{\\mathrm{x}_i \\in C_k} ||\\mathrm{x}_i - \\mu_k ||^2 $$\n",
    "\n",
    "2. Now you can calculate the Silhouette Coefficient. <a href = http://scikit-learn.org/stable/modules/clustering.html#silhouette-coefficient>Use the sklearn implementation which can be found here</a>.\n",
    "\n",
    "3. From these graphs what seems to be the optimal coefficients? \n",
    "\n",
    "4. Another thing you can do is plot the original dataset at an alpha = 0.1. What do you notice about the graph? From your intuition, how many clusters do you think there should be? \n",
    "\n",
    "5. Plot the clusters generated from KMeans using the optimal number of clusters you found.\n",
    "\n",
    "### Part 3: Do it again\n",
    "\n",
    "Now run all these steps on the kmeans_data_spread.txt. What do you notice about this dataset? How does it compare to the other one? Compare and contrast the graphs for the silhouette coefficient and within cluster sum of squares. "
   ]
  },
  {
   "cell_type": "code",
   "execution_count": 2,
   "metadata": {
    "collapsed": true
   },
   "outputs": [],
   "source": [
    "def plot_centroids(data, labels):\n",
    "    '''\n",
    "    Input:\n",
    "        data - (DataFrame) Data to cluster on\n",
    "        labels - (list) List containing the labels for each datapoint\n",
    "    Output:\n",
    "        Plot showing the original datapoints and cluster centers found by KMeans\n",
    "    '''\n",
    "    pass"
   ]
  },
  {
   "cell_type": "code",
   "execution_count": 3,
   "metadata": {
    "collapsed": true
   },
   "outputs": [],
   "source": [
    "def plot_Wk(data,clusters):\n",
    "    '''\n",
    "    Input:\n",
    "        data - (DataFrame) Data to cluster on\n",
    "        clusters - (list) List containing the number of clusters to check for\n",
    "    Output:\n",
    "        Plot showing the within cluster sum of squares\n",
    "    '''\n",
    "    pass"
   ]
  },
  {
   "cell_type": "code",
   "execution_count": 4,
   "metadata": {
    "collapsed": true
   },
   "outputs": [],
   "source": [
    "def plot_silhouette(data,clusters):\n",
    "    '''\n",
    "    Input:\n",
    "        data - (DataFrame) Data to cluster on\n",
    "        clusters - (list) List containing the number of clusters to check for\n",
    "    Output:\n",
    "        Plot showing the silhouette score for different numbers of centroids\n",
    "    '''  \n",
    "    pass"
   ]
  }
 ],
 "metadata": {
  "kernelspec": {
   "display_name": "Python [py3env]",
   "language": "python",
   "name": "Python [py3env]"
  },
  "language_info": {
   "codemirror_mode": {
    "name": "ipython",
    "version": 3
   },
   "file_extension": ".py",
   "mimetype": "text/x-python",
   "name": "python",
   "nbconvert_exporter": "python",
   "pygments_lexer": "ipython3",
   "version": "3.5.2"
  }
 },
 "nbformat": 4,
 "nbformat_minor": 1
}
