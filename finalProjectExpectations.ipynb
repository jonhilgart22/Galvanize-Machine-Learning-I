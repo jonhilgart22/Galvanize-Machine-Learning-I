{
 "cells": [
  {
   "cell_type": "markdown",
   "metadata": {},
   "source": [
    "# Expectations for the final project (and the course)\n",
    "At a minimum you should all expect to come away from this course able to apply an modern supervised learning algorithm to make predictions.  That would entail:\n",
    "1.  Understanding a new data set, \n",
    "2.  Figuring out how to pose the problem in way that fits into the structure of one or more the algorithms that you'll study\n",
    "3.  Fitting a model\n",
    "4.  Adjusting the model and engineering the features to improve performance. \n",
    "\n",
    "To get full points on the final, you'll need to:\n",
    "1.  Start with an interesting data set and a problem.  The best thing would be data from a problem you're facing at work.  You might find something interesting in a Kaggle competition or perhaps UCI data repository.  Synthetic data might be okay if you're going to a comparative study of different algorithms strengths and weaknesses.  See Friedman's original paper on gradient boosting for an example.  \n",
    "2.  Train models from two or more model families (penalized regression, svm, ensemble of trees, etc.).  \n",
    "3.  Use variable importance measures and data exploration to make adjustments to features as required.  \n",
    "4.  Write a report on your results.  Your report should outline the problem (including business motivation) in plain English, discuss problem formulation options, your general approach to the problem and the results you got with your model.  Model performance should be stated in technical terms and in plain English relating performance to business objectives.  "
   ]
  },
  {
   "cell_type": "code",
   "execution_count": null,
   "metadata": {
    "collapsed": true
   },
   "outputs": [],
   "source": []
  }
 ],
 "metadata": {
  "kernelspec": {
   "display_name": "Python 3",
   "language": "python",
   "name": "python3"
  },
  "language_info": {
   "codemirror_mode": {
    "name": "ipython",
    "version": 3
   },
   "file_extension": ".py",
   "mimetype": "text/x-python",
   "name": "python",
   "nbconvert_exporter": "python",
   "pygments_lexer": "ipython3",
   "version": "3.5.2"
  }
 },
 "nbformat": 4,
 "nbformat_minor": 0
}
