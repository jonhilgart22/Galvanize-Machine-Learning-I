{
 "cells": [
  {
   "cell_type": "markdown",
   "metadata": {},
   "source": [
    "# 3.2: ElasticNet Penalty and Efficient Solution - glmnet\n",
    "\n",
    "## Readings\n",
    "https://en.wikipedia.org/wiki/Elastic_net_regularization  \n",
    "https://en.wikipedia.org/wiki/Lp_space#The_p-norm_in_finite_dimensions  \n",
    "http://statweb.stanford.edu/~jhf/ftp/glmnet.pdf  \n",
    "http://ai.stanford.edu/~ang/papers/icml04-l1l2.pdf  \n",
    "\n",
    "\n",
    "## Penalty Functions\n",
    "In the last lecture you saw how the introduction of a sum-of-squared penalty on the weights could serve to regularize linear regression.  The penalty forced the weight vector to be somewhat smaller in magnitude than the weights for unconstrained ordinary least squares regression.  Sum of squares isn't the only way to quantify the length of a vector.  Sum of squares corresponds to Euclidean distance and is referred to in the literature as $L_2$-norm.  But any Minkowski norm could be used as a penalty.  Thus the penalized regression problem you saw last time was \n",
    "\n",
    "$w^*, b^* = argmin_{w, b} \\frac1M \\sum_{i=1}^M (y_i - (b + x_i w^T))^2  + \\alpha (w_1^2 + w_2^2 + ... + w_N^2)$\n",
    "\n",
    "This looks a little different because the squares of the weights are written out instead of being expressed (equivalently) as $ww^T$.  The power to which each weight is raised before being squared could be any positive number p.  \n",
    "\n",
    "$w^*, b^* = argmin_{w, b} \\frac1M \\sum_{i=1}^M (y_i - (b + x_i w^T))^2  + \\alpha (|w_1|^p + |w_2|^p + ... + |w_N|^p)$\n",
    "\n",
    "These are related to Minkowski norms.  https://en.wikipedia.org/wiki/Lp_space#The_p-norm_in_finite_dimensions.  As a practical matter, the versions most frequently used as regression penalties are $L_2$ and $L_1$.  $L_1$ corresponds to $p=1$ and $L_2$ corresponds to $p=2$.  Notice that the precise penalty used in ridge regression is not a norm, but the square of the $L_2$ norm.  The $L_1$ norm of the weights is the sum of the absolute values of the weights.  The choice of using $L_1$ versus $L_2$ matters because it leads to some useful differences in the solutions to the penalized regression problem.  The principal differences are 1) $L_1$ gives sparse weight vectors and is less sensitive to irrelevant features (Ng paper).  2) $L_2$ deals better with correlated attributes.  You can understand some of these differences by referring to one of the figures from \"Elements of Statistical Learning\" - the excellent book on machine learning by Stanford professors Hastie, Tibshirani and Friedman.  This link will take you to the website for the book (which is free online).  \n",
    "http://statweb.stanford.edu/~tibs/ElemStatLearn/ - Figure 3.11.  The figures from the book are repeated below.  \n",
    "\n",
    "<img src='images/Ridge_Regression.png'>\n",
    "\n",
    "<img src='images/Lasso_Regression.png'>\n",
    "\n",
    "The point to be made from this figure is that the solutions with $L_1$ penalty get stuck on the points of the $L_1$-ball.  These points are aligned along the coordinate axes which means automatically that some of the weights are zero.  \n",
    "\n",
    "## ElasticNet Penalty\n",
    "ElasticNet (https://web.stanford.edu/~hastie/Papers/elasticnet.pdf) is a penalty developed by Zou and Hastie at Stanford specifically for penalized regression.  Here's that the ElasticNet penalty looks like.  \n",
    "\n",
    "$ElasticNet Penalty = P_{\\lambda}(w) = (1 - \\lambda)(w_1^2 + w_2^2 + ... + w_N^2) + \\lambda(|w_1| + |w_2| + ... + |w_N|)$\n",
    "\n",
    "<img src='images/elasticnet2.png'>\n",
    "\n",
    "This penalty is a blend of $L_1$ and $L_2$.  In this expression $\\lambda$ is a parameter that ranges from 0 to 1.  It controls whether the blend is more heavily $L_1$ or $L_2$.  If $\\lambda = 0$, then the penalty is all $L_2$.  If $\\lambda = 1$, then the penalty is all $L_1$.  \n",
    "\n",
    "Friedman's glmnet paper shows the coefficient curves for different values of the $\\lambda$ parameter.  That paper outlines a very fast solution approach that makes glmnet a very scalable algorithm for solving penalized regression problems.  One nice feature of the Glmnet algo is that you don't have to hunt around for the correct range of penalty parameters.  The algo calculates the correct range for you.  Another nice feature is that the Glmnet algo generates the entire regularization curve with a single call and is demonstrably as fast as solving for individual points by gradient descent.  The sklearn package \"ElasticNet\" provides a python version.  The code below demonstrates its use.  \n"
   ]
  },
  {
   "cell_type": "code",
   "execution_count": 22,
   "metadata": {
    "collapsed": false
   },
   "outputs": [
    {
     "name": "stdout",
     "output_type": "stream",
     "text": [
      "0.00428827587684\n",
      "[  5.66884834e-02   5.28678693e-02   4.93047519e-02   4.59817766e-02\n",
      "   4.28827588e-02   3.99926044e-02   3.72972367e-02   3.47835277e-02\n",
      "   3.24392344e-02   3.02529386e-02   2.82139918e-02   2.63124631e-02\n",
      "   2.45390912e-02   2.28852386e-02   2.13428501e-02   1.99044134e-02\n",
      "   1.85629226e-02   1.73118437e-02   1.61450834e-02   1.50569588e-02\n",
      "   1.40421702e-02   1.30957749e-02   1.22131635e-02   1.13900372e-02\n",
      "   1.06223868e-02   9.90647347e-03   9.23881031e-03   8.61614542e-03\n",
      "   8.03544605e-03   7.49388388e-03   6.98882119e-03   6.51779803e-03\n",
      "   6.07852026e-03   5.66884834e-03   5.28678693e-03   4.93047519e-03\n",
      "   4.59817766e-03   4.28827588e-03   3.99926044e-03   3.72972367e-03\n",
      "   3.47835277e-03   3.24392344e-03   3.02529386e-03   2.82139918e-03\n",
      "   2.63124631e-03   2.45390912e-03   2.28852386e-03   2.13428501e-03\n",
      "   1.99044134e-03   1.85629226e-03   1.73118437e-03   1.61450834e-03\n",
      "   1.50569588e-03   1.40421702e-03   1.30957749e-03   1.22131635e-03\n",
      "   1.13900372e-03   1.06223868e-03   9.90647347e-04   9.23881031e-04\n",
      "   8.61614542e-04   8.03544605e-04   7.49388388e-04   6.98882119e-04\n",
      "   6.51779803e-04   6.07852026e-04   5.66884834e-04   5.28678693e-04\n",
      "   4.93047519e-04   4.59817766e-04   4.28827588e-04   3.99926044e-04\n",
      "   3.72972367e-04   3.47835277e-04   3.24392344e-04   3.02529386e-04\n",
      "   2.82139918e-04   2.63124631e-04   2.45390912e-04   2.28852386e-04\n",
      "   2.13428501e-04   1.99044134e-04   1.85629226e-04   1.73118437e-04\n",
      "   1.61450834e-04   1.50569588e-04   1.40421702e-04   1.30957749e-04\n",
      "   1.22131635e-04   1.13900372e-04   1.06223868e-04   9.90647347e-05\n",
      "   9.23881031e-05   8.61614542e-05   8.03544605e-05   7.49388388e-05\n",
      "   6.98882119e-05   6.51779803e-05   6.07852026e-05   5.66884834e-05]\n",
      "[ 0.62179952  0.62152882  0.62106394  0.62052946  0.61997523  0.61942348\n",
      "  0.61881355  0.6180991   0.61730085  0.61653502  0.61574719  0.61492904\n",
      "  0.61410763  0.61328661  0.61248068  0.61170395  0.61095243  0.61021346\n",
      "  0.60948639  0.6087811   0.60808863  0.60740655  0.60674762  0.60611574\n",
      "  0.60554326  0.60501164  0.60435395  0.60371315  0.60312746  0.60256186\n",
      "  0.60202351  0.60155053  0.60116208  0.60081665  0.60053501  0.60031834\n",
      "  0.60016086  0.60007948  0.60009726  0.60018661  0.60033665  0.60054755\n",
      "  0.60082743  0.60117124  0.6015423   0.60196654  0.60239482  0.60279634\n",
      "  0.60324272  0.60375595  0.60430823  0.6048937   0.60550833  0.6061496\n",
      "  0.60682904  0.60752572  0.6082359   0.60895703  0.60968622  0.6104227\n",
      "  0.61118672  0.61194665  0.6126994   0.61343143  0.6141502   0.61485524\n",
      "  0.61554544  0.61621821  0.61687289  0.61751776  0.61814803  0.61875768\n",
      "  0.61934555  0.61991216  0.62045616  0.62097808  0.62147787  0.62195613\n",
      "  0.62241232  0.62284786  0.62326225  0.62365637  0.624031    0.62438651\n",
      "  0.62472345  0.6250424   0.62534418  0.62562952  0.62589897  0.62615327\n",
      "  0.62639315  0.62661919  0.62683219  0.62703261  0.62722112  0.62739835\n",
      "  0.62756493  0.62772137  0.62786825  0.62800608]\n"
     ]
    },
    {
     "data": {
      "image/png": "[encoded data removed]",
      "text/plain": [
       "<matplotlib.figure.Figure at 0x7fdbd80aa750>"
      ]
     },
     "metadata": {},
     "output_type": "display_data"
    },
    {
     "name": "stdout",
     "output_type": "stream",
     "text": [
      "('minimum error = ', 0.60007948125461308)\n"
     ]
    }
   ],
   "source": [
    "__author__ = 'mike bowles'\n",
    "\n",
    "from sklearn.linear_model import ElasticNet, ElasticNetCV\n",
    "import urllib2\n",
    "import numpy as np\n",
    "import matplotlib.pyplot as plt\n",
    "%matplotlib inline\n",
    "\n",
    "target_url = \"http://archive.ics.uci.edu/ml/machine-learning-databases/wine-quality/winequality-red.csv\"\n",
    "data = urllib2.urlopen(target_url)\n",
    "x = []\n",
    "y = []\n",
    "names = []\n",
    "firstLine = True\n",
    "for row in data:\n",
    "    if firstLine:\n",
    "        names = row.strip().split(\";\")\n",
    "        firstLine = False\n",
    "    else:\n",
    "        rowSplit = row.strip().split(\";\")\n",
    "        y.append(float(rowSplit.pop()))\n",
    "        floatRow = [float(num) for num in rowSplit]\n",
    "        x.append(floatRow)\n",
    "\n",
    "eNetModel = ElasticNetCV(l1_ratio=0.2, normalize=True, cv=5, verbose=0, random_state=None, selection='cyclic')\n",
    "\n",
    "#to make the model over-fit, cut down on the number of rows of data.  Let's try 2x the number of columns\n",
    "xTemp = x[0:200]\n",
    "yTemp = y[0:200]\n",
    "\n",
    "eNetModel.fit(xTemp,yTemp)\n",
    "\n",
    "print eNetModel.alpha_\n",
    "print eNetModel.alphas_\n",
    "xvalError = np.sqrt(np.mean(eNetModel.mse_path_, axis=1))\n",
    "print xvalError\n",
    "\n",
    "plt.plot(xvalError)\n",
    "plt.show()\n",
    "print('minimum error = ', min(xvalError))"
   ]
  },
  {
   "cell_type": "code",
   "execution_count": 16,
   "metadata": {
    "collapsed": false
   },
   "outputs": [
    {
     "data": {
      "text/plain": [
       "11"
      ]
     },
     "execution_count": 16,
     "metadata": {},
     "output_type": "execute_result"
    }
   ],
   "source": [
    "len(x[0])"
   ]
  },
  {
   "cell_type": "markdown",
   "metadata": {},
   "source": [
    "## In class coding exercises\n",
    "1.  Rerun the code above for various values of l1_ratio (named $\\lambda$ in the discussion above). \n",
    "2.  Rerun the code with normalize=False.  How much difference does that make?\n",
    "3.  Extract the coefficients corresponding to the best choice of alpha.\n",
    "\n",
    "## Lab 3.2 - 1\n",
    "See what kind of performance you can get on the breast cancer prognosis data using ElasticNet.  "
   ]
  },
  {
   "cell_type": "code",
   "execution_count": null,
   "metadata": {
    "collapsed": true
   },
   "outputs": [],
   "source": []
  }
 ],
 "metadata": {
  "kernelspec": {
   "display_name": "Python [Root]",
   "language": "python",
   "name": "Python [Root]"
  },
  "language_info": {
   "codemirror_mode": {
    "name": "ipython",
    "version": 3
   },
   "file_extension": ".py",
   "mimetype": "text/x-python",
   "name": "python",
   "nbconvert_exporter": "python",
   "pygments_lexer": "ipython3",
   "version": "3.5.2"
  }
 },
 "nbformat": 4,
 "nbformat_minor": 0
}
