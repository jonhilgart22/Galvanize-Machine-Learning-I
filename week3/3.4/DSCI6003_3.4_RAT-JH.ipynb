{
 "cells": [
  {
   "cell_type": "markdown",
   "metadata": {},
   "source": [
    "## RAT 3.4\n",
    "1 - Give an example of a confusion matrix with precision > 90% and recall < 10%.\n",
    "\n",
    "<br />\n",
    "\n",
    "2 - Give an example of a confusion matrix with accuracy > 90%, but both precision < 10% and recall < 10%.\n",
    "\n",
    "<br />\n",
    "\n",
    "3 - Take a look at the following roc plot that compares two models (Model Red and Model Black).\n",
    "\n",
    "   a. Which model would you choose if you require a *sensitivity* of at least 0.7?\n",
    "\n",
    "   b. Which model would you choose if you need the *specificity* to be at least 0.9?\n",
    "\n",
    "   c. You are a doctor who has built classifier(s) for cancer based on the results of blood tests. Which would you choose (red or black model) and what would you set the threshold in each of the following scenarios:\n",
    "   * You will administer chemotherapy to the patients classified as having cancer\n",
    "   * You schedule more tests (more expensive than the first test but less than chemotherapy) to better evaluate whether a patient has cancer\n",
    "\n",
    "d. Give one examples of a case study that would require high sensitivity (recall) and one example of a case study that would prefer low false positive rate.  Feel free to browse Kaggle's [list](https://www.kaggle.com/wiki/DataScienceUseCases) of common data science case studies if you need inspiration.\n",
    "\n",
    "![Roc Plot](images/roc_compare.jpg)\n"
   ]
  },
  {
   "cell_type": "code",
   "execution_count": null,
   "metadata": {
    "collapsed": true
   },
   "outputs": [],
   "source": []
  }
 ],
 "metadata": {
  "kernelspec": {
   "display_name": "Python [Root]",
   "language": "python",
   "name": "Python [Root]"
  },
  "language_info": {
   "codemirror_mode": {
    "name": "ipython",
    "version": 3
   },
   "file_extension": ".py",
   "mimetype": "text/x-python",
   "name": "python",
   "nbconvert_exporter": "python",
   "pygments_lexer": "ipython3",
   "version": "3.5.2"
  }
 },
 "nbformat": 4,
 "nbformat_minor": 0
}
