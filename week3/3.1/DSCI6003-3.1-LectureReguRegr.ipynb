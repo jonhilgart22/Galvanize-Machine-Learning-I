{
 "cells": [
  {
   "cell_type": "markdown",
   "metadata": {},
   "source": [
    "# 3.1 -Penalized Regression - Improving Linear Regression\n",
    "\n",
    "## Learning objective\n",
    "1.  Why does linear regression need regularization.\n",
    "2.  What are some approaches to regularization.\n",
    "3.  Various formulations of the penalized regression problem\n",
    "4.  Python examples of some of the methods\n",
    "\n",
    "## Topics covered\n",
    "1.  Background on linear regression and its limitations\n",
    "2.  Forward stepwise regression.\n",
    "3.  Ridge regression\n",
    "4.  Code examples and coding problems.\n",
    "\n",
    "## Readings\n",
    "http://statweb.stanford.edu/~jtaylo/courses/stats203/notes/penalized.pdf\n",
    "\n",
    "https://en.wikipedia.org/wiki/Tikhonov_regularization\n",
    "\n",
    "\n",
    "## Areas where linear regression can be improved\n",
    "What things would you like to fix about linear regression?  For one thing you might figure out a way to relax the \"linear\" feature.  You'll see how to do that next week.  Linear regression sometimes overfits the problem.  Adding a coefficient penalty to the formulation of the linear regression problem gives you a way to modulate the complexity of the models produced by linear regression in order to match the richness of the problem and the depth of the data. This lecture will show you how that's accomplished and will give you some alternative approaches in order to cultivate your intuition about how they work.  \n",
    "\n",
    "## In-class questions\n",
    "1.  What is overfitting?\n",
    "2.  How can you measure overfitting?\n",
    "3. How can you control overfitting?\n",
    "\n",
    "## Controlling overfit with subset selection\n",
    "Overfitting linear regression is most severe when there are too many attributes for the amount of data that comes with the problem.  A quick guage that I frequently use is the \"aspect ration\" of the data set - the ratio of the number of attributes to the number of training examples.  Think of that as being the number of columns of data divided by the number of rows.  Overfitting is less likely with a tall skinny data matrix than with a short wide one.  If the problem is too many attributes, then throw some away.  Subset selection turns this observation into a design process.  The problem with throwing away attributes is to determine how many and which ones.  \n",
    "\n",
    "Best subset selection takes the following approach.  For every possible size of subset from 1 up to the full number of available attributes determine the best subset of that size.  The quality of the subset is determined by how well the resulting model performs on out of sample data.  The process would be:  Start with a single attribute.  Determine which attribute gives the best performance.  The result is the best subset of size 1.  Then move to size 2 and test every subset of exactly 2 attributes to see which subset is best.  As you can imagine this works okay if you don't have too many attributes, but it quickly becomes impractical to evaluate.  \n",
    "\n",
    "Forward stepwise subset selection is a hueristic approach to subset selection that is more practical.  Forward stepwise subset selection builds the subsets iteratively.  It starts by finding the best single attribute.  Instead of finding the very best subset of two, it keeps the first attribute that was the best single attribute and then searches the remaining attributes to determine what to pick for the second one.  The process continues in this way until all of the attributes are selected.  The code snip below shows this best forward stepwise subset selection.  "
   ]
  },
  {
   "cell_type": "code",
   "execution_count": 1,
   "metadata": {
    "collapsed": false
   },
   "outputs": [
    {
     "name": "stdout",
     "output_type": "stream",
     "text": [
      "[0.72342592551162777, 0.68609931528371959, 0.67343650334202776, 0.66770332138977961, 0.6622558568522271, 0.65900047541546247, 0.65727172061430761, 0.65709058062076997, 0.65699930964461373, 0.65758189400434741, 0.65739098690113384]\n"
     ]
    },
    {
     "data": {
      "image/png": "[encoded data removed]",
      "text/plain": [
       "<matplotlib.figure.Figure at 0x7f54badb48d0>"
      ]
     },
     "metadata": {},
     "output_type": "display_data"
    },
    {
     "name": "stdout",
     "output_type": "stream",
     "text": [
      "Best # of Attr =   9\n"
     ]
    }
   ],
   "source": [
    "__author__ = 'mike-bowles'\n",
    "import urllib2\n",
    "import numpy as np\n",
    "from sklearn import datasets, linear_model\n",
    "from math import sqrt\n",
    "import matplotlib.pyplot as plt\n",
    "%matplotlib inline\n",
    "\n",
    "def xattrSelect(x, idxSet):\n",
    "    #takes X matrix as list of list and returns subset containing columns in idxSet\n",
    "    xOut = []\n",
    "    for row in x:\n",
    "        xOut.append([row[i] for i in idxSet])\n",
    "    return(xOut)\n",
    "\n",
    "#read data\n",
    "target_url = \"http://archive.ics.uci.edu/ml/machine-learning-databases/wine-quality/winequality-red.csv\"\n",
    "data = urllib2.urlopen(target_url)\n",
    "x = []\n",
    "labels = []\n",
    "names = []\n",
    "firstLine = True\n",
    "for row in data:\n",
    "    if firstLine:\n",
    "        names = row.strip().split(\";\")\n",
    "        firstLine = False\n",
    "    else:\n",
    "        rowSplit = row.strip().split(\";\")\n",
    "        labels.append(float(rowSplit[-1]))\n",
    "        rowSplit.pop()\n",
    "        floatRow = [float(num) for num in rowSplit]\n",
    "        x.append(floatRow)\n",
    "\n",
    "#training and test sets\n",
    "indices = range(len(x))\n",
    "xTest = [x[i] for i in indices if i%3 == 0 ]\n",
    "xTrain = [x[i] for i in indices if i%3 != 0 ]\n",
    "labelsTest = [labels[i] for i in indices if i%3 == 0]\n",
    "labelsTrain = [labels[i] for i in indices if i%3 != 0]\n",
    "\n",
    "#build list of attributes one-at-a-time - starting with empty\n",
    "attrList = []\n",
    "attrIdx = range(len(x[1]))\n",
    "indexSet = set(attrIdx)\n",
    "indexSeq = []\n",
    "oosError = []\n",
    "\n",
    "for i in attrIdx:\n",
    "    #find attributes not already being used\n",
    "    attSet = set(attrList)\n",
    "    attTrySet = indexSet - attSet\n",
    "    attTry = [ii for ii in attTrySet]\n",
    "\n",
    "    errorList = []\n",
    "    attTemp = []\n",
    "\n",
    "    #try each attribute to see which one gives least oos error\n",
    "    for iTry in attTry:\n",
    "        attTemp = [] + attrList\n",
    "        attTemp.append(iTry)\n",
    "        #use attTemp to form training and testing sub matrices as list of lists\n",
    "        xTrainTemp = xattrSelect(xTrain, attTemp)\n",
    "        xTestTemp = xattrSelect(xTest, attTemp)\n",
    "        #form into numpy arrays\n",
    "        xTr = np.array(xTrainTemp); yTr = np.array(labelsTrain); xTe = np.array(xTestTemp); yTe = np.array(labelsTest)\n",
    "        #use sci-kit learn linear regression\n",
    "        wineQModel = linear_model.LinearRegression()\n",
    "        wineQModel.fit(xTr,yTr)\n",
    "        #use trained model to generate prediction and calculate rmsError\n",
    "        rmsError = np.linalg.norm((yTe-wineQModel.predict(xTe)), 2)/sqrt(len(yTe))\n",
    "        errorList.append(rmsError)\n",
    "        attTemp = []\n",
    "\n",
    "    iBest = np.argmin(errorList)\n",
    "    attrList.append(attTry[iBest])\n",
    "    oosError.append(errorList[iBest])\n",
    "    \n",
    "#print the error\n",
    "print oosError\n",
    "    \n",
    "#Plot error versus number of attributes\n",
    "idx = range(1, len(oosError)+1)\n",
    "plt.plot(idx, oosError, 'k')\n",
    "plt.xlabel('# Attr')\n",
    "plt.ylabel('Error')\n",
    "plt.show()\n",
    "\n",
    "print 'Best # of Attr =  ', oosError.index(min(oosError)) + 1\n"
   ]
  },
  {
   "cell_type": "markdown",
   "metadata": {},
   "source": [
    "## 3.1 Lab exercise 1.  \n",
    "1.  Modify the code above for the breast cancer prognosis data set \n",
    "https://archive.ics.uci.edu/ml/datasets/Breast+Cancer+Wisconsin+%28Prognostic%29 \n",
    "How will you deal with the binary labels?  \n",
    "\n",
    "\n",
    "## Ridge Regression\n",
    "Ridge regression is a penalized linear regression method.  To help cultivate your intuition about penalty methods you can relate them to the best subset selections methods discussed above.  As you saw, best subset selection incorporates a series of constraints on how many attributes can be used in the model.  Penalty methods also constrain the solutions.  Instead of constraining the number of attributes, penalty methods constrain the total amount of coefficient that can be used across all of the attributes.  It's okay to use all of the attributes as long as not much of any one is used.  \n",
    "\n",
    "Here's how the ridge regression problem if folmulated.  Suppose that the labels for your regression problem are $y_i$ and the row of attributes associated with these labels are $x_i$.  A linear model relating the attributes to the labels can be specified with a vector of weights $w$ whose dimension matches the dimension of the attribute vectors and a bias $b$.  Suppose that the total number of instances is $M$.  Then the linear regression problem is to find the weight vector $w^*$ and the bias $b^*$ satisfying \n",
    "\n",
    "$w^*, b^* = argmin_{w, b} \\frac1M \\sum_{i=1}^M (y_i - (b + x_i w^T))^2$\n",
    "\n",
    "The best values for the weights and bias ($w^* and b^*$) are the ones that minimize the mean squared error.  The ridge regression formulation adds a weight penalty to this formulation.  For ridge regression the best values satisfy\n",
    "\n",
    "$w^*, b^* = argmin_{w, b} \\frac1M \\sum_{i=1}^M (y_i - (b + x_i w^T))^2  + \\alpha ww^T$\n",
    "\n",
    "The only difference in the ridge formulation and the ordinary least squares formulation is the last term on the right hand side of this equation.  The last term is a penalty term that adds the sum of the squares of the weights multiplied by a parameter alpha.  Notice that if $\\alpha = 0.0$ then the equation becomes the same as ordinary least squares.  If $\\alpha$ becomes very large then $w$ has to become very small so that only the bias term $b$ is available to approximate $y_i$.  For large $\\alpha$ the solution to the optimization problem becomes independent of the $x_i's$.  \n",
    "\n",
    "The parameter $\\alpha$ provides a ways to modulate the complexity of the resulting linear model in order to match the problem and the amount of data available.  The code snip below illustrates how this works.  "
   ]
  },
  {
   "cell_type": "code",
   "execution_count": 2,
   "metadata": {
    "collapsed": false
   },
   "outputs": [
    {
     "name": "stdout",
     "output_type": "stream",
     "text": [
      "Error             alph\n",
      "(0.65957881763424575, 1.0)\n",
      "(0.65786109188085917, 0.1)\n",
      "(0.65761721446402444, 0.010000000000000002)\n",
      "(0.65752164826417558, 0.0010000000000000002)\n",
      "(0.65741906801092942, 0.00010000000000000002)\n",
      "(0.65739416288512531, 1.0000000000000003e-05)\n",
      "(0.65739130871558593, 1.0000000000000004e-06)\n",
      "(0.65739101912535525, 1.0000000000000004e-07)\n",
      "(0.65739099012398428, 1.0000000000000005e-08)\n"
     ]
    },
    {
     "data": {
      "image/png": "[encoded data removed]",
      "text/plain": [
       "<matplotlib.figure.Figure at 0x7f4997de4fd0>"
      ]
     },
     "metadata": {},
     "output_type": "display_data"
    }
   ],
   "source": [
    "__author__ = 'mike-bowles'\n",
    "\n",
    "import urllib2\n",
    "import numpy as np\n",
    "from sklearn import datasets, linear_model\n",
    "from math import sqrt\n",
    "import matplotlib.pyplot as plt\n",
    "%matplotlib inline\n",
    "\n",
    "#read data into iterable\n",
    "target_url = \"http://archive.ics.uci.edu/ml/machine-learning-databases/wine-quality/winequality-red.csv\"\n",
    "data = urllib2.urlopen(target_url)\n",
    "\n",
    "xList = []\n",
    "yList = []\n",
    "names = []\n",
    "firstLine = True\n",
    "for line in data:\n",
    "    if firstLine:\n",
    "        names = line.strip().split(\";\")\n",
    "        firstLine = False\n",
    "    else:\n",
    "        #split on semi-colon\n",
    "        row = line.strip().split(\";\")\n",
    "        #put labels in separate array\n",
    "        yList.append(float(row[-1]))\n",
    "        #remove label from row\n",
    "        row.pop()\n",
    "        #convert row to floats\n",
    "        floatRow = [float(num) for num in row]\n",
    "        xList.append(floatRow)\n",
    "\n",
    "#divide attributes and labels into training and test sets\n",
    "indices = range(len(xList))\n",
    "xListTest = [xList[i] for i in indices if i%3 == 0 ]\n",
    "xListTrain = [xList[i] for i in indices if i%3 != 0 ]\n",
    "yListTest = [yList[i] for i in indices if i%3 == 0]\n",
    "yListTrain = [yList[i] for i in indices if i%3 != 0]\n",
    "\n",
    "xTrain = np.array(xListTrain); yTrain = np.array(yListTrain); xTest = np.array(xListTest); yTest = np.array(yListTest)\n",
    "\n",
    "alphaList = [0.1**i for i in [0,1, 2, 3, 4, 5, 6, 7, 8]]\n",
    "\n",
    "rmsError = []\n",
    "for alph in alphaList:\n",
    "    wineRidgeModel = linear_model.Ridge(alpha=alph)\n",
    "    wineRidgeModel.fit(xTrain, yTrain)\n",
    "    rmsError.append(np.linalg.norm((yTest-wineRidgeModel.predict(xTest)), 2)/sqrt(len(yTest)))\n",
    "\n",
    "print(\"Error             alph\")\n",
    "for i in range(len(rmsError)):\n",
    "    print(rmsError[i], alphaList[i])\n",
    "\n",
    "#plot curve of out-of-sample error versus alpha\n",
    "x = range(len(rmsError))\n",
    "plt.plot(x, rmsError, 'k')\n",
    "plt.xlabel('-log(alph)')\n",
    "plt.ylabel('Error')\n",
    "plt.show()"
   ]
  },
  {
   "cell_type": "markdown",
   "metadata": {},
   "source": [
    "## Lab exercise 2.\n",
    "Solve the breast cancer prognosis problem using one the the sklearn packages listed below:  \n",
    "    \n",
    "linear_model.Ridge([alpha, fit_intercept, ...]) \tLinear least squares with l2 regularization.\n",
    "\n",
    "linear_model.RidgeClassifier([alpha, ...]) \tClassifier using Ridge regression.\n",
    "\n",
    "linear_model.RidgeClassifierCV([alphas, ...]) \tRidge classifier with built-in cross-validation.\n",
    "\n",
    "linear_model.RidgeCV([alphas, ...]) \tRidge regression with built-in cross-validation.\n",
    "\n",
    "1.  You can use the ridge version of these packages as you saw used in the example above.  Since this is a classification problem, you can also use a classifier version.  If you're feeling adventuresome you can used one of the versions that includes cross-validation'.  \n",
    "2.  Rank the variables in your linear solution in order of their importance.  "
   ]
  },
  {
   "cell_type": "code",
   "execution_count": null,
   "metadata": {
    "collapsed": true
   },
   "outputs": [],
   "source": []
  }
 ],
 "metadata": {
  "kernelspec": {
   "display_name": "Python [Root]",
   "language": "python",
   "name": "Python [Root]"
  },
  "language_info": {
   "codemirror_mode": {
    "name": "ipython",
    "version": 3
   },
   "file_extension": ".py",
   "mimetype": "text/x-python",
   "name": "python",
   "nbconvert_exporter": "python",
   "pygments_lexer": "ipython3",
   "version": "3.5.2"
  }
 },
 "nbformat": 4,
 "nbformat_minor": 0
}
