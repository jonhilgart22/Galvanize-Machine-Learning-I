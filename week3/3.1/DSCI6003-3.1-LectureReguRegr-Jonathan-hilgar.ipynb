{
 "cells": [
  {
   "cell_type": "markdown",
   "metadata": {},
   "source": [
    "# 3.1 -Penalized Regression - Improving Linear Regression\n",
    "\n",
    "## Learning objective\n",
    "1.  Why does linear regression need regularization.\n",
    "2.  What are some approaches to regularization.\n",
    "3.  Various formulations of the penalized regression problem\n",
    "4.  Python examples of some of the methods\n",
    "\n",
    "## Topics covered\n",
    "1.  Background on linear regression and its limitations\n",
    "2.  Forward stepwise regression.\n",
    "3.  Ridge regression\n",
    "4.  Code examples and coding problems.\n",
    "\n",
    "## Readings\n",
    "http://statweb.stanford.edu/~jtaylo/courses/stats203/notes/penalized.pdf\n",
    "\n",
    "https://en.wikipedia.org/wiki/Tikhonov_regularization\n",
    "\n",
    "\n",
    "## Areas where linear regression can be improved\n",
    "What things would you like to fix about linear regression?  For one thing you might figure out a way to relax the \"linear\" feature.  You'll see how to do that next week.  Linear regression sometimes overfits the problem.  Adding a coefficient penalty to the formulation of the linear regression problem gives you a way to modulate the complexity of the models produced by linear regression in order to match the richness of the problem and the depth of the data. This lecture will show you how that's accomplished and will give you some alternative approaches in order to cultivate your intuition about how they work.  \n",
    "\n",
    "## In-class questions\n",
    "1.  What is overfitting?\n",
    "2.  How can you measure overfitting?\n",
    "3. How can you control overfitting?\n",
    "\n",
    "## Controlling overfit with subset selection\n",
    "Overfitting linear regression is most severe when there are too many attributes for the amount of data that comes with the problem.  A quick guage that I frequently use is the \"aspect ration\" of the data set - the ratio of the number of attributes to the number of training examples.  Think of that as being the number of columns of data divided by the number of rows.  Overfitting is less likely with a tall skinny data matrix than with a short wide one.  If the problem is too many attributes, then throw some away.  Subset selection turns this observation into a design process.  The problem with throwing away attributes is to determine how many and which ones.  \n",
    "\n",
    "Best subset selection takes the following approach.  For every possible size of subset from 1 up to the full number of available attributes determine the best subset of that size.  The quality of the subset is determined by how well the resulting model performs on out of sample data.  The process would be:  Start with a single attribute.  Determine which attribute gives the best performance.  The result is the best subset of size 1.  Then move to size 2 and test every subset of exactly 2 attributes to see which subset is best.  As you can imagine this works okay if you don't have too many attributes, but it quickly becomes impractical to evaluate.  \n",
    "\n",
    "Forward stepwise subset selection is a hueristic approach to subset selection that is more practical.  Forward stepwise subset selection builds the subsets iteratively.  It starts by finding the best single attribute.  Instead of finding the very best subset of two, it keeps the first attribute that was the best single attribute and then searches the remaining attributes to determine what to pick for the second one.  The process continues in this way until all of the attributes are selected.  The code snip below shows this best forward stepwise subset selection.  "
   ]
  },
  {
   "cell_type": "code",
   "execution_count": 10,
   "metadata": {
    "collapsed": false
   },
   "outputs": [
    {
     "name": "stdout",
     "output_type": "stream",
     "text": [
      "Fetching package metadata .......\n",
      "Solving package specifications: .\n",
      "\n",
      "\n",
      "PackageNotFoundError: Package not found: '' Package missing in current osx-64 channels: \n",
      "  - urllib2\n",
      "\n",
      "You can search for packages on anaconda.org with\n",
      "\n",
      "    anaconda search -t conda urllib2\n",
      "\n",
      "\n"
     ]
    }
   ],
   "source": [
    "!conda install urllib2"
   ]
  },
  {
   "cell_type": "code",
   "execution_count": 53,
   "metadata": {
    "collapsed": false
   },
   "outputs": [
    {
     "name": "stdout",
     "output_type": "stream",
     "text": [
      "[0.72342592551162777, 0.68609931528371959, 0.67343650334202776, 0.66770332138977961, 0.66225585685222732, 0.65900047541546258, 0.65727172061430761, 0.65709058062076975, 0.65699930964461395, 0.65758189400434708, 0.65739098690113373]\n"
     ]
    },
    {
     "data": {
      "image/png": "[encoded data removed]",
      "text/plain": [
       "<matplotlib.figure.Figure at 0x1102f2828>"
      ]
     },
     "metadata": {},
     "output_type": "display_data"
    },
    {
     "name": "stdout",
     "output_type": "stream",
     "text": [
      "Best # of Attr =   9\n"
     ]
    }
   ],
   "source": [
    "__author__ = 'mike-bowles'\n",
    "from urllib.request import urlopen\n",
    "import numpy as np\n",
    "from sklearn import datasets, linear_model\n",
    "from math import sqrt\n",
    "import matplotlib.pyplot as plt\n",
    "%matplotlib inline\n",
    "\n",
    "def xattrSelect(x, idxSet):\n",
    "    #takes X matrix as list of list and returns subset containing columns in idxSet\n",
    "    xOut = []\n",
    "    for row in x:\n",
    "        xOut.append([row[i] for i in idxSet])\n",
    "    return(xOut)\n",
    "\n",
    "#read data\n",
    "#target_url = \"http://archive.ics.uci.edu/ml/machine-learning-databases/wine-quality/winequality-red.csv\"\n",
    "#data = pd.read_csv(target_url, delimiter=\";\")\n",
    "#print(data.head())\n",
    "#print(list(data.columns))\n",
    "\n",
    "data = pd.read_csv('http://archive.ics.uci.edu/ml/machine-learning-databases/wine-quality/winequality-red.csv',';')\n",
    "x = data.values[:,0:(data.values.shape[1]-1)]\n",
    "\n",
    "\n",
    "labels = data.values[:,-1]\n",
    "\n",
    "firstLine = True\n",
    "# for row in data:\n",
    "#     if firstLine:\n",
    "#         names = row.strip().split(\";\")\n",
    "#         firstLine = False\n",
    "#     else:\n",
    "#         rowSplit = row.strip().split(\";\")\n",
    "#         labels.append(float(rowSplit[-1]))\n",
    "#         rowSplit.pop()\n",
    "#         floatRow = [float(num) for num in rowSplit]\n",
    "#         x.append(floatRow)\n",
    "\n",
    "\n",
    "\n",
    "#training and test sets\n",
    "indices = range(len(x))\n",
    "xTest = [x[i] for i in indices if i%3 == 0 ]\n",
    "xTrain = [x[i] for i in indices if i%3 != 0 ]\n",
    "labelsTest = [labels[i] for i in indices if i%3 == 0]\n",
    "labelsTrain = [labels[i] for i in indices if i%3 != 0]\n",
    "\n",
    "#build list of attributes one-at-a-time - starting with empty\n",
    "attrList = []\n",
    "attrIdx = range(len(x[1]))\n",
    "indexSet = set(attrIdx)\n",
    "indexSeq = []\n",
    "oosError = []\n",
    "\n",
    "for i in attrIdx:\n",
    "    #find attributes not already being used\n",
    "    attSet = set(attrList)\n",
    "    attTrySet = indexSet - attSet\n",
    "    attTry = [ii for ii in attTrySet]\n",
    "\n",
    "    errorList = []\n",
    "    attTemp = []\n",
    "\n",
    "    #try each attribute to see which one gives least oos error\n",
    "    for iTry in attTry:\n",
    "        attTemp = [] + attrList\n",
    "        attTemp.append(iTry)\n",
    "        #use attTemp to form training and testing sub matrices as list of lists\n",
    "        xTrainTemp = xattrSelect(xTrain, attTemp)\n",
    "        xTestTemp = xattrSelect(xTest, attTemp)\n",
    "        #form into numpy arrays\n",
    "        xTr = np.array(xTrainTemp); yTr = np.array(labelsTrain); xTe = np.array(xTestTemp); yTe = np.array(labelsTest)\n",
    "        #use sci-kit learn linear regression\n",
    "        wineQModel = linear_model.LinearRegression()\n",
    "        wineQModel.fit(xTr,yTr)\n",
    "        #use trained model to generate prediction and calculate rmsError\n",
    "        rmsError = np.linalg.norm((yTe-wineQModel.predict(xTe)), 2)/sqrt(len(yTe))\n",
    "        errorList.append(rmsError)\n",
    "        attTemp = []\n",
    "\n",
    "    iBest = np.argmin(errorList)\n",
    "    attrList.append(attTry[iBest])\n",
    "    oosError.append(errorList[iBest])\n",
    "    \n",
    "#print the error\n",
    "print (oosError)\n",
    "    \n",
    "#Plot error versus number of attributes\n",
    "idx = range(1, len(oosError)+1)\n",
    "plt.plot(idx, oosError, 'k')\n",
    "plt.xlabel('# Attr')\n",
    "plt.ylabel('Error')\n",
    "plt.show()\n",
    "\n",
    "print ('Best # of Attr =  ', oosError.index(min(oosError)) + 1)\n"
   ]
  },
  {
   "cell_type": "markdown",
   "metadata": {},
   "source": [
    "## 3.1 Lab exercise 1.  \n",
    "1.  Modify the code above for the breast cancer prognosis data set \n",
    "https://archive.ics.uci.edu/ml/datasets/Breast+Cancer+Wisconsin+%28Prognostic%29 \n",
    "How will you deal with the binary labels?  \n",
    "\n",
    "\n",
    "## Ridge Regression\n",
    "Ridge regression is a penalized linear regression method.  To help cultivate your intuition about penalty methods you can relate them to the best subset selections methods discussed above.  As you saw, best subset selection incorporates a series of constraints on how many attributes can be used in the model.  Penalty methods also constrain the solutions.  Instead of constraining the number of attributes, penalty methods constrain the total amount of coefficient that can be used across all of the attributes.  It's okay to use all of the attributes as long as not much of any one is used.  \n",
    "\n",
    "Here's how the ridge regression problem if folmulated.  Suppose that the labels for your regression problem are $y_i$ and the row of attributes associated with these labels are $x_i$.  A linear model relating the attributes to the labels can be specified with a vector of weights $w$ whose dimension matches the dimension of the attribute vectors and a bias $b$.  Suppose that the total number of instances is $M$.  Then the linear regression problem is to find the weight vector $w^*$ and the bias $b^*$ satisfying \n",
    "\n",
    "$w^*, b^* = argmin_{w, b} \\frac1M \\sum_{i=1}^M (y_i - (b + x_i w^T))^2$\n",
    "\n",
    "The best values for the weights and bias ($w^* and b^*$) are the ones that minimize the mean squared error.  The ridge regression formulation adds a weight penalty to this formulation.  For ridge regression the best values satisfy\n",
    "\n",
    "$w^*, b^* = argmin_{w, b} \\frac1M \\sum_{i=1}^M (y_i - (b + x_i w^T))^2  + \\alpha ww^T$\n",
    "\n",
    "The only difference in the ridge formulation and the ordinary least squares formulation is the last term on the right hand side of this equation.  The last term is a penalty term that adds the sum of the squares of the weights multiplied by a parameter alpha.  Notice that if $\\alpha = 0.0$ then the equation becomes the same as ordinary least squares.  If $\\alpha$ becomes very large then $w$ has to become very small so that only the bias term $b$ is available to approximate $y_i$.  For large $\\alpha$ the solution to the optimization problem becomes independent of the $x_i's$.  \n",
    "\n",
    "The parameter $\\alpha$ provides a ways to modulate the complexity of the resulting linear model in order to match the problem and the amount of data available.  The code snip below illustrates how this works.  "
   ]
  },
  {
   "cell_type": "code",
   "execution_count": 43,
   "metadata": {
    "collapsed": false
   },
   "outputs": [
    {
     "name": "stdout",
     "output_type": "stream",
     "text": [
      "--2016-11-03 15:28:51--  http://breast-cancer-wisconsin.data/\r\n",
      "Resolving breast-cancer-wisconsin.data... failed: nodename nor servname provided, or not known.\r\n",
      "wget: unable to resolve host address 'breast-cancer-wisconsin.data'\r\n"
     ]
    }
   ],
   "source": [
    "!wget breast-cancer-wisconsin.data"
   ]
  },
  {
   "cell_type": "code",
   "execution_count": 129,
   "metadata": {
    "collapsed": false
   },
   "outputs": [],
   "source": [
    "#3.1\n",
    "h = ['sample_code_number','clump_thickness','uniformity_of_cell_size','uniformity_of_cell_shape',\\\n",
    "          'marginal_adhesion','single_epithelial_cell_use','bare_nuclei','bland_chromatin','normal_nuceoli','mitosis',\\\n",
    "         'class']\n",
    "breast_cancer = pd.read_csv('https://archive.ics.uci.edu/ml/machine-learning-databases/breast-cancer-wisconsin/breast-cancer-wisconsin.data',\\\n",
    "                           names=h)"
   ]
  },
  {
   "cell_type": "code",
   "execution_count": 130,
   "metadata": {
    "collapsed": false
   },
   "outputs": [],
   "source": [
    "#drop sample code number\n",
    "breast_cancer = breast_cancer.drop('sample_code_number',axis=1)"
   ]
  },
  {
   "cell_type": "code",
   "execution_count": 131,
   "metadata": {
    "collapsed": false
   },
   "outputs": [
    {
     "name": "stdout",
     "output_type": "stream",
     "text": [
      "<class 'pandas.core.frame.DataFrame'>\n",
      "RangeIndex: 699 entries, 0 to 698\n",
      "Data columns (total 10 columns):\n",
      "clump_thickness               699 non-null int64\n",
      "uniformity_of_cell_size       699 non-null int64\n",
      "uniformity_of_cell_shape      699 non-null int64\n",
      "marginal_adhesion             699 non-null int64\n",
      "single_epithelial_cell_use    699 non-null int64\n",
      "bare_nuclei                   699 non-null object\n",
      "bland_chromatin               699 non-null int64\n",
      "normal_nuceoli                699 non-null int64\n",
      "mitosis                       699 non-null int64\n",
      "class                         699 non-null int64\n",
      "dtypes: int64(9), object(1)\n",
      "memory usage: 54.7+ KB\n"
     ]
    }
   ],
   "source": [
    "breast_cancer.info()"
   ]
  },
  {
   "cell_type": "code",
   "execution_count": 132,
   "metadata": {
    "collapsed": false
   },
   "outputs": [],
   "source": [
    "#find rows with ? and drop\n",
    "breast_cancer_dropped = breast_cancer[breast_cancer.bare_nuclei.str.contains('\\?')==False]"
   ]
  },
  {
   "cell_type": "code",
   "execution_count": 164,
   "metadata": {
    "collapsed": false
   },
   "outputs": [
    {
     "data": {
      "text/html": [
       "<div>\n",
       "<table border=\"1\" class=\"dataframe\">\n",
       "  <thead>\n",
       "    <tr style=\"text-align: right;\">\n",
       "      <th></th>\n",
       "      <th>clump_thickness</th>\n",
       "      <th>uniformity_of_cell_size</th>\n",
       "      <th>uniformity_of_cell_shape</th>\n",
       "      <th>marginal_adhesion</th>\n",
       "      <th>single_epithelial_cell_use</th>\n",
       "      <th>bare_nuclei</th>\n",
       "      <th>bland_chromatin</th>\n",
       "      <th>normal_nuceoli</th>\n",
       "    </tr>\n",
       "  </thead>\n",
       "  <tbody>\n",
       "    <tr>\n",
       "      <th>0</th>\n",
       "      <td>5</td>\n",
       "      <td>1</td>\n",
       "      <td>1</td>\n",
       "      <td>1</td>\n",
       "      <td>2</td>\n",
       "      <td>1</td>\n",
       "      <td>3</td>\n",
       "      <td>1</td>\n",
       "    </tr>\n",
       "    <tr>\n",
       "      <th>1</th>\n",
       "      <td>5</td>\n",
       "      <td>4</td>\n",
       "      <td>4</td>\n",
       "      <td>5</td>\n",
       "      <td>7</td>\n",
       "      <td>10</td>\n",
       "      <td>3</td>\n",
       "      <td>2</td>\n",
       "    </tr>\n",
       "    <tr>\n",
       "      <th>2</th>\n",
       "      <td>3</td>\n",
       "      <td>1</td>\n",
       "      <td>1</td>\n",
       "      <td>1</td>\n",
       "      <td>2</td>\n",
       "      <td>2</td>\n",
       "      <td>3</td>\n",
       "      <td>1</td>\n",
       "    </tr>\n",
       "    <tr>\n",
       "      <th>3</th>\n",
       "      <td>6</td>\n",
       "      <td>8</td>\n",
       "      <td>8</td>\n",
       "      <td>1</td>\n",
       "      <td>3</td>\n",
       "      <td>4</td>\n",
       "      <td>3</td>\n",
       "      <td>7</td>\n",
       "    </tr>\n",
       "    <tr>\n",
       "      <th>4</th>\n",
       "      <td>4</td>\n",
       "      <td>1</td>\n",
       "      <td>1</td>\n",
       "      <td>3</td>\n",
       "      <td>2</td>\n",
       "      <td>1</td>\n",
       "      <td>3</td>\n",
       "      <td>1</td>\n",
       "    </tr>\n",
       "  </tbody>\n",
       "</table>\n",
       "</div>"
      ],
      "text/plain": [
       "   clump_thickness  uniformity_of_cell_size  uniformity_of_cell_shape  \\\n",
       "0                5                        1                         1   \n",
       "1                5                        4                         4   \n",
       "2                3                        1                         1   \n",
       "3                6                        8                         8   \n",
       "4                4                        1                         1   \n",
       "\n",
       "   marginal_adhesion  single_epithelial_cell_use bare_nuclei  bland_chromatin  \\\n",
       "0                  1                           2           1                3   \n",
       "1                  5                           7          10                3   \n",
       "2                  1                           2           2                3   \n",
       "3                  1                           3           4                3   \n",
       "4                  3                           2           1                3   \n",
       "\n",
       "   normal_nuceoli  \n",
       "0               1  \n",
       "1               2  \n",
       "2               1  \n",
       "3               7  \n",
       "4               1  "
      ]
     },
     "execution_count": 164,
     "metadata": {},
     "output_type": "execute_result"
    }
   ],
   "source": [
    "breast_cancer_dropped.iloc[:,:-2].head()"
   ]
  },
  {
   "cell_type": "code",
   "execution_count": 137,
   "metadata": {
    "collapsed": false
   },
   "outputs": [],
   "source": [
    "from sklearn.model_selection import train_test_split"
   ]
  },
  {
   "cell_type": "code",
   "execution_count": 225,
   "metadata": {
    "collapsed": true
   },
   "outputs": [],
   "source": [
    "# predict which class people will end up in\n",
    "# DEMO! just to understand linear regression\n",
    "\n",
    "def linear_regression(number_of_features):\n",
    "    total_rms = []\n",
    "    \n",
    "    for i in range(1,number_of_features+1):\n",
    "        X_train, X_test, y_train, y_test = train_test_split(breast_cancer_dropped.iloc[:,:-i],breast_cancer_dropped.iloc[:,-1:])\n",
    "    \n",
    "        number_of_features = np.shape(breast_cancer_dropped.iloc[:,:-i])[1]\n",
    "\n",
    "        breastCModel = linear_model.LinearRegression()\n",
    "        breastCModel.fit(X_train,y_train)\n",
    "        predict_x = breastCModel.predict(X_test)\n",
    "        #print(breastCModel.predict(X_test))\n",
    "\n",
    "        #rms\n",
    "\n",
    "        error = np.linalg.norm(y_test-predict_x)/sqrt(len(y_test))\n",
    "        total_rms.append(error)\n",
    "    print(total_rms)\n",
    "    plt.plot(total_rms)"
   ]
  },
  {
   "cell_type": "code",
   "execution_count": 226,
   "metadata": {
    "collapsed": false
   },
   "outputs": [
    {
     "name": "stdout",
     "output_type": "stream",
     "text": [
      "[0.40322717355335685, 0.3880408916999642]\n"
     ]
    },
    {
     "data": {
      "image/png": "[encoded data removed]",
      "text/plain": [
       "<matplotlib.figure.Figure at 0x11c17bd68>"
      ]
     },
     "metadata": {},
     "output_type": "display_data"
    }
   ],
   "source": [
    "linear_regression(2)"
   ]
  },
  {
   "cell_type": "code",
   "execution_count": 154,
   "metadata": {
    "collapsed": false
   },
   "outputs": [],
   "source": [
    "number_of_features = np.shape(breast_cancer_dropped.iloc[:,:-1])[1]"
   ]
  },
  {
   "cell_type": "code",
   "execution_count": 156,
   "metadata": {
    "collapsed": true
   },
   "outputs": [],
   "source": [
    "breastCModel = linear_model.LinearRegression()"
   ]
  },
  {
   "cell_type": "code",
   "execution_count": 157,
   "metadata": {
    "collapsed": false
   },
   "outputs": [
    {
     "data": {
      "text/plain": [
       "LinearRegression(copy_X=True, fit_intercept=True, n_jobs=1, normalize=False)"
      ]
     },
     "execution_count": 157,
     "metadata": {},
     "output_type": "execute_result"
    }
   ],
   "source": [
    "breastCModel.fit(X_train,y_train)"
   ]
  },
  {
   "cell_type": "code",
   "execution_count": 158,
   "metadata": {
    "collapsed": false
   },
   "outputs": [
    {
     "data": {
      "text/plain": [
       "array([[ 1.85777028],\n",
       "       [ 2.02903744],\n",
       "       [ 4.85939085],\n",
       "       [ 2.05390697],\n",
       "       [ 2.00416791],\n",
       "       [ 2.22517412],\n",
       "       [ 1.97063708],\n",
       "       [ 4.34751118],\n",
       "       [ 4.20829017],\n",
       "       [ 3.61111534],\n",
       "       [ 1.92314918],\n",
       "       [ 1.85777028],\n",
       "       [ 2.06954681],\n",
       "       [ 3.4460585 ],\n",
       "       [ 2.06772003],\n",
       "       [ 4.10274288],\n",
       "       [ 3.72217846],\n",
       "       [ 2.40629313],\n",
       "       [ 2.16677377],\n",
       "       [ 3.55267622],\n",
       "       [ 3.86980953],\n",
       "       [ 1.95281691],\n",
       "       [ 2.11928586],\n",
       "       [ 4.1852089 ],\n",
       "       [ 1.87096535],\n",
       "       [ 2.00416791],\n",
       "       [ 2.64623741],\n",
       "       [ 2.54592883],\n",
       "       [ 3.98496736],\n",
       "       [ 1.97837262],\n",
       "       [ 1.99097285],\n",
       "       [ 2.11928586],\n",
       "       [ 1.85777028],\n",
       "       [ 4.79432374],\n",
       "       [ 4.36579366],\n",
       "       [ 1.92069339],\n",
       "       [ 2.52294653],\n",
       "       [ 4.30345277],\n",
       "       [ 2.26568349],\n",
       "       [ 3.46304863],\n",
       "       [ 2.22271834],\n",
       "       [ 2.09441633],\n",
       "       [ 2.26568349],\n",
       "       [ 1.89827965],\n",
       "       [ 3.48694812],\n",
       "       [ 1.93388845],\n",
       "       [ 2.2003046 ],\n",
       "       [ 2.1203469 ],\n",
       "       [ 2.02903744],\n",
       "       [ 4.07454935],\n",
       "       [ 3.77921148],\n",
       "       [ 3.7866406 ],\n",
       "       [ 3.82825721],\n",
       "       [ 2.05666357],\n",
       "       [ 1.93878902],\n",
       "       [ 4.19149082],\n",
       "       [ 1.95132888],\n",
       "       [ 1.93878902],\n",
       "       [ 3.56576467],\n",
       "       [ 2.06954681],\n",
       "       [ 2.01798098],\n",
       "       [ 2.09197156],\n",
       "       [ 4.05893583],\n",
       "       [ 2.48121354],\n",
       "       [ 3.66463816],\n",
       "       [ 4.13358972],\n",
       "       [ 1.83045598],\n",
       "       [ 3.55738376],\n",
       "       [ 2.12425575],\n",
       "       [ 4.43142651],\n",
       "       [ 1.92314918],\n",
       "       [ 1.93878902],\n",
       "       [ 2.10564158],\n",
       "       [ 2.0762847 ],\n",
       "       [ 1.89827965],\n",
       "       [ 1.92314918],\n",
       "       [ 2.06954681],\n",
       "       [ 2.02903744],\n",
       "       [ 4.57847234],\n",
       "       [ 2.1349257 ],\n",
       "       [ 2.3286066 ],\n",
       "       [ 3.80856403],\n",
       "       [ 3.70427398],\n",
       "       [ 1.98852807],\n",
       "       [ 2.02903744],\n",
       "       [ 1.91208551],\n",
       "       [ 1.85777028],\n",
       "       [ 4.15365392],\n",
       "       [ 2.15979523],\n",
       "       [ 2.35394435],\n",
       "       [ 2.0161542 ],\n",
       "       [ 1.96120276],\n",
       "       [ 2.1444562 ],\n",
       "       [ 2.2003046 ],\n",
       "       [ 2.37501345],\n",
       "       [ 1.85777028],\n",
       "       [ 2.1349257 ],\n",
       "       [ 2.15979523],\n",
       "       [ 4.27508886],\n",
       "       [ 2.27888901],\n",
       "       [ 2.00416791],\n",
       "       [ 1.98852807],\n",
       "       [ 4.26643805],\n",
       "       [ 1.93878902],\n",
       "       [ 4.06095014],\n",
       "       [ 2.08688384],\n",
       "       [ 4.75107377],\n",
       "       [ 2.96298274],\n",
       "       [ 2.1349257 ],\n",
       "       [ 2.00659602],\n",
       "       [ 1.91147471],\n",
       "       [ 2.09472816],\n",
       "       [ 3.35149491],\n",
       "       [ 2.02903744],\n",
       "       [ 2.23176615],\n",
       "       [ 1.89827965],\n",
       "       [ 1.98852807],\n",
       "       [ 2.00416791],\n",
       "       [ 2.00234114],\n",
       "       [ 2.83262109],\n",
       "       [ 1.91147471],\n",
       "       [ 4.14345825],\n",
       "       [ 3.54319668],\n",
       "       [ 2.09441633],\n",
       "       [ 2.53705092],\n",
       "       [ 2.00172314],\n",
       "       [ 3.77537496],\n",
       "       [ 2.1349257 ],\n",
       "       [ 3.43283612],\n",
       "       [ 1.93878902],\n",
       "       [ 2.09441633],\n",
       "       [ 4.43157243],\n",
       "       [ 3.82302956],\n",
       "       [ 2.16145032],\n",
       "       [ 2.21229089],\n",
       "       [ 1.83045598],\n",
       "       [ 3.08946087],\n",
       "       [ 1.89827965],\n",
       "       [ 1.96365854],\n",
       "       [ 2.75668835],\n",
       "       [ 2.25540005],\n",
       "       [ 2.74534734],\n",
       "       [ 1.89827965],\n",
       "       [ 3.57813708],\n",
       "       [ 3.75037212],\n",
       "       [ 2.15979523],\n",
       "       [ 2.26754878],\n",
       "       [ 4.08446675],\n",
       "       [ 3.88796683],\n",
       "       [ 2.00416791],\n",
       "       [ 2.05635174],\n",
       "       [ 1.89827965],\n",
       "       [ 4.39669517],\n",
       "       [ 3.82500936],\n",
       "       [ 2.08043158],\n",
       "       [ 3.55010152],\n",
       "       [ 3.50531739],\n",
       "       [ 2.00172314],\n",
       "       [ 4.01757013],\n",
       "       [ 2.27397837],\n",
       "       [ 1.89827965],\n",
       "       [ 1.89827965],\n",
       "       [ 2.00416791],\n",
       "       [ 4.01013248],\n",
       "       [ 1.93878902],\n",
       "       [ 2.1339059 ],\n",
       "       [ 1.85777028],\n",
       "       [ 4.48889432],\n",
       "       [ 3.45036847],\n",
       "       [ 3.93399923],\n",
       "       [ 2.05390697]])"
      ]
     },
     "execution_count": 158,
     "metadata": {},
     "output_type": "execute_result"
    }
   ],
   "source": [
    "#predictions\n",
    "breastCModel.predict(X_test)"
   ]
  },
  {
   "cell_type": "code",
   "execution_count": 162,
   "metadata": {
    "collapsed": false
   },
   "outputs": [
    {
     "data": {
      "text/plain": [
       "0.38820163225248988"
      ]
     },
     "execution_count": 162,
     "metadata": {},
     "output_type": "execute_result"
    }
   ],
   "source": [
    "np.linalg.norm(y_test-breastCModel.predict(X_test))/sqrt(len(y_test))"
   ]
  },
  {
   "cell_type": "code",
   "execution_count": null,
   "metadata": {
    "collapsed": true
   },
   "outputs": [],
   "source": []
  },
  {
   "cell_type": "code",
   "execution_count": null,
   "metadata": {
    "collapsed": true
   },
   "outputs": [],
   "source": []
  },
  {
   "cell_type": "code",
   "execution_count": 176,
   "metadata": {
    "collapsed": false
   },
   "outputs": [
    {
     "name": "stdout",
     "output_type": "stream",
     "text": [
      "[0.55695503627114717, 0.45893715611355074, 0.43043288079486591, 0.41680715727287887, 0.41298874655201634, 0.40976658219514622, 0.4088681874580038, 0.40904141239279368, 0.41044389908425222]\n"
     ]
    },
    {
     "data": {
      "image/png": "[encoded data removed]",
      "text/plain": [
       "<matplotlib.figure.Figure at 0x118935da0>"
      ]
     },
     "metadata": {},
     "output_type": "display_data"
    },
    {
     "name": "stdout",
     "output_type": "stream",
     "text": [
      "Best # of Attr =   7\n"
     ]
    }
   ],
   "source": [
    "__author__ = 'mike-bowles'\n",
    "from urllib.request import urlopen\n",
    "import numpy as np\n",
    "from sklearn import datasets, linear_model\n",
    "from math import sqrt\n",
    "import matplotlib.pyplot as plt\n",
    "%matplotlib inline\n",
    "\n",
    "def xattrSelect(x, idxSet):\n",
    "    #takes X matrix as list of list and returns subset containing columns in idxSet\n",
    "    xOut = []\n",
    "    for row in x:\n",
    "        xOut.append([row[i] for i in idxSet])\n",
    "    return(xOut)\n",
    "\n",
    "#read data\n",
    "#target_url = \"http://archive.ics.uci.edu/ml/machine-learning-databases/wine-quality/winequality-red.csv\"\n",
    "#data = pd.read_csv(target_url, delimiter=\";\")\n",
    "#print(data.head())\n",
    "#print(list(data.columns))\n",
    "\n",
    "#data = pd.read_csv('http://archive.ics.uci.edu/ml/machine-learning-databases/wine-quality/winequality-red.csv',';')\n",
    "x = breast_cancer_dropped.values[:,0:(breast_cancer_dropped.values.shape[1]-1)].astype(int)\n",
    "\n",
    "\n",
    "labels = breast_cancer_dropped.values[:,-1].astype(int)\n",
    "\n",
    "\n",
    "\n",
    "\n",
    "\n",
    "#training and test sets\n",
    "indices = range(len(x))\n",
    "xTest = [x[i] for i in indices if i%3 == 0 ]\n",
    "xTrain = [x[i] for i in indices if i%3 != 0 ]\n",
    "labelsTest = [labels[i] for i in indices if i%3 == 0]\n",
    "labelsTrain = [labels[i] for i in indices if i%3 != 0]\n",
    "\n",
    "#build list of attributes one-at-a-time - starting with empty\n",
    "attrList = []\n",
    "attrIdx = range(len(x[1]))\n",
    "indexSet = set(attrIdx)\n",
    "indexSeq = []\n",
    "oosError = []\n",
    "\n",
    "for i in attrIdx:\n",
    "    #find attributes not already being used\n",
    "    attSet = set(attrList)\n",
    "    attTrySet = indexSet - attSet\n",
    "    attTry = [ii for ii in attTrySet]\n",
    "\n",
    "    errorList = []\n",
    "    attTemp = []\n",
    "\n",
    "    #try each attribute to see which one gives least oos error\n",
    "    for iTry in attTry:\n",
    "        attTemp = [] + attrList\n",
    "        attTemp.append(iTry)\n",
    "        #use attTemp to form training and testing sub matrices as list of lists\n",
    "        xTrainTemp = xattrSelect(xTrain, attTemp)\n",
    "        xTestTemp = xattrSelect(xTest, attTemp)\n",
    "        #form into numpy arrays\n",
    "        xTr = np.array(xTrainTemp); yTr = np.array(labelsTrain); xTe = np.array(xTestTemp); yTe = np.array(labelsTest)\n",
    "        #use sci-kit learn linear regression\n",
    "        wineQModel = linear_model.LinearRegression()\n",
    "        wineQModel.fit(xTr,yTr)\n",
    "        #use trained model to generate prediction and calculate rmsError\n",
    "        rmsError = np.linalg.norm((yTe-wineQModel.predict(xTe)), 2)/sqrt(len(yTe))\n",
    "        errorList.append(rmsError)\n",
    "        attTemp = []\n",
    "\n",
    "    iBest = np.argmin(errorList)\n",
    "    attrList.append(attTry[iBest])\n",
    "    oosError.append(errorList[iBest])\n",
    "    \n",
    "#print the error\n",
    "print (oosError)\n",
    "    \n",
    "#Plot error versus number of attributes\n",
    "idx = range(1, len(oosError)+1)\n",
    "plt.plot(idx, oosError, 'k')\n",
    "plt.xlabel('# Attr')\n",
    "plt.ylabel('Error')\n",
    "plt.show()\n",
    "\n",
    "print ('Best # of Attr =  ', oosError.index(min(oosError)) + 1)\n"
   ]
  },
  {
   "cell_type": "markdown",
   "metadata": {},
   "source": [
    "## The optimal number of features for the breast cancer data is 7!"
   ]
  },
  {
   "cell_type": "code",
   "execution_count": null,
   "metadata": {
    "collapsed": true
   },
   "outputs": [],
   "source": []
  },
  {
   "cell_type": "code",
   "execution_count": null,
   "metadata": {
    "collapsed": true
   },
   "outputs": [],
   "source": []
  },
  {
   "cell_type": "code",
   "execution_count": null,
   "metadata": {
    "collapsed": true
   },
   "outputs": [],
   "source": []
  },
  {
   "cell_type": "markdown",
   "metadata": {},
   "source": [
    "## Lab exercise 2.\n",
    "Solve the breast cancer prognosis problem using one the the sklearn packages listed below:  \n",
    "    \n",
    "linear_model.Ridge([alpha, fit_intercept, ...]) \tLinear least squares with l2 regularization.\n",
    "\n",
    "linear_model.RidgeClassifier([alpha, ...]) \tClassifier using Ridge regression.\n",
    "\n",
    "linear_model.RidgeClassifierCV([alphas, ...]) \tRidge classifier with built-in cross-validation.\n",
    "\n",
    "linear_model.RidgeCV([alphas, ...]) \tRidge regression with built-in cross-validation.\n",
    "\n",
    "1.  You can use the ridge version of these packages as you saw used in the example above.  Since this is a classification problem, you can also use a classifier version.  If you're feeling adventuresome you can used one of the versions that includes cross-validation'.  \n",
    "2.  Rank the variables in your linear solution in order of their importance.  "
   ]
  },
  {
   "cell_type": "markdown",
   "metadata": {
    "collapsed": true
   },
   "source": [
    "# Ridge with Cancer Data\n"
   ]
  },
  {
   "cell_type": "code",
   "execution_count": 181,
   "metadata": {
    "collapsed": false
   },
   "outputs": [
    {
     "data": {
      "text/html": [
       "<div>\n",
       "<table border=\"1\" class=\"dataframe\">\n",
       "  <thead>\n",
       "    <tr style=\"text-align: right;\">\n",
       "      <th></th>\n",
       "      <th>clump_thickness</th>\n",
       "      <th>uniformity_of_cell_size</th>\n",
       "      <th>uniformity_of_cell_shape</th>\n",
       "      <th>marginal_adhesion</th>\n",
       "      <th>single_epithelial_cell_use</th>\n",
       "      <th>bare_nuclei</th>\n",
       "      <th>bland_chromatin</th>\n",
       "      <th>normal_nuceoli</th>\n",
       "      <th>mitosis</th>\n",
       "      <th>class</th>\n",
       "    </tr>\n",
       "  </thead>\n",
       "  <tbody>\n",
       "    <tr>\n",
       "      <th>0</th>\n",
       "      <td>5</td>\n",
       "      <td>1</td>\n",
       "      <td>1</td>\n",
       "      <td>1</td>\n",
       "      <td>2</td>\n",
       "      <td>1</td>\n",
       "      <td>3</td>\n",
       "      <td>1</td>\n",
       "      <td>1</td>\n",
       "      <td>2</td>\n",
       "    </tr>\n",
       "    <tr>\n",
       "      <th>1</th>\n",
       "      <td>5</td>\n",
       "      <td>4</td>\n",
       "      <td>4</td>\n",
       "      <td>5</td>\n",
       "      <td>7</td>\n",
       "      <td>10</td>\n",
       "      <td>3</td>\n",
       "      <td>2</td>\n",
       "      <td>1</td>\n",
       "      <td>2</td>\n",
       "    </tr>\n",
       "    <tr>\n",
       "      <th>2</th>\n",
       "      <td>3</td>\n",
       "      <td>1</td>\n",
       "      <td>1</td>\n",
       "      <td>1</td>\n",
       "      <td>2</td>\n",
       "      <td>2</td>\n",
       "      <td>3</td>\n",
       "      <td>1</td>\n",
       "      <td>1</td>\n",
       "      <td>2</td>\n",
       "    </tr>\n",
       "    <tr>\n",
       "      <th>3</th>\n",
       "      <td>6</td>\n",
       "      <td>8</td>\n",
       "      <td>8</td>\n",
       "      <td>1</td>\n",
       "      <td>3</td>\n",
       "      <td>4</td>\n",
       "      <td>3</td>\n",
       "      <td>7</td>\n",
       "      <td>1</td>\n",
       "      <td>2</td>\n",
       "    </tr>\n",
       "    <tr>\n",
       "      <th>4</th>\n",
       "      <td>4</td>\n",
       "      <td>1</td>\n",
       "      <td>1</td>\n",
       "      <td>3</td>\n",
       "      <td>2</td>\n",
       "      <td>1</td>\n",
       "      <td>3</td>\n",
       "      <td>1</td>\n",
       "      <td>1</td>\n",
       "      <td>2</td>\n",
       "    </tr>\n",
       "  </tbody>\n",
       "</table>\n",
       "</div>"
      ],
      "text/plain": [
       "   clump_thickness  uniformity_of_cell_size  uniformity_of_cell_shape  \\\n",
       "0                5                        1                         1   \n",
       "1                5                        4                         4   \n",
       "2                3                        1                         1   \n",
       "3                6                        8                         8   \n",
       "4                4                        1                         1   \n",
       "\n",
       "   marginal_adhesion  single_epithelial_cell_use bare_nuclei  bland_chromatin  \\\n",
       "0                  1                           2           1                3   \n",
       "1                  5                           7          10                3   \n",
       "2                  1                           2           2                3   \n",
       "3                  1                           3           4                3   \n",
       "4                  3                           2           1                3   \n",
       "\n",
       "   normal_nuceoli  mitosis  class  \n",
       "0               1        1      2  \n",
       "1               2        1      2  \n",
       "2               1        1      2  \n",
       "3               7        1      2  \n",
       "4               1        1      2  "
      ]
     },
     "execution_count": 181,
     "metadata": {},
     "output_type": "execute_result"
    }
   ],
   "source": [
    "breast_cancer_dropped.head()"
   ]
  },
  {
   "cell_type": "code",
   "execution_count": 200,
   "metadata": {
    "collapsed": false
   },
   "outputs": [
    {
     "name": "stdout",
     "output_type": "stream",
     "text": [
      "[ 0.04306962  0.03417678  0.03491249  0.03004197  0.03605511  0.04221\n",
      "  0.04177814  0.03273518  0.01391767] Coefficients \n",
      "\n",
      "['mitosis' 'marginal_adhesion' 'normal_nuceoli' 'uniformity_of_cell_size'\n",
      " 'uniformity_of_cell_shape' 'single_epithelial_cell_use' 'bland_chromatin'\n",
      " 'bare_nuclei' 'clump_thickness'] Features ranked for each alpha \n",
      "\n",
      "[ 0.05788494  0.03967661  0.03036172  0.02393482  0.03136162  0.07357327\n",
      "  0.04317974  0.03910001 -0.00314188] Coefficients \n",
      "\n",
      "['mitosis' 'marginal_adhesion' 'uniformity_of_cell_shape'\n",
      " 'single_epithelial_cell_use' 'normal_nuceoli' 'uniformity_of_cell_size'\n",
      " 'bland_chromatin' 'clump_thickness' 'bare_nuclei'] Features ranked for each alpha \n",
      "\n",
      "[ 0.05989449  0.04686829  0.0217616   0.01880289  0.02830735  0.0847092\n",
      "  0.0410834   0.04057763 -0.00674658] Coefficients \n",
      "\n",
      "['mitosis' 'marginal_adhesion' 'uniformity_of_cell_shape'\n",
      " 'single_epithelial_cell_use' 'normal_nuceoli' 'bland_chromatin'\n",
      " 'uniformity_of_cell_size' 'clump_thickness' 'bare_nuclei'] Features ranked for each alpha \n",
      "\n",
      "[ 0.06007021  0.048636    0.01986041  0.0180131   0.02782464  0.08620401\n",
      "  0.04074069  0.04076116 -0.00714061] Coefficients \n",
      "\n",
      "['mitosis' 'marginal_adhesion' 'uniformity_of_cell_shape'\n",
      " 'single_epithelial_cell_use' 'bland_chromatin' 'normal_nuceoli'\n",
      " 'uniformity_of_cell_size' 'clump_thickness' 'bare_nuclei'] Features ranked for each alpha \n",
      "\n",
      "[ 0.0600874   0.04883691  0.01964685  0.01792954  0.02777297  0.0863593\n",
      "  0.0407043   0.04077997 -0.00718052] Coefficients \n",
      "\n",
      "['mitosis' 'marginal_adhesion' 'uniformity_of_cell_shape'\n",
      " 'single_epithelial_cell_use' 'bland_chromatin' 'normal_nuceoli'\n",
      " 'uniformity_of_cell_size' 'clump_thickness' 'bare_nuclei'] Features ranked for each alpha \n",
      "\n",
      "[ 0.06008911  0.04885727  0.01962523  0.01792113  0.02776777  0.08637489\n",
      "  0.04070063  0.04078186 -0.00718452] Coefficients \n",
      "\n",
      "['mitosis' 'marginal_adhesion' 'uniformity_of_cell_shape'\n",
      " 'single_epithelial_cell_use' 'bland_chromatin' 'normal_nuceoli'\n",
      " 'uniformity_of_cell_size' 'clump_thickness' 'bare_nuclei'] Features ranked for each alpha \n",
      "\n",
      "[ 0.06008929  0.04885931  0.01962306  0.01792029  0.02776725  0.08637645\n",
      "  0.04070027  0.04078205 -0.00718492] Coefficients \n",
      "\n",
      "['mitosis' 'marginal_adhesion' 'uniformity_of_cell_shape'\n",
      " 'single_epithelial_cell_use' 'bland_chromatin' 'normal_nuceoli'\n",
      " 'uniformity_of_cell_size' 'clump_thickness' 'bare_nuclei'] Features ranked for each alpha \n",
      "\n",
      "[ 0.0600893   0.04885951  0.01962285  0.01792021  0.0277672   0.0863766\n",
      "  0.04070023  0.04078207 -0.00718496] Coefficients \n",
      "\n",
      "['mitosis' 'marginal_adhesion' 'uniformity_of_cell_shape'\n",
      " 'single_epithelial_cell_use' 'bland_chromatin' 'normal_nuceoli'\n",
      " 'uniformity_of_cell_size' 'clump_thickness' 'bare_nuclei'] Features ranked for each alpha \n",
      "\n",
      "[ 0.0600893   0.04885953  0.01962283  0.0179202   0.02776719  0.08637662\n",
      "  0.04070023  0.04078207 -0.00718497] Coefficients \n",
      "\n",
      "['mitosis' 'marginal_adhesion' 'uniformity_of_cell_shape'\n",
      " 'single_epithelial_cell_use' 'bland_chromatin' 'normal_nuceoli'\n",
      " 'uniformity_of_cell_size' 'clump_thickness' 'bare_nuclei'] Features ranked for each alpha \n",
      "\n",
      "Error             alph\n",
      "0.456823358751 1.0\n",
      "0.414548308737 0.1\n",
      "0.410689550408 0.010000000000000002\n",
      "0.41046435825 0.0010000000000000002\n",
      "0.410445897892 0.00010000000000000002\n",
      "0.410444098487 1.0000000000000003e-05\n",
      "0.41044391902 1.0000000000000004e-06\n",
      "0.410443901078 1.0000000000000004e-07\n",
      "0.410443899284 1.0000000000000005e-08\n"
     ]
    },
    {
     "data": {
      "image/png": "[encoded data removed]",
      "text/plain": [
       "<matplotlib.figure.Figure at 0x110229898>"
      ]
     },
     "metadata": {},
     "output_type": "display_data"
    }
   ],
   "source": [
    "__author__ = 'mike-bowles'\n",
    "\n",
    "\n",
    "import numpy as np\n",
    "from sklearn import datasets, linear_model\n",
    "from math import sqrt\n",
    "import matplotlib.pyplot as plt\n",
    "%matplotlib inline\n",
    "\n",
    "#read data into iterable\n",
    "xList = breast_cancer_dropped.values[:,0:(breast_cancer_dropped.values.shape[1]-1)].astype(int)\n",
    "\n",
    "\n",
    "yList = breast_cancer_dropped.values[:,-1].astype(int)\n",
    "\n",
    "\n",
    "#divide attributes and labels into training and test sets\n",
    "indices = range(len(xList))\n",
    "xListTest = [xList[i] for i in indices if i%3 == 0 ]\n",
    "xListTrain = [xList[i] for i in indices if i%3 != 0 ]\n",
    "yListTest = [yList[i] for i in indices if i%3 == 0]\n",
    "yListTrain = [yList[i] for i in indices if i%3 != 0]\n",
    "\n",
    "xTrain = np.array(xListTrain); yTrain = np.array(yListTrain); xTest = np.array(xListTest); yTest = np.array(yListTest)\n",
    "\n",
    "alphaList = [0.1**i for i in [0,1, 2, 3, 4, 5, 6, 7, 8]]\n",
    "\n",
    "rmsError = []\n",
    "for alph in alphaList:\n",
    "    wineRidgeModel = linear_model.Ridge(alpha=alph,normalize=True)\n",
    "    wineRidgeModel.fit(xTrain, yTrain)\n",
    "    print(wineRidgeModel.coef_,'Coefficients \\n')\n",
    "\n",
    "    print(features[np.argsort(wineRidgeModel.coef_)],\"Features ranked for each alpha \\n\")\n",
    "    rmsError.append(np.linalg.norm((yTest-wineRidgeModel.predict(xTest)), 2)/sqrt(len(yTest)))\n",
    "\n",
    "print(\"Error             alph\")\n",
    "for i in range(len(rmsError)):\n",
    "    print(rmsError[i], alphaList[i])\n",
    "\n",
    "#plot curve of out-of-sample error versus alpha\n",
    "x = range(len(rmsError))\n",
    "plt.plot(x, rmsError, 'k')\n",
    "plt.xlabel('-log(alph)')\n",
    "plt.ylabel('Error')\n",
    "plt.show()"
   ]
  },
  {
   "cell_type": "markdown",
   "metadata": {},
   "source": [
    "### Results\n",
    "- Above we can see that an alpha around log(2) minimizes the error term.\n",
    "- In addition, we can observe the most important features ranked by the coefficients above."
   ]
  },
  {
   "cell_type": "code",
   "execution_count": 213,
   "metadata": {
    "collapsed": false
   },
   "outputs": [],
   "source": [
    "#compare two statsmodels\n",
    "import statsmodels.api as sm\n"
   ]
  },
  {
   "cell_type": "code",
   "execution_count": 194,
   "metadata": {
    "collapsed": true
   },
   "outputs": [],
   "source": [
    "features = np.array(['clump_thickness','uniformity_of_cell_size','uniformity_of_cell_shape',\\\n",
    "          'marginal_adhesion','single_epithelial_cell_use','bare_nuclei','bland_chromatin','normal_nuceoli','mitosis'])"
   ]
  },
  {
   "cell_type": "code",
   "execution_count": 219,
   "metadata": {
    "collapsed": false
   },
   "outputs": [],
   "source": [
    "X = breast_cancer_dropped[['clump_thickness','uniformity_of_cell_size','uniformity_of_cell_shape',\\\n",
    "          'marginal_adhesion','single_epithelial_cell_use','bare_nuclei','bland_chromatin','normal_nuceoli','mitosis']]\n",
    "y = breast_cancer_dropped[['class']]\n",
    "X['constant']=1\n",
    "\n",
    "# model = sm.regression.linear_model.OLS(y,X).fit()\n",
    "# model.summary()\n",
    "\n"
   ]
  },
  {
   "cell_type": "markdown",
   "metadata": {},
   "source": [
    "# linear_model.RidgeClassifier([alpha, ...]) Classifier using Ridge regression."
   ]
  },
  {
   "cell_type": "code",
   "execution_count": 220,
   "metadata": {
    "collapsed": true
   },
   "outputs": [],
   "source": [
    "from sklearn.linear_model import RidgeClassifier"
   ]
  },
  {
   "cell_type": "code",
   "execution_count": 222,
   "metadata": {
    "collapsed": false
   },
   "outputs": [
    {
     "name": "stdout",
     "output_type": "stream",
     "text": [
      "[[ 0.04306962  0.03417678  0.03491249  0.03004197  0.03605511  0.04221\n",
      "   0.04177814  0.03273518  0.01391767]] Coefficients \n",
      "\n",
      "[['mitosis' 'marginal_adhesion' 'normal_nuceoli' 'uniformity_of_cell_size'\n",
      "  'uniformity_of_cell_shape' 'single_epithelial_cell_use' 'bland_chromatin'\n",
      "  'bare_nuclei' 'clump_thickness']] Features ranked for each alpha \n",
      "\n",
      "[[ 0.05788494  0.03967661  0.03036172  0.02393482  0.03136162  0.07357327\n",
      "   0.04317974  0.03910001 -0.00314188]] Coefficients \n",
      "\n",
      "[['mitosis' 'marginal_adhesion' 'uniformity_of_cell_shape'\n",
      "  'single_epithelial_cell_use' 'normal_nuceoli' 'uniformity_of_cell_size'\n",
      "  'bland_chromatin' 'clump_thickness' 'bare_nuclei']] Features ranked for each alpha \n",
      "\n",
      "[[ 0.05989449  0.04686829  0.0217616   0.01880289  0.02830735  0.0847092\n",
      "   0.0410834   0.04057763 -0.00674658]] Coefficients \n",
      "\n",
      "[['mitosis' 'marginal_adhesion' 'uniformity_of_cell_shape'\n",
      "  'single_epithelial_cell_use' 'normal_nuceoli' 'bland_chromatin'\n",
      "  'uniformity_of_cell_size' 'clump_thickness' 'bare_nuclei']] Features ranked for each alpha \n",
      "\n",
      "[[ 0.06007021  0.048636    0.01986041  0.0180131   0.02782464  0.08620401\n",
      "   0.04074069  0.04076116 -0.00714061]] Coefficients \n",
      "\n",
      "[['mitosis' 'marginal_adhesion' 'uniformity_of_cell_shape'\n",
      "  'single_epithelial_cell_use' 'bland_chromatin' 'normal_nuceoli'\n",
      "  'uniformity_of_cell_size' 'clump_thickness' 'bare_nuclei']] Features ranked for each alpha \n",
      "\n",
      "[[ 0.0600874   0.04883691  0.01964685  0.01792954  0.02777297  0.0863593\n",
      "   0.0407043   0.04077997 -0.00718052]] Coefficients \n",
      "\n",
      "[['mitosis' 'marginal_adhesion' 'uniformity_of_cell_shape'\n",
      "  'single_epithelial_cell_use' 'bland_chromatin' 'normal_nuceoli'\n",
      "  'uniformity_of_cell_size' 'clump_thickness' 'bare_nuclei']] Features ranked for each alpha \n",
      "\n",
      "[[ 0.06008911  0.04885727  0.01962523  0.01792113  0.02776777  0.08637489\n",
      "   0.04070063  0.04078186 -0.00718452]] Coefficients \n",
      "\n",
      "[['mitosis' 'marginal_adhesion' 'uniformity_of_cell_shape'\n",
      "  'single_epithelial_cell_use' 'bland_chromatin' 'normal_nuceoli'\n",
      "  'uniformity_of_cell_size' 'clump_thickness' 'bare_nuclei']] Features ranked for each alpha \n",
      "\n",
      "[[ 0.06008929  0.04885931  0.01962306  0.01792029  0.02776725  0.08637645\n",
      "   0.04070027  0.04078205 -0.00718492]] Coefficients \n",
      "\n",
      "[['mitosis' 'marginal_adhesion' 'uniformity_of_cell_shape'\n",
      "  'single_epithelial_cell_use' 'bland_chromatin' 'normal_nuceoli'\n",
      "  'uniformity_of_cell_size' 'clump_thickness' 'bare_nuclei']] Features ranked for each alpha \n",
      "\n",
      "[[ 0.0600893   0.04885951  0.01962285  0.01792021  0.0277672   0.0863766\n",
      "   0.04070023  0.04078207 -0.00718496]] Coefficients \n",
      "\n",
      "[['mitosis' 'marginal_adhesion' 'uniformity_of_cell_shape'\n",
      "  'single_epithelial_cell_use' 'bland_chromatin' 'normal_nuceoli'\n",
      "  'uniformity_of_cell_size' 'clump_thickness' 'bare_nuclei']] Features ranked for each alpha \n",
      "\n",
      "[[ 0.0600893   0.04885953  0.01962283  0.0179202   0.02776719  0.08637662\n",
      "   0.04070023  0.04078207 -0.00718497]] Coefficients \n",
      "\n",
      "[['mitosis' 'marginal_adhesion' 'uniformity_of_cell_shape'\n",
      "  'single_epithelial_cell_use' 'bland_chromatin' 'normal_nuceoli'\n",
      "  'uniformity_of_cell_size' 'clump_thickness' 'bare_nuclei']] Features ranked for each alpha \n",
      "\n",
      "Error             alph\n",
      "0.512989176043 1.0\n",
      "0.458831467741 0.1\n",
      "0.458831467741 0.010000000000000002\n",
      "0.458831467741 0.0010000000000000002\n",
      "0.458831467741 0.00010000000000000002\n",
      "0.458831467741 1.0000000000000003e-05\n",
      "0.458831467741 1.0000000000000004e-06\n",
      "0.458831467741 1.0000000000000004e-07\n",
      "0.458831467741 1.0000000000000005e-08\n"
     ]
    },
    {
     "data": {
      "image/png": "[encoded data removed]",
      "text/plain": [
       "<matplotlib.figure.Figure at 0x11bfb8e48>"
      ]
     },
     "metadata": {},
     "output_type": "display_data"
    }
   ],
   "source": [
    "__author__ = 'jonathan_hilgart'\n",
    "\n",
    "\n",
    "import numpy as np\n",
    "from sklearn import datasets, linear_model\n",
    "from math import sqrt\n",
    "import matplotlib.pyplot as plt\n",
    "%matplotlib inline\n",
    "\n",
    "#read data into iterable\n",
    "xList = breast_cancer_dropped.values[:,0:(breast_cancer_dropped.values.shape[1]-1)].astype(int)\n",
    "\n",
    "\n",
    "yList = breast_cancer_dropped.values[:,-1].astype(int)\n",
    "\n",
    "\n",
    "#divide attributes and labels into training and test sets\n",
    "indices = range(len(xList))\n",
    "xListTest = [xList[i] for i in indices if i%3 == 0 ]\n",
    "xListTrain = [xList[i] for i in indices if i%3 != 0 ]\n",
    "yListTest = [yList[i] for i in indices if i%3 == 0]\n",
    "yListTrain = [yList[i] for i in indices if i%3 != 0]\n",
    "\n",
    "xTrain = np.array(xListTrain); yTrain = np.array(yListTrain); xTest = np.array(xListTest); yTest = np.array(yListTest)\n",
    "\n",
    "alphaList = [0.1**i for i in [0,1, 2, 3, 4, 5, 6, 7, 8]]\n",
    "\n",
    "rmsError = []\n",
    "for alph in alphaList:\n",
    "    breastModelRClassifier = RidgeClassifier(alpha=alph,normalize=True)\n",
    "    breastModelRClassifier.fit(xTrain, yTrain)\n",
    "    print(breastModelRClassifier.coef_,'Coefficients \\n')\n",
    "\n",
    "    print(features[np.argsort(breastModelRClassifier.coef_)],\"Features ranked for each alpha \\n\")\n",
    "    rmsError.append(np.linalg.norm((yTest-breastModelRClassifier.predict(xTest)), 2)/sqrt(len(yTest)))\n",
    "\n",
    "print(\"Error             alph\")\n",
    "for i in range(len(rmsError)):\n",
    "    print(rmsError[i], alphaList[i])\n",
    "\n",
    "#plot curve of out-of-sample error versus alpha\n",
    "x = range(len(rmsError))\n",
    "plt.plot(x, rmsError, 'k')\n",
    "plt.xlabel('-log(alph)')\n",
    "plt.ylabel('Error')\n",
    "plt.show()"
   ]
  },
  {
   "cell_type": "markdown",
   "metadata": {},
   "source": [
    "# Above, at an alpha at log(1), we have the lowest Error."
   ]
  },
  {
   "cell_type": "code",
   "execution_count": null,
   "metadata": {
    "collapsed": true
   },
   "outputs": [],
   "source": []
  }
 ],
 "metadata": {
  "kernelspec": {
   "display_name": "Python [Root]",
   "language": "python",
   "name": "Python [Root]"
  },
  "language_info": {
   "codemirror_mode": {
    "name": "ipython",
    "version": 3
   },
   "file_extension": ".py",
   "mimetype": "text/x-python",
   "name": "python",
   "nbconvert_exporter": "python",
   "pygments_lexer": "ipython3",
   "version": "3.5.2"
  }
 },
 "nbformat": 4,
 "nbformat_minor": 0
}
