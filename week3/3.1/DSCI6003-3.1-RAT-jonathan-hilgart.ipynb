{
 "cells": [
  {
   "cell_type": "markdown",
   "metadata": {},
   "source": [
    "# DSCI6003-3.1_RAT - Eigenvalues, Eigenvectors and Feature Reduction\n",
    "1.  Given a problem with an enormous number of features and not many rows of data, what might you do to reduce the number of features?\n",
    "2.  What is the main difference between using PCA and LDA for feature reduction?\n",
    "3.  Who invented LDA?  For what problem?\n",
    "4.  Would LDA work on a regression problem?"
   ]
  },
  {
   "cell_type": "markdown",
   "metadata": {
    "collapsed": true
   },
   "source": [
    "- 1\n",
    ">You can try using either PCA or LDA to determine the number of components to keep while maintaining a threshold percent variance of the data."
   ]
  },
  {
   "cell_type": "markdown",
   "metadata": {},
   "source": [
    "- 2\n",
    "> PCA attempts to find directions that maximize the variance within the data set. The is akin to a linear least squares regression where you are attempting to find a line that best describes the data. Each subsequent eigevector, is orthogonal to the previous one.\n",
    "\n",
    "> LDA combines the feature of maximizing the varaince within the data set, but it also attempts to maximize the degree of separation between different classes of data. This is done be finding the between class scatter matrix and the within class scatter matrix, and then solving the characteristic equation for the inverse of the within class matrix times the between class scatter matrix."
   ]
  },
  {
   "cell_type": "markdown",
   "metadata": {},
   "source": [
    "- 3\n",
    "> Fisher invented LDA to help classify the number of features for classifying different plants"
   ]
  },
  {
   "cell_type": "markdown",
   "metadata": {},
   "source": [
    "- 4\n",
    "> LDA would work as a multivariate regression problem in an attempt to predict the values (or labels) of a data set. It is typically used as logistic regression to classify between outcomes. LDA can be used for linear classification problems where you have a linear distinction between groups."
   ]
  },
  {
   "cell_type": "code",
   "execution_count": null,
   "metadata": {
    "collapsed": true
   },
   "outputs": [],
   "source": []
  }
 ],
 "metadata": {
  "kernelspec": {
   "display_name": "Python [Root]",
   "language": "python",
   "name": "Python [Root]"
  },
  "language_info": {
   "codemirror_mode": {
    "name": "ipython",
    "version": 3
   },
   "file_extension": ".py",
   "mimetype": "text/x-python",
   "name": "python",
   "nbconvert_exporter": "python",
   "pygments_lexer": "ipython3",
   "version": "3.5.2"
  }
 },
 "nbformat": 4,
 "nbformat_minor": 0
}
