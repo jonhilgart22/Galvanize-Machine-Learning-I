{
 "cells": [
  {
   "cell_type": "markdown",
   "metadata": {},
   "source": [
    "#  The importance of variable importance  \n",
    "Determining what variable are most important is a constant problem in data science.  It's part and parcel to feature engineering.  For structured algorithms feature engineering is where all the design time goes.  (Structured algorithms are algorithms that take data in a well-defined matrix shape - like an excel spreadsheet).  Some algorithms will yield variable (feature) importance information, some will not.  Later in this session you'll see ensemble methods.  One of their most useful features is that they will rank variables in terms of how important they are to the final predictions.  Regression methods can yield variable importance with a few easy changes.  \n",
    "\n",
    "The coefficient sizes cannot be used directly to indicate importance because the coefficients will change if features are rescaled.  That means that coefficient magnitude depends partially on the scale of the features.  It's a simple matter to fix that.  Just normalize your input data to zero mean and unit variance.  Then the coefficient magnitudes in any linear model will tell you how important the corresponding feature is to making the final predictions.  \n",
    "\n",
    "Notice that feature importance is different than coefficient significance in a statistical sense.  Coefficient significance is a measure of how large the coefficient is compared to it's predicted variance (predicted based on assumptions about the coefficient statistics).\n",
    "\n",
    "## Summary\n",
    "To rank variables (features) by importance using linear regression:  First, normalize the features to zero mean and unit variance, then rank by the absolute value of their coefficients.  "
   ]
  },
  {
   "cell_type": "code",
   "execution_count": null,
   "metadata": {
    "collapsed": true
   },
   "outputs": [],
   "source": []
  }
 ],
 "metadata": {
  "kernelspec": {
   "display_name": "Python [Root]",
   "language": "python",
   "name": "Python [Root]"
  },
  "language_info": {
   "codemirror_mode": {
    "name": "ipython",
    "version": 3
   },
   "file_extension": ".py",
   "mimetype": "text/x-python",
   "name": "python",
   "nbconvert_exporter": "python",
   "pygments_lexer": "ipython3",
   "version": "3.5.2"
  }
 },
 "nbformat": 4,
 "nbformat_minor": 0
}
