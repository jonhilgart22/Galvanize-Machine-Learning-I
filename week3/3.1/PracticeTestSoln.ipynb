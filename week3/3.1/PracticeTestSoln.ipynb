{
 "cells": [
  {
   "cell_type": "markdown",
   "metadata": {},
   "source": [
    "# Test 1 practice solutions\n"
   ]
  },
  {
   "cell_type": "code",
   "execution_count": 1,
   "metadata": {
    "collapsed": true
   },
   "outputs": [],
   "source": [
    "__author__ = 'mike-bowles'\n",
    "\n",
    "import urllib2  ##Uncomment for Python 2\n",
    "#from urllib.request import urlopen  ##Uncomment for Python 3\n",
    "import numpy as np\n",
    "target_url = \"https://archive.ics.uci.edu/ml/machine-learning-databases/breast-cancer-wisconsin/breast-cancer-wisconsin.data\"\n",
    "data = urllib2.urlopen(target_url)  ##Uncomment for Python 2\n",
    "#data = urlopen(target_url).read()  ##Uncomment for Python 3"
   ]
  },
  {
   "cell_type": "code",
   "execution_count": 45,
   "metadata": {
    "collapsed": false
   },
   "outputs": [
    {
     "name": "stdout",
     "output_type": "stream",
     "text": [
      "(683, 9)\n",
      "(683,)\n"
     ]
    }
   ],
   "source": [
    "x = []\n",
    "y=[]\n",
    "for row in data:   ##Uncomment for Python 2\n",
    "#for row in data.decode('ascii').split('\\n')[:-1]:    ##Uncomment for Python 3\n",
    "    #print(row)\n",
    "    #strip leading and trailing spaces and EOL and split on comma\n",
    "    rowSplit = row.strip().split(',')\n",
    "    #eliminate lines with missing data, convert to numeric, pull off id.  put data into x and labels into y.\n",
    "    if not any('?' in word for word in rowSplit):\n",
    "        numList = [float(w) for w in rowSplit]\n",
    "        numList.pop(0)\n",
    "        y.append(numList.pop(-1))\n",
    "        x.append(numList)\n",
    "\n",
    "#convert lists to numpy arrays\n",
    "x = np.array(x)\n",
    "print(x.shape)\n",
    "y = np.array(y)\n",
    "print(y.shape)\n"
   ]
  },
  {
   "cell_type": "code",
   "execution_count": 79,
   "metadata": {
    "collapsed": false
   },
   "outputs": [
    {
     "name": "stdout",
     "output_type": "stream",
     "text": [
      "((546, 9), (137, 9), (546,), (137,))\n"
     ]
    }
   ],
   "source": [
    "from sklearn.model_selection import train_test_split\n",
    "#pull out 20% test set\n",
    "xTrVa, xTe, yTrVa, yTe = train_test_split(x, y, test_size=0.2)\n",
    "print(xTrVa.shape, xTe.shape, yTrVa.shape, yTe.shape)"
   ]
  },
  {
   "cell_type": "code",
   "execution_count": 80,
   "metadata": {
    "collapsed": false
   },
   "outputs": [],
   "source": [
    "from sklearn.neighbors import KNeighborsRegressor\n",
    "#set up xvalidation loop and run on sklearn knn regression for several values of \"k\"\n",
    "\n",
    "#set values for some constants and initilize lists for holding answers\n",
    "nxVal = 10  #number of cross-validation folds\n",
    "ks = [200, 150, 100, 80, 60, 50, 40, 30, 20, 15, 10, 8, 6, 5, 3, 1]  #list of k-values to generate error vs complexity curves\n",
    "\n",
    "trPerf = np.zeros([nxVal, len(ks)])  #matrix to hold fold-by-fold training error\n",
    "vaPerf = np.zeros([nxVal, len(ks)])  #matrix to hold fold-by-fold validation error\n",
    "\n",
    "#for ixVal in range(1):  #cross-validation loop for testing\n",
    "for ixVal in range(nxVal):  #cross-validation loop\n",
    "    #compute validation and training indices\n",
    "    vaIdx = [i for i in range(len(yTrVa)) if i%nxVal == ixVal]\n",
    "    trIdx = [i for i in range(len(yTrVa)) if i%nxVal != ixVal]\n",
    "    #form training and validation sets (features and labels)\n",
    "    xTr = xTrVa[trIdx,:]\n",
    "    xVa = xTrVa[vaIdx,:]\n",
    "    yTr = yTrVa[trIdx]\n",
    "    yVa = yTrVa[vaIdx]\n",
    "    #print(xTr.shape, xVa.shape, yTr.shape, yVa.shape)  #print out shapes to check code to this point\n",
    "    #for ik in range(1):  #for testing\n",
    "    for ik in range(len(ks)):\n",
    "        knn = KNeighborsRegressor(n_neighbors=ks[ik])\n",
    "        knn.fit(xTr, yTr)\n",
    "        #performance on training set\n",
    "        trErr = knn.predict(xTr) - yTr\n",
    "        #print(trErr.shape)\n",
    "        #print(np.mean(trErr*trErr))\n",
    "        trPerf[ixVal, ik] = np.mean(trErr*trErr)\n",
    "        #performance on val set\n",
    "        vaErr = knn.predict(xVa) - yVa\n",
    "        #print(vaErr.shape)\n",
    "        #print(np.mean(vaErr*vaErr))\n",
    "        vaPerf[ixVal, ik] = np.mean(vaErr*vaErr)\n"
   ]
  },
  {
   "cell_type": "code",
   "execution_count": 90,
   "metadata": {
    "collapsed": false
   },
   "outputs": [
    {
     "name": "stdout",
     "output_type": "stream",
     "text": [
      "validation rmse\n",
      "[ 0.4684675   0.39682856  0.36581177  0.35665236  0.34595163  0.34250234\n",
      "  0.33708869  0.32986183  0.31544688  0.30823102  0.30915111  0.29943479\n",
      "  0.29566009  0.29490853  0.31245501  0.40117672]\n",
      "training rmse\n",
      "[ 0.46554381  0.39425873  0.36316112  0.35342133  0.34217784  0.33747595\n",
      "  0.33054269  0.32064247  0.3028599   0.29208794  0.27935096  0.26858936\n",
      "  0.25287349  0.24542967  0.23295309  0.        ]\n"
     ]
    }
   ],
   "source": [
    "#form outputs\n",
    "vaMse = np.sqrt(np.mean(vaPerf, axis=0))\n",
    "print('validation rmse')\n",
    "print(vaMse)\n",
    "\n",
    "trMse = np.sqrt(np.mean(trPerf, axis=0))\n",
    "print('training rmse')\n",
    "print(trMse)"
   ]
  },
  {
   "cell_type": "code",
   "execution_count": 91,
   "metadata": {
    "collapsed": false
   },
   "outputs": [
    {
     "data": {
      "image/png": "[encoded data removed]",
      "text/plain": [
       "<matplotlib.figure.Figure at 0x7f137407b450>"
      ]
     },
     "metadata": {},
     "output_type": "display_data"
    },
    {
     "name": "stdout",
     "output_type": "stream",
     "text": [
      "('best k = ', 5, 'min value of MSE = ', 0.29490853458495192)\n"
     ]
    }
   ],
   "source": [
    "import matplotlib.pyplot as plt\n",
    "%matplotlib inline\n",
    "plt.plot(vaMse) #plot validation rmse\n",
    "plt.plot(trMse)\n",
    "plt.show()\n",
    "kStar = ks[np.argmin(vaMse)]\n",
    "print('best k = ', kStar, 'min value of MSE = ', np.min(vaMse))  #print best value of k and corresponding mse"
   ]
  },
  {
   "cell_type": "code",
   "execution_count": 92,
   "metadata": {
    "collapsed": false
   },
   "outputs": [
    {
     "name": "stdout",
     "output_type": "stream",
     "text": [
      "0.32734276328\n"
     ]
    }
   ],
   "source": [
    "#use test data to confirm results\n",
    "knnTe = KNeighborsRegressor(n_neighbors=10)\n",
    "knnTe.fit(xTrVa, yTrVa)\n",
    "teErr = knnTe.predict(xTe) - yTe\n",
    "teMse = np.sqrt(np.mean(teErr*teErr))\n",
    "print(teMse)"
   ]
  },
  {
   "cell_type": "markdown",
   "metadata": {},
   "source": [
    "## Discussion:\n",
    "When I run this several times (starting from train/test split), I get optimum k values that bounce around between 5 and 15.  The corresponding mean square errors (MSE) range from 0.29 to 0.38.  Generally the test errors are slightly smaller than the best MSE from cross validation.  Occasionally, the test error will be 30% or so higher than MSE from cross validation.  I'd probably deploy with k=10 or so to be a little conservative.  \n",
    "\n",
    "Try scaling the data to zero mean and unit variance at the very beginning.  See if that improves performance.  \n",
    "\n",
    "\n",
    "\n",
    "## ElasticNet CV on the same data set\n",
    "For this problem we can start with the same xTrVa, xTe, yTrVa, yTe that were developed in the code above.  That's where this sample code below picks up the story. "
   ]
  },
  {
   "cell_type": "code",
   "execution_count": 103,
   "metadata": {
    "collapsed": false
   },
   "outputs": [
    {
     "data": {
      "text/plain": [
       "ElasticNetCV(alphas=None, copy_X=True, cv=10, eps=0.001, fit_intercept=True,\n",
       "       l1_ratio=0.5, max_iter=1000, n_alphas=100, n_jobs=-1,\n",
       "       normalize=True, positive=False, precompute='auto',\n",
       "       random_state=None, selection='cyclic', tol=0.0001, verbose=0)"
      ]
     },
     "execution_count": 103,
     "metadata": {},
     "output_type": "execute_result"
    }
   ],
   "source": [
    "from sklearn.linear_model import ElasticNetCV\n",
    "from math import sqrt\n",
    "#xTrVa, xTe, yTrVa, yTe\n",
    "\n",
    "enet = ElasticNetCV(l1_ratio=0.5, normalize=True, cv=10, n_jobs=-1)\n",
    "enet.fit(xTrVa, yTrVa)"
   ]
  },
  {
   "cell_type": "code",
   "execution_count": 105,
   "metadata": {
    "collapsed": false
   },
   "outputs": [
    {
     "data": {
      "text/plain": [
       "(100, 10)"
      ]
     },
     "execution_count": 105,
     "metadata": {},
     "output_type": "execute_result"
    }
   ],
   "source": [
    "enet.mse_path_.shape"
   ]
  },
  {
   "cell_type": "code",
   "execution_count": 106,
   "metadata": {
    "collapsed": false
   },
   "outputs": [
    {
     "data": {
      "image/png": "[encoded data removed]",
      "text/plain": [
       "<matplotlib.figure.Figure at 0x7f134b70b290>"
      ]
     },
     "metadata": {},
     "output_type": "display_data"
    }
   ],
   "source": [
    "for i in range(10):\n",
    "    plt.plot(enet.mse_path_[:,i])\n",
    "plt.show()"
   ]
  },
  {
   "cell_type": "code",
   "execution_count": 107,
   "metadata": {
    "collapsed": false
   },
   "outputs": [
    {
     "name": "stdout",
     "output_type": "stream",
     "text": [
      "('index of mse min', 83, 'Min value of rmse', 0.36999398926154475)\n"
     ]
    }
   ],
   "source": [
    "meanErr = np.mean(enet.mse_path_, axis=1)\n",
    "minIdx = np.argmin(meanErr)\n",
    "print('index of mse min', minIdx, 'Min value of rmse', sqrt(meanErr[minIdx]))"
   ]
  },
  {
   "cell_type": "code",
   "execution_count": 108,
   "metadata": {
    "collapsed": false
   },
   "outputs": [
    {
     "name": "stdout",
     "output_type": "stream",
     "text": [
      "('RMSE on Test data', 0.43985946493371247)\n"
     ]
    }
   ],
   "source": [
    "#check on test data to make sure it's in line with min from xvalidation\n",
    "teErr = enet.predict(xTe) - yTe\n",
    "teRmse = np.sqrt(np.mean(teErr*teErr))\n",
    "print('RMSE on Test data', teRmse)"
   ]
  },
  {
   "cell_type": "code",
   "execution_count": 111,
   "metadata": {
    "collapsed": false
   },
   "outputs": [
    {
     "data": {
      "text/plain": [
       "(array([83]),)"
      ]
     },
     "execution_count": 111,
     "metadata": {},
     "output_type": "execute_result"
    }
   ],
   "source": [
    "np.where(enet.alphas_ == enet.alpha_)  #find index of alpha used in ElasticNetCV predict method - same as minimum mse index"
   ]
  },
  {
   "cell_type": "code",
   "execution_count": 113,
   "metadata": {
    "collapsed": false
   },
   "outputs": [
    {
     "name": "stdout",
     "output_type": "stream",
     "text": [
      "[ 0.34972993  0.4292296   0.28452066  0.3659129   0.30910295  0.34252707\n",
      "  0.39433946  0.46571946  0.37980514  0.34357328]\n"
     ]
    }
   ],
   "source": [
    "print(np.sqrt(enet.mse_path_[83,:]))  #print rmse for each of the xval sets to see if this fits within their spread"
   ]
  },
  {
   "cell_type": "markdown",
   "metadata": {},
   "source": [
    "## Discussion\n",
    "This model is generating reasonable answers.  Might get better results by fooling around with the l1 ratio parameter some.  The rmse on the test data is within the spread of the xval folds, so it's congruent with the values out of xvalidation. "
   ]
  },
  {
   "cell_type": "code",
   "execution_count": null,
   "metadata": {
    "collapsed": true
   },
   "outputs": [],
   "source": []
  }
 ],
 "metadata": {
  "kernelspec": {
   "display_name": "Python [Root]",
   "language": "python",
   "name": "Python [Root]"
  },
  "language_info": {
   "codemirror_mode": {
    "name": "ipython",
    "version": 3
   },
   "file_extension": ".py",
   "mimetype": "text/x-python",
   "name": "python",
   "nbconvert_exporter": "python",
   "pygments_lexer": "ipython3",
   "version": "3.5.2"
  }
 },
 "nbformat": 4,
 "nbformat_minor": 0
}
