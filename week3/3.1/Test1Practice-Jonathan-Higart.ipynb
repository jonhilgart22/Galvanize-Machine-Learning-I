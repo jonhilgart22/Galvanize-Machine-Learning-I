{
 "cells": [
  {
   "cell_type": "markdown",
   "metadata": {},
   "source": [
    "# Practice Test\n",
    "\n",
    "## 1.  Train KNN on breast cancer data set\n",
    "1.  Here's a link to the breast cancer data set on UCI data repository.  [breast cancer data](https://archive.ics.uci.edu/ml/datasets/Breast+Cancer+Wisconsin+%28Prognostic%29)\n",
    "1.  Data inspection check data for missing values.  \n",
    "-Make a decision about whether to discard rows with missing data or to try and fill in the missing values.  \n",
    "Hint:  If you decide to fill in the missing values, the easiest method is to replace missing values is to substitute the average of the non-missing values\n",
    "2.  Set up data for training, validation and testing.  \n",
    "-You'll use n-fold cross validation to determine k in k nearest neighbors.  Hold out 20% of the data for final testing.  \n",
    "Pseudo code looks something like:\n",
    "3.  Produce plots of absolute value of error for each of the n validation folds as a function of complexity (number of training examples minus k).  Also plot the root mean squared error.  Put all of these plots on the same graph.  \n",
    "4.  Choose the best value of k for KNN and generate error on the test set to confirm your validation results. \n",
    "\n",
    "Here are some examples of what a training and validation error curves look like: [some train/validation plot examples](https://www.google.com/search?q=train+and+test+error+plot+images&biw=1580&bih=864&tbm=isch&imgil=Y7yivsIwgm2AXM%253A%253B8QRxV4RA1cfQ1M%253Bhttp%25253A%25252F%25252Fgenomicsclass.github.io%25252Fbook%25252Fpages%25252Fmachine_learning.html&source=iu&pf=m&fir=Y7yivsIwgm2AXM%253A%252C8QRxV4RA1cfQ1M%252C_&usg=__IkOEpQtI4rjyBaGTQqOOhAKvA4E%3D&ved=0ahUKEwiI9cS4o5fQAhWo0FQKHcT1DxgQyjcINA&ei=N8ggWMj9H6ih0wLE67_AAQ#imgrc=Pz8e50_l-ZGWrM%3A)\n",
    "\n",
    "Note:  With KNN and with elastic net (described below), you'll treat the breast cancer problem as a regression problem.  That is train your model to predict the real number labels (2 and 4).  Measure and report performance in real number terms (sample standard deviation of error, for example).  We'll talk about approaches to dealing with classification error in the next lecture. "
   ]
  },
  {
   "cell_type": "code",
   "execution_count": 135,
   "metadata": {
    "collapsed": false
   },
   "outputs": [
    {
     "name": "stdout",
     "output_type": "stream",
     "text": [
      "Populating the interactive namespace from numpy and matplotlib\n"
     ]
    },
    {
     "name": "stderr",
     "output_type": "stream",
     "text": [
      "WARNING: pylab import has clobbered these variables: ['sqrt']\n",
      "`%matplotlib` prevents importing * from pylab and numpy\n",
      "/Users/jonathanhilgart/anaconda/lib/python3.5/site-packages/sklearn/utils/validation.py:429: DataConversionWarning: Data with input dtype int64 was converted to float64 by StandardScaler.\n",
      "  warnings.warn(msg, _DataConversionWarning)\n",
      "/Users/jonathanhilgart/anaconda/lib/python3.5/site-packages/sklearn/preprocessing/data.py:586: DeprecationWarning: Passing 1d arrays as data is deprecated in 0.17 and will raise ValueError in 0.19. Reshape your data either using X.reshape(-1, 1) if your data has a single feature or X.reshape(1, -1) if it contains a single sample.\n",
      "  warnings.warn(DEPRECATION_MSG_1D, DeprecationWarning)\n",
      "/Users/jonathanhilgart/anaconda/lib/python3.5/site-packages/sklearn/preprocessing/data.py:649: DeprecationWarning: Passing 1d arrays as data is deprecated in 0.17 and will raise ValueError in 0.19. Reshape your data either using X.reshape(-1, 1) if your data has a single feature or X.reshape(1, -1) if it contains a single sample.\n",
      "  warnings.warn(DEPRECATION_MSG_1D, DeprecationWarning)\n"
     ]
    },
    {
     "name": "stdout",
     "output_type": "stream",
     "text": [
      "0.239171300077 min RMSE for validation\n",
      "[12] Best k value\n",
      "\n",
      "0.0253958529584 RMSE for test data with k = 12\n"
     ]
    },
    {
     "data": {
      "image/png": "[encoded data removed]",
      "text/plain": [
       "<matplotlib.figure.Figure at 0x120ecc630>"
      ]
     },
     "metadata": {},
     "output_type": "display_data"
    }
   ],
   "source": [
    "import numpy as np\n",
    "from sklearn.model_selection import train_test_split\n",
    "import pandas as pd\n",
    "from sklearn.neighbors import KNeighborsRegressor\n",
    "from sklearn.preprocessing import StandardScaler\n",
    "from math import sqrt\n",
    "import matplotlib.pyplot as plt\n",
    "%pylab inline\n",
    "\n",
    "h = ['sample_code_number','clump_thickness','uniformity_of_cell_size','uniformity_of_cell_shape',\\\n",
    "          'marginal_adhesion','single_epithelial_cell_use','bare_nuclei','bland_chromatin','normal_nuceoli','mitosis',\\\n",
    "         'class']\n",
    "breast_cancer = pd.read_csv('https://archive.ics.uci.edu/ml/machine-learning-databases/breast-cancer-wisconsin/breast-cancer-wisconsin.data',\\\n",
    "                           names=h)\n",
    "breast_cancer_dropped = breast_cancer[breast_cancer.bare_nuclei.str.contains('\\?')==False]\n",
    "\n",
    "\n",
    "x = breast_cancer_dropped.values[:,0:(breast_cancer_dropped.values.shape[1]-1)].astype(int)\n",
    "\n",
    "\n",
    "y = breast_cancer_dropped.values[:,-1].astype(int)\n",
    "\n",
    "#scale the data here\n",
    "\n",
    "scale = StandardScaler()\n",
    "\n",
    "x = scale.fit_transform(x)\n",
    "y = scale.fit_transform(y)\n",
    "\n",
    "xTrVal, xTe, yTrVal, yTe = train_test_split(x, y)  #Function for splitting off data for final test\n",
    "nFolds = 5  #number of cross validation folds\n",
    "\n",
    "rmse_train = {}\n",
    "rmse_val = {}\n",
    "rmse_test = {}\n",
    "\n",
    "#cross validation loop  \n",
    "\n",
    "\n",
    "    \n",
    "    \n",
    "for k in range(1,50):\n",
    "    #create the model\n",
    "    KNNmodel = KNeighborsRegressor(k)\n",
    "    \n",
    "    for ixVal in range(nFolds):\n",
    "        valIdx = np.array([i for i in range(len(xTrVal)) if i%nFolds==ixVal])  #or use sklearn k-fold package\n",
    "        trainIdx = np.array([i for i in range(len(xTrVal)) if i%nFolds!=ixVal])\n",
    "        xTrain = xTrVal[trainIdx]  #this will work if xTrVal is a numpy array.. if xTrVal is a list, use list comprehension\n",
    "        xVal = xTrVal[valIdx]\n",
    "        yTrain = yTrVal[trainIdx]\n",
    "        yVal = yTrVal[valIdx]\n",
    "\n",
    "        #fit to our data\n",
    "        KNNmodel.fit(xTrain,yTrain) #train\n",
    "        #calculate RMSE\n",
    "        rmse_t = np.linalg.norm((yTrain-KNNmodel.predict(xTrain)), 2)/sqrt(len(yTrain)) #train\n",
    "        rmse_v = np.linalg.norm((yVal-KNNmodel.predict(xVal)), 2)/sqrt(len(yVal)) #validation\n",
    "        \n",
    "        rmse_te = np.linalg.norm((yTe-KNNmodel.predict(xTe)), 2)/sqrt(len(yTe)) #test\n",
    "        \n",
    "    #append RMSE to keep track of it per k\n",
    "        if k not in rmse_train:\n",
    "\n",
    "            rmse_train[k]=[rmse_t]\n",
    "            rmse_val[k]=[rmse_v]\n",
    "            rmse_test[k]=[rmse_te]\n",
    "        else:\n",
    "\n",
    "            rmse_train[k].append(rmse_t)\n",
    "            rmse_val[k].append(rmse_v)\n",
    "            rmse_test[k].append(rmse_te)\n",
    "\n",
    "\n",
    "    #Use sklearn KNN package to provide training and validation results for range of reasonable k-values\n",
    "    #save training and testing results for each of the nFolds runs\n",
    "\n",
    "#Plot all nFolds RMSE (root mean squared error) plots as function of k\n",
    "#pick k for minimum validation error \n",
    "min_rmse_validation = min([min(i) for i in rmse_val.values()])\n",
    "print(min_rmse_validation,'min RMSE for validation')\n",
    "\n",
    "\n",
    "print([k for k,v in rmse_val.items() if min_rmse_validation in v], \"Best k value\")\n",
    "best_k = [k for k,v in rmse_val.items() if min_rmse_validation in v][0]\n",
    "#run xTe, yTe with best k value to confirm error estimate.\n",
    "\n",
    "final_KNNmodel = KNeighborsRegressor(best_k)\n",
    "final_KNNmodel.fit(xTrVal,yTrVal)\n",
    "print()\n",
    "print(np.linalg.norm(yTe -final_KNNModel.predict(xTe))/len(sqrt(yTe)),'RMSE for test data with k = {}'.format(best_k))\n",
    "plt.figure(figsize=(7,7))\n",
    "plt.plot([-k for k in rmse_val.keys()],[mean(k) for k in rmse_val.values()],color='b') #reverse k for complexity\n",
    "plt.plot([-k for k in rmse_train.keys()],[mean(k) for k in rmse_train.values()],color='r') #reverse k for complexity\n",
    "plt.plot([-k for k in rmse_test.keys()],[mean(k) for k in rmse_test.values()],color='orange')\n",
    "plt.title('Blue is Validation - Red is Training - Orange is Test')\n",
    "plt.xlabel('Model Complexity (-k)')\n",
    "plt.ylabel(\"RMSE\");\n",
    "\n",
    "\n",
    "    "
   ]
  },
  {
   "cell_type": "code",
   "execution_count": 129,
   "metadata": {
    "collapsed": false
   },
   "outputs": [
    {
     "data": {
      "text/plain": [
       "0.25059647028163695"
      ]
     },
     "execution_count": 129,
     "metadata": {},
     "output_type": "execute_result"
    }
   ],
   "source": []
  },
  {
   "cell_type": "markdown",
   "metadata": {},
   "source": [
    "# From the data above,  the the optimal k for the validation set is k=2,3,4 depending on the split."
   ]
  },
  {
   "cell_type": "markdown",
   "metadata": {},
   "source": [
    "##  2.  Train ElasticNet on breast cancer data set\n",
    "\n",
    "1.  Use same train test split as above\n",
    "2.  Use ElasticNetCV to perform cross-validation on xTrVal, yTrVal\n",
    "3.  Plot the RMS error that ElasticNetCV produces\n",
    "4.  Extract optimum coefficients and run on test data to confirm performance numbers.  "
   ]
  },
  {
   "cell_type": "code",
   "execution_count": 144,
   "metadata": {
    "collapsed": false
   },
   "outputs": [
    {
     "name": "stderr",
     "output_type": "stream",
     "text": [
      "/Users/jonathanhilgart/anaconda/lib/python3.5/site-packages/sklearn/utils/validation.py:429: DataConversionWarning: Data with input dtype int64 was converted to float64 by StandardScaler.\n",
      "  warnings.warn(msg, _DataConversionWarning)\n",
      "/Users/jonathanhilgart/anaconda/lib/python3.5/site-packages/sklearn/preprocessing/data.py:586: DeprecationWarning: Passing 1d arrays as data is deprecated in 0.17 and will raise ValueError in 0.19. Reshape your data either using X.reshape(-1, 1) if your data has a single feature or X.reshape(1, -1) if it contains a single sample.\n",
      "  warnings.warn(DEPRECATION_MSG_1D, DeprecationWarning)\n",
      "/Users/jonathanhilgart/anaconda/lib/python3.5/site-packages/sklearn/preprocessing/data.py:649: DeprecationWarning: Passing 1d arrays as data is deprecated in 0.17 and will raise ValueError in 0.19. Reshape your data either using X.reshape(-1, 1) if your data has a single feature or X.reshape(1, -1) if it contains a single sample.\n",
      "  warnings.warn(DEPRECATION_MSG_1D, DeprecationWarning)\n"
     ]
    },
    {
     "name": "stdout",
     "output_type": "stream",
     "text": [
      "0.080232251237  Best alpha\n",
      "0.12 Best Lambda\n",
      "0.422551115494 Lowest RMSE\n",
      "0.369731957175 RMSE of the final model with parameters above\n"
     ]
    },
    {
     "data": {
      "image/png": "[encoded data removed]",
      "text/plain": [
       "<matplotlib.figure.Figure at 0x1210b5470>"
      ]
     },
     "metadata": {},
     "output_type": "display_data"
    },
    {
     "data": {
      "image/png": "[encoded data removed]",
      "text/plain": [
       "<matplotlib.figure.Figure at 0x12026b240>"
      ]
     },
     "metadata": {},
     "output_type": "display_data"
    }
   ],
   "source": [
    "from sklearn.linear_model import ElasticNetCV\n",
    "from sklearn.linear_model import ElasticNet\n",
    "\n",
    "h = ['sample_code_number','clump_thickness','uniformity_of_cell_size','uniformity_of_cell_shape',\\\n",
    "          'marginal_adhesion','single_epithelial_cell_use','bare_nuclei','bland_chromatin','normal_nuceoli','mitosis',\\\n",
    "         'class']\n",
    "breast_cancer = pd.read_csv('https://archive.ics.uci.edu/ml/machine-learning-databases/breast-cancer-wisconsin/breast-cancer-wisconsin.data',\\\n",
    "                           names=h)\n",
    "breast_cancer_dropped = breast_cancer[breast_cancer.bare_nuclei.str.contains('\\?')==False]\n",
    "\n",
    "\n",
    "x = breast_cancer_dropped.values[:,0:(breast_cancer_dropped.values.shape[1]-1)].astype(int)\n",
    "\n",
    "\n",
    "y = breast_cancer_dropped.values[:,-1].astype(int)\n",
    "\n",
    "#scale the data here\n",
    "\n",
    "scale = StandardScaler()\n",
    "\n",
    "x = scale.fit_transform(x)\n",
    "y = scale.fit_transform(y)\n",
    "\n",
    "#train test split\n",
    "\n",
    "xTrVal, xTe, yTrVal, yTe = train_test_split(x, y)  #Function for splitting off data for final test\n",
    "\n",
    "#RMSE\n",
    "alphas = []\n",
    "RMSEs = []\n",
    "lambdas = []\n",
    "\n",
    "for i in linspace(.01,1,10):\n",
    "    eNetModel = ElasticNetCV(l1_ratio=i, normalize=False, cv=5, verbose=0, random_state=None, selection='cyclic')\n",
    "\n",
    "    eNetModel.fit(xTrVal,yTrVal)  # fit on training data\n",
    "   \n",
    "    alphas.append(eNetModel.alpha_)\n",
    "\n",
    "    xvalError = np.sqrt(np.mean(eNetModel.mse_path_, axis=1))\n",
    "    RMSEs.append(min(xvalError)) #\n",
    "    \n",
    "    \n",
    "    #Different lambda values (between ridge and lasso)\n",
    "    lambdas.append(i)\n",
    "    \n",
    "\n",
    "    plt.plot(eNetModel.alphas_,xvalError)\n",
    "    plt.title('Elastic Net CV=5')\n",
    "    plt.ylabel('RMSE from the CV folds')\n",
    "    plt.xlabel('Alphas')\n",
    " \n",
    "\n",
    "    \n",
    "\n",
    "\n",
    "\n",
    "print(alphas[np.argmin(RMSEs)],' Best alpha')\n",
    "print(lambdas[np.argmin(RMSEs)],'Best Lambda')\n",
    "print(min(RMSEs),'Lowest RMSE')\n",
    "plt.figure()\n",
    "plt.plot(lambdas,RMSEs)\n",
    "plt.title('Elastic Net CV=5')\n",
    "plt.xlabel('Lambda values')\n",
    "plt.ylabel('RMSE from the CV folds')\n",
    "\n",
    "#Build the final model on the holdout data\n",
    "best_alpha = alphas[np.argmin(RMSEs)]\n",
    "best_lambda = lambdas[np.argmin(RMSEs)]\n",
    "\n",
    "final_eNet = ElasticNet(l1_ratio=best_lambda, alpha=best_alpha, normalize=False, random_state=None, selection='cyclic')\n",
    "final_eNet.fit(xTrVal,yTrVal)\n",
    "print(np.linalg.norm(yTe-final_eNet.predict(xTe))/sqrt(len(yTe)), 'RMSE of the final model with parameters above')"
   ]
  },
  {
   "cell_type": "markdown",
   "metadata": {},
   "source": [
    "# The best lambda and alpha, which might change if you re-run the cells above, are ~.008 for alpha and .12 for lambda which produces a RMSE of .417."
   ]
  },
  {
   "cell_type": "code",
   "execution_count": null,
   "metadata": {
    "collapsed": true
   },
   "outputs": [],
   "source": []
  },
  {
   "cell_type": "code",
   "execution_count": null,
   "metadata": {
    "collapsed": true
   },
   "outputs": [],
   "source": []
  },
  {
   "cell_type": "code",
   "execution_count": null,
   "metadata": {
    "collapsed": true
   },
   "outputs": [],
   "source": []
  },
  {
   "cell_type": "code",
   "execution_count": null,
   "metadata": {
    "collapsed": true
   },
   "outputs": [],
   "source": []
  }
 ],
 "metadata": {
  "anaconda-cloud": {},
  "kernelspec": {
   "display_name": "Python [Root]",
   "language": "python",
   "name": "Python [Root]"
  },
  "language_info": {
   "codemirror_mode": {
    "name": "ipython",
    "version": 3
   },
   "file_extension": ".py",
   "mimetype": "text/x-python",
   "name": "python",
   "nbconvert_exporter": "python",
   "pygments_lexer": "ipython3",
   "version": "3.5.2"
  }
 },
 "nbformat": 4,
 "nbformat_minor": 0
}
