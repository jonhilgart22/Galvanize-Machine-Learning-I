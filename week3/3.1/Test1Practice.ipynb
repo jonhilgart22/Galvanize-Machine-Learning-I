{
 "cells": [
  {
   "cell_type": "markdown",
   "metadata": {},
   "source": [
    "# Practice Test\n",
    "\n",
    "## 1.  Train KNN on breast cancer data set\n",
    "1.  Here's a link to the breast cancer data set on UCI data repository.  [breast cancer data](https://archive.ics.uci.edu/ml/datasets/Breast+Cancer+Wisconsin+%28Prognostic%29)\n",
    "1.  Data inspection check data for missing values.  \n",
    "-Make a decision about whether to discard rows with missing data or to try and fill in the missing values.  \n",
    "Hint:  If you decide to fill in the missing values, the easiest method is to replace missing values is to substitute the average of the non-missing values\n",
    "2.  Set up data for training, validation and testing.  \n",
    "-You'll use n-fold cross validation to determine k in k nearest neighbors.  Hold out 20% of the data for final testing.  \n",
    "\n",
    "3.  Scale data\n",
    "4.  Produce plots of absolute value of error for each of the n validation folds as a function of complexity (number of training examples minus k).  Also plot the root mean squared error.  Put all of these plots on the same graph.  \n",
    "5.  Choose the best value of k for KNN and generate error on the test set to confirm your validation results. \n",
    "\n",
    "Here are some examples of what a training and validation error curves look like: [some train/validation plot examples](https://www.google.com/search?q=train+and+test+error+plot+images&biw=1580&bih=864&tbm=isch&imgil=Y7yivsIwgm2AXM%253A%253B8QRxV4RA1cfQ1M%253Bhttp%25253A%25252F%25252Fgenomicsclass.github.io%25252Fbook%25252Fpages%25252Fmachine_learning.html&source=iu&pf=m&fir=Y7yivsIwgm2AXM%253A%252C8QRxV4RA1cfQ1M%252C_&usg=__IkOEpQtI4rjyBaGTQqOOhAKvA4E%3D&ved=0ahUKEwiI9cS4o5fQAhWo0FQKHcT1DxgQyjcINA&ei=N8ggWMj9H6ih0wLE67_AAQ#imgrc=Pz8e50_l-ZGWrM%3A)\n",
    "\n",
    "Note:  With KNN and with elastic net (described below), you'll treat the breast cancer problem as a regression problem.  That is train your model to predict the real number labels (2 and 4).  Measure and report performance in real number terms (sample standard deviation of error, for example).  We'll talk about approaches to dealing with classification error in the next lecture. \n",
    "\n",
    "Pseudo code looks something like:"
   ]
  },
  {
   "cell_type": "code",
   "execution_count": 2,
   "metadata": {
    "collapsed": false
   },
   "outputs": [
    {
     "ename": "NameError",
     "evalue": "name 'x' is not defined",
     "output_type": "error",
     "traceback": [
      "\u001b[1;31m---------------------------------------------------------------------------\u001b[0m",
      "\u001b[1;31mNameError\u001b[0m                                 Traceback (most recent call last)",
      "\u001b[1;32m<ipython-input-2-5cc20f71c1e7>\u001b[0m in \u001b[0;36m<module>\u001b[1;34m()\u001b[0m\n\u001b[0;32m      1\u001b[0m \u001b[1;32mimport\u001b[0m \u001b[0mnumpy\u001b[0m \u001b[1;32mas\u001b[0m \u001b[0mnp\u001b[0m\u001b[1;33m\u001b[0m\u001b[0m\n\u001b[0;32m      2\u001b[0m \u001b[1;32mfrom\u001b[0m \u001b[0msklearn\u001b[0m\u001b[1;33m.\u001b[0m\u001b[0mmodel_selection\u001b[0m \u001b[1;32mimport\u001b[0m \u001b[0mtrain_test_split\u001b[0m\u001b[1;33m\u001b[0m\u001b[0m\n\u001b[1;32m----> 3\u001b[1;33m \u001b[0mxTrVal\u001b[0m\u001b[1;33m,\u001b[0m \u001b[0mxTe\u001b[0m\u001b[1;33m,\u001b[0m \u001b[0myTrVal\u001b[0m\u001b[1;33m,\u001b[0m \u001b[0myTe\u001b[0m \u001b[1;33m=\u001b[0m \u001b[0mtrain_test_split\u001b[0m\u001b[1;33m(\u001b[0m\u001b[0mx\u001b[0m\u001b[1;33m,\u001b[0m \u001b[0my\u001b[0m\u001b[1;33m)\u001b[0m  \u001b[1;31m#Function for splitting off data for final test\u001b[0m\u001b[1;33m\u001b[0m\u001b[0m\n\u001b[0m\u001b[0;32m      4\u001b[0m \u001b[0mnFolds\u001b[0m \u001b[1;33m=\u001b[0m \u001b[1;36m5\u001b[0m  \u001b[1;31m#number of cross validation folds\u001b[0m\u001b[1;33m\u001b[0m\u001b[0m\n\u001b[0;32m      5\u001b[0m \u001b[1;33m\u001b[0m\u001b[0m\n",
      "\u001b[1;31mNameError\u001b[0m: name 'x' is not defined"
     ]
    }
   ],
   "source": [
    "import numpy as np\n",
    "from sklearn.model_selection import train_test_split\n",
    "xTrVal, xTe, yTrVal, yTe = train_test_split(x, y)  #Function for splitting off data for final test\n",
    "nFolds = 5  #number of cross validation folds\n",
    "\n",
    "#cross validation loop  \n",
    "for ixVal in range(nFolds):\n",
    "    valIdx = [i for i in range(len(xTrVal)) if i%nFolds==ixVal]  #or use sklearn k-fold package\n",
    "    trainIdx = [i for i in range(len(xTrVal)) if i%nFolds!=ixVal]\n",
    "    xTrain = xTrVal[trainIdx]  #this will work if xTrVal is a numpy array.. if xTrVal is a list, use list comprehension\n",
    "    xVal = xTrVal[valIdx]\n",
    "    \n",
    "    #Use sklearn KNN package to provide training and validation results for range of reasonable k-values\n",
    "    #save training and testing results for each of the nFolds runs\n",
    "\n",
    "#Plot all nFolds RMSE (root mean squared error) plots as function of k\n",
    "#pick k for minimum validation error \n",
    "#run xTe, yTe with best k value to confirm error estimate.  \n",
    "\n",
    "\n",
    "    "
   ]
  },
  {
   "cell_type": "markdown",
   "metadata": {},
   "source": [
    "##  2.  Train ElasticNet on breast cancer data set\n",
    "\n",
    "1.  Use same train test split as above\n",
    "2.  Use ElasticNetCV to perform cross-validation on xTrVal, yTrVal\n",
    "3.  Plot the RMS error that ElasticNetCV produces\n",
    "4.  Extract optimum coefficients and run on test data to confirm performance numbers.  "
   ]
  },
  {
   "cell_type": "code",
   "execution_count": null,
   "metadata": {
    "collapsed": true
   },
   "outputs": [],
   "source": []
  }
 ],
 "metadata": {
  "kernelspec": {
   "display_name": "Python 2",
   "language": "python",
   "name": "python2"
  },
  "language_info": {
   "codemirror_mode": {
    "name": "ipython",
    "version": 2
   },
   "file_extension": ".py",
   "mimetype": "text/x-python",
   "name": "python",
   "nbconvert_exporter": "python",
   "pygments_lexer": "ipython2",
   "version": "2.7.12"
  }
 },
 "nbformat": 4,
 "nbformat_minor": 0
}
