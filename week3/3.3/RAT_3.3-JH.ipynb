{
 "cells": [
  {
   "cell_type": "markdown",
   "metadata": {},
   "source": [
    "# RAT 3.3\n",
    "\n",
    "Suppose that your loss function is $L(w)$ where $w$ is a vector of parameters that you can adjust to minimize L (loss).  Given a starting value for $w$ (say $w_0$) give the gradient descent update equation for $w_{n+1}$ in terms of $w_n$ and $\\nabla L$ the gradient of $L$ with respect to the vector w.  "
   ]
  },
  {
   "cell_type": "markdown",
   "metadata": {
    "collapsed": true
   },
   "source": [
    "poisson distribution"
   ]
  },
  {
   "cell_type": "markdown",
   "metadata": {},
   "source": [
    "${\\displaystyle P(k{\\text{ events in interval}})={\\frac {\\lambda ^{k}e^{-\\lambda }}{k!}}}$"
   ]
  },
  {
   "cell_type": "markdown",
   "metadata": {},
   "source": [
    "E(k) = Lambda is the expected value"
   ]
  },
  {
   "cell_type": "code",
   "execution_count": null,
   "metadata": {
    "collapsed": true
   },
   "outputs": [],
   "source": []
  }
 ],
 "metadata": {
  "kernelspec": {
   "display_name": "Python [Root]",
   "language": "python",
   "name": "Python [Root]"
  },
  "language_info": {
   "codemirror_mode": {
    "name": "ipython",
    "version": 3
   },
   "file_extension": ".py",
   "mimetype": "text/x-python",
   "name": "python",
   "nbconvert_exporter": "python",
<<<<<<< HEAD
   "pygments_lexer": "ipython3",
   "version": "3.5.2"
=======
   "pygments_lexer": "ipython2",
   "version": "2.7.12"
>>>>>>> upstream/master
  }
 },
 "nbformat": 4,
 "nbformat_minor": 0
}
