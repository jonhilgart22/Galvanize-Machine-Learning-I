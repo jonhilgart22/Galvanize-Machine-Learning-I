{
 "cells": [
  {
   "cell_type": "code",
   "execution_count": 211,
   "metadata": {
    "collapsed": true
   },
   "outputs": [],
   "source": [
    "#Place all your import statements here"
   ]
  },
  {
   "cell_type": "markdown",
   "metadata": {},
   "source": [
    "# Data Practice"
   ]
  },
  {
   "cell_type": "markdown",
   "metadata": {},
   "source": [
    "As a data scientist, being able to manipulate data and pull out meaningful information from all types of data will be extremely important. Knowing the diffferent ways data is stored, and how to structure that data will also be a top priority. Today, I will give you an overview of what things you NEED to know, in order to be a data scientist. "
   ]
  },
  {
   "cell_type": "markdown",
   "metadata": {},
   "source": [
    "Another thing to watch out for is the structure of your iPython notebook. You want to make it such that you can hit 'Restart and Run All' and the iPython notebook will run smoothly. "
   ]
  },
  {
   "cell_type": "markdown",
   "metadata": {},
   "source": [
    "1. Read in the data from here: https://archive.ics.uci.edu/ml/machine-learning-databases/auto-mpg/auto-mpg.data. Notice the 'nan' values are question marks. Fill the question marks wiht the 'nan' string, but do this in one line. Everything we do today should be accomplished in a single line. Make sure to replace the '?' with NaN values. I will give you a list of the column names. Here are the column names: \n",
    "\n",
    "    1. mpg:           continuous\n",
    "    2. cylinders:     multi-valued discrete\n",
    "    3. displacement:  continuous\n",
    "    4. horsepower:    continuous\n",
    "    5. weight:        continuous\n",
    "    6. acceleration:  continuous\n",
    "    7. model year:    multi-valued discrete\n",
    "    8. origin:        multi-valued discrete\n",
    "    9. car name:      string (unique for each instance)\n",
    "    \n",
    "2. Now since we are just doing an exercise with numbers, remove the last column. Do not use indexing and do not use assignments! Note: From now on indexing will be done using .loc and .iloc.\n",
    "```python\n",
    "    def inject_nan(df,num = 50,s = 10):\n",
    "        np.random.seed(s)\n",
    "        n,m = df.shape\n",
    "        for i in range(num):\n",
    "            df.iloc[np.random.randint(n),np.random.randint(m)] = float('nan')\n",
    "        return df\n",
    "```\n",
    "3. For this exercise, we are going to inject fake NaN data into the dataset. Use the code above to inject the fake NaN data into the dataframe.\n",
    "\n",
    "4. With just the numbers, we can now do some cool things. Replace the nan values with the mean of the columns. Remember, only do it in one line.\n",
    "\n",
    "5. Now create a column called 'horsepower_sqrt' column which is the square root of the horsepower.\n",
    "\n",
    "6. Now create a column called 'mult' which multiplies the 'horsepower' and 'acceleration' columns.\n",
    "\n",
    "7. Plot a histogram for the 'mult' column using panads built in plotting functions\n",
    "\n",
    "----Change data here-----\n",
    "\n",
    "7. Great. These are cool manipulations you can do in pandas. Now let's try some other things. Go back to the dataset with the fake data in it. Now instead of replacing these with mean, drop all the rows with nan values.\n",
    "\n",
    "8. With the dataset that dropped the nan rows, get all the rows with less than 100 horsepower.\n",
    "\n",
    "9. What are the unique values corresponding to cylinders? What is the mean horsepower for the various cylinder values?\n",
    "\n",
    "10. For a specific origin and cylinder count, what is the mean horsepower value? Plot these values on a bargraph using pandas built in functions.\n",
    "\n",
    "11. Bin the acceleration into 4 groups, [(7 - 12), (12 - 16), (16 - 20),(20 - 25)] and name this column 'accel_bins'. What is the mean mpg for each bin?\n",
    "\n",
    "12. Grab the columns corresponding to the bins (7, 12] and (12, 16]. Turn this into a new DataFrame (i.e. save it into a variable). \n",
    "\n",
    "13. Dummify the column containing (7, 12] and (12, 16]. Only keep (7, 12] and MERGE it to the DataFrame. We don't need (12, 16] since it is extra information. \n",
    "\n",
    "Bonus: See how well you can predict on the (7, 12] column on the subset of the data!"
   ]
  },
  {
   "cell_type": "code",
   "execution_count": null,
   "metadata": {
    "collapsed": true
   },
   "outputs": [],
   "source": []
  }
 ],
 "metadata": {
  "kernelspec": {
   "display_name": "Python 3",
   "language": "python",
   "name": "python3"
  },
  "language_info": {
   "codemirror_mode": {
    "name": "ipython",
    "version": 3
   },
   "file_extension": ".py",
   "mimetype": "text/x-python",
   "name": "python",
   "nbconvert_exporter": "python",
   "pygments_lexer": "ipython3",
   "version": "3.5.2"
  }
 },
 "nbformat": 4,
 "nbformat_minor": 1
}
