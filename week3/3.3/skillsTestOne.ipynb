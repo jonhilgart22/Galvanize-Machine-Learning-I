{
 "cells": [
  {
   "cell_type": "markdown",
   "metadata": {},
   "source": [
    "# Skills Test One\n",
    "\n",
    "## Problem 1.\n",
    "Use dynamic programming to write a program to make change using as few coins as possible.  Suppose that you've got an infinite supply of coins in several denominations.  Suppose further that an integer from 1 to 99 cents represents the amount you must represent with coins.  Suppose that the coin denominations are flexible, but always include a coin worth one cent.  \n",
    "1a.  Show an equation relating the best value at stage \"m\" to a maximization over earlier stages.    \n",
    "1b.  Write a python program to solve the recursion.  \n",
    "\n",
    "## Problem 2.  \n",
    "Use k-nearest neighbors to build a machine learning model to predict wine quality scores from chemical measurements of the wine.  Use the white wine data set from UCI data repository.  Here's a link:  https://archive.ics.uci.edu/ml/machine-learning-databases/wine-quality/winequality-white.csv .  Download the csv file and store it in the same folder as this notebook so the notebook will have access to the file easily.  Or you can download the file over the internet - whichever is easier for you.  You can read the website description or look through the file to figure out how the data are formatted in the file - (usually delimited text file).  Read it into a numpy data structure in order to be able to manipulate easily.  Then do the following:  \n",
    "\n",
    "#### Step 1.  Download the data\n",
    "The download instructions are given directly above.\n",
    "\n",
    "#### Step 2.  Scale the data\n",
    "Use the package - sklearn.preprocessing.scale to scale the attributes in this set to standard form (zero mean and unit variance).  The documentation shows you how to use the function.  http://scikit-learn.org/stable/modules/generated/sklearn.preprocessing.scale.html and http://scikit-learn.org/stable/modules/preprocessing.html#preprocessing-scaler .  The default settings on the scale function will work fine.  Be sure to do the scaling along the columns of the data matrix - not along the rows.  \n",
    "\n",
    "#### Step 3.  Divide the data\n",
    "-Divide the data set into two subsets for training and test.  \n",
    "-Use 35% of the data for testing and 65% for training.  (Notice that we're not doing a separate validations set.)\n",
    "\n",
    "#### Step 4.  Build models and \n",
    "-Use the sklearn KNN regression package to train and test.\n",
    "http://scikit-learn.org/stable/modules/neighbors.html   \n",
    "http://scikit-learn.org/stable/modules/generated/sklearn.neighbors.KNeighborsRegressor.html#sklearn.neighbors.KNeighborsRegressor   \n",
    "\n",
    "-Train and test KNN models over a range of k values and plot the root mean squared error on the training data and on the test data.  Plot both of these quantities on the same figure.  \n",
    "\n",
    "-Pick the value of k that gives the best performance (lowest value of error on the test data).   \n",
    "\n",
    "-Report best value of k and the corresponding value of the rmse.  \n",
    "\n",
    "## Problem 3. \n",
    "Use penalized regression to build a model to predict wine quality as in the last problem.  \n",
    "\n",
    "#### Step 1.  Instantiate member of ElasticNetCV class\n",
    "-Use the sklearn.linear_model.ElasticNetCV package in sklearn.  You can find the package documentation here:  http://scikit-learn.org/stable/modules/generated/sklearn.linear_model.ElasticNetCV.html .  Most of the default settings for the class will work fine on this problem.  The only ones you'll want to change are: \n",
    "\n",
    "l1_ratio=0.5 -    You'll want to build several models with different values of l1_ratio (between say 0.01 and 1).   \n",
    "normalize=False - This should be set to True   \n",
    "cv=None, -        Try 5 or 10   \n",
    "n_jobs=1. -        This integer determines how many cores will be use.  Setting to -1 uses all the available core.   \n",
    " \n",
    "#### Step 2.  Train an ElasticNet penalized model and plot it's performance \n",
    "-Plot MSE.  Instantiate a class member of the ElasticNetCV class and then use the fit() member function (supplying training data and lables that you extracted in Problem 2).  The fit() function will perform cross-validation on a multitude of models, and calculate mean square error across the models.  In the package documentation you'll see the attribute mse_path_ .  That shows a two dimensional numpy array filled with mean square error across the test portion for each fold and model complexity (alpha value).  Plot the paths for each of the folds (columns in the mse_path_ matrix).  \n",
    "\n",
    "#### Step 3.  Produce model coefficients for best performing model\n",
    "-Extract coefficients.  The member variable coef_ has a real number coefficient for each of the attributes.  \n",
    "\n",
    "#### Step 4.  Use penalized regression to determine variable importance.  \n",
    "-Determine variable importance.  \n",
    "Go through this whole sequence again, but before starting normalize the feature matrix before fitting a model to it.  Use the scale() function as you used in Problem 2.  Instantiate an ElasticNetCV object as in the first portion of this problem.  Then fit the model to the scaled versions of the training data.  Extract the coefficients and order them from the one with the largest absolute value to the smallest.  Order the names of attributes associated from largest absolute coefficient value to smallest.   \n"
   ]
  },
  {
   "cell_type": "code",
   "execution_count": null,
   "metadata": {
    "collapsed": true
   },
   "outputs": [],
   "source": []
  }
 ],
 "metadata": {
  "kernelspec": {
   "display_name": "Python 2",
   "language": "python",
   "name": "python2"
  },
  "language_info": {
   "codemirror_mode": {
    "name": "ipython",
    "version": 2
   },
   "file_extension": ".py",
   "mimetype": "text/x-python",
   "name": "python",
   "nbconvert_exporter": "python",
   "pygments_lexer": "ipython2",
   "version": "2.7.12"
  }
 },
 "nbformat": 4,
 "nbformat_minor": 0
}
