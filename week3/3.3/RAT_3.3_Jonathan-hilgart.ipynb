{
 "cells": [
  {
   "cell_type": "markdown",
   "metadata": {},
   "source": [
<<<<<<< HEAD:week3/3.3/RAT_3.3_Jonathan-hilgart.ipynb
    "RAT 3.3¶\n",
    "Suppose that your loss function is $L(w)$ where $w$ is a vector of parameters that you can adjust to minimize L (loss). Given a starting value for $w$ (say $w_0$) give the gradient descent update equation for $w_{n+1}$ in terms of $w_n$ and $\\nabla L$ the gradient of $L$ with respect to the vector w."
   ]
  },
  {
   "cell_type": "markdown",
   "metadata": {},
   "source": [
    "- The gradient descent update is \n",
=======
    "## RAT 4.2\n",
    "\n",
    "1 - \n",
    "\n",
    "A recap of regularization: Describe weaknesses and strengths of Lasso, Ridge and Elstic Net Regularization\n",
    "\n",
    "2 - \n",
    "\n",
    "Discuss in plain English the Regularization Paths (\"Squid\" plots) in terms of each of the above three regularization techniques. For reference, here is what a regularization path looks like: \n",
>>>>>>> upstream/master:week4/4.2/DSCI6003_4.2_RAT.ipynb
    "\n",
    " $w_{n+1}$  = $w_n$  - $\\gamma\\nabla L(w_n)$\n"
   ]
  },
  {
   "cell_type": "code",
   "execution_count": null,
   "metadata": {
    "collapsed": true
   },
   "outputs": [],
   "source": []
  }
 ],
 "metadata": {
  "anaconda-cloud": {},
  "kernelspec": {
<<<<<<< HEAD:week3/3.3/RAT_3.3_Jonathan-hilgart.ipynb
   "display_name": "Python [Root]",
   "language": "python",
   "name": "Python [Root]"
=======
   "display_name": "Python 2",
   "language": "python",
   "name": "python2"
>>>>>>> upstream/master:week4/4.2/DSCI6003_4.2_RAT.ipynb
  },
  "language_info": {
   "codemirror_mode": {
    "name": "ipython",
    "version": 2
   },
   "file_extension": ".py",
   "mimetype": "text/x-python",
   "name": "python",
   "nbconvert_exporter": "python",
   "pygments_lexer": "ipython2",
   "version": "2.7.12"
  }
 },
 "nbformat": 4,
 "nbformat_minor": 0
}
