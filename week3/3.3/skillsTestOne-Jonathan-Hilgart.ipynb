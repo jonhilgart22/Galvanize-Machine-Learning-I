{
 "cells": [
  {
   "cell_type": "markdown",
   "metadata": {},
   "source": [
    "# Skills Test One\n",
    "\n",
    "## Problem 1.\n",
    "Use dynamic programming to write a program to make change using as few coins as possible.  Suppose that you've got an infinite supply of coins in several denominations.  Suppose further that an integer from 1 to 99 cents represents the amount you must represent with coins.  Suppose that the coin denominations are flexible, but always include a coin worth one cent.  \n",
    "1a.  Show an equation relating the best value at stage \"m\" to a maximization over earlier stages.    \n",
    "1b.  Write a python program to solve the recursion.  \n",
    "\n"
   ]
  },
  {
   "cell_type": "markdown",
   "metadata": {
    "collapsed": true
   },
   "source": [
    "- Math formula\n",
    "\n",
    "> Given a total amount of change desired, T, find the sum of the values of each coin v, times the number of times that coin is used, n\n",
    "\n",
    "$argmin( \\sum _{{j=1}}^{n}v_{j}n_{j})=T$\n",
    "\n",
    "subject to the min $\\sum _{j=1}^{n}n_{j}$"
   ]
  },
  {
   "cell_type": "code",
   "execution_count": null,
   "metadata": {
    "collapsed": true
   },
   "outputs": [],
   "source": []
  },
  {
   "cell_type": "code",
   "execution_count": 1,
   "metadata": {
    "collapsed": true
   },
   "outputs": [],
   "source": [
    "import numpy as np\n",
    "import bottleneck"
   ]
  },
  {
   "cell_type": "code",
   "execution_count": 2,
   "metadata": {
    "collapsed": false
   },
   "outputs": [],
   "source": [
    "def change(target_value,coin_denominations=[1,5,10,25,50]):\n",
    "    \"\"\"Return change to reach the target value given the coin denominations,\n",
    "    assuming you have unlimited values of each coin.\"\"\"\n",
    "    \n",
    "    ## initialize a matrix to record your change at different points\n",
    "    c_l = len(coin_denominations)\n",
    "    t_l = target_value\n",
    "    matrix = np.zeros((c_l,t_l))\n",
    "    \n",
    "    #Sort coins from smallest to largest\n",
    "    \n",
    "    coin_denominations = sorted(coin_denominations)\n",
    "    \n",
    "    for coin_v,coin in enumerate(coin_denominations): ## go through each denomination\n",
    "        for interval_v,interval in enumerate(range(1,target_value+1)): # go through each interval of 1 cent\n",
    "\n",
    "            if coin_v ==0: ### first row initialize as the number of coins\n",
    "                matrix[coin_v,interval_v]=interval\n",
    "            elif interval%coin == 0: ## coins go in evenly to your target value\n",
    "\n",
    "                matrix[coin_v,interval_v]=interval/coin\n",
    "                \n",
    "            elif coin < interval: # coins smaller than the target value\n",
    "\n",
    "                matrix[coin_v,interval_v]=min(matrix[coin_v-1,interval_v], \\\n",
    "                                                 int(interval/coin) + matrix[coin_v-1,interval%coin-1])\n",
    "            \n",
    "            elif coin > interval: #coin greater than your interval\n",
    "                \n",
    "                matrix[coin_v,interval_v] = matrix[coin_v-1,interval_v]\n",
    "\n",
    "    #print(matrix)\n",
    "    return min(matrix[:,target_value-1])"
   ]
  },
  {
   "cell_type": "code",
   "execution_count": 3,
   "metadata": {
    "collapsed": false,
    "scrolled": false
   },
   "outputs": [
    {
     "data": {
      "text/plain": [
       "11.0"
      ]
     },
     "execution_count": 3,
     "metadata": {},
     "output_type": "execute_result"
    }
   ],
   "source": [
    "change(99,[1,21,35])"
   ]
  },
  {
   "cell_type": "code",
   "execution_count": 4,
   "metadata": {
    "collapsed": false
   },
   "outputs": [],
   "source": [
    "\n",
    "assert change(99)==8\n",
    "assert change(90)==4\n",
    "assert change(75)==2\n",
    "assert change(10)==1\n",
    "assert change(100)==2\n",
    "assert change(99,[1,99])==1\n",
    "assert change(76,[1,70,6])==2"
   ]
  },
  {
   "cell_type": "markdown",
   "metadata": {
    "collapsed": true
   },
   "source": [
    "## Problem 2.  \n",
    "Use k-nearest neighbors to build a machine learning model to predict wine quality scores from chemical measurements of the wine.  Use the white wine data set from UCI data repository.  Here's a link:  https://archive.ics.uci.edu/ml/machine-learning-databases/wine-quality/winequality-white.csv .  Download the csv file and store it in the same folder as this notebook so the notebook will have access to the file easily.  Or you can download the file over the internet - whichever is easier for you.  You can read the website description or look through the file to figure out how the data are formatted in the file - (usually delimited text file).  Read it into a numpy data structure in order to be able to manipulate easily.  Then do the following:  \n",
    "\n",
    "#### Step 1.  Download the data\n",
    "The download instructions are given directly above.\n",
    "\n",
    "#### Step 2.  Scale the data\n",
    "Use the package - sklearn.preprocessing.scale to scale the attributes in this set to standard form (zero mean and unit variance).  The documentation shows you how to use the function.  http://scikit-learn.org/stable/modules/generated/sklearn.preprocessing.scale.html and http://scikit-learn.org/stable/modules/preprocessing.html#preprocessing-scaler .  The default settings on the scale function will work fine.  Be sure to do the scaling along the columns of the data matrix - not along the rows.  \n",
    "\n",
    "#### Step 3.  Divide the data\n",
    "-Divide the data set into two subsets for training and test.  \n",
    "-Use 35% of the data for testing and 65% for training.  (Notice that we're not doing a separate validations set.)\n",
    "\n",
    "#### Step 4.  Build models and \n",
    "-Use the sklearn KNN regression package to train and test.\n",
    "http://scikit-learn.org/stable/modules/neighbors.html   \n",
    "http://scikit-learn.org/stable/modules/generated/sklearn.neighbors.KNeighborsRegressor.html#sklearn.neighbors.KNeighborsRegressor   \n",
    "\n",
    "-Train and test KNN models over a range of k values and plot the root mean squared error on the training data and on the test data.  Plot both of these quantities on the same figure.  \n",
    "\n",
    "-Pick the value of k that gives the best performance (lowest value of error on the test data).   \n",
    "\n",
    "-Report best value of k and the corresponding value of the rmse.  \n",
    "\n"
   ]
  },
  {
   "cell_type": "code",
   "execution_count": 5,
   "metadata": {
    "collapsed": false
   },
   "outputs": [
    {
     "name": "stdout",
     "output_type": "stream",
     "text": [
      "Populating the interactive namespace from numpy and matplotlib\n"
     ]
    },
    {
     "name": "stderr",
     "output_type": "stream",
     "text": [
      "WARNING: pylab import has clobbered these variables: ['sqrt']\n",
      "`%matplotlib` prevents importing * from pylab and numpy\n"
     ]
    }
   ],
   "source": [
    "import pandas as pd\n",
    "from sklearn.preprocessing import StandardScaler\n",
    "from sklearn.model_selection import train_test_split\n",
    "from sklearn.neighbors import KNeighborsRegressor\n",
    "from math import sqrt\n",
    "import matplotlib.pyplot as plt\n",
    "%pylab inline"
   ]
  },
  {
   "cell_type": "code",
   "execution_count": 6,
   "metadata": {
    "collapsed": false
   },
   "outputs": [],
   "source": [
    "wine_df = pd.read_csv('https://archive.ics.uci.edu/ml/machine-learning-databases/wine-quality/winequality-white.csv',delimiter=';')"
   ]
  },
  {
   "cell_type": "code",
   "execution_count": 7,
   "metadata": {
    "collapsed": false
   },
   "outputs": [
    {
     "name": "stdout",
     "output_type": "stream",
     "text": [
      "<class 'pandas.core.frame.DataFrame'>\n",
      "RangeIndex: 4898 entries, 0 to 4897\n",
      "Data columns (total 12 columns):\n",
      "fixed acidity           4898 non-null float64\n",
      "volatile acidity        4898 non-null float64\n",
      "citric acid             4898 non-null float64\n",
      "residual sugar          4898 non-null float64\n",
      "chlorides               4898 non-null float64\n",
      "free sulfur dioxide     4898 non-null float64\n",
      "total sulfur dioxide    4898 non-null float64\n",
      "density                 4898 non-null float64\n",
      "pH                      4898 non-null float64\n",
      "sulphates               4898 non-null float64\n",
      "alcohol                 4898 non-null float64\n",
      "quality                 4898 non-null int64\n",
      "dtypes: float64(11), int64(1)\n",
      "memory usage: 459.3 KB\n"
     ]
    }
   ],
   "source": [
    "wine_df.info()"
   ]
  },
  {
   "cell_type": "code",
   "execution_count": 8,
   "metadata": {
    "collapsed": false
   },
   "outputs": [
    {
     "data": {
      "text/html": [
       "<div>\n",
       "<table border=\"1\" class=\"dataframe\">\n",
       "  <thead>\n",
       "    <tr style=\"text-align: right;\">\n",
       "      <th></th>\n",
       "      <th>fixed acidity</th>\n",
       "      <th>volatile acidity</th>\n",
       "      <th>citric acid</th>\n",
       "      <th>residual sugar</th>\n",
       "      <th>chlorides</th>\n",
       "      <th>free sulfur dioxide</th>\n",
       "      <th>total sulfur dioxide</th>\n",
       "      <th>density</th>\n",
       "      <th>pH</th>\n",
       "      <th>sulphates</th>\n",
       "      <th>alcohol</th>\n",
       "      <th>quality</th>\n",
       "    </tr>\n",
       "  </thead>\n",
       "  <tbody>\n",
       "    <tr>\n",
       "      <th>count</th>\n",
       "      <td>4898.000000</td>\n",
       "      <td>4898.000000</td>\n",
       "      <td>4898.000000</td>\n",
       "      <td>4898.000000</td>\n",
       "      <td>4898.000000</td>\n",
       "      <td>4898.000000</td>\n",
       "      <td>4898.000000</td>\n",
       "      <td>4898.000000</td>\n",
       "      <td>4898.000000</td>\n",
       "      <td>4898.000000</td>\n",
       "      <td>4898.000000</td>\n",
       "      <td>4898.000000</td>\n",
       "    </tr>\n",
       "    <tr>\n",
       "      <th>mean</th>\n",
       "      <td>6.854788</td>\n",
       "      <td>0.278241</td>\n",
       "      <td>0.334192</td>\n",
       "      <td>6.391415</td>\n",
       "      <td>0.045772</td>\n",
       "      <td>35.308085</td>\n",
       "      <td>138.360657</td>\n",
       "      <td>0.994027</td>\n",
       "      <td>3.188267</td>\n",
       "      <td>0.489847</td>\n",
       "      <td>10.514267</td>\n",
       "      <td>5.877909</td>\n",
       "    </tr>\n",
       "    <tr>\n",
       "      <th>std</th>\n",
       "      <td>0.843868</td>\n",
       "      <td>0.100795</td>\n",
       "      <td>0.121020</td>\n",
       "      <td>5.072058</td>\n",
       "      <td>0.021848</td>\n",
       "      <td>17.007137</td>\n",
       "      <td>42.498065</td>\n",
       "      <td>0.002991</td>\n",
       "      <td>0.151001</td>\n",
       "      <td>0.114126</td>\n",
       "      <td>1.230621</td>\n",
       "      <td>0.885639</td>\n",
       "    </tr>\n",
       "    <tr>\n",
       "      <th>min</th>\n",
       "      <td>3.800000</td>\n",
       "      <td>0.080000</td>\n",
       "      <td>0.000000</td>\n",
       "      <td>0.600000</td>\n",
       "      <td>0.009000</td>\n",
       "      <td>2.000000</td>\n",
       "      <td>9.000000</td>\n",
       "      <td>0.987110</td>\n",
       "      <td>2.720000</td>\n",
       "      <td>0.220000</td>\n",
       "      <td>8.000000</td>\n",
       "      <td>3.000000</td>\n",
       "    </tr>\n",
       "    <tr>\n",
       "      <th>25%</th>\n",
       "      <td>6.300000</td>\n",
       "      <td>0.210000</td>\n",
       "      <td>0.270000</td>\n",
       "      <td>1.700000</td>\n",
       "      <td>0.036000</td>\n",
       "      <td>23.000000</td>\n",
       "      <td>108.000000</td>\n",
       "      <td>0.991723</td>\n",
       "      <td>3.090000</td>\n",
       "      <td>0.410000</td>\n",
       "      <td>9.500000</td>\n",
       "      <td>5.000000</td>\n",
       "    </tr>\n",
       "    <tr>\n",
       "      <th>50%</th>\n",
       "      <td>6.800000</td>\n",
       "      <td>0.260000</td>\n",
       "      <td>0.320000</td>\n",
       "      <td>5.200000</td>\n",
       "      <td>0.043000</td>\n",
       "      <td>34.000000</td>\n",
       "      <td>134.000000</td>\n",
       "      <td>0.993740</td>\n",
       "      <td>3.180000</td>\n",
       "      <td>0.470000</td>\n",
       "      <td>10.400000</td>\n",
       "      <td>6.000000</td>\n",
       "    </tr>\n",
       "    <tr>\n",
       "      <th>75%</th>\n",
       "      <td>7.300000</td>\n",
       "      <td>0.320000</td>\n",
       "      <td>0.390000</td>\n",
       "      <td>9.900000</td>\n",
       "      <td>0.050000</td>\n",
       "      <td>46.000000</td>\n",
       "      <td>167.000000</td>\n",
       "      <td>0.996100</td>\n",
       "      <td>3.280000</td>\n",
       "      <td>0.550000</td>\n",
       "      <td>11.400000</td>\n",
       "      <td>6.000000</td>\n",
       "    </tr>\n",
       "    <tr>\n",
       "      <th>max</th>\n",
       "      <td>14.200000</td>\n",
       "      <td>1.100000</td>\n",
       "      <td>1.660000</td>\n",
       "      <td>65.800000</td>\n",
       "      <td>0.346000</td>\n",
       "      <td>289.000000</td>\n",
       "      <td>440.000000</td>\n",
       "      <td>1.038980</td>\n",
       "      <td>3.820000</td>\n",
       "      <td>1.080000</td>\n",
       "      <td>14.200000</td>\n",
       "      <td>9.000000</td>\n",
       "    </tr>\n",
       "  </tbody>\n",
       "</table>\n",
       "</div>"
      ],
      "text/plain": [
       "       fixed acidity  volatile acidity  citric acid  residual sugar  \\\n",
       "count    4898.000000       4898.000000  4898.000000     4898.000000   \n",
       "mean        6.854788          0.278241     0.334192        6.391415   \n",
       "std         0.843868          0.100795     0.121020        5.072058   \n",
       "min         3.800000          0.080000     0.000000        0.600000   \n",
       "25%         6.300000          0.210000     0.270000        1.700000   \n",
       "50%         6.800000          0.260000     0.320000        5.200000   \n",
       "75%         7.300000          0.320000     0.390000        9.900000   \n",
       "max        14.200000          1.100000     1.660000       65.800000   \n",
       "\n",
       "         chlorides  free sulfur dioxide  total sulfur dioxide      density  \\\n",
       "count  4898.000000          4898.000000           4898.000000  4898.000000   \n",
       "mean      0.045772            35.308085            138.360657     0.994027   \n",
       "std       0.021848            17.007137             42.498065     0.002991   \n",
       "min       0.009000             2.000000              9.000000     0.987110   \n",
       "25%       0.036000            23.000000            108.000000     0.991723   \n",
       "50%       0.043000            34.000000            134.000000     0.993740   \n",
       "75%       0.050000            46.000000            167.000000     0.996100   \n",
       "max       0.346000           289.000000            440.000000     1.038980   \n",
       "\n",
       "                pH    sulphates      alcohol      quality  \n",
       "count  4898.000000  4898.000000  4898.000000  4898.000000  \n",
       "mean      3.188267     0.489847    10.514267     5.877909  \n",
       "std       0.151001     0.114126     1.230621     0.885639  \n",
       "min       2.720000     0.220000     8.000000     3.000000  \n",
       "25%       3.090000     0.410000     9.500000     5.000000  \n",
       "50%       3.180000     0.470000    10.400000     6.000000  \n",
       "75%       3.280000     0.550000    11.400000     6.000000  \n",
       "max       3.820000     1.080000    14.200000     9.000000  "
      ]
     },
     "execution_count": 8,
     "metadata": {},
     "output_type": "execute_result"
    }
   ],
   "source": [
    "wine_df.describe()"
   ]
  },
  {
   "cell_type": "code",
   "execution_count": 9,
   "metadata": {
    "collapsed": true
   },
   "outputs": [],
   "source": [
    "#standardize the data\n",
    "x_values = wine_df.iloc[:,:-1]\n",
    "y_values = wine_df.iloc[:,-1:]"
   ]
  },
  {
   "cell_type": "code",
   "execution_count": 10,
   "metadata": {
    "collapsed": false
   },
   "outputs": [],
   "source": [
    "scaler = StandardScaler()"
   ]
  },
  {
   "cell_type": "code",
   "execution_count": 11,
   "metadata": {
    "collapsed": false
   },
   "outputs": [
    {
     "data": {
      "text/plain": [
       "array([[  1.72096961e-01,  -8.17699008e-02,   2.13280202e-01, ...,\n",
       "         -1.24692128e+00,  -3.49184257e-01,  -1.39315246e+00],\n",
       "       [ -6.57501128e-01,   2.15895632e-01,   4.80011213e-02, ...,\n",
       "          7.40028640e-01,   1.34184656e-03,  -8.24275678e-01],\n",
       "       [  1.47575110e+00,   1.74519434e-02,   5.43838363e-01, ...,\n",
       "          4.75101984e-01,  -4.36815783e-01,  -3.36667007e-01],\n",
       "       ..., \n",
       "       [ -4.20473102e-01,  -3.79435433e-01,  -1.19159198e+00, ...,\n",
       "         -1.31315295e+00,  -2.61552731e-01,  -9.05543789e-01],\n",
       "       [ -1.60561323e+00,   1.16673788e-01,  -2.82557040e-01, ...,\n",
       "          1.00495530e+00,  -9.62604939e-01,   1.85757201e+00],\n",
       "       [ -1.01304317e+00,  -6.77100966e-01,   3.78559282e-01, ...,\n",
       "          4.75101984e-01,  -1.48839409e+00,   1.04489089e+00]])"
      ]
     },
     "execution_count": 11,
     "metadata": {},
     "output_type": "execute_result"
    }
   ],
   "source": [
    "x_values = scaler.fit_transform(x_values)\n",
    "x_values"
   ]
  },
  {
   "cell_type": "code",
   "execution_count": 12,
   "metadata": {
    "collapsed": false
   },
   "outputs": [],
   "source": [
    "#Split the data into testing and training\n",
    "#X_train, X_test, y_train, y_test = train_test_split(\n",
    "#...     X, y, test_size=0.33, random_state=42)\n",
    "\n",
    "X_train, X_test, y_train, y_test = train_test_split(x_values,y_values,test_size=.35)\n",
    "\n",
    "\n"
   ]
  },
  {
   "cell_type": "code",
   "execution_count": 13,
   "metadata": {
    "collapsed": false
   },
   "outputs": [
    {
     "name": "stdout",
     "output_type": "stream",
     "text": [
      "0.715877049474  Min RMSE for test data for k = 17 \n",
      "17  Best k\n",
      "0.34395770496  R^2 for test data\n"
     ]
    },
    {
     "data": {
      "image/png": "[encoded data removed]",
      "text/plain": [
       "<matplotlib.figure.Figure at 0x116f95dd8>"
      ]
     },
     "metadata": {},
     "output_type": "display_data"
    }
   ],
   "source": [
    "# KNN regression\n",
    "rmse_train =[]\n",
    "rmse_test = []\n",
    "r_2_score_test = []\n",
    "k_values = [k for k in range(1,100,4)]\n",
    "\n",
    "for k in range(1,100,4):\n",
    "    model = KNeighborsRegressor(k)\n",
    "    model.fit(X_train,y_train) # fit it\n",
    "    rmse_train.append(np.linalg.norm(y_train - model.predict(X_train))/sqrt(len(y_train))) #rmse\n",
    "\n",
    "    #Now see what rmse is for the test data\n",
    "    \n",
    "    rmse_test.append(np.linalg.norm(y_test - model.predict(X_test))/sqrt(len(y_test)))\n",
    "    r_2_score_test.append(model.score(X_test,y_test))\n",
    "\n",
    "\n",
    "#plot it\n",
    "plt.figure(figsize=(6,6))\n",
    "plt.plot([k for k in range(1,100,4)],rmse_train,color='blue')\n",
    "plt.plot([k for k in range(1,100,4)],rmse_test,color='Orange')\n",
    "plt.gca().invert_xaxis()\n",
    "plt.xlabel('Model Complexity - K')\n",
    "plt.ylabel('RMSE')\n",
    "plt.title('KNN - White Wine Regression ( blue=train, orange=test)')\n",
    "\n",
    "#Print min rmse and best k \n",
    "print(rmse_test[np.argmin(rmse_test)], ' Min RMSE for test data for k = {} '.format(k_values[np.argmin(rmse_test)]))\n",
    "print(k_values[np.argmin(rmse_test)], ' Best k')\n",
    "print(r_2_score_test[np.argmin(rmse_test)], ' R^2 for test data')\n"
   ]
  },
  {
   "cell_type": "code",
   "execution_count": null,
   "metadata": {
    "collapsed": true
   },
   "outputs": [],
   "source": []
  },
  {
   "cell_type": "code",
   "execution_count": null,
   "metadata": {
    "collapsed": true
   },
   "outputs": [],
   "source": []
  },
  {
   "cell_type": "code",
   "execution_count": null,
   "metadata": {
    "collapsed": true
   },
   "outputs": [],
   "source": []
  },
  {
   "cell_type": "code",
   "execution_count": null,
   "metadata": {
    "collapsed": true
   },
   "outputs": [],
   "source": []
  },
  {
   "cell_type": "markdown",
   "metadata": {},
   "source": [
    "## Problem 3. \n",
    "Use penalized regression to build a model to predict wine quality as in the last problem.  \n",
    "\n",
    "#### Step 1.  Instantiate member of ElasticNetCV class\n",
    "-Use the sklearn.linear_model.ElasticNetCV package in sklearn.  You can find the package documentation here:  http://scikit-learn.org/stable/modules/generated/sklearn.linear_model.ElasticNetCV.html .  Most of the default settings for the class will work fine on this problem.  The only ones you'll want to change are: \n",
    "\n",
    "l1_ratio=0.5 -    You'll want to build several models with different values of l1_ratio (between say 0.01 and 1).   \n",
    "normalize=False - This should be set to True   \n",
    "cv=None, -        Try 5 or 10   \n",
    "n_jobs=1. -        This integer determines how many cores will be use.  Setting to -1 uses all the available core.   \n",
    " \n",
    "#### Step 2.  Train an ElasticNet penalized model and plot it's performance \n",
    "-Plot MSE.  Instantiate a class member of the ElasticNetCV class and then use the fit() member function (supplying training data and lables that you extracted in Problem 2).  The fit() function will perform cross-validation on a multitude of models, and calculate mean square error across the models.  In the package documentation you'll see the attribute mse_path_ .  That shows a two dimensional numpy array filled with mean square error across the test portion for each fold and model complexity (alpha value).  Plot the paths for each of the folds (columns in the mse_path_ matrix).  \n",
    "\n",
    "#### Step 3.  Produce model coefficients for best performing model\n",
    "-Extract coefficients.  The member variable coef_ has a real number coefficient for each of the attributes.  \n",
    "\n",
    "#### Step 4.  Use penalized regression to determine variable importance.  \n",
    "-Determine variable importance.  \n",
    "Go through this whole sequence again, but before starting normalize the feature matrix before fitting a model to it.  Use the scale() function as you used in Problem 2.  Instantiate an ElasticNetCV object as in the first portion of this problem.  Then fit the model to the scaled versions of the training data.  Extract the coefficients and order them from the one with the largest absolute value to the smallest.  Order the names of attributes associated from largest absolute coefficient value to smallest.   \n"
   ]
  },
  {
   "cell_type": "code",
   "execution_count": 14,
   "metadata": {
    "collapsed": false
   },
   "outputs": [
    {
     "name": "stderr",
     "output_type": "stream",
     "text": [
      "/Users/jonathanhilgart/anaconda/lib/python3.5/site-packages/sklearn/cross_validation.py:44: DeprecationWarning: This module was deprecated in version 0.18 in favor of the model_selection module into which all the refactored classes and functions are moved. Also note that the interface of the new CV iterators are different from that of this module. This module will be removed in 0.20.\n",
      "  \"This module will be removed in 0.20.\", DeprecationWarning)\n",
      "/Users/jonathanhilgart/anaconda/lib/python3.5/site-packages/sklearn/grid_search.py:43: DeprecationWarning: This module was deprecated in version 0.18 in favor of the model_selection module into which all the refactored classes and functions are moved. This module will be removed in 0.20.\n",
      "  DeprecationWarning)\n"
     ]
    }
   ],
   "source": [
    "from  sklearn.linear_model import ElasticNetCV\n",
    "from sklearn.grid_search import GridSearchCV"
   ]
  },
  {
   "cell_type": "code",
   "execution_count": 15,
   "metadata": {
    "collapsed": false
   },
   "outputs": [
    {
     "name": "stdout",
     "output_type": "stream",
     "text": [
      "0.762784462005  RMSE for elastic net\n",
      "0.947894736842 best l1 ratio\n",
      "5.06691304173e-05 best alpha\n",
      "[(0.55362971587765508, 'sulphates'), (0.40099466786184684, 'pH'), (0.26744141712309083, 'alcohol'), (0.063935765825716626, 'citric acid'), (0.049453174120533766, 'residual sugar'), (0.0032349840308909398, 'free sulfur dioxide'), (-0.00028529147750013391, 'total sulfur dioxide'), (-0.0038533626081088926, 'fixed acidity'), (-0.81773208825211274, 'chlorides'), (-1.9231824417285979, 'volatile acidity'), (-71.931086681953559, 'density')] \n",
      " Coefficients that are NOT normalized. \n",
      " You can not rank these coefficients.\n",
      "___________________________________________________________________________\n",
      "5.06691304173e-05 Best alpha for final model\n",
      "0.738313074702 RMSE for final model\n"
     ]
    },
    {
     "data": {
      "text/plain": [
       "<matplotlib.text.Text at 0x10978acc0>"
      ]
     },
     "execution_count": 15,
     "metadata": {},
     "output_type": "execute_result"
    },
    {
     "data": {
      "image/png": "[encoded data removed]",
      "text/plain": [
       "<matplotlib.figure.Figure at 0x11a547e48>"
      ]
     },
     "metadata": {},
     "output_type": "display_data"
    },
    {
     "data": {
      "image/png": "[encoded data removed]",
      "text/plain": [
       "<matplotlib.figure.Figure at 0x1097dccf8>"
      ]
     },
     "metadata": {},
     "output_type": "display_data"
    },
    {
     "data": {
      "image/png": "[encoded data removed]",
      "text/plain": [
       "<matplotlib.figure.Figure at 0x1097a3710>"
      ]
     },
     "metadata": {},
     "output_type": "display_data"
    }
   ],
   "source": [
    "# create different values for elastic net of the L1 ratio\n",
    "#####default values\n",
    "# (l1_ratio=0.5, eps=0.001, n_alphas=100, alphas=None, fit_intercept=True, normalize=False,\n",
    "#precompute='auto', max_iter=1000, tol=0.0001,\n",
    "#cv=None, copy_X=True, verbose=0, n_jobs=1, positive=False, random_state=None, selection='cyclic')[source]¶\n",
    "\n",
    "# ##new x and y values that are not scaled\n",
    "x_values = wine_df.iloc[:,:-1]\n",
    "y_values = wine_df.iloc[:,-1:]\n",
    "\n",
    "#Split the data\n",
    "X_train_en, X_test_en, y_train_en, y_test_en = train_test_split(x_values,y_values,test_size=.35)\n",
    "\n",
    "\n",
    "#Change to numpy arrays\n",
    "X_train_en = np.array(X_train_en)\n",
    "X_test_en = np.array(X_test_en)\n",
    "\n",
    "#reshape y values\n",
    "y_train_en = np.array(y_train_en).reshape((len(y_train_en)))\n",
    "y_test_en = np.array(y_test_en).reshape((len(y_test_en)))\n",
    "\n",
    "#Record attributes for each model\n",
    "\n",
    "coefficients = []\n",
    "rmse_train = []\n",
    "alpha = []\n",
    "lambdas = []\n",
    "r_2_score = []\n",
    "\n",
    "\n",
    "#loop through different l1 parameters have elastic net scale your data\n",
    "\n",
    "for l in np.linspace(.01,1,20):\n",
    "    ENetModel = ElasticNetCV(l1_ratio=l, normalize=True,cv=10,n_jobs=-1)\n",
    "    \n",
    "    ENetModel.fit(X_train_en,y_train_en)\n",
    "    \n",
    "    #Append the results of this model\n",
    "    lambdas.append(l)\n",
    "    \n",
    "    #append attributes\n",
    "    alpha.append(ENetModel.alpha_)\n",
    "    coefficients.append(ENetModel.coef_)\n",
    "    \n",
    "    \n",
    "    ### RMSE for every alpha given a l1 ratio\n",
    "    \n",
    "    rmse = np.sqrt(np.mean(ENetModel.mse_path_, axis=1)) #average of MSE for each alpha in a given fold\n",
    "    \n",
    "    #take the lowest RMSE and append to a list\n",
    "    rmse_train.append(min(rmse))\n",
    "    \n",
    "    plt.plot(ENetModel.alphas_,rmse)\n",
    "    plt.title('Elastic Net - White Wine')\n",
    "    plt.xlabel('alphas')\n",
    "    plt.ylabel('min RMSE from given alphas and L1 ratio')\n",
    "\n",
    " \n",
    "\n",
    "print(min(rmse_train),' RMSE for elastic net')\n",
    "print(lambdas[np.argmin(rmse_train)],'best l1 ratio')\n",
    "print(alpha[np.argmin(rmse_train)],'best alpha')\n",
    "\n",
    "#sort the coefficients\n",
    "best_coefficients = coefficients[np.argmin(rmse_train)]\n",
    "# best_coefficients[best_coefficients.argsort()[::-1]]how to sort\n",
    "\n",
    "print([(coef,label) for coef,label in zip(best_coefficients[best_coefficients.argsort()[::-1]]\\\n",
    "                                          ,x_values.columns[best_coefficients.argsort()[::-1] ])],\\\n",
    "      '\\n Coefficients that are NOT normalized. \\n You can not rank these coefficients.')\n",
    "\n",
    "plt.figure()\n",
    "plt.plot(lambdas,rmse_train)\n",
    "plt.title('Elastic Net - Lambda vs RMSE')\n",
    "plt.xlabel('L1_ratio')\n",
    "plt.ylabel('RMSE');\n",
    "\n",
    "\n",
    "### Generate final model to check the RMSE\n",
    "\n",
    "eNetFinal = ElasticNetCV(l1_ratio=lambdas[np.argmin(rmse_train)], normalize=True,cv=10,n_jobs=-1)\n",
    "eNetFinal.fit(X_train_en,y_train_en)\n",
    "print('___________________________________________________________________________')\n",
    "print(eNetFinal.alpha_,'Best alpha for final model')\n",
    "print(np.linalg.norm(y_test_en - eNetFinal.predict(X_test_en))/sqrt(len(y_test_en)),'RMSE for final model')\n",
    "plt.figure()\n",
    "plt.plot(eNetFinal.mse_path_)\n",
    "plt.title('MSE path for top lambda = {}'.format(lambdas[np.argmin(rmse_train)]))\n",
    "plt.ylabel('RMSE')\n",
    "plt.xlabel('Step of Alpha within each CV fold')\n"
   ]
  },
  {
   "cell_type": "markdown",
   "metadata": {},
   "source": [
    "> Above, the L1 ratio ranges from .5 to 1, while the RMSE holds steady around .73-.75. This is worse tha KNN above. It is interesting that the elastic net grativates towards Lasso regression. This means some features have a very small weight in our model.\n",
    "\n",
    "# NOTE - we can not rank coefficients here because they are returned unstandardized. Therefore, even if we rank them, this ranking does not tell us anything. "
   ]
  },
  {
   "cell_type": "markdown",
   "metadata": {},
   "source": [
    "Go through this whole sequence again, but before starting normalize the feature matrix before fitting a model to it. Use the scale() function as you used in Problem 2. Instantiate an ElasticNetCV object as in the first portion of this problem. Then fit the model to the scaled versions of the training data. Extract the coefficients and order them from the one with the largest absolute value to the smallest. Order the names of attributes associated from largest absolute coefficient value to smallest."
   ]
  },
  {
   "cell_type": "code",
   "execution_count": 16,
   "metadata": {
    "collapsed": false
   },
   "outputs": [
    {
     "name": "stdout",
     "output_type": "stream",
     "text": [
      "0.748351268113  RMSE for elastic net\n",
      "1.0 best l1 ratio\n",
      "0.000712617117194 best alpha\n",
      "[(0.59198206331851122, 'density'), (0.47716813249164081, 'residual sugar'), (0.19164073254623992, 'volatile acidity'), (0.1732296613768563, 'alcohol'), (0.1046536105342238, 'pH'), (0.093753951050249723, 'sulphates'), (0.075437939257974193, 'free sulfur dioxide'), (0.069225794430522347, 'fixed acidity'), (0.01359279138391664, 'chlorides'), (0.0053722770163750601, 'total sulfur dioxide'), (0.0021086781018961709, 'citric acid')] Coefficients for scaled X data.\n",
      " These coefficients are ranked in order of importance.\n",
      "___________________________________________________________________________________\n",
      "1.44630401925e-05 Best alpha for final model\n",
      "0.765203861679 RMSE for final model\n"
     ]
    },
    {
     "data": {
      "text/plain": [
       "<matplotlib.text.Text at 0x1097dc208>"
      ]
     },
     "execution_count": 16,
     "metadata": {},
     "output_type": "execute_result"
    },
    {
     "data": {
      "image/png": "[encoded data removed]",
      "text/plain": [
       "<matplotlib.figure.Figure at 0x1097cc4a8>"
      ]
     },
     "metadata": {},
     "output_type": "display_data"
    },
    {
     "data": {
      "image/png": "[encoded data removed]",
      "text/plain": [
       "<matplotlib.figure.Figure at 0x1178fcd30>"
      ]
     },
     "metadata": {},
     "output_type": "display_data"
    },
    {
     "data": {
      "image/png": "[encoded data removed]",
      "text/plain": [
       "<matplotlib.figure.Figure at 0x109777cc0>"
      ]
     },
     "metadata": {},
     "output_type": "display_data"
    }
   ],
   "source": [
    "\n",
    "# create different values for elastic net of the L1 ratio\n",
    "#####default values\n",
    "# (l1_ratio=0.5, eps=0.001, n_alphas=100, alphas=None, fit_intercept=True, normalize=False,\n",
    "#precompute='auto', max_iter=1000, tol=0.0001,\n",
    "#cv=None, copy_X=True, verbose=0, n_jobs=1, positive=False, random_state=None, selection='cyclic')[source]¶\n",
    "\n",
    "# ##new x and y values that are not scaled\n",
    "x_values_df = wine_df.iloc[:,:-1]\n",
    "y_values = wine_df.iloc[:,-1:]\n",
    "\n",
    "#Scale the data\n",
    "x_values = scaler.fit_transform(x_values_df)\n",
    "\n",
    "#Split the data\n",
    "X_train_en, X_test_en, y_train_en, y_test_en = train_test_split(x_values,y_values,test_size=.35)\n",
    "\n",
    "\n",
    "#Change to numpy arrays\n",
    "X_train_en = np.array(X_train_en)\n",
    "X_test_en = np.array(X_test_en)\n",
    "\n",
    "#reshape y values\n",
    "y_train_en = np.array(y_train_en).reshape((len(y_train_en)))\n",
    "y_test_en = np.array(y_test_en).reshape((len(y_test_en)))\n",
    "\n",
    "#Record attributes for each model\n",
    "\n",
    "coefficients = []\n",
    "rmse_train = []\n",
    "alpha = []\n",
    "lambdas = []\n",
    "r_2_score = []\n",
    "\n",
    "\n",
    "#loop through different l1 parameters \n",
    "\n",
    "for l in np.linspace(.01,1,20):\n",
    "    ENetModel = ElasticNetCV(l1_ratio=l, normalize=False,cv=10,random_state=0,n_jobs=-1)\n",
    "    \n",
    "    ENetModel.fit(X_train_en,y_train_en)\n",
    "    \n",
    "    #Append the results of this model\n",
    "    lambdas.append(l)\n",
    "    \n",
    "    #append attributes\n",
    "    alpha.append(ENetModel.alpha_)\n",
    "    coefficients.append(ENetModel.coef_)\n",
    "   \n",
    "    \n",
    "    ### RMSE for every alpha given a l1 ratio\n",
    "    \n",
    "    rmse = np.sqrt(np.mean(ENetModel.mse_path_, axis=1)) #average of MSE for each alpha in a given fold\n",
    "    \n",
    "   \n",
    "    #take theRMSE and append to a list\n",
    "    rmse_train.append(min(rmse))\n",
    "    \n",
    "    plt.plot(ENetModel.alphas_,rmse)\n",
    "    plt.title('Elastic Net - White Wine - Each Line for Given L1 Ratio')\n",
    "    plt.xlabel('alphas')\n",
    "    plt.ylabel('min RMSE from given alphas and L1 ratio')\n",
    "    \n",
    "\n",
    "# Results from the test\n",
    "print(min(rmse_train),' RMSE for elastic net')\n",
    "print(lambdas[np.argmin(rmse_train)],'best l1 ratio')\n",
    "print(alpha[np.argmin(rmse_train)],'best alpha')\n",
    "\n",
    "#sort the coefficients\n",
    "best_coefficients = abs(coefficients[np.argmin(rmse_train)])\n",
    "# best_coefficients[best_coefficients.argsort()[::-1]]how to sort\n",
    "\n",
    "print([(coef,label) for coef,label in zip(best_coefficients[best_coefficients.argsort()[::-1]]\\\n",
    "                                          ,x_values_df.columns[best_coefficients.argsort()[::-1] ])],\\\n",
    "      'Coefficients for scaled X data.\\n These coefficients are ranked in order of importance.')\n",
    "\n",
    "\n",
    "plt.figure()\n",
    "plt.plot(lambdas,rmse_train)\n",
    "plt.title('Elastic Net - L1 vs RMSE')\n",
    "plt.xlabel('L1_ratio')\n",
    "plt.ylabel('RMSE');\n",
    "\n",
    "### Generate final model to check the RMSE\n",
    "\n",
    "eNetFinal = ElasticNetCV(l1_ratio=lambdas[np.argmin(rmse_train)], normalize=True,cv=10,random_state=0, n_jobs=-1)\n",
    "eNetFinal.fit(X_train_en,y_train_en)\n",
    "print('___________________________________________________________________________________')\n",
    "print(eNetFinal.alpha_,'Best alpha for final model')\n",
    "print(np.linalg.norm(y_test_en - eNetFinal.predict(X_test_en))/sqrt(len(y_test_en)),'RMSE for final model')\n",
    "\n",
    "#plot MSE path\n",
    "plt.figure()\n",
    "plt.plot(eNetFinal.mse_path_)\n",
    "plt.title('MSE path for top lambda = {}'.format(lambdas[np.argmin(rmse_train)]))\n",
    "plt.ylabel('RMSE')\n",
    "plt.xlabel('Step of Alpha within each fold')"
   ]
  },
  {
   "cell_type": "markdown",
   "metadata": {},
   "source": [
    "- When we scale our variables, we achieve about the same RMSE as when elastic net normalized the variables for us. The most useful aspect of scaling our data beforehand, is that it allows us to rank the coefficients in order of importance (abs of the magnitude). Then, it is possible to return a list of ranked coefficients (akin to above). From the ranked coefficients, the most important variables are density and residual sugar in the wine.\n",
    "\n",
    "- It is also interesting that hwne we scale our data before hand, the L1 ratio is closer to one (for lasso regression) than if we let elastic net normalize the variables for us (closer to .6)."
   ]
  },
  {
   "cell_type": "code",
   "execution_count": null,
   "metadata": {
    "collapsed": true
   },
   "outputs": [],
   "source": []
  }
 ],
 "metadata": {
  "anaconda-cloud": {},
  "kernelspec": {
   "display_name": "Python [Root]",
   "language": "python",
   "name": "Python [Root]"
  },
  "language_info": {
   "codemirror_mode": {
    "name": "ipython",
    "version": 3
   },
   "file_extension": ".py",
   "mimetype": "text/x-python",
   "name": "python",
   "nbconvert_exporter": "python",
   "pygments_lexer": "ipython3",
   "version": "3.5.2"
  }
 },
 "nbformat": 4,
 "nbformat_minor": 0
}
