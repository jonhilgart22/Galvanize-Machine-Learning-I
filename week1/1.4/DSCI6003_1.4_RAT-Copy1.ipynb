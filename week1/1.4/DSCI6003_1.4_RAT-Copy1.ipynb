{
 "cells": [
  {
   "cell_type": "markdown",
   "metadata": {},
   "source": [
    "##RAT 1.4\n",
    "\n",
    "1.What are time comlexities for selection sort, insertion sort, quick sort, merge sort under best, average and worst cases? (don't google or look up notes)"
   ]
  },
  {
   "cell_type": "markdown",
   "metadata": {},
   "source": [
    "2.Please fill in the following shellsort implementation"
   ]
  },
  {
   "cell_type": "code",
   "execution_count": 1,
   "metadata": {
    "collapsed": false
   },
   "outputs": [],
   "source": [
    "def shellsort(a):\n",
    "    # define gap split (not the don shell method)\n",
    "    \n",
    "    # while the gap split is not yet 0 (we get there using the floor division method)\n",
    "    \n",
    "        # decrement the gap\n",
    "        for i in range(s):\n",
    "            # now use the gap insertion sort detailed below\n",
    "            _gap_insertion_sort(a, i, s)\n",
    "        # cut the gap size in half.\n",
    "    \n",
    "    \n",
    "def _gap_insertion_sort(a, start, gap):\n",
    "    # get the length of a\n",
    "    \n",
    "    # indexing over the range using gap sized strides\n",
    "    for i in range(start+gap, N, gap):\n",
    "        # the current value of comparison is a[i]\n",
    "        curr = a[i]\n",
    "        # the current position is at i\n",
    "        p = i\n",
    "        # now insertion sort down the current gapped list - \n",
    "        # same as the insertion sort while loop, except that we decrement the position pointer \n",
    "        # and make sure that it's always larger than the gap.\n",
    "        \n",
    "    \n",
    "\n",
    "        # just like insertion sort, we set the current largest element to the current position\n",
    "        \n",
    "        \n",
    "        "
   ]
  },
  {
   "cell_type": "code",
   "execution_count": null,
   "metadata": {
    "collapsed": true
   },
   "outputs": [],
   "source": []
  }
 ],
 "metadata": {
  "anaconda-cloud": {},
  "kernelspec": {
   "display_name": "Python [Root]",
   "language": "python",
   "name": "Python [Root]"
  },
  "language_info": {
   "codemirror_mode": {
    "name": "ipython",
    "version": 3
   },
   "file_extension": ".py",
   "mimetype": "text/x-python",
   "name": "python",
   "nbconvert_exporter": "python",
   "pygments_lexer": "ipython3",
   "version": "3.5.2"
  }
 },
 "nbformat": 4,
 "nbformat_minor": 0
}
