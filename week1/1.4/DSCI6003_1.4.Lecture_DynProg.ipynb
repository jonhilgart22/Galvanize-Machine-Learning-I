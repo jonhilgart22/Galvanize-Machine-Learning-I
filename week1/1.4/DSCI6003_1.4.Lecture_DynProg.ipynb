{
 "cells": [
  {
   "cell_type": "markdown",
   "metadata": {},
   "source": [
    "# DSCI 6003 1.4 Lecture\n",
    "\n",
    "## Dynamic Programming\n",
    "\n",
    "Dynamic Programming, along with Linear Programming, is one of the most powerful and general programming techniques known today. Generality comes at some cost of additional complexity and performance. Although it is not terribly likeley that you will be asked to directly implement one of these methods in an analyst role, it is increasingly likely that the skills and knowledge attained from the study of these methods will later be useful when you are forced to tackle an unknown problem. Anyone who wishes to later work on an algorithms or engineering team should study both and consider mastering one of these two realms. \n",
    "\n",
    "*Note: * The wikipedia page on dynamic programming comes with a warning attached.  It is a little garbled.   [overgrown wiki page](https://en.wikipedia.org/wiki/Dynamic_programming). Be a little wary about what you use from it.  You'll find an interesting historical detail.  In an extended quote from Richard Bellman, the inventor explains where the terminology \"dynamic programming\" came from.  \n",
    "\n",
    "\"...it's impossible to use the word dynamic in a pejorative sense. Try thinking of some combination that will possibly give it a pejorative meaning. It's impossible. Thus, I thought dynamic programming was a good name. It was something not even a Congressman could object to. So I used it as an umbrella for my activities.\"\n",
    "\n",
    "Reinforcement learning has caused a resurgence of interest and research in dynamic programming.  Several of popular techniques for RL are based on dynamic programming.  Here's a set of slides from Dimitri Bertsekas. http://athenasc.com/NDP_Review.pdf   These slides review the use of neural nets to approximate some of the functions required for DP.  The examples we'll look at below are simple enough that tables will work.  Game playing (atari or go) requires more substantial functions requiring other forms of parametric approximation (piecewise linear approximations or neural nets, for example).  \n",
    "\n",
    "Dynamic programming is a relatively profound subfield of computer programming [all by itself](http://www.amazon.com/s/ref=nb_sb_noss_1?url=search-alias%3Daps&field-keywords=dynamic+programming). It is a way of solving complex problems where we must find a global optimum. DP breaks down problems into smaller problems (called subproblems) using **recursion**, and then storing that solution in a table or structure of some sort, called **memoization**.\n",
    "\n",
    "For the illustrative problem of generating Fibonacci sequences the following youtube video will give a good intuitive feel.  https://www.youtube.com/watch?v=e0CAbRVYAWg\n",
    "\n",
    "To illustrate the distinction between household variety recursion, memoization and DP, let's look at the problem of generating Fibonacci numbers.  The basic Fibonacci sequence satisfies:\n",
    "\n",
    "$F_{n} = F_{n-1}+F_{n-2}$  \n",
    "\n",
    "where the first two values are defined as 1:  \n",
    "\n",
    "$F_{0} = F_{1} = 1$  \n",
    "\n",
    "Thus we have 1, 1, 2, 3, 5, 8, 13, 21, 34, 55, 89, 144, 233, 377 and so on.  \n",
    "\n",
    "Since the Fibonacci sequence is defined as a recursion it fits easily into a recursive function definition.  You'll see that the recursion is terribly slow.  You'll see a couple of approaches for improving the compute times.  \n",
    "\n",
    "We'll look at three approaches to calculating this sequence, garden variety recursion, memoization and dynamic programming.  Let's look at each of these in sequence and estimate the compute costs of each.  For the illustrative problem of generating Fibonacci sequences the following youtube video will give a good intuitive feel. https://www.youtube.com/watch?v=e0CAbRVYAWg\n",
    "\n",
    "Here's some pseudo-code.  This comes from edX video on youtube.  Here's the link:  https://www.youtube.com/watch?v=OQ5jsbhAv_M\n",
    "\n",
    "1. Recursion  \n",
    "    def fib(n):  \n",
    "       if n < 3: f = 1  \n",
    "       else: f = fib(n-1) + fib(n-2)  \n",
    "       return f  \n",
    "\n",
    "What is the order complexity for this computation?  To get an idea, suppose that the time to compute then nth number is T(n).  What recursion does T(n) satisfy?  Draw out a tree to illustrate the dependencies.  \n",
    "\n",
    "\n",
    "2. Memoization\n",
    "The replicated dependencies that the dependency tree illustrated can be eliminated by memo-izing values of fib(n) as they are generated.  That eliminates the duplicate computations.  For this approach start with an empty dictionary that you'll use to store each Fibonacci number as you generate it.  Subsequent calls just look up the answer in the dictionary.  \n",
    "\n",
    "\n",
    "    memo = {}  \n",
    "    def fib(n):  \n",
    "       if n in memo: return memo[n]  \n",
    "       if n < 3: f = 1  \n",
    "       else:  f = fib(n-1) + fib(n-2)  \n",
    "       memo[n] = f  \n",
    "       return f  \n",
    "\n",
    "You can add memoization to any recursive algorithm.  If the natural recurssion would result in multiple evaluations for the same argument, then it will save some compute time.  What is the compute complexity for this approach?\n",
    "\n",
    "3.  Dynamic programming\n",
    "Dynamic programming has a memoization component, but it takes a somewhat different approach which may not look very dramatic in this Fibonnaci sequence problem but which will make a big difference as the problems get more complicated.  \n",
    "\n",
    "DP works on the problem starting from the other end and conquering small sub-problems and then aggregating them up into the final result.  It's called bottom-up versus the top-down recursions that we looked at above.  \n",
    "\n",
    "Writing fibonacci:\n",
    "```\n",
    "def fib(n):  \n",
    "   if n <= 2: return 1  \n",
    "   s_0 = 1  \n",
    "   s_1 = 1  \n",
    "   ctr = 1  \n",
    "   while ctr < n:  \n",
    "      f = s_0 + s_1  \n",
    "      s_0 = s_1  \n",
    "      s_1 = f  \n",
    "      ctr+=1  \n",
    "   return f\n",
    "```\n",
    "\n",
    "The \"memoizing\" in this version is truncated relative to example 2.  In example 2 you need to build a dictionary to hold all the intermediate values of the fib().  In the bottom up, DP approach only the last two values are needed and there's no sense in keeping the other ones, so the \"memo\" is smaller.  \n",
    "\n",
    "\n",
    "\n",
    "This is of course quite ugly, and so we can write the recurrence relationship directly as the algorithm:\n",
    "\n",
    "    def fibonacci(n):\n",
    "        if n == 0:\n",
    "            return 0\n",
    "        elif n == 1:\n",
    "            return 1\n",
    "        else:\n",
    "            return fibonacci(n-1)+fibonacci(n-2)\n",
    "\n",
    "However, this is not the most effective method of performing the calculation. For example if you try to compute fibonacci(1000) with this code, you will see that it is indeed quite slow. \n",
    "\n",
    "## QUIZ:\n",
    "\n",
    "Why is the above code so slow? Use %%timeit to compare the above two algorithms."
   ]
  },
  {
   "cell_type": "code",
   "execution_count": 1,
   "metadata": {
    "collapsed": true
   },
   "outputs": [],
   "source": [
    "def fibonacci_1(n):\n",
    "    s_0 = 1\n",
    "    s_1 = 1\n",
    "    ctr = 1\n",
    "    if n < 2: return 1\n",
    "    while ctr < n:\n",
    "        f = s_0 + s_1\n",
    "        s_0 = s_1\n",
    "        s_1 = f\n",
    "        ctr+=1\n",
    "    return f"
   ]
  },
  {
   "cell_type": "code",
   "execution_count": 2,
   "metadata": {
    "collapsed": true
   },
   "outputs": [],
   "source": [
    "def fibonacci_2(n):\n",
    "    if n == 0:\n",
    "        return 0\n",
    "    elif n == 1:\n",
    "        return 1\n",
    "    else:\n",
    "        return fibonacci_2(n-1)+fibonacci_2(n-2)"
   ]
  },
  {
   "cell_type": "code",
   "execution_count": 7,
   "metadata": {
    "collapsed": false
   },
   "outputs": [
    {
     "name": "stdout",
     "output_type": "stream",
     "text": [
      "The slowest run took 6.14 times longer than the fastest. This could mean that an intermediate result is being cached \n",
      "1000000 loops, best of 3: 621 ns per loop\n",
      "100000 loops, best of 3: 18.8 µs per loop\n"
     ]
    }
   ],
   "source": [
    "%timeit fibonacci_1(10)\n",
    "%timeit fibonacci_2(10)"
   ]
  },
  {
   "cell_type": "markdown",
   "metadata": {},
   "source": [
    "## Memoization\n",
    "\n",
    "The solution to our performance problem is to store the solutions for each of the subproblems as we work them out. This requires the addition of well-ordered, flexible storage. This process is called **memoization**. In the case of the fibonacci numbers, we can store them flexibly in a nice linear array. Hence when we have the old number, we need only look it up:"
   ]
  },
  {
   "cell_type": "code",
   "execution_count": 4,
   "metadata": {
    "collapsed": false
   },
   "outputs": [],
   "source": [
    "def fibonacci(n):\n",
    "    M = {0:1,1:1}\n",
    "    \n",
    "    def _fib(n, M):\n",
    "        if n in M:\n",
    "            return M[n]\n",
    "        else:\n",
    "            M[n] = _fib(n-1, M)+_fib(n-2, M)\n",
    "            return M[n]\n",
    "    return _fib(n,M)"
   ]
  },
  {
   "cell_type": "code",
   "execution_count": 5,
   "metadata": {
    "collapsed": false
   },
   "outputs": [
    {
     "name": "stdout",
     "output_type": "stream",
     "text": [
      "100000 loops, best of 3: 3.26 µs per loop\n"
     ]
    }
   ],
   "source": [
    "%timeit fibonacci(10)"
   ]
  },
  {
   "cell_type": "markdown",
   "metadata": {},
   "source": [
    "Another method, more common in lower-level languages, is to decompose the recursion into a loop:"
   ]
  },
  {
   "cell_type": "code",
   "execution_count": 6,
   "metadata": {
    "collapsed": true
   },
   "outputs": [],
   "source": [
    "def fibonacci(n):\n",
    "    M = {0:1,1:1}\n",
    "\n",
    "    if n in M:\n",
    "        return M[n]\n",
    "    else:\n",
    "        for i in range(2, n+1):\n",
    "            M[i] = M[i-1]+M[i-2]\n",
    "    return M[n]"
   ]
  },
  {
   "cell_type": "code",
   "execution_count": 7,
   "metadata": {
    "collapsed": false
   },
   "outputs": [
    {
     "name": "stdout",
     "output_type": "stream",
     "text": [
      "The slowest run took 8.80 times longer than the fastest. This could mean that an intermediate result is being cached \n",
      "1000000 loops, best of 3: 1.57 µs per loop\n"
     ]
    }
   ],
   "source": [
    "%timeit fibonacci(10)"
   ]
  },
  {
   "cell_type": "markdown",
   "metadata": {},
   "source": [
    "It goes without saying that fully decomposed loops that use simple logic are faster. However, they are not always easier to implement."
   ]
  },
  {
   "cell_type": "markdown",
   "metadata": {},
   "source": [
    "## Classes of Dynamic Programming Problems\n",
    "\n",
    "There are a limited number of technically posed problems that are clearly solved by dynamic programming:\n",
    "\n",
    "1. [Longest Common Subsequence](https://en.wikipedia.org/wiki/Longest_common_subsequence_problem)\n",
    "2. [Knapsack problems (0/1 and Unbound)](https://en.wikipedia.org/wiki/Knapsack_problem)\n",
    "3. [Shortest Path / Traveling Salesman](https://en.wikipedia.org/wiki/Shortest_path_problem)\n",
    "\n",
    "However, like \"sorting,\" an incredible number of applications can call for any one of these, sometimes in unexpected places. In any case, there are two types of dynamic programming - \"top down\" and \"bottom up\". Many problems can be formulated in both ways.\n",
    "\n",
    "1) In \"top down\" formulations, we solve as we did the fibonacci program above, starting with the maximal subproblem (top) and solving problems below it as we go. Problems to be solved in this way need to have a known closed solution. \n",
    "\n",
    "2) In \"bottom up\" solutions, we solve all known subproblems first, storing the subproblems in a table. The equivalent idea in the fibonacci sequence would be to solve $F_{2}$ then $F_{3}$, then $F_{4} = F_{3} + F_{2}$ and so on.\n",
    "\n"
   ]
  },
  {
   "cell_type": "markdown",
   "metadata": {},
   "source": [
    "## Longest Common Subsequence\n",
    "Here's a youtube video that walks through the process for LCS: https://www.youtube.com/watch?v=NnD96abizww\n",
    "\n",
    "\n",
    "    def LCS(X, Y):\n",
    "        m = len(X)\n",
    "        n = len(Y)\n",
    "        # An (m+1) times (n+1) matrix\n",
    "        C = [[0] * (n + 1) for _ in range(m + 1)]\n",
    "        for i in range(1, m+1):\n",
    "            for j in range(1, n+1):\n",
    "                if X[i-1] == Y[j-1]: \n",
    "                    C[i][j] = C[i-1][j-1] + 1\n",
    "                else:\n",
    "                    C[i][j] = max(C[i][j-1], C[i-1][j])\n",
    "        return C\n",
    "        \n",
    "![LCS](./images/LCS.png)"
   ]
  },
  {
   "cell_type": "markdown",
   "metadata": {},
   "source": [
    "## Knapsack Problems\n",
    "https://www.youtube.com/watch?v=8LusJS5-AGo\n",
    "\n",
    "There are several classes of Knapsack problems. We cover 2:\n",
    "\n",
    "**0-1 Knapsack:** In this case, we can either have an item in the knapsack or not.\n",
    "\n",
    "Posed as the optimization:\n",
    "\n",
    "maximize $\\sum_{i=1}^{n}v_{i}x_{i}$\n",
    "\n",
    "s.t. $\\sum_{i=1}^{n}w_{i}x_{i} \\leq W$\n",
    "\n",
    "s.t. $x_{i} \\in \\{0,1\\}$\n",
    "\n",
    "\n",
    "**Bounded Knapsack:** There is a limited number of copies of a given item that you can have. For example there are only 3 coins of a given denomination available.\n",
    "\n",
    "Posed as the optimization:\n",
    "\n",
    "maximize $\\sum_{i=1}^{n}v_{i}x_{i}$\n",
    "\n",
    "s.t. $\\sum_{i=1}^{n}w_{i}x_{i} \\leq W$\n",
    "\n",
    "s.t. $x_{i} \\in \\{0, \\ldots c_{i}\\}$\n",
    "\n",
    "\n",
    "**Unbounded Knapsack:** We can withdraw an unlimited number of items of any kind.\n",
    "\n",
    "maximize $\\sum_{i=1}^{n}v_{i}x_{i}$\n",
    "\n",
    "s.t. $\\sum_{i=1}^{n}w_{i}x_{i} \\leq W$\n",
    "\n",
    "s.t. $x_{i} \\geq 0$"
   ]
  },
  {
   "cell_type": "code",
   "execution_count": 8,
   "metadata": {
    "collapsed": true
   },
   "outputs": [],
   "source": [
    "import numpy as np\n",
    "\n",
    "def getUsedItems(w,M):\n",
    "    # item count\n",
    "    i = len(M)-1\n",
    "    currentW =  len(M[0])-1\n",
    "    # set everything to not marked\n",
    "    marked = [0]*(len(M))\n",
    "\n",
    "    while (i >= 0 and currentW >=0):\n",
    "        if (i==0 and M[i][currentW] >0 )or M[i][currentW] != M[i-1][currentW]:\n",
    "            marked[i] =1\n",
    "            currentW = currentW-w[i]\n",
    "        i = i-1\n",
    "    return marked\n",
    "\n",
    "\n",
    "# v = list of item values or profit\n",
    "# w = list of item weight or cost\n",
    "# W = max weight or max cost for the knapsack\n",
    "\n",
    "def zeroOneKnapsack(v, w, W):\n",
    "    # c is the cost matrix\n",
    "    n = len(v)\n",
    "    M = np.zeros((n,W+1))\n",
    "    for i in range(0,n):\n",
    "        #for ever possible weight\n",
    "        for j in range(0,W+1):\n",
    "            #can we add this item to this?\n",
    "            if (w[i] > j):\n",
    "                M[i][j] = M[i-1][j]\n",
    "            else:\n",
    "                M[i][j] = max(M[i-1][j],v[i] +M[i-1][j-w[i]])\n",
    "    return [M[n-1][W], getUsedItems(w,M)]"
   ]
  },
  {
   "cell_type": "code",
   "execution_count": 9,
   "metadata": {
    "collapsed": false
   },
   "outputs": [
    {
     "data": {
      "text/plain": [
       "[10.0, [1, 1, 1, 0]]"
      ]
     },
     "execution_count": 9,
     "metadata": {},
     "output_type": "execute_result"
    }
   ],
   "source": [
    "v = [2, 3, 5, 7]\n",
    "w = [1, 6, 9, 19]\n",
    "W = 19\n",
    "zeroOneKnapsack(v, w, W)\n",
    "\n"
   ]
  },
  {
   "cell_type": "markdown",
   "metadata": {},
   "source": [
    "## Traveling salesman problems\n",
    "\n",
    "Nevermind what I said before. The [struggle is real](https://developers.google.com/optimization/routing/tsp#solving-tsps-with-or-tools). Watch [this video](https://www.youtube.com/watch?v=q6fPk0--eHY).\n",
    "\n",
    "Dijkstra's algorithm is a subset of the traveling salesman-type problem, as it has limited difficulty. Although exact solutions are dynamic for TSP, an entire industry has sprung up around solutions to the TSP. \n",
    "\n",
    "\n",
    "\n"
   ]
  },
  {
   "cell_type": "code",
   "execution_count": null,
   "metadata": {
    "collapsed": true
   },
   "outputs": [],
   "source": []
  }
 ],
 "metadata": {
  "kernelspec": {
   "display_name": "Python 2",
   "language": "python",
   "name": "python2"
  },
  "language_info": {
   "codemirror_mode": {
    "name": "ipython",
    "version": 2
   },
   "file_extension": ".py",
   "mimetype": "text/x-python",
   "name": "python",
   "nbconvert_exporter": "python",
   "pygments_lexer": "ipython2",
   "version": "2.7.12"
  }
 },
 "nbformat": 4,
 "nbformat_minor": 0
}
