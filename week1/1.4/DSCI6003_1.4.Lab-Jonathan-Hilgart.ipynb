{
 "cells": [
  {
   "cell_type": "markdown",
   "metadata": {},
   "source": [
    "# DSCI 6003 1.4 Lab\n",
    "\n",
    "Today you are to solve a dynamic programming problem from scratch: [Interviewcake #16](https://www.interviewcake.com/question/java/cake-thief)\n",
    "\n",
    "Repeated below:\n",
    "\n",
    "You are a renowned thief who has recently switched from stealing precious metals to stealing cakes because of the insane profit margins. You end up hitting the jackpot, breaking into the world's largest privately owned stock of cakes—the vault of the Queen of England.\n",
    "While Queen Elizabeth has a limited number of types of cake, she has an unlimited supply of each type.\n",
    "\n",
    "Each type of cake has a weight and a value, stored in objects of a CakeType class:\n",
    "\n",
    "    class CakeType:\n",
    "        def __init__(self, typename, weight, value):\n",
    "            self.typename = typename\n",
    "            self.weight = weight\n",
    "            self.value = value\n",
    "\n",
    "i.e. cake1 = CakeType(chocolate, 3, 50)\n",
    "\n",
    "Begin by diagramming the solution and drawing a paralell to other problems we have discussed in class. Work through the solution step by step without drilling through the internet. You might consider a simpler problem first.\n",
    "\n",
    "Good luck. "
   ]
  },
  {
   "cell_type": "code",
   "execution_count": 354,
   "metadata": {
    "collapsed": true
   },
   "outputs": [],
   "source": [
    "class CakeType:\n",
    "    def __init__(self, typename, weight, value):\n",
    "        self.typename = typename\n",
    "        self.weight = weight\n",
    "        self.value = value\n",
    "        \n",
    "#cake_tuples = [(7, 160), (3, 90), (2, 15)]\n",
    "# capacity    = 20\n",
    "\n",
    "# max_duffel_bag_value(cake_tuples, capacity)"
   ]
  },
  {
   "cell_type": "code",
   "execution_count": 355,
   "metadata": {
    "collapsed": false
   },
   "outputs": [
    {
     "data": {
      "text/plain": [
       "160"
      ]
     },
     "execution_count": 355,
     "metadata": {},
     "output_type": "execute_result"
    }
   ],
   "source": [
    "cake1 = CakeType('chocolate',7,160)\n",
    "cake1.value"
   ]
  },
  {
   "cell_type": "code",
   "execution_count": 422,
   "metadata": {
    "collapsed": true
   },
   "outputs": [],
   "source": [
    "cake2 = CakeType('vanilla',3,90)"
   ]
  },
  {
   "cell_type": "code",
   "execution_count": null,
   "metadata": {
    "collapsed": true
   },
   "outputs": [],
   "source": [
    " # cake_tuples = [(7, 160), (3, 90), (2, 15)]"
   ]
  },
  {
   "cell_type": "code",
   "execution_count": 423,
   "metadata": {
    "collapsed": true
   },
   "outputs": [],
   "source": [
    "\n",
    "cake5 = CakeType('small_cake',2,15)\n",
    "all_cakes = [cake1,cake2,cake5]"
   ]
  },
  {
   "cell_type": "code",
   "execution_count": 358,
   "metadata": {
    "collapsed": false
   },
   "outputs": [],
   "source": [
    "## Unlimited number of cakes , want to maximize the value \n",
    "##  create table and index\n",
    "## Sttempt number one doesn't work that well\n",
    "\n",
    "def cake_stealing(list_of_cakes,weight_of_bag):\n",
    "    \"\"\"Return the max value of different cakes\"\"\"\n",
    "    \n",
    "    max_values_at_each_weight = {}\n",
    "    length = len(list_of_cakes)\n",
    "    \n",
    "    M = np.zeros((length,weight_of_bag+1))\n",
    "    \n",
    "    #sort the cakes by the weight\n",
    "    \n",
    "    cakes_list = [(list_of_cakes[item].typename,list_of_cakes[item].weight,list_of_cakes[item].value) \\\n",
    "                  for item in range(len(list_of_cakes))]\n",
    "    cakes_list_sorted = sorted(cakes_list, key = lambda tup: tup[1])\n",
    "    #name , weight , value\n",
    "    for weight in range(weight_of_bag+1):\n",
    "        first_weight = 0\n",
    "        first_value = 0\n",
    "        first_count = 0\n",
    "        while first_count <= weight:\n",
    "            \n",
    "            first_weight +=cakes_list_sorted[0][1]\n",
    "            first_value +=  cakes_list_sorted[0][2]\n",
    "            first_count +=1\n",
    "        if weight+1>=np.shape(M)[1]: ## so that we do not go over the number of columns\n",
    "            pass\n",
    "        else:\n",
    "            M[0,weight+1] = first_value ##multiples of the smallest one\n",
    "        for cake_count,cake in enumerate(cakes_list_sorted): #go through each cake\n",
    "            \n",
    "            if weight ==0 and cake_count ==0:\n",
    "                M[:,0]=0\n",
    "            elif weight_of_bag ==0:\n",
    "                return 0\n",
    "            else:\n",
    "                if cake[1]>weight:    #weight greater than current bag weight\n",
    "                    M[cake_count,weight] = M[cake_count-1,weight] ##take previous value\n",
    "                \n",
    "                \n",
    "                elif cake[1]<=weight and cake_count!=0: #cake weight less than current bag weight\n",
    "                    \n",
    "                    current_weight=cake[1]\n",
    "                    current_value =cake[2]\n",
    "                    count=1\n",
    "                    \n",
    "                    while current_weight<=weight: #use this to find the number of multiple cakes you want to take\n",
    "                        current_weight += cake[1]\n",
    "                        if current_weight > weight:\n",
    "                            break\n",
    "                        current_value +=cake[2]\n",
    "                        count+=1\n",
    "                    \n",
    "                    #Compare three values, the one above you in the matrix, the difference in weight, and multiple\n",
    "                    #of the current cake\n",
    "                    M[cake_count,weight] = max (M[cake_count-1,weight],\\\n",
    "                                                M[cake_count-1, weight-cake[1]]+cake[2],\\\n",
    "                                               current_value )\n",
    "                \n",
    "         \n",
    "            \n",
    "    print(M)  \n",
    "    return max(M[:,weight_of_bag])\n",
    "    \n",
    "    "
   ]
  },
  {
   "cell_type": "code",
   "execution_count": 359,
   "metadata": {
    "collapsed": false,
    "scrolled": true
   },
   "outputs": [
    {
     "name": "stdout",
     "output_type": "stream",
     "text": [
      "[[   0.    0.   30.   45.   60.   75.   90.]\n",
      " [   0.    0.   30.   90.   90.  120.  180.]\n",
      " [   0.    0.   30.   90.   90.  120.  180.]]\n"
     ]
    },
    {
     "data": {
      "text/plain": [
       "180.0"
      ]
     },
     "execution_count": 359,
     "metadata": {},
     "output_type": "execute_result"
    }
   ],
   "source": [
    "cake_stealing(all_cakes,6)"
   ]
  },
  {
   "cell_type": "code",
   "execution_count": 360,
   "metadata": {
    "collapsed": false
   },
   "outputs": [
    {
     "name": "stdout",
     "output_type": "stream",
     "text": [
      "(2, 3)\n"
     ]
    }
   ],
   "source": [
    "print(np.shape(test))"
   ]
  },
  {
   "cell_type": "code",
   "execution_count": null,
   "metadata": {
    "collapsed": true
   },
   "outputs": [],
   "source": []
  },
  {
   "cell_type": "code",
   "execution_count": 499,
   "metadata": {
    "collapsed": false
   },
   "outputs": [],
   "source": [
    "#attempt number two\n",
    "\n",
    "def cake_stealer(list_of_cakes,bag_weight):\n",
    "    \"\"\"Unbounded knapsack problem\"\"\"\n",
    "    ## recode\n",
    "# four cases,  1) one above  2) current one multipled by even divisible \n",
    "#3) current one divisibiel by num, leftover take from the index\n",
    "#4) value of that item if it goes in evenly\n",
    "    length = len(list_of_cakes)\n",
    "    M = np.zeros((length,bag_weight+1))\n",
    "    \n",
    "    #sort the cakes by the weight\n",
    "    \n",
    "    cakes_list = [(list_of_cakes[item].typename,list_of_cakes[item].weight,list_of_cakes[item].value) \\\n",
    "                  for item in range(len(list_of_cakes))]\n",
    "    cakes_list_sorted = sorted(cakes_list, key = lambda tup: tup[1])\n",
    "    #name , weight , value\n",
    "    print(cakes_list_sorted)\n",
    "    \n",
    "    max_row = 0\n",
    "    max_column =0\n",
    "    max_row_two = 0\n",
    "    max_column_two = 0\n",
    "   \n",
    "    for weight in range(bag_weight+1):\n",
    "         for cake_count,cake in enumerate(cakes_list_sorted):\n",
    "      \n",
    "            if weight ==0:\n",
    "                M[cake_count,weight]=0\n",
    "            elif cake[1]>weight:\n",
    "                M[cake_count,weight]= M[cake_count-1,weight]\n",
    "            else:\n",
    "                \n",
    "            \n",
    "                M[cake_count,weight] = max(M[cake_count-1,weight], int(weight/cake[1])*cake[2] , \\\n",
    "                                           int(weight/cake[1]) *cake[2] + M[ cake_count-1,(weight%cake[1]) ]   )\n",
    "    \n",
    "                \n",
    "                if M[cake_count-1,weight] > int(weight/cake[1])*cake[2] and \\\n",
    "                    M[cake_count-1,weight] > int(weight/cake[1]) *cake[2] + M[ cake_count-1,(weight%cake[1])]  :\n",
    "                    max_row = cake_count-1\n",
    "                    max_column = weight\n",
    "                elif int(weight/cake[1])*cake[2] >M[cake_count-1,weight] and \\\n",
    "                    int(weight/cake[1])*cake[2] > int(weight/cake[1]) *cake[2] + M[ cake_count-1,(weight%cake[1]) ]:\n",
    "                        max_row = cake_count\n",
    "                        max_column = weight\n",
    "                elif int(weight/cake[1]) *cake[2] + M[ cake_count-1,(weight%cake[1]) ] > M[cake_count-1,weight] and\\\n",
    "                    int(weight/cake[1]) *cake[2] + M[ cake_count-1,(weight%cake[1]) ] > int(weight/cake[1])*cake[2]:\n",
    "                        max_row = cake_count\n",
    "                        max_column = weight\n",
    "                        max_row_two = cake_count-1\n",
    "                        max_column_two = weight%cake[1]\n",
    "                        \n",
    "        \n",
    "    \n",
    "    print(M)\n",
    "    max_num = max(M[:,(bag_weight)])\n",
    "    print(max(M[:,(bag_weight)]))\n",
    "    \n",
    "#     print(max_row,'max row')\n",
    "#     print(max_column,'max column')\n",
    "#     print(max_row_two,'max row two')\n",
    "#     print(max_column_two,'max col two')\n",
    "    \n",
    "    if max_row_two ==0 and max_column_two ==0:\n",
    "        #cakes_list_sorted[max_row]\n",
    "        \n",
    "        print(M[max_row,max_column]/cakes_list_sorted[max_row][2] , \"number of cakes\")\n",
    "    else:\n",
    "        \n",
    "        print(int(M[max_row,max_column]/cakes_list_sorted[max_row][2]), cakes_list_sorted[max_row], \"cakes taken\")  \n",
    "        print(M[max_row_two,max_column_two]/cakes_list_sorted[max_row_two][2], cakes_list_sorted[max_row_two],\"cakes taken\")\n",
    "    "
   ]
  },
  {
   "cell_type": "code",
   "execution_count": 502,
   "metadata": {
    "collapsed": false
   },
   "outputs": [
    {
     "name": "stdout",
     "output_type": "stream",
     "text": [
      "[('small_cake', 2, 15), ('vanilla', 3, 90), ('chocolate', 7, 160)]\n",
      "[[   0.    0.   15.   15.   30.   30.   45.   45.   60.   60.   75.   75.\n",
      "    90.   90.  105.  105.  120.  120.  135.  135.  150.]\n",
      " [   0.    0.   15.   90.   90.  105.  180.  180.  195.  270.  270.  285.\n",
      "   360.  360.  375.  450.  450.  465.  540.  540.  555.]\n",
      " [   0.    0.   15.   90.   90.  105.  180.  180.  195.  270.  270.  285.\n",
      "   360.  360.  375.  450.  450.  465.  540.  540.  555.]]\n",
      "555.0\n",
      "6 ('vanilla', 3, 90) cakes taken\n",
      "1.0 ('small_cake', 2, 15) cakes taken\n"
     ]
    }
   ],
   "source": [
    "cake_stealer(all_cakes,20)"
   ]
  },
  {
   "cell_type": "code",
   "execution_count": null,
   "metadata": {
    "collapsed": true
   },
   "outputs": [],
   "source": []
  }
 ],
 "metadata": {
  "kernelspec": {
   "display_name": "Python [Root]",
   "language": "python",
   "name": "Python [Root]"
  },
  "language_info": {
   "codemirror_mode": {
    "name": "ipython",
    "version": 3
   },
   "file_extension": ".py",
   "mimetype": "text/x-python",
   "name": "python",
   "nbconvert_exporter": "python",
   "pygments_lexer": "ipython3",
   "version": "3.5.2"
  }
 },
 "nbformat": 4,
 "nbformat_minor": 0
}
