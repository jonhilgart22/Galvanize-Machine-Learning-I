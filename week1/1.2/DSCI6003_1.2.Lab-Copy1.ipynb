{
 "cells": [
  {
   "cell_type": "markdown",
   "metadata": {},
   "source": [
    "# DSCI 6001 1.2 Lab\n",
    "\n",
    "## Dijkstra's algorithm\n",
    "\n",
    "Dijkstra's algorithm is a classic BFS (Breadth First Search) type algorithm designed to solve the dynamic connectivity problem in the case where the graph in question has edge lengths and we seek to find the **shortest path possible** between two nodes. There are dozens of variants of BFS and many of the simplest ones are *rather common 2nd round interview questions for data scientists*\n",
    "\n",
    "The pseudocode of the algorithm is detailed in Kreyszig 23.3, but we give it here in the Galvanize format for your convenience:\n",
    "\n",
    "    function dijkstra(Vertices, Edges, source_node):\n",
    "        \n",
    "        initialize distance array\n",
    "        initialize support set array (stores lists of nodes - sptSet[i] will be True if vertex i is included i  shortest path tree or shortest distance from src to i is finalized, else false)\n",
    "        \n",
    "        for each vertex in Vertices:\n",
    "            set distance from each vertex to \"infinity\" or very large\n",
    "            set support set to False\n",
    "            \n",
    "        set distance from source_node to itself to 0 (of course)\n",
    "        \n",
    "        for all edges:\n",
    "            Pick the minimum distance vertex from the set of vertices not yet processed. \n",
    "            current node u is always equal to source_node in first iteration.\n",
    "            \n",
    "            Mark the picked vertex as processed\n",
    "            \n",
    "            Update the distance value of the adjacent vertices of the picked vertex.\n",
    "            \n",
    "            for all adjacent vertices v of the picked vertex u:\n",
    "            \n",
    "                if v is not in the support set, there is an edge from \n",
    "                u to v, and total weight of path from source to v through u is \n",
    "                smaller than current value of dist[v]:\n",
    "                    \n",
    "                    update the distance to v as distance to u plus the distance from u to v\n",
    "                    (you may also wish to store the sequence of graph edges)\n",
    "                \n",
    " \n",
    "Dijkstra's algorithm can be written in many ways. Today you are to learn the algorithm inside and out by completing the below code stub. Here the graph is given to the algorithm as a dictionary, and the algorithm keeps track of members of the support set separately, as it recurses over the shortest nodes. Dijkstra's algorithm can also be written with *for* loops rather than recursion. Virtually all recursive algorithms can be rewritten in terms of for loops. As difficult as recursion is to understand, however, it is often a shortcut when compared to the daunting task of trying to replicate recursion. "
   ]
  },
  {
   "cell_type": "code",
   "execution_count": 3,
   "metadata": {
    "collapsed": false
   },
   "outputs": [
    {
     "name": "stdout",
     "output_type": "stream",
     "text": [
      "shortest path: ['t', 'd', 'b', 's'] cost=8\n"
     ]
    }
   ],
   "source": [
    "def dijkstra(graph,source,target,visited=[],dist={},support_set={}):\n",
    " \n",
    "    # a few sanity checks\n",
    "    if source not in graph:\n",
    "        raise TypeError('the root of the shortest path tree cannot be found in the graph')\n",
    "    if target not in graph:\n",
    "        raise TypeError('the target of the shortest path cannot be found in the graph')    \n",
    "    \n",
    "    # recursive loop break condition \n",
    "    if source == target:\n",
    "        # If we have hit the break condition, we build the shortest path and display it\n",
    "        path=[]\n",
    "        predicted=target\n",
    "        \n",
    "        #get all predecessors in the path and display them (this recurses down the while condition until you run out)\n",
    "        while predicted != None:\n",
    "            path.append(predicted)\n",
    "            predicted=support_set.get(predicted,None)\n",
    "        print('shortest path: '+str(path)+\" cost=\"+str(dist[target])) \n",
    "        \n",
    "    else :     \n",
    "        # otherwise, the loop break condition has not yet been hit\n",
    "        \n",
    "        # if the visited set is empty, set the distance to the source to 0\n",
    " \n",
    "        # for all neighbors of the source vertex\n",
    "            # if the neighbor has not yet been visited\n",
    "                # calculate the new presumptive distance between the source and the neighbor\n",
    "                # if this distance is shorter than the current minimum neighbor distance (default to float('inf') if the neighbor isn't connected)\n",
    "                    # update the distance to the neighbor as the new distance\n",
    "                    # update the support set distance of the neighbor to point to the source\n",
    "        # mark the source as having been visited\n",
    "        \n",
    "        # now that all neighbors of the source have been visited, recurse again                         \n",
    "\n",
    "        # select all unvisited nodes in the graph\n",
    "                # get all distances between the unvisited nodes k  \n",
    "        # find the minimum of the unvisited distances and set it to be the new source\n",
    "        # recurse on the algorithm again with the new source, the original target and the current support set\n",
    "        \n",
    "\n",
    "\n",
    "if __name__ == \"__main__\":\n",
    "    #import sys;sys.argv = ['', 'Test.testName']\n",
    "    #unittest.main()\n",
    "    graph = {'s': {'a': 2, 'b': 1},\n",
    "            'a': {'s': 3, 'b': 4, 'c':8},\n",
    "            'b': {'s': 4, 'a': 2, 'd': 2},\n",
    "            'c': {'a': 2, 'd': 7, 't': 4},\n",
    "            'd': {'b': 1, 'c': 11, 't': 5},\n",
    "            't': {'c': 3, 'd': 5}}\n",
    "    dijkstra(graph,'s','t')\n"
   ]
  },
  {
   "cell_type": "code",
   "execution_count": null,
   "metadata": {
    "collapsed": true
   },
   "outputs": [],
   "source": []
  }
 ],
 "metadata": {
  "kernelspec": {
   "display_name": "Python 2",
   "language": "python",
   "name": "python2"
  },
  "language_info": {
   "codemirror_mode": {
    "name": "ipython",
    "version": 2
   },
   "file_extension": ".py",
   "mimetype": "text/x-python",
   "name": "python",
   "nbconvert_exporter": "python",
   "pygments_lexer": "ipython2",
   "version": "2.7.10"
  }
 },
 "nbformat": 4,
 "nbformat_minor": 0
}
