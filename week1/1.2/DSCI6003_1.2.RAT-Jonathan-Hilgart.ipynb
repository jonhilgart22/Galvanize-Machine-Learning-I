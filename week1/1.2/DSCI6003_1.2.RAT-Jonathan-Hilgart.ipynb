{
 "cells": [
  {
   "cell_type": "markdown",
   "metadata": {
    "collapsed": true
   },
   "source": [
    "##  RAT 1.2"
   ]
  },
  {
   "cell_type": "markdown",
   "metadata": {},
   "source": [
    "###  Linear Algebra"
   ]
  },
  {
   "cell_type": "markdown",
   "metadata": {},
   "source": [
    "1.Find the eigenvalues and eigenvectors of matrix A\n",
    "\n",
    "$${\\bf A} = \\left[ \\begin{matrix} 3 & 1 \\\\ -2 & 0 \\end{matrix} \\right]$$"
   ]
  },
  {
   "cell_type": "markdown",
   "metadata": {},
   "source": [
    "2.What's the relationship/difference between Eigendecomposition and SVD? "
   ]
  },
  {
   "cell_type": "markdown",
   "metadata": {
    "collapsed": false
   },
   "source": [
    "3.Find bases for the kernel and the image of the linear transformation given by \n",
    "$$ T \\left( \\left[ \\begin{matrix} x \\\\ y \\\\ z \\end{matrix} \\right] \\right) = \\left[ \\begin{matrix} 3x - y + z \\\\ y +2z \\\\ 3y + 6z \\end{matrix} \\right]$$"
   ]
  },
  {
   "cell_type": "markdown",
   "metadata": {},
   "source": [
    "###  Calculus"
   ]
  },
  {
   "cell_type": "markdown",
   "metadata": {
    "collapsed": true
   },
   "source": [
    "1) Find the derivatives of the following function:\n",
    "\n",
    "$$y = {x}^{2}{2}^{x}+\\pi$$\n",
    "\n",
    "2) Find the derivative of the following function:\n",
    "\n",
    "$$\\frac{y}{x-y}={x}^{2}+1$$"
   ]
  },
  {
   "cell_type": "code",
   "execution_count": 1,
   "metadata": {
    "collapsed": true
   },
   "outputs": [],
   "source": [
    "import numpy as np"
   ]
  },
  {
   "cell_type": "code",
   "execution_count": 2,
   "metadata": {
    "collapsed": true
   },
   "outputs": [],
   "source": [
    "A = np.array([[3,1],\n",
    "             [-2,0]])"
   ]
  },
  {
   "cell_type": "code",
   "execution_count": 4,
   "metadata": {
    "collapsed": false
   },
   "outputs": [
    {
     "data": {
      "text/plain": [
       "(array([ 2.,  1.]), array([[ 0.70710678, -0.4472136 ],\n",
       "        [-0.70710678,  0.89442719]]))"
      ]
     },
     "execution_count": 4,
     "metadata": {},
     "output_type": "execute_result"
    }
   ],
   "source": [
    "#eigenvalues are the first element, eigenvectors are the second\n",
    "np.linalg.eig(A)"
   ]
  },
  {
   "cell_type": "markdown",
   "metadata": {},
   "source": [
    "# 2\n",
    ">Eigendecomposition uses the characteristic equation to find the eigenvalues and corresponding eigenvectors. Through SVD (SVD produces three matrices U D V.T) , you find the eigenvalues assocaited with A.dot(A.T) which are ranked from highest to lowest on the diagonal matrix (D). Next, you find the eigenvectors associated with the A.dot(A.T) matrix which form the U matrix (for the feature space). Finally, you find the eigenvectors associated with the A.T(.dot(A)) matrix which forms the V.T matrix (for the sample space). "
   ]
  },
  {
   "cell_type": "markdown",
   "metadata": {},
   "source": [
    "# 3 - basis for the kernel + image\n",
    "$$ T \\left( \\left[ \\begin{matrix} x \\\\ y \\\\ z \\end{matrix} \\right] \\right) = \\left[ \\begin{matrix} 3x - y + z \\\\ y +2z \\\\ 3y + 6z \\end{matrix} \\right]$$"
   ]
  },
  {
   "cell_type": "markdown",
   "metadata": {},
   "source": [
    "> - 3x-y+z = 0\n",
    "- y+2z =0\n",
    "- 3y + 6z = 0\n",
    "\n",
    "- x = (y-z/)3\n",
    "- y = -2z\n",
    "- z = -1/2y\n",
    "\n",
    "\n",
    "- pick points\n",
    "- y=1\n",
    "- z= -1/2\n",
    "- x= (1+1/2)/3\n",
    "\n",
    "\n",
    "$R * [1/2 , 1, -1/2].T$ is a basis for the kernel where R is a scalar\n",
    "\n",
    "> The general form of the basis for the kernel is $ S * [(y-z)/3 ,-2z , -1/2y].T $\n",
    "\n",
    "\n",
    "\n",
    "### Image\n",
    "\n",
    "- The image is the set of linearly independent columns from the matrix. \n",
    "\n",
    "- matrix is \n",
    "\n",
    "[ 3, -1, 0\n",
    "\n",
    "0, 1, 2\n",
    "\n",
    "0, 3, 6]\n",
    "\n",
    "\n",
    "- Therefore, the image is [3,0,0].T and [-1,1,0].T (since the third row is a linear combination of row two)."
   ]
  },
  {
   "cell_type": "markdown",
   "metadata": {},
   "source": [
    "### Calculus\n",
    "1) Find the derivatives of the following function:\n",
    "\n",
    "$$y = {x}^{2}{2}^{x}+\\pi$$\n",
    "\n",
    "2) Find the derivative of the following function:\n",
    "\n",
    "$$\\frac{y}{x-y}={x}^{2}+1$$"
   ]
  },
  {
   "cell_type": "markdown",
   "metadata": {},
   "source": [
    "1) dy/dx = $2x*2^x+x^2*2^x*log(2)$"
   ]
  },
  {
   "cell_type": "markdown",
   "metadata": {},
   "source": [
    "2) $y = (x^2 +1) *(x-y)$ \n",
    "- $ y = (x^3 - y*x^2 +x - y)$\n",
    "- $2y = x^3 - y*x^2 $\n",
    "- $y = (x^3 - y*x^2 )/2$\n",
    "- $dy/dx = 3/2x^2 -yx$"
   ]
  },
  {
   "cell_type": "code",
   "execution_count": null,
   "metadata": {
    "collapsed": true
   },
   "outputs": [],
   "source": []
  }
 ],
 "metadata": {
  "kernelspec": {
   "display_name": "Python [Root]",
   "language": "python",
   "name": "Python [Root]"
  },
  "language_info": {
   "codemirror_mode": {
    "name": "ipython",
    "version": 3
   },
   "file_extension": ".py",
   "mimetype": "text/x-python",
   "name": "python",
   "nbconvert_exporter": "python",
   "pygments_lexer": "ipython3",
   "version": "3.5.2"
  }
 },
 "nbformat": 4,
 "nbformat_minor": 0
}
