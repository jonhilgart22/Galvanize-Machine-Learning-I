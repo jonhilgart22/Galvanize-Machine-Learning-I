{
 "cells": [
  {
   "cell_type": "markdown",
   "metadata": {
    "collapsed": true
   },
   "source": [
    "##  RAT 1.2"
   ]
  },
  {
   "cell_type": "markdown",
   "metadata": {},
   "source": [
    "###  Linear Algebra"
   ]
  },
  {
   "cell_type": "markdown",
   "metadata": {},
   "source": [
    "1.Find the eigenvalues and eigenvectors of matrix A\n",
    "\n",
    "$${\\bf A} = \\left[ \\begin{matrix} 3 & 1 \\\\ -2 & 0 \\end{matrix} \\right]$$"
   ]
  },
  {
   "cell_type": "markdown",
   "metadata": {},
   "source": [
    "2.What's the relationship/difference between Eigendecomposition and SVD? "
   ]
  },
  {
   "cell_type": "markdown",
   "metadata": {
    "collapsed": false
   },
   "source": [
    "3.Find bases for the kernel and the image of the linear transformation given by \n",
    "$$ T \\left( \\left[ \\begin{matrix} x \\\\ y \\\\ z \\end{matrix} \\right] \\right) = \\left[ \\begin{matrix} 3x - y + z \\\\ y +2z \\\\ 3y + 6z \\end{matrix} \\right]$$"
   ]
  },
  {
   "cell_type": "markdown",
   "metadata": {},
   "source": [
    "###  Calculus"
   ]
  },
  {
   "cell_type": "markdown",
   "metadata": {
    "collapsed": true
   },
   "source": [
    "1) Find the derivatives of the following function:\n",
    "\n",
    "$$y = {x}^{2}{2}^{x}+\\pi$$\n",
    "\n",
    "2) Find the derivative of the following function:\n",
    "\n",
    "$$\\frac{y}{x-y}={x}^{2}+1$$"
   ]
  },
  {
   "cell_type": "code",
   "execution_count": null,
   "metadata": {
    "collapsed": true
   },
   "outputs": [],
   "source": []
  }
 ],
 "metadata": {
  "kernelspec": {
   "display_name": "Python 2",
   "language": "python",
   "name": "python2"
  },
  "language_info": {
   "codemirror_mode": {
    "name": "ipython",
    "version": 2
   },
   "file_extension": ".py",
   "mimetype": "text/x-python",
   "name": "python",
   "nbconvert_exporter": "python",
   "pygments_lexer": "ipython2",
   "version": "2.7.12"
  }
 },
 "nbformat": 4,
 "nbformat_minor": 0
}
