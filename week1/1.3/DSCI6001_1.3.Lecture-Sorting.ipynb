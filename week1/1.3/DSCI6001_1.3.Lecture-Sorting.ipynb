{
 "cells": [
  {
   "cell_type": "markdown",
   "metadata": {},
   "source": [
    "# DSCI 6001 1.3 Lecture\n",
    "\n",
    "\n",
    "## An introduction to Sorting\n",
    "\n",
    "### By the end of this lecture you will be able to:\n",
    "1. Describe the general sorting problem in your own words\n",
    "2. Describe and Implement the Selection Sort Algorithm\n",
    "3. Describe and Implement the Insertion Sort Algorithm\n",
    "4. Describe and Implement the Mergesort Algorithm"
   ]
  },
  {
   "cell_type": "markdown",
   "metadata": {},
   "source": [
    "### The general sorting problem\n",
    "\n",
    "Sorting an array of values:\n",
    "\n",
    "$$\\{4, 5, 3, 1, 9, 2, 8, 0, 7, 6\\} \\rightarrow \\{0, 1, 2, 3, 4, 5, 6, 7, 8, 9\\}$$\n",
    "\n",
    "is one of the great classical problems in computer science. This problem has been solved many times and in many different ways. The development and modifications of novel sorting algorithms is something of an art among academic computer scientists. It is not particularly important that you be able to do this off-the-cuff as a data scientist, but the skills and background are absolutely necessary.\n",
    "\n",
    "\n",
    "### Ordering\n",
    "\n",
    "The nature of the items to be sorted by the list can vary, for example, alphanumeric characters, integers or floating point values. We might also consider things such as vectors and geometric objects. In any of these cases, there must be a way of effectively comparing two items. For integers and floating values, comparisons are easily made using the standard comparison operations ( <, >, <=, >=, ==, != ), guaranteed to work by the fundamental theorem of arithmetic. Alphanumeric characters are ordered naturally in the way that they are taught (i.e. a:1, b: 2, c: 3, etc.). For other objects, such as vectors or alphabet characters, we have to\n",
    "\n",
    "In Python, we typically do this by overriding the comparison operators:"
   ]
  },
  {
   "cell_type": "code",
   "execution_count": 1,
   "metadata": {
    "collapsed": false
   },
   "outputs": [
    {
     "name": "stdout",
     "output_type": "stream",
     "text": [
      "True False True False\n"
     ]
    }
   ],
   "source": [
    "\n",
    "import math\n",
    "class Circle(object):\n",
    "    def __init__(self, x=0, y=0, r=0):\n",
    "        # origin point in R2 (x, y)\n",
    "        self.x = x\n",
    "        self.y = y\n",
    "        # radius\n",
    "        self.r = r\n",
    "    def __str__(self):\n",
    "        return \"Circle at (%d , %d). Radius: %f\" % (self.x, self.y, self.r)\n",
    "    def calcArea(self, r):\n",
    "        self.r = r\n",
    "        return (math.pi)*(r**2)\n",
    "    def __gt__(self, circle2):\n",
    "        return self.r > circle2.r\n",
    "    def __ge__(self, circle2):\n",
    "        return self.r >= circle2.r\n",
    "    def __lt__(self, circle2):\n",
    "        return self.r < circle2.r\n",
    "    def __le__(self, circle2):\n",
    "        return self.r <= circle2.r\n",
    "    def __ne__(self, circle2):\n",
    "        return self.r != circle2.r\n",
    "    def __eq__(self, circle2):\n",
    "        return self.r == circle2.r\n",
    "    \n",
    "    #And so on for __lt__(), __le__(), __ne__(), etc\n",
    "    \n",
    "def main():\n",
    "    A = Circle(3,4,1.5) \n",
    "    B = Circle(1,2,5.0)\n",
    "    C = Circle(5,7,7) \n",
    "    D = Circle(9,8,3)\n",
    "    print A < B, B > C, A < C, A >= C\n",
    "main()\n",
    "#Output should be \"True, False, True, False\""
   ]
  },
  {
   "cell_type": "markdown",
   "metadata": {},
   "source": [
    "## QUIZ: \n",
    "\n",
    "Finish filling out the above code stub."
   ]
  },
  {
   "cell_type": "markdown",
   "metadata": {},
   "source": [
    "# Sorting Algorithms\n",
    "\n",
    "Charting [sorting algorithms](http://www.sorting-algorithms.com/) is important to understanding them. It is important that you learn to work out drawing sorting charts by hand. \n",
    "\n",
    "The main goal with sorting algorithms is to have an algorithm that is:\n",
    "\n",
    "1) Efficient - minimizes search complexity\n",
    "2) Adaptable - reacts to partially ordered data\n",
    "3) Flexible - can efficiently handle data with few unique values\n",
    "\n",
    "\n",
    "## Selection Sort\n",
    "\n",
    "The first algorithm that you will learn is [selection sort](http://www.sorting-algorithms.com/selection-sort). Selection sort is the most obvious and slowest possible method of sorting. It works by going through the array, rank-by-rank, and exchanging the item currently in that rank with the next smallest item. It only looks at items after the current rank, not before. The pseudocode is given below:\n",
    "\n",
    "\n",
    "    def selection_sort(a):\n",
    "        # sanity check for array status and sortability\n",
    "        for i in a:\n",
    "            k = i\n",
    "            # look ahead in the array for the next max\n",
    "            for j in a[i+1:]:\n",
    "                if a[k] > a[j]:\n",
    "                    # mark the point at which we found the last max\n",
    "                    k = j\n",
    "                    # make the swap\n",
    "                    swap(a[i],a[k])\n",
    "\n",
    "## QUIZ:\n",
    "\n",
    "Chart the way this algorithm works by hand on a test array of 5 items.\n",
    "\n",
    "\n",
    "The problem with selection sort is its performance. It doesn't adapt well to partially ordered arrays, and requires a large number of operations, $N$ operations for the rank searching in the index $i$ and $N$ operations for the lookahead. This means that there are always $N \\times N$ array accesses, and thus the algorithm always runs in $O(N^2)$ time. However, it has the property of minimizing the number of required swaps, so selection sort might be used in extreme cases where swap cost is very high (larger than $O(N^2)$)."
   ]
  },
  {
   "cell_type": "markdown",
   "metadata": {},
   "source": [
    "## Insertion Sort\n",
    "\n",
    "The [insertion sort](http://www.sorting-algorithms.com/insertion-sort) algorithm also runs in $O(N^2)$ time. It maintains a sorted sublist in the lower positions of the list. Each new item is then “inserted” back into the previous sublist such that the sorted sublist is one item larger. This leads to N array accesses in the forward direction and N-1 array accesses in the reverse direction, thus $O(N^2)$ time.\n",
    "\n",
    "Pseudocode is given below:\n",
    "\n",
    "    def insertion_sort(a):\n",
    "        N = len(a)\n",
    "        for i in xrange(N):\n",
    "            current = a[i]\n",
    "            j = i\n",
    "            # look backward over the list so far and swap all elements backward\n",
    "            while j>0 and a[j-1] > current:\n",
    "                a[j] = a[j-1]\n",
    "                j = j-1\n",
    "\n",
    "            # set the current element to the current max\n",
    "            a[j] = current\n",
    "\n",
    "\n",
    "##QUIZ:\n",
    "\n",
    "[15, 5, 4, 18, 12, 19, 14, 10, 8, 20] which list represents the partially sorted list after four complete passes of insertion sort?"
   ]
  },
  {
   "cell_type": "code",
   "execution_count": null,
   "metadata": {
    "collapsed": true
   },
   "outputs": [],
   "source": []
  },
  {
   "cell_type": "markdown",
   "metadata": {},
   "source": [
    "# Higher Performance Sorts\n",
    "\n",
    "Sorting performance can be enhanced by splitting the array to be sorted into partitions. There is 60 years of history of advanced sorts that we are not at liberty to cover, but there are three you should be aware of and one we shall cover. \n",
    "\n",
    "The first, [shellsort](https://en.wikipedia.org/wiki/Shellsort), was invented by Don Shell in 1959. It is essentially an insertion sort that uses a series of gaps to break down the array into smaller sublists. \n",
    "\n",
    "The second [quicksort](https://en.wikipedia.org/wiki/Quicksort)\n",
    "\n",
    "\n",
    "We will cover [mergesort]() in some detail today"
   ]
  },
  {
   "cell_type": "code",
   "execution_count": 150,
   "metadata": {
    "collapsed": true
   },
   "outputs": [],
   "source": [
    "def merge(left, right):\n",
    "    if not len(left) or not len(right):\n",
    "        return left or right\n",
    "\n",
    "    result = []\n",
    "    i, j = 0, 0\n",
    "    while (len(result) < len(left) + len(right)):\n",
    "        if left[i] < right[j]:\n",
    "            result.append(left[i])\n",
    "            i+= 1\n",
    "        else:\n",
    "            result.append(right[j])\n",
    "            j+= 1\n",
    "        if i == len(left) or j == len(right):\n",
    "            print(result)\n",
    "            result.extend(left[i:] or right[j:])\n",
    "            print(result,'post')\n",
    "            break \n",
    "\n",
    "    return result\n",
    "\n",
    "def mergesort(list):\n",
    "    if len(list) < 2:\n",
    "        return list\n",
    "\n",
    "    middle = int(len(list)/2)\n",
    "    left = mergesort(list[:middle])\n",
    "    right = mergesort(list[middle:])\n",
    "    print(left,right)\n",
    "    return merge(left, right)\n"
   ]
  },
  {
   "cell_type": "code",
   "execution_count": 151,
   "metadata": {
    "collapsed": false
   },
   "outputs": [
    {
     "name": "stdout",
     "output_type": "stream",
     "text": [
      "[1] [4]\n",
      "[1]\n",
      "[1, 4] post\n",
      "[2] [5]\n",
      "[2]\n",
      "[2, 5] post\n",
      "[1, 4] [2, 5]\n",
      "[1, 2, 4]\n",
      "[1, 2, 4, 5] post\n",
      "[2] [6]\n",
      "[2]\n",
      "[2, 6] post\n",
      "[3] [4]\n",
      "[3]\n",
      "[3, 4] post\n",
      "[2, 6] [3, 4]\n",
      "[2, 3, 4]\n",
      "[2, 3, 4, 6] post\n",
      "[1, 2, 4, 5] [2, 3, 4, 6]\n",
      "[1, 2, 2, 3, 4, 4, 5]\n",
      "[1, 2, 2, 3, 4, 4, 5, 6] post\n"
     ]
    },
    {
     "data": {
      "text/plain": [
       "[1, 2, 2, 3, 4, 4, 5, 6]"
      ]
     },
     "execution_count": 151,
     "metadata": {},
     "output_type": "execute_result"
    }
   ],
   "source": [
    "mergesort(test)"
   ]
  },
  {
   "cell_type": "code",
   "execution_count": 3,
   "metadata": {
    "collapsed": true
   },
   "outputs": [],
   "source": [
    "test = [1,4,2,5,2,6,3,4]"
   ]
  },
  {
   "cell_type": "code",
   "execution_count": 141,
   "metadata": {
    "collapsed": false
   },
   "outputs": [
    {
     "ename": "IndentationError",
     "evalue": "expected an indented block (<ipython-input-141-f3b644cb246f>, line 12)",
     "output_type": "error",
     "traceback": [
      "\u001b[0;36m  File \u001b[0;32m\"<ipython-input-141-f3b644cb246f>\"\u001b[0;36m, line \u001b[0;32m12\u001b[0m\n\u001b[0;31m    result.append(left[i])\u001b[0m\n\u001b[0m                          ^\u001b[0m\n\u001b[0;31mIndentationError\u001b[0m\u001b[0;31m:\u001b[0m expected an indented block\n"
     ]
    }
   ],
   "source": [
    "            \n",
    "            \n",
    "            \n",
    "def merge(left, right):\n",
    "    if not len(left) or not len(right):\n",
    "        return left or right\n",
    "\n",
    "    result = []\n",
    "    i, j = 0, 0\n",
    "    while (len(result) < len(left) + len(right)):\n",
    "        if left[i] < right[j]:\n",
    "            result.append(left[i])\n",
    "            i+= 1\n",
    "        else:\n",
    "            result.append(right[j])\n",
    "            j+= 1\n",
    "        if i == len(left) or j == len(right):\n",
    "            result.extend(left[i:] or right[j:])\n",
    "            break \n",
    "\n",
    "    return result\n",
    "\n",
    "def mergesort(list):\n",
    "    if len(list) < 2:\n",
    "        return list\n",
    "\n",
    "    middle = len(list)/2\n",
    "    left = mergesort(list[:middle])\n",
    "    right = mergesort(list[middle:])\n",
    "\n",
    "    return merge(left, right)\n"
   ]
  },
  {
   "cell_type": "code",
   "execution_count": 140,
   "metadata": {
    "collapsed": false
   },
   "outputs": [
    {
     "name": "stdout",
     "output_type": "stream",
     "text": [
      "<class 'list'> <class 'list'>\n"
     ]
    },
    {
     "ename": "TypeError",
     "evalue": "object of type 'type' has no len()",
     "output_type": "error",
     "traceback": [
      "\u001b[0;31m---------------------------------------------------------------------------\u001b[0m",
      "\u001b[0;31mTypeError\u001b[0m                                 Traceback (most recent call last)",
      "\u001b[0;32m<ipython-input-140-05bf09151edf>\u001b[0m in \u001b[0;36m<module>\u001b[0;34m()\u001b[0m\n\u001b[0;32m----> 1\u001b[0;31m \u001b[0mmerge_sort\u001b[0m\u001b[0;34m(\u001b[0m\u001b[0mtest\u001b[0m\u001b[0;34m)\u001b[0m\u001b[0;34m\u001b[0m\u001b[0m\n\u001b[0m",
      "\u001b[0;32m<ipython-input-139-50a6d1d537da>\u001b[0m in \u001b[0;36mmerge_sort\u001b[0;34m(list_input)\u001b[0m\n\u001b[1;32m     26\u001b[0m     \u001b[0mmiddle\u001b[0m \u001b[0;34m=\u001b[0m \u001b[0mint\u001b[0m\u001b[0;34m(\u001b[0m\u001b[0mlen\u001b[0m\u001b[0;34m(\u001b[0m\u001b[0mlist_input\u001b[0m\u001b[0;34m)\u001b[0m\u001b[0;34m/\u001b[0m\u001b[0;36m2\u001b[0m\u001b[0;34m)\u001b[0m\u001b[0;34m\u001b[0m\u001b[0m\n\u001b[1;32m     27\u001b[0m \u001b[0;34m\u001b[0m\u001b[0m\n\u001b[0;32m---> 28\u001b[0;31m     \u001b[0mleft\u001b[0m \u001b[0;34m=\u001b[0m \u001b[0mmerge_sort\u001b[0m\u001b[0;34m(\u001b[0m\u001b[0mlist_input\u001b[0m\u001b[0;34m[\u001b[0m\u001b[0;34m:\u001b[0m\u001b[0mmiddle\u001b[0m\u001b[0;34m]\u001b[0m\u001b[0;34m)\u001b[0m\u001b[0;34m\u001b[0m\u001b[0m\n\u001b[0m\u001b[1;32m     29\u001b[0m     \u001b[0mright\u001b[0m \u001b[0;34m=\u001b[0m \u001b[0mmerge_sort\u001b[0m\u001b[0;34m(\u001b[0m\u001b[0mlist_input\u001b[0m\u001b[0;34m[\u001b[0m\u001b[0mmiddle\u001b[0m\u001b[0;34m:\u001b[0m\u001b[0;34m]\u001b[0m\u001b[0;34m)\u001b[0m\u001b[0;34m\u001b[0m\u001b[0m\n\u001b[1;32m     30\u001b[0m     \u001b[0mprint\u001b[0m\u001b[0;34m(\u001b[0m\u001b[0mleft\u001b[0m\u001b[0;34m,\u001b[0m\u001b[0mright\u001b[0m\u001b[0;34m)\u001b[0m\u001b[0;34m\u001b[0m\u001b[0m\n",
      "\u001b[0;32m<ipython-input-139-50a6d1d537da>\u001b[0m in \u001b[0;36mmerge_sort\u001b[0;34m(list_input)\u001b[0m\n\u001b[1;32m     26\u001b[0m     \u001b[0mmiddle\u001b[0m \u001b[0;34m=\u001b[0m \u001b[0mint\u001b[0m\u001b[0;34m(\u001b[0m\u001b[0mlen\u001b[0m\u001b[0;34m(\u001b[0m\u001b[0mlist_input\u001b[0m\u001b[0;34m)\u001b[0m\u001b[0;34m/\u001b[0m\u001b[0;36m2\u001b[0m\u001b[0;34m)\u001b[0m\u001b[0;34m\u001b[0m\u001b[0m\n\u001b[1;32m     27\u001b[0m \u001b[0;34m\u001b[0m\u001b[0m\n\u001b[0;32m---> 28\u001b[0;31m     \u001b[0mleft\u001b[0m \u001b[0;34m=\u001b[0m \u001b[0mmerge_sort\u001b[0m\u001b[0;34m(\u001b[0m\u001b[0mlist_input\u001b[0m\u001b[0;34m[\u001b[0m\u001b[0;34m:\u001b[0m\u001b[0mmiddle\u001b[0m\u001b[0;34m]\u001b[0m\u001b[0;34m)\u001b[0m\u001b[0;34m\u001b[0m\u001b[0m\n\u001b[0m\u001b[1;32m     29\u001b[0m     \u001b[0mright\u001b[0m \u001b[0;34m=\u001b[0m \u001b[0mmerge_sort\u001b[0m\u001b[0;34m(\u001b[0m\u001b[0mlist_input\u001b[0m\u001b[0;34m[\u001b[0m\u001b[0mmiddle\u001b[0m\u001b[0;34m:\u001b[0m\u001b[0;34m]\u001b[0m\u001b[0;34m)\u001b[0m\u001b[0;34m\u001b[0m\u001b[0m\n\u001b[1;32m     30\u001b[0m     \u001b[0mprint\u001b[0m\u001b[0;34m(\u001b[0m\u001b[0mleft\u001b[0m\u001b[0;34m,\u001b[0m\u001b[0mright\u001b[0m\u001b[0;34m)\u001b[0m\u001b[0;34m\u001b[0m\u001b[0m\n",
      "\u001b[0;32m<ipython-input-139-50a6d1d537da>\u001b[0m in \u001b[0;36mmerge_sort\u001b[0;34m(list_input)\u001b[0m\n\u001b[1;32m     29\u001b[0m     \u001b[0mright\u001b[0m \u001b[0;34m=\u001b[0m \u001b[0mmerge_sort\u001b[0m\u001b[0;34m(\u001b[0m\u001b[0mlist_input\u001b[0m\u001b[0;34m[\u001b[0m\u001b[0mmiddle\u001b[0m\u001b[0;34m:\u001b[0m\u001b[0;34m]\u001b[0m\u001b[0;34m)\u001b[0m\u001b[0;34m\u001b[0m\u001b[0m\n\u001b[1;32m     30\u001b[0m     \u001b[0mprint\u001b[0m\u001b[0;34m(\u001b[0m\u001b[0mleft\u001b[0m\u001b[0;34m,\u001b[0m\u001b[0mright\u001b[0m\u001b[0;34m)\u001b[0m\u001b[0;34m\u001b[0m\u001b[0m\n\u001b[0;32m---> 31\u001b[0;31m     \u001b[0mmerge\u001b[0m\u001b[0;34m(\u001b[0m\u001b[0mleft\u001b[0m\u001b[0;34m,\u001b[0m\u001b[0mright\u001b[0m\u001b[0;34m)\u001b[0m\u001b[0;34m\u001b[0m\u001b[0m\n\u001b[0m\u001b[1;32m     32\u001b[0m \u001b[0;34m\u001b[0m\u001b[0m\n\u001b[1;32m     33\u001b[0m \u001b[0;34m\u001b[0m\u001b[0m\n",
      "\u001b[0;32m<ipython-input-139-50a6d1d537da>\u001b[0m in \u001b[0;36mmerge\u001b[0;34m(left, right)\u001b[0m\n\u001b[1;32m      1\u001b[0m \u001b[0;34m\u001b[0m\u001b[0m\n\u001b[1;32m      2\u001b[0m \u001b[0;32mdef\u001b[0m \u001b[0mmerge\u001b[0m\u001b[0;34m(\u001b[0m\u001b[0mleft\u001b[0m\u001b[0;34m,\u001b[0m\u001b[0mright\u001b[0m\u001b[0;34m)\u001b[0m\u001b[0;34m:\u001b[0m\u001b[0;34m\u001b[0m\u001b[0m\n\u001b[0;32m----> 3\u001b[0;31m     \u001b[0;32mif\u001b[0m \u001b[0;32mnot\u001b[0m \u001b[0mlen\u001b[0m\u001b[0;34m(\u001b[0m\u001b[0mleft\u001b[0m\u001b[0;34m)\u001b[0m \u001b[0;32mor\u001b[0m \u001b[0;32mnot\u001b[0m \u001b[0mlen\u001b[0m\u001b[0;34m(\u001b[0m\u001b[0mright\u001b[0m\u001b[0;34m)\u001b[0m\u001b[0;34m:\u001b[0m\u001b[0;34m\u001b[0m\u001b[0m\n\u001b[0m\u001b[1;32m      4\u001b[0m         \u001b[0;32mreturn\u001b[0m \u001b[0mleft\u001b[0m \u001b[0;32mor\u001b[0m \u001b[0mright\u001b[0m\u001b[0;34m\u001b[0m\u001b[0m\n\u001b[1;32m      5\u001b[0m \u001b[0;34m\u001b[0m\u001b[0m\n",
      "\u001b[0;31mTypeError\u001b[0m: object of type 'type' has no len()"
     ]
    }
   ],
   "source": [
    "merge_sort(test)"
   ]
  },
  {
   "cell_type": "code",
   "execution_count": 36,
   "metadata": {
    "collapsed": false
   },
   "outputs": [
    {
     "data": {
      "text/plain": [
       "3"
      ]
     },
     "execution_count": 36,
     "metadata": {},
     "output_type": "execute_result"
    }
   ],
   "source": [
    "ll=[[2],[4],[5]]\n",
    "len(ll)"
   ]
  },
  {
   "cell_type": "markdown",
   "metadata": {},
   "source": []
  },
  {
   "cell_type": "code",
   "execution_count": 17,
   "metadata": {
    "collapsed": false
   },
   "outputs": [
    {
     "data": {
      "text/plain": [
       "[[4], [5]]"
      ]
     },
     "execution_count": 17,
     "metadata": {},
     "output_type": "execute_result"
    }
   ],
   "source": [
    "ll.remove([2])\n",
    "ll"
   ]
  },
  {
   "cell_type": "code",
   "execution_count": 16,
   "metadata": {
    "collapsed": false
   },
   "outputs": [
    {
     "data": {
      "text/plain": [
       "False"
      ]
     },
     "execution_count": 16,
     "metadata": {},
     "output_type": "execute_result"
    }
   ],
   "source": [
    "ll[1]>ll[2]"
   ]
  },
  {
   "cell_type": "code",
   "execution_count": 78,
   "metadata": {
    "collapsed": true
   },
   "outputs": [],
   "source": [
    "t = [2,4,5,5,2]\n",
    "r=[4,3]"
   ]
  },
  {
   "cell_type": "code",
   "execution_count": 79,
   "metadata": {
    "collapsed": false
   },
   "outputs": [
    {
     "data": {
      "text/plain": [
       "[4, 3]"
      ]
     },
     "execution_count": 79,
     "metadata": {},
     "output_type": "execute_result"
    }
   ],
   "source": [
    "max(t,r)"
   ]
  },
  {
   "cell_type": "code",
   "execution_count": null,
   "metadata": {
    "collapsed": true
   },
   "outputs": [],
   "source": []
  }
 ],
 "metadata": {
  "kernelspec": {
   "display_name": "Python [Root]",
   "language": "python",
   "name": "Python [Root]"
  },
  "language_info": {
   "codemirror_mode": {
    "name": "ipython",
    "version": 3
   },
   "file_extension": ".py",
   "mimetype": "text/x-python",
   "name": "python",
   "nbconvert_exporter": "python",
   "pygments_lexer": "ipython3",
   "version": "3.5.2"
  }
 },
 "nbformat": 4,
 "nbformat_minor": 0
}
