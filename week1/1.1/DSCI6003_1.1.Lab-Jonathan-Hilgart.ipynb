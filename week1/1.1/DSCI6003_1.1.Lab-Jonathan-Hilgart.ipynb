{
 "cells": [
  {
   "cell_type": "markdown",
   "metadata": {},
   "source": [
    "\n",
    "# DSCI6003 1.1 Lab\n",
    "\n",
    "\n",
    "## Part 1: Linear Algebra Practice:\n",
    "\n",
    "### Part 1.1\n",
    "\n",
    "The stochastic matrix is central to the Markov process. It is a square matrix specifying that probabilities of going from one state to the other such that every column of the matrix sums to 1.\n",
    "\n",
    "The probability of entering a certain state depends only on the last state occupied and the stochastic matrix, not on any earlier states.\n",
    "\n",
    "Suppose that the 2004 **state of land use** in a city of 60 mi^2 of built-up\n",
    "area is:\n",
    "\n",
    "```\n",
    "In 2004:\n",
    "   \n",
    "C (Commercially Used): 25%\n",
    "I (Industrially Used): 20%\n",
    "R (Residentially Used): 55%\n",
    "```\n",
    "\n",
    "1. Use numpy array ops to find the **state of land use** in **2009** and **2014**,\n",
    "   assuming that the transition probabilities for 5-year intervals are given\n",
    "   by the matrix **A** and remain practically the same over the time considered.\n",
    "   \n",
    "   <div align=\"center\">\n",
    "      <img src=\"images/transition_matix_A.png\">\n",
    "   </div>\n",
    "   \n",
    "   \n",
    "<br>\n",
    "\n",
    "### More about stochastic matrices - Markov transition matrices\n",
    "The Markov transition matrix has some special properties.  The wikipedia page has a good summary.  \n",
    "https://en.wikipedia.org/wiki/Stochastic_matrix\n",
    "\n",
    "2.  Does the stochastic matrix for land use have any disconnected segments or nodes with no outgoing edges?  \n",
    "\n",
    "3.  Find the probabilities associated with unit eigenvalues by two means.  \n",
    "    a.  Starting from any legitimate distribution of initial land use (they have to be probabilities - all positive and sum equals one), iteratively apply the transition matrix until the results stop changing (within some tolerance).  \n",
    "    b.  Use numpy to extract eigenvalues and eigenvectors.  Is that an eigenvalue equal to one?  Identify the eigenvector corresponding to eigenvalue that equals one and compare it to the result you got by iterating.  "
   ]
  },
  {
   "cell_type": "code",
   "execution_count": 24,
   "metadata": {
    "collapsed": false
   },
   "outputs": [],
   "source": [
    "#transition for five year periods\n",
    "import numpy as np\n",
    "land_transition = np.array([[.7,.1,0],\n",
    "                           [.2,.9,.2],\n",
    "                           [.1,0,.8]])\n",
    "original_state_2004 = np.array([[.25],\n",
    "                               [.2],\n",
    "                               [.55]])"
   ]
  },
  {
   "cell_type": "code",
   "execution_count": 27,
   "metadata": {
    "collapsed": false
   },
   "outputs": [
    {
     "data": {
      "text/plain": [
       "array([[ 0.195],\n",
       "       [ 0.34 ],\n",
       "       [ 0.465]])"
      ]
     },
     "execution_count": 27,
     "metadata": {},
     "output_type": "execute_result"
    }
   ],
   "source": [
    "#2009 land use, C, I, R\n",
    "a_2009 = (land_transition).dot(original_state_2004)\n",
    "a_2009"
   ]
  },
  {
   "cell_type": "code",
   "execution_count": 29,
   "metadata": {
    "collapsed": false
   },
   "outputs": [
    {
     "data": {
      "text/plain": [
       "array([[ 0.1705],\n",
       "       [ 0.438 ],\n",
       "       [ 0.3915]])"
      ]
     },
     "execution_count": 29,
     "metadata": {},
     "output_type": "execute_result"
    }
   ],
   "source": [
    "#2014 land use, C, I, R\n",
    "a_2014 = (land_transition).dot(a_2009)\n",
    "a_2014"
   ]
  },
  {
   "cell_type": "markdown",
   "metadata": {},
   "source": [
    "- Yes, this stochastic matrix has segments with no outgoing edges. There is no transition from industrial to residential. In addition, there is no transition from residential to commercial."
   ]
  },
  {
   "cell_type": "code",
   "execution_count": 376,
   "metadata": {
    "collapsed": false
   },
   "outputs": [],
   "source": [
    "def transition(original, transition, iterations, text=True):\n",
    "    \n",
    "    new = original\n",
    "    count =1\n",
    "    \n",
    "    if text==False:\n",
    "        list=[]\n",
    "        while count <= iterations:\n",
    "        \n",
    "            temp=transition.dot(new)\n",
    "            new = temp\n",
    "            list.append(new)\n",
    "            count+=1\n",
    "            \n",
    "        return list\n",
    "  \n",
    "    else:\n",
    "\n",
    "        while count <= iterations:\n",
    "\n",
    "                temp=transition.dot(new)\n",
    "                new = temp\n",
    "                print(new, ' This is your matrix after {} years, {}'.format(count*5,count*5+2004))\n",
    "                count+=1\n"
   ]
  },
  {
   "cell_type": "code",
   "execution_count": 354,
   "metadata": {
    "collapsed": false
   },
   "outputs": [
    {
     "name": "stdout",
     "output_type": "stream",
     "text": [
      "[[ 0.195]\n",
      " [ 0.34 ]\n",
      " [ 0.465]]  This is your matrix after 5 years, 2009\n",
      "[[ 0.1705]\n",
      " [ 0.438 ]\n",
      " [ 0.3915]]  This is your matrix after 10 years, 2014\n",
      "[[ 0.16315]\n",
      " [ 0.5066 ]\n",
      " [ 0.33025]]  This is your matrix after 15 years, 2019\n",
      "[[ 0.164865]\n",
      " [ 0.55462 ]\n",
      " [ 0.280515]]  This is your matrix after 20 years, 2024\n",
      "[[ 0.1708675]\n",
      " [ 0.588234 ]\n",
      " [ 0.2408985]]  This is your matrix after 25 years, 2029\n",
      "[[ 0.17843065]\n",
      " [ 0.6117638 ]\n",
      " [ 0.20980555]]  This is your matrix after 30 years, 2034\n",
      "[[ 0.18607784]\n",
      " [ 0.62823466]\n",
      " [ 0.18568751]]  This is your matrix after 35 years, 2039\n",
      "[[ 0.19307795]\n",
      " [ 0.63976426]\n",
      " [ 0.16715779]]  This is your matrix after 40 years, 2044\n",
      "[[ 0.19913099]\n",
      " [ 0.64783498]\n",
      " [ 0.15303403]]  This is your matrix after 45 years, 2049\n",
      "[[ 0.20417519]\n",
      " [ 0.65348449]\n",
      " [ 0.14234032]]  This is your matrix after 50 years, 2054\n",
      "[[ 0.20827108]\n",
      " [ 0.65743914]\n",
      " [ 0.13428977]]  This is your matrix after 55 years, 2059\n",
      "[[ 0.21153367]\n",
      " [ 0.6602074 ]\n",
      " [ 0.12825893]]  This is your matrix after 60 years, 2064\n",
      "[[ 0.21409431]\n",
      " [ 0.66214518]\n",
      " [ 0.12376051]]  This is your matrix after 65 years, 2069\n",
      "[[ 0.21608054]\n",
      " [ 0.66350163]\n",
      " [ 0.12041784]]  This is your matrix after 70 years, 2074\n",
      "[[ 0.21760654]\n",
      " [ 0.66445114]\n",
      " [ 0.11794232]]  This is your matrix after 75 years, 2079\n"
     ]
    }
   ],
   "source": [
    "transition(original_state_2004,land_transition,15)"
   ]
  },
  {
   "cell_type": "code",
   "execution_count": 131,
   "metadata": {
    "collapsed": false
   },
   "outputs": [
    {
     "data": {
      "text/plain": [
       "array([ 0.22222222,  0.66666667,  0.11111111])"
      ]
     },
     "execution_count": 131,
     "metadata": {},
     "output_type": "execute_result"
    }
   ],
   "source": [
    "#Convergence of steady state\n",
    "convergence = abs(np.linalg.eig(land_transition)[1][:,0])/sum(abs(np.linalg.eig(land_transition)[1][:,0]))\n",
    "convergence"
   ]
  },
  {
   "cell_type": "code",
   "execution_count": 132,
   "metadata": {
    "collapsed": false
   },
   "outputs": [
    {
     "data": {
      "text/plain": [
       "[<matplotlib.lines.Line2D at 0x11cc63e48>]"
      ]
     },
     "execution_count": 132,
     "metadata": {},
     "output_type": "execute_result"
    },
    {
     "data": {
      "image/png": "[encoded data removed]",
      "text/plain": [
       "<matplotlib.figure.Figure at 0x11cc63e10>"
      ]
     },
     "metadata": {},
     "output_type": "display_data"
    }
   ],
   "source": [
    "plt.plot(convergence)\n",
    "plt.plot(abs(np.linalg.eig(land_transition)[1][:,0]))"
   ]
  },
  {
   "cell_type": "markdown",
   "metadata": {},
   "source": [
    "### Part 1.2\n",
    "\n",
    "This following question uses the `iris` dataset. Load the data in with the following code.  Here's a description of the iris data.  https://en.wikipedia.org/wiki/Iris_flower_data_set  \n",
    "   \n",
    "```python\n",
    "from sklearn import datasets\n",
    "# The 1st column is sepal length and the 2nd column is sepal width\n",
    "sepalLength_sepalWidth = datasets.load_iris().data[:, :2]\n",
    "```\n",
    "  \n",
    "1. Make a scatter plot of sepal width vs sepal length\n",
    "  \n",
    "2. Use numpy.mean to compute the mean vector (column-wise) of the data matrix. The `shape`\n",
    "   of the mean vector should be `(1, 2)`\n",
    "     \n",
    "   Plot the mean vector on the scatter plot in `1.` \n",
    "\n",
    "   <div align=\"center\">\n",
    "    <img src=\"images/mean.png\">\n",
    "   </div>\n",
    "   \n",
    "3.  Use the pandas scatter_matrix to do cross plotting for all of the variables in the iris data set.  If you provide labels, the points will get colored according to label which makes it easier to see how the classes are separated. Here's the reference material in pandas.  http://pandas.pydata.org/pandas-docs/version/0.18.1/visualization.html  Search on scatter_matrix to get the exact function.  \n",
    "\n",
    "Change to the full iris data set.  datasets.load_iris().data\n",
    "3. Write a function (`euclidean_dist`) to calculate the euclidean distance between two rows of data from the data matrix.  \n",
    "\n",
    "4. Write a function (`cosine_sim`) to calculate the cosine similarity_between two rows of data.  \n",
    "\n",
    "5. Write a program to loop through all the data points the iris data set calculate the distances between each point and the overall mean that you calculated above.          \n",
    "   **Input of the function:**\n",
    "     - Data matrix as an ndarray\n",
    "     - Function to compute distance metric (Euclidean / Cosine Similarity)\n",
    "      \n",
    "   **Output of the function:**\n",
    "     - An array shaped `(150, 1)`\n",
    "      \n",
    "   Use the function to compute Euclidean Distance and Cosine Similarity between each of\n",
    "   the data points and the mean of the data points. You should be able to call the function\n",
    "   in this manner:\n",
    "\n",
    "   ```python\n",
    "   euclidean_dists = compute_dist(sepalLength_sepalWidth, euclidean_dist)\n",
    "   cosine_sims = compute_dist(sepalLength_sepalWidth, cosine_sim)\n",
    "   ```\n",
    "6. Plot histograms of the euclidean distances and cosine similarities.\n",
    "\n",
    "\n"
   ]
  },
  {
   "cell_type": "code",
   "execution_count": 78,
   "metadata": {
    "collapsed": true
   },
   "outputs": [],
   "source": [
    "from sklearn import datasets\n",
    "# The 1st column is sepal length and the 2nd column is sepal width\n",
    "sepalLength_sepalWidth = datasets.load_iris().data[:, :2]"
   ]
  },
  {
   "cell_type": "code",
   "execution_count": 85,
   "metadata": {
    "collapsed": false
   },
   "outputs": [
    {
     "name": "stdout",
     "output_type": "stream",
     "text": [
      "Populating the interactive namespace from numpy and matplotlib\n"
     ]
    }
   ],
   "source": [
    "import seaborn as sns\n",
    "%pylab inline"
   ]
  },
  {
   "cell_type": "code",
   "execution_count": 117,
   "metadata": {
    "collapsed": false
   },
   "outputs": [
    {
     "name": "stdout",
     "output_type": "stream",
     "text": [
      "5.84333333333\n"
     ]
    }
   ],
   "source": [
    "sepalLength = [item[0] for item in sepalLength_sepalWidth]\n",
    "sepalWidth = [item[1] for item in sepalLength_sepalWidth]\n",
    "\n",
    "print(mean(sepalLength))"
   ]
  },
  {
   "cell_type": "code",
   "execution_count": 101,
   "metadata": {
    "collapsed": false
   },
   "outputs": [
    {
     "data": {
      "text/plain": [
       "<matplotlib.text.Text at 0x11aebd9e8>"
      ]
     },
     "execution_count": 101,
     "metadata": {},
     "output_type": "execute_result"
    },
    {
     "data": {
      "image/png": "[encoded data removed]",
      "text/plain": [
       "<matplotlib.figure.Figure at 0x11b27ff98>"
      ]
     },
     "metadata": {},
     "output_type": "display_data"
    }
   ],
   "source": [
    "plt.scatter(sepalWidth,sepalLength)\n",
    "plt.ylabel('sepalLength')\n",
    "plt.xlabel('sepalWidth')"
   ]
  },
  {
   "cell_type": "code",
   "execution_count": 119,
   "metadata": {
    "collapsed": false
   },
   "outputs": [],
   "source": [
    "#mean\n",
    "mean_Length = np.mean(sepalLength)\n",
    "mean_Width =  np.mean(sepalWidth)"
   ]
  },
  {
   "cell_type": "markdown",
   "metadata": {},
   "source": [
    "## 2"
   ]
  },
  {
   "cell_type": "code",
   "execution_count": 160,
   "metadata": {
    "collapsed": false
   },
   "outputs": [
    {
     "data": {
      "text/plain": [
       "<matplotlib.text.Text at 0x11e0b8c50>"
      ]
     },
     "execution_count": 160,
     "metadata": {},
     "output_type": "execute_result"
    },
    {
     "data": {
      "image/png": "[encoded data removed]",
      "text/plain": [
       "<matplotlib.figure.Figure at 0x11df3e240>"
      ]
     },
     "metadata": {},
     "output_type": "display_data"
    }
   ],
   "source": [
    "plt.scatter(sepalWidth,sepalLength)\n",
    "plt.scatter(mean_Width,mean_Length,color='red',marker='x',s=500,linewidths=5)\n",
    "plt.ylabel('sepalLength')\n",
    "plt.xlabel('sepalWidth')"
   ]
  },
  {
   "cell_type": "markdown",
   "metadata": {},
   "source": [
    "# 3"
   ]
  },
  {
   "cell_type": "code",
   "execution_count": 133,
   "metadata": {
    "collapsed": true
   },
   "outputs": [],
   "source": [
    "import pandas as pd"
   ]
  },
  {
   "cell_type": "code",
   "execution_count": 147,
   "metadata": {
    "collapsed": false
   },
   "outputs": [],
   "source": [
    "iris_df = pd.DataFrame(datasets.load_iris().data,columns=['sepal_length','sepal_width','pedal_length','pedal_width'])"
   ]
  },
  {
   "cell_type": "code",
   "execution_count": 149,
   "metadata": {
    "collapsed": false
   },
   "outputs": [
    {
     "data": {
      "text/html": [
       "<div>\n",
       "<table border=\"1\" class=\"dataframe\">\n",
       "  <thead>\n",
       "    <tr style=\"text-align: right;\">\n",
       "      <th></th>\n",
       "      <th>sepal_length</th>\n",
       "      <th>sepal_width</th>\n",
       "      <th>pedal_length</th>\n",
       "      <th>pedal_width</th>\n",
       "    </tr>\n",
       "  </thead>\n",
       "  <tbody>\n",
       "    <tr>\n",
       "      <th>0</th>\n",
       "      <td>5.1</td>\n",
       "      <td>3.5</td>\n",
       "      <td>1.4</td>\n",
       "      <td>0.2</td>\n",
       "    </tr>\n",
       "    <tr>\n",
       "      <th>1</th>\n",
       "      <td>4.9</td>\n",
       "      <td>3.0</td>\n",
       "      <td>1.4</td>\n",
       "      <td>0.2</td>\n",
       "    </tr>\n",
       "    <tr>\n",
       "      <th>2</th>\n",
       "      <td>4.7</td>\n",
       "      <td>3.2</td>\n",
       "      <td>1.3</td>\n",
       "      <td>0.2</td>\n",
       "    </tr>\n",
       "    <tr>\n",
       "      <th>3</th>\n",
       "      <td>4.6</td>\n",
       "      <td>3.1</td>\n",
       "      <td>1.5</td>\n",
       "      <td>0.2</td>\n",
       "    </tr>\n",
       "    <tr>\n",
       "      <th>4</th>\n",
       "      <td>5.0</td>\n",
       "      <td>3.6</td>\n",
       "      <td>1.4</td>\n",
       "      <td>0.2</td>\n",
       "    </tr>\n",
       "  </tbody>\n",
       "</table>\n",
       "</div>"
      ],
      "text/plain": [
       "   sepal_length  sepal_width  pedal_length  pedal_width\n",
       "0           5.1          3.5           1.4          0.2\n",
       "1           4.9          3.0           1.4          0.2\n",
       "2           4.7          3.2           1.3          0.2\n",
       "3           4.6          3.1           1.5          0.2\n",
       "4           5.0          3.6           1.4          0.2"
      ]
     },
     "execution_count": 149,
     "metadata": {},
     "output_type": "execute_result"
    }
   ],
   "source": [
    "iris_df.head()"
   ]
  },
  {
   "cell_type": "code",
   "execution_count": 153,
   "metadata": {
    "collapsed": false
   },
   "outputs": [
    {
     "data": {
      "image/png": "[encoded data removed]",
      "text/plain": [
       "<matplotlib.figure.Figure at 0x11dd5e2b0>"
      ]
     },
     "metadata": {},
     "output_type": "display_data"
    }
   ],
   "source": [
    "#scatter matrix\n",
    "pd.scatter_matrix(iris_df,figsize=([10,10]));"
   ]
  },
  {
   "cell_type": "markdown",
   "metadata": {},
   "source": [
    "##### Write a function (euclidean_dist) to calculate the euclidean distance between two rows of data from the data matrix."
   ]
  },
  {
   "cell_type": "code",
   "execution_count": 280,
   "metadata": {
    "collapsed": true
   },
   "outputs": [],
   "source": [
    "def euclidean_dist(row1,row2): return np.linalg.norm(row2-row1)"
   ]
  },
  {
   "cell_type": "code",
   "execution_count": 170,
   "metadata": {
    "collapsed": false
   },
   "outputs": [
    {
     "data": {
      "text/plain": [
       "sepal_length    0.2\n",
       "sepal_width     0.5\n",
       "pedal_length    0.0\n",
       "pedal_width     0.0\n",
       "dtype: float64"
      ]
     },
     "execution_count": 170,
     "metadata": {},
     "output_type": "execute_result"
    }
   ],
   "source": [
    "eucliean_dist(iris_df.iloc[0],iris_df.iloc[1])"
   ]
  },
  {
   "cell_type": "markdown",
   "metadata": {},
   "source": [
    "##### Write a function (cosine_sim) to calculate the cosine similarity_between two rows of data."
   ]
  },
  {
   "cell_type": "code",
   "execution_count": 323,
   "metadata": {
    "collapsed": false
   },
   "outputs": [],
   "source": [
    "def cosine_sim(row1,row2): \n",
    "    row1=np.array(row1)\n",
    "    row2 = np.array(row2)\n",
    "    return (row1.dot(row2.T))/(np.linalg.norm(row1)*np.linalg.norm(row2))"
   ]
  },
  {
   "cell_type": "markdown",
   "metadata": {},
   "source": [
    "Write a program to loop through all the data points the iris data set calculate the distances between each point and the overall mean that you calculated above.\n",
    "\n",
    "Input of the function:\n",
    "Data matrix as an ndarray\n",
    "Function to compute distance metric (Euclidean / Cosine Similarity)\n",
    "Output of the function:\n",
    "An array shaped (150, 1)\n",
    "\n",
    "\n",
    "Use the function to compute Euclidean Distance and Cosine Similarity between each of the data points and the mean of the data points. You should be able to call the function in this manner:\n",
    "euclidean_dists = compute_dist(sepalLength_sepalWidth, euclidean_dist)\n",
    "cosine_sims = compute_dist(sepalLength_sepalWidth, cosine_sim)"
   ]
  },
  {
   "cell_type": "code",
   "execution_count": 184,
   "metadata": {
    "collapsed": false
   },
   "outputs": [
    {
     "name": "stdout",
     "output_type": "stream",
     "text": [
      "-0.743333333333  Sepal length minus mean sepal length \n",
      "0.446  Sepal width minus mean sepal width\n",
      " \n",
      "-0.943333333333  Sepal length minus mean sepal length \n",
      "-0.054  Sepal width minus mean sepal width\n",
      " \n",
      "-1.14333333333  Sepal length minus mean sepal length \n",
      "0.146  Sepal width minus mean sepal width\n",
      " \n",
      "-1.24333333333  Sepal length minus mean sepal length \n",
      "0.046  Sepal width minus mean sepal width\n",
      " \n",
      "-0.843333333333  Sepal length minus mean sepal length \n",
      "0.546  Sepal width minus mean sepal width\n",
      " \n",
      "-0.443333333333  Sepal length minus mean sepal length \n",
      "0.846  Sepal width minus mean sepal width\n",
      " \n",
      "-1.24333333333  Sepal length minus mean sepal length \n",
      "0.346  Sepal width minus mean sepal width\n",
      " \n",
      "-0.843333333333  Sepal length minus mean sepal length \n",
      "0.346  Sepal width minus mean sepal width\n",
      " \n",
      "-1.44333333333  Sepal length minus mean sepal length \n",
      "-0.154  Sepal width minus mean sepal width\n",
      " \n",
      "-0.943333333333  Sepal length minus mean sepal length \n",
      "0.046  Sepal width minus mean sepal width\n",
      " \n",
      "-0.443333333333  Sepal length minus mean sepal length \n",
      "0.646  Sepal width minus mean sepal width\n",
      " \n",
      "-1.04333333333  Sepal length minus mean sepal length \n",
      "0.346  Sepal width minus mean sepal width\n",
      " \n",
      "-1.04333333333  Sepal length minus mean sepal length \n",
      "-0.054  Sepal width minus mean sepal width\n",
      " \n",
      "-1.54333333333  Sepal length minus mean sepal length \n",
      "-0.054  Sepal width minus mean sepal width\n",
      " \n",
      "-0.0433333333333  Sepal length minus mean sepal length \n",
      "0.946  Sepal width minus mean sepal width\n",
      " \n",
      "-0.143333333333  Sepal length minus mean sepal length \n",
      "1.346  Sepal width minus mean sepal width\n",
      " \n",
      "-0.443333333333  Sepal length minus mean sepal length \n",
      "0.846  Sepal width minus mean sepal width\n",
      " \n",
      "-0.743333333333  Sepal length minus mean sepal length \n",
      "0.446  Sepal width minus mean sepal width\n",
      " \n",
      "-0.143333333333  Sepal length minus mean sepal length \n",
      "0.746  Sepal width minus mean sepal width\n",
      " \n",
      "-0.743333333333  Sepal length minus mean sepal length \n",
      "0.746  Sepal width minus mean sepal width\n",
      " \n",
      "-0.443333333333  Sepal length minus mean sepal length \n",
      "0.346  Sepal width minus mean sepal width\n",
      " \n",
      "-0.743333333333  Sepal length minus mean sepal length \n",
      "0.646  Sepal width minus mean sepal width\n",
      " \n",
      "-1.24333333333  Sepal length minus mean sepal length \n",
      "0.546  Sepal width minus mean sepal width\n",
      " \n",
      "-0.743333333333  Sepal length minus mean sepal length \n",
      "0.246  Sepal width minus mean sepal width\n",
      " \n",
      "-1.04333333333  Sepal length minus mean sepal length \n",
      "0.346  Sepal width minus mean sepal width\n",
      " \n",
      "-0.843333333333  Sepal length minus mean sepal length \n",
      "-0.054  Sepal width minus mean sepal width\n",
      " \n",
      "-0.843333333333  Sepal length minus mean sepal length \n",
      "0.346  Sepal width minus mean sepal width\n",
      " \n",
      "-0.643333333333  Sepal length minus mean sepal length \n",
      "0.446  Sepal width minus mean sepal width\n",
      " \n",
      "-0.643333333333  Sepal length minus mean sepal length \n",
      "0.346  Sepal width minus mean sepal width\n",
      " \n",
      "-1.14333333333  Sepal length minus mean sepal length \n",
      "0.146  Sepal width minus mean sepal width\n",
      " \n",
      "-1.04333333333  Sepal length minus mean sepal length \n",
      "0.046  Sepal width minus mean sepal width\n",
      " \n",
      "-0.443333333333  Sepal length minus mean sepal length \n",
      "0.346  Sepal width minus mean sepal width\n",
      " \n",
      "-0.643333333333  Sepal length minus mean sepal length \n",
      "1.046  Sepal width minus mean sepal width\n",
      " \n",
      "-0.343333333333  Sepal length minus mean sepal length \n",
      "1.146  Sepal width minus mean sepal width\n",
      " \n",
      "-0.943333333333  Sepal length minus mean sepal length \n",
      "0.046  Sepal width minus mean sepal width\n",
      " \n",
      "-0.843333333333  Sepal length minus mean sepal length \n",
      "0.146  Sepal width minus mean sepal width\n",
      " \n",
      "-0.343333333333  Sepal length minus mean sepal length \n",
      "0.446  Sepal width minus mean sepal width\n",
      " \n",
      "-0.943333333333  Sepal length minus mean sepal length \n",
      "0.046  Sepal width minus mean sepal width\n",
      " \n",
      "-1.44333333333  Sepal length minus mean sepal length \n",
      "-0.054  Sepal width minus mean sepal width\n",
      " \n",
      "-0.743333333333  Sepal length minus mean sepal length \n",
      "0.346  Sepal width minus mean sepal width\n",
      " \n",
      "-0.843333333333  Sepal length minus mean sepal length \n",
      "0.446  Sepal width minus mean sepal width\n",
      " \n",
      "-1.34333333333  Sepal length minus mean sepal length \n",
      "-0.754  Sepal width minus mean sepal width\n",
      " \n",
      "-1.44333333333  Sepal length minus mean sepal length \n",
      "0.146  Sepal width minus mean sepal width\n",
      " \n",
      "-0.843333333333  Sepal length minus mean sepal length \n",
      "0.446  Sepal width minus mean sepal width\n",
      " \n",
      "-0.743333333333  Sepal length minus mean sepal length \n",
      "0.746  Sepal width minus mean sepal width\n",
      " \n",
      "-1.04333333333  Sepal length minus mean sepal length \n",
      "-0.054  Sepal width minus mean sepal width\n",
      " \n",
      "-0.743333333333  Sepal length minus mean sepal length \n",
      "0.746  Sepal width minus mean sepal width\n",
      " \n",
      "-1.24333333333  Sepal length minus mean sepal length \n",
      "0.146  Sepal width minus mean sepal width\n",
      " \n",
      "-0.543333333333  Sepal length minus mean sepal length \n",
      "0.646  Sepal width minus mean sepal width\n",
      " \n",
      "-0.843333333333  Sepal length minus mean sepal length \n",
      "0.246  Sepal width minus mean sepal width\n",
      " \n",
      "1.15666666667  Sepal length minus mean sepal length \n",
      "0.146  Sepal width minus mean sepal width\n",
      " \n",
      "0.556666666667  Sepal length minus mean sepal length \n",
      "0.146  Sepal width minus mean sepal width\n",
      " \n",
      "1.05666666667  Sepal length minus mean sepal length \n",
      "0.046  Sepal width minus mean sepal width\n",
      " \n",
      "-0.343333333333  Sepal length minus mean sepal length \n",
      "-0.754  Sepal width minus mean sepal width\n",
      " \n",
      "0.656666666667  Sepal length minus mean sepal length \n",
      "-0.254  Sepal width minus mean sepal width\n",
      " \n",
      "-0.143333333333  Sepal length minus mean sepal length \n",
      "-0.254  Sepal width minus mean sepal width\n",
      " \n",
      "0.456666666667  Sepal length minus mean sepal length \n",
      "0.246  Sepal width minus mean sepal width\n",
      " \n",
      "-0.943333333333  Sepal length minus mean sepal length \n",
      "-0.654  Sepal width minus mean sepal width\n",
      " \n",
      "0.756666666667  Sepal length minus mean sepal length \n",
      "-0.154  Sepal width minus mean sepal width\n",
      " \n",
      "-0.643333333333  Sepal length minus mean sepal length \n",
      "-0.354  Sepal width minus mean sepal width\n",
      " \n",
      "-0.843333333333  Sepal length minus mean sepal length \n",
      "-1.054  Sepal width minus mean sepal width\n",
      " \n",
      "0.0566666666667  Sepal length minus mean sepal length \n",
      "-0.054  Sepal width minus mean sepal width\n",
      " \n",
      "0.156666666667  Sepal length minus mean sepal length \n",
      "-0.854  Sepal width minus mean sepal width\n",
      " \n",
      "0.256666666667  Sepal length minus mean sepal length \n",
      "-0.154  Sepal width minus mean sepal width\n",
      " \n",
      "-0.243333333333  Sepal length minus mean sepal length \n",
      "-0.154  Sepal width minus mean sepal width\n",
      " \n",
      "0.856666666667  Sepal length minus mean sepal length \n",
      "0.046  Sepal width minus mean sepal width\n",
      " \n",
      "-0.243333333333  Sepal length minus mean sepal length \n",
      "-0.054  Sepal width minus mean sepal width\n",
      " \n",
      "-0.0433333333333  Sepal length minus mean sepal length \n",
      "-0.354  Sepal width minus mean sepal width\n",
      " \n",
      "0.356666666667  Sepal length minus mean sepal length \n",
      "-0.854  Sepal width minus mean sepal width\n",
      " \n",
      "-0.243333333333  Sepal length minus mean sepal length \n",
      "-0.554  Sepal width minus mean sepal width\n",
      " \n",
      "0.0566666666667  Sepal length minus mean sepal length \n",
      "0.146  Sepal width minus mean sepal width\n",
      " \n",
      "0.256666666667  Sepal length minus mean sepal length \n",
      "-0.254  Sepal width minus mean sepal width\n",
      " \n",
      "0.456666666667  Sepal length minus mean sepal length \n",
      "-0.554  Sepal width minus mean sepal width\n",
      " \n",
      "0.256666666667  Sepal length minus mean sepal length \n",
      "-0.254  Sepal width minus mean sepal width\n",
      " \n",
      "0.556666666667  Sepal length minus mean sepal length \n",
      "-0.154  Sepal width minus mean sepal width\n",
      " \n",
      "0.756666666667  Sepal length minus mean sepal length \n",
      "-0.054  Sepal width minus mean sepal width\n",
      " \n",
      "0.956666666667  Sepal length minus mean sepal length \n",
      "-0.254  Sepal width minus mean sepal width\n",
      " \n",
      "0.856666666667  Sepal length minus mean sepal length \n",
      "-0.054  Sepal width minus mean sepal width\n",
      " \n",
      "0.156666666667  Sepal length minus mean sepal length \n",
      "-0.154  Sepal width minus mean sepal width\n",
      " \n",
      "-0.143333333333  Sepal length minus mean sepal length \n",
      "-0.454  Sepal width minus mean sepal width\n",
      " \n",
      "-0.343333333333  Sepal length minus mean sepal length \n",
      "-0.654  Sepal width minus mean sepal width\n",
      " \n",
      "-0.343333333333  Sepal length minus mean sepal length \n",
      "-0.654  Sepal width minus mean sepal width\n",
      " \n",
      "-0.0433333333333  Sepal length minus mean sepal length \n",
      "-0.354  Sepal width minus mean sepal width\n",
      " \n",
      "0.156666666667  Sepal length minus mean sepal length \n",
      "-0.354  Sepal width minus mean sepal width\n",
      " \n",
      "-0.443333333333  Sepal length minus mean sepal length \n",
      "-0.054  Sepal width minus mean sepal width\n",
      " \n",
      "0.156666666667  Sepal length minus mean sepal length \n",
      "0.346  Sepal width minus mean sepal width\n",
      " \n",
      "0.856666666667  Sepal length minus mean sepal length \n",
      "0.046  Sepal width minus mean sepal width\n",
      " \n",
      "0.456666666667  Sepal length minus mean sepal length \n",
      "-0.754  Sepal width minus mean sepal width\n",
      " \n",
      "-0.243333333333  Sepal length minus mean sepal length \n",
      "-0.054  Sepal width minus mean sepal width\n",
      " \n",
      "-0.343333333333  Sepal length minus mean sepal length \n",
      "-0.554  Sepal width minus mean sepal width\n",
      " \n",
      "-0.343333333333  Sepal length minus mean sepal length \n",
      "-0.454  Sepal width minus mean sepal width\n",
      " \n",
      "0.256666666667  Sepal length minus mean sepal length \n",
      "-0.054  Sepal width minus mean sepal width\n",
      " \n",
      "-0.0433333333333  Sepal length minus mean sepal length \n",
      "-0.454  Sepal width minus mean sepal width\n",
      " \n",
      "-0.843333333333  Sepal length minus mean sepal length \n",
      "-0.754  Sepal width minus mean sepal width\n",
      " \n",
      "-0.243333333333  Sepal length minus mean sepal length \n",
      "-0.354  Sepal width minus mean sepal width\n",
      " \n",
      "-0.143333333333  Sepal length minus mean sepal length \n",
      "-0.054  Sepal width minus mean sepal width\n",
      " \n",
      "-0.143333333333  Sepal length minus mean sepal length \n",
      "-0.154  Sepal width minus mean sepal width\n",
      " \n",
      "0.356666666667  Sepal length minus mean sepal length \n",
      "-0.154  Sepal width minus mean sepal width\n",
      " \n",
      "-0.743333333333  Sepal length minus mean sepal length \n",
      "-0.554  Sepal width minus mean sepal width\n",
      " \n",
      "-0.143333333333  Sepal length minus mean sepal length \n",
      "-0.254  Sepal width minus mean sepal width\n",
      " \n",
      "0.456666666667  Sepal length minus mean sepal length \n",
      "0.246  Sepal width minus mean sepal width\n",
      " \n",
      "-0.0433333333333  Sepal length minus mean sepal length \n",
      "-0.354  Sepal width minus mean sepal width\n",
      " \n",
      "1.25666666667  Sepal length minus mean sepal length \n",
      "-0.054  Sepal width minus mean sepal width\n",
      " \n",
      "0.456666666667  Sepal length minus mean sepal length \n",
      "-0.154  Sepal width minus mean sepal width\n",
      " \n",
      "0.656666666667  Sepal length minus mean sepal length \n",
      "-0.054  Sepal width minus mean sepal width\n",
      " \n",
      "1.75666666667  Sepal length minus mean sepal length \n",
      "-0.054  Sepal width minus mean sepal width\n",
      " \n",
      "-0.943333333333  Sepal length minus mean sepal length \n",
      "-0.554  Sepal width minus mean sepal width\n",
      " \n",
      "1.45666666667  Sepal length minus mean sepal length \n",
      "-0.154  Sepal width minus mean sepal width\n",
      " \n",
      "0.856666666667  Sepal length minus mean sepal length \n",
      "-0.554  Sepal width minus mean sepal width\n",
      " \n",
      "1.35666666667  Sepal length minus mean sepal length \n",
      "0.546  Sepal width minus mean sepal width\n",
      " \n",
      "0.656666666667  Sepal length minus mean sepal length \n",
      "0.146  Sepal width minus mean sepal width\n",
      " \n",
      "0.556666666667  Sepal length minus mean sepal length \n",
      "-0.354  Sepal width minus mean sepal width\n",
      " \n",
      "0.956666666667  Sepal length minus mean sepal length \n",
      "-0.054  Sepal width minus mean sepal width\n",
      " \n",
      "-0.143333333333  Sepal length minus mean sepal length \n",
      "-0.554  Sepal width minus mean sepal width\n",
      " \n",
      "-0.0433333333333  Sepal length minus mean sepal length \n",
      "-0.254  Sepal width minus mean sepal width\n",
      " \n",
      "0.556666666667  Sepal length minus mean sepal length \n",
      "0.146  Sepal width minus mean sepal width\n",
      " \n",
      "0.656666666667  Sepal length minus mean sepal length \n",
      "-0.054  Sepal width minus mean sepal width\n",
      " \n",
      "1.85666666667  Sepal length minus mean sepal length \n",
      "0.746  Sepal width minus mean sepal width\n",
      " \n",
      "1.85666666667  Sepal length minus mean sepal length \n",
      "-0.454  Sepal width minus mean sepal width\n",
      " \n",
      "0.156666666667  Sepal length minus mean sepal length \n",
      "-0.854  Sepal width minus mean sepal width\n",
      " \n",
      "1.05666666667  Sepal length minus mean sepal length \n",
      "0.146  Sepal width minus mean sepal width\n",
      " \n",
      "-0.243333333333  Sepal length minus mean sepal length \n",
      "-0.254  Sepal width minus mean sepal width\n",
      " \n",
      "1.85666666667  Sepal length minus mean sepal length \n",
      "-0.254  Sepal width minus mean sepal width\n",
      " \n",
      "0.456666666667  Sepal length minus mean sepal length \n",
      "-0.354  Sepal width minus mean sepal width\n",
      " \n",
      "0.856666666667  Sepal length minus mean sepal length \n",
      "0.246  Sepal width minus mean sepal width\n",
      " \n",
      "1.35666666667  Sepal length minus mean sepal length \n",
      "0.146  Sepal width minus mean sepal width\n",
      " \n",
      "0.356666666667  Sepal length minus mean sepal length \n",
      "-0.254  Sepal width minus mean sepal width\n",
      " \n",
      "0.256666666667  Sepal length minus mean sepal length \n",
      "-0.054  Sepal width minus mean sepal width\n",
      " \n",
      "0.556666666667  Sepal length minus mean sepal length \n",
      "-0.254  Sepal width minus mean sepal width\n",
      " \n",
      "1.35666666667  Sepal length minus mean sepal length \n",
      "-0.054  Sepal width minus mean sepal width\n",
      " \n",
      "1.55666666667  Sepal length minus mean sepal length \n",
      "-0.254  Sepal width minus mean sepal width\n",
      " \n",
      "2.05666666667  Sepal length minus mean sepal length \n",
      "0.746  Sepal width minus mean sepal width\n",
      " \n",
      "0.556666666667  Sepal length minus mean sepal length \n",
      "-0.254  Sepal width minus mean sepal width\n",
      " \n",
      "0.456666666667  Sepal length minus mean sepal length \n",
      "-0.254  Sepal width minus mean sepal width\n",
      " \n",
      "0.256666666667  Sepal length minus mean sepal length \n",
      "-0.454  Sepal width minus mean sepal width\n",
      " \n",
      "1.85666666667  Sepal length minus mean sepal length \n",
      "-0.054  Sepal width minus mean sepal width\n",
      " \n",
      "0.456666666667  Sepal length minus mean sepal length \n",
      "0.346  Sepal width minus mean sepal width\n",
      " \n",
      "0.556666666667  Sepal length minus mean sepal length \n",
      "0.046  Sepal width minus mean sepal width\n",
      " \n",
      "0.156666666667  Sepal length minus mean sepal length \n",
      "-0.054  Sepal width minus mean sepal width\n",
      " \n",
      "1.05666666667  Sepal length minus mean sepal length \n",
      "0.046  Sepal width minus mean sepal width\n",
      " \n",
      "0.856666666667  Sepal length minus mean sepal length \n",
      "0.046  Sepal width minus mean sepal width\n",
      " \n",
      "1.05666666667  Sepal length minus mean sepal length \n",
      "0.046  Sepal width minus mean sepal width\n",
      " \n",
      "-0.0433333333333  Sepal length minus mean sepal length \n",
      "-0.354  Sepal width minus mean sepal width\n",
      " \n",
      "0.956666666667  Sepal length minus mean sepal length \n",
      "0.146  Sepal width minus mean sepal width\n",
      " \n",
      "0.856666666667  Sepal length minus mean sepal length \n",
      "0.246  Sepal width minus mean sepal width\n",
      " \n",
      "0.856666666667  Sepal length minus mean sepal length \n",
      "-0.054  Sepal width minus mean sepal width\n",
      " \n",
      "0.456666666667  Sepal length minus mean sepal length \n",
      "-0.554  Sepal width minus mean sepal width\n",
      " \n",
      "0.656666666667  Sepal length minus mean sepal length \n",
      "-0.054  Sepal width minus mean sepal width\n",
      " \n",
      "0.356666666667  Sepal length minus mean sepal length \n",
      "0.346  Sepal width minus mean sepal width\n",
      " \n",
      "0.0566666666667  Sepal length minus mean sepal length \n",
      "-0.054  Sepal width minus mean sepal width\n",
      " \n"
     ]
    }
   ],
   "source": [
    "#Difference from the mean\n",
    "for item in iris_df.iterrows():\n",
    "        print(item[1]['sepal_length']-mean_Length, ' Sepal length minus mean sepal length ')\n",
    "        \n",
    "        print(item[1]['sepal_width']-mean_Width, ' Sepal width minus mean sepal width')\n",
    "        print(\" \")"
   ]
  },
  {
   "cell_type": "code",
   "execution_count": 326,
   "metadata": {
    "collapsed": false
   },
   "outputs": [],
   "source": [
    "def total_distance(data_matrix,distance_metric):\n",
    "    mean = np.mean(data_matrix,axis=0)\n",
    "    #print(mean)\n",
    "    total_distance = []\n",
    "    for item in  data_matrix:\n",
    "        #print(distance_metric(item,mean))\n",
    "        total_distance.append(distance_metric(item,mean))\n",
    "   \n",
    "    return np.array(total_distance).reshape(len(data_matrix),1)\n",
    " \n",
    "    "
   ]
  },
  {
   "cell_type": "code",
   "execution_count": 306,
   "metadata": {
    "collapsed": false
   },
   "outputs": [
    {
     "data": {
      "text/plain": [
       "array([[ 0.86686818],\n",
       "       [ 0.94487765],\n",
       "       [ 1.1526175 ],\n",
       "       [ 1.24418398],\n",
       "       [ 1.00465273],\n",
       "       [ 0.95512326],\n",
       "       [ 1.29057885],\n",
       "       [ 0.91155203],\n",
       "       [ 1.45152579],\n",
       "       [ 0.94445422],\n",
       "       [ 0.78349247],\n",
       "       [ 1.09920901],\n",
       "       [ 1.04472984],\n",
       "       [ 1.54427775],\n",
       "       [ 0.94699196],\n",
       "       [ 1.35361015],\n",
       "       [ 0.95512326],\n",
       "       [ 0.86686818],\n",
       "       [ 0.75964495],\n",
       "       [ 1.05311939],\n",
       "       [ 0.56237038],\n",
       "       [ 0.98481493],\n",
       "       [ 1.35793732],\n",
       "       [ 0.78298177],\n",
       "       [ 1.09920901],\n",
       "       [ 0.84506042],\n",
       "       [ 0.91155203],\n",
       "       [ 0.78281146],\n",
       "       [ 0.73047504],\n",
       "       [ 1.1526175 ],\n",
       "       [ 1.0443469 ],\n",
       "       [ 0.56237038],\n",
       "       [ 1.22800398],\n",
       "       [ 1.19632511],\n",
       "       [ 0.94445422],\n",
       "       [ 0.85587798],\n",
       "       [ 0.56284436],\n",
       "       [ 0.94445422],\n",
       "       [ 1.44434314],\n",
       "       [ 0.8199149 ],\n",
       "       [ 0.95400582],\n",
       "       [ 1.5404741 ],\n",
       "       [ 1.45069884],\n",
       "       [ 0.95400582],\n",
       "       [ 1.05311939],\n",
       "       [ 1.04472984],\n",
       "       [ 1.05311939],\n",
       "       [ 1.2518761 ],\n",
       "       [ 0.84411321],\n",
       "       [ 0.87848   ],\n",
       "       [ 1.16584466],\n",
       "       [ 0.57549438],\n",
       "       [ 1.05766745],\n",
       "       [ 0.82848885],\n",
       "       [ 0.70407891],\n",
       "       [ 0.29165124],\n",
       "       [ 0.51871037],\n",
       "       [ 1.14786488],\n",
       "       [ 0.77217902],\n",
       "       [ 0.73429815],\n",
       "       [ 1.34986189],\n",
       "       [ 0.07827587],\n",
       "       [ 0.86825137],\n",
       "       [ 0.2993222 ],\n",
       "       [ 0.28797068],\n",
       "       [ 0.8579008 ],\n",
       "       [ 0.24925311],\n",
       "       [ 0.35664237],\n",
       "       [ 0.9254875 ],\n",
       "       [ 0.60508438],\n",
       "       [ 0.15661134],\n",
       "       [ 0.36110079],\n",
       "       [ 0.71795574],\n",
       "       [ 0.36110079],\n",
       "       [ 0.57757578],\n",
       "       [ 0.75859109],\n",
       "       [ 0.98981165],\n",
       "       [ 0.85836692],\n",
       "       [ 0.2196826 ],\n",
       "       [ 0.47608869],\n",
       "       [ 0.7386432 ],\n",
       "       [ 0.7386432 ],\n",
       "       [ 0.35664237],\n",
       "       [ 0.38711813],\n",
       "       [ 0.44660995],\n",
       "       [ 0.37981633],\n",
       "       [ 0.8579008 ],\n",
       "       [ 0.88151032],\n",
       "       [ 0.24925311],\n",
       "       [ 0.65176206],\n",
       "       [ 0.56920451],\n",
       "       [ 0.26228568],\n",
       "       [ 0.45606335],\n",
       "       [ 1.13125024],\n",
       "       [ 0.42956619],\n",
       "       [ 0.15316803],\n",
       "       [ 0.21038166],\n",
       "       [ 0.38849339],\n",
       "       [ 0.9270709 ],\n",
       "       [ 0.29165124],\n",
       "       [ 0.51871037],\n",
       "       [ 0.35664237],\n",
       "       [ 1.25782634],\n",
       "       [ 0.48193407],\n",
       "       [ 0.65888323],\n",
       "       [ 1.75749645],\n",
       "       [ 1.0939807 ],\n",
       "       [ 1.46478455],\n",
       "       [ 1.02019301],\n",
       "       [ 1.46241596],\n",
       "       [ 0.67270135],\n",
       "       [ 0.65969218],\n",
       "       [ 0.9581895 ],\n",
       "       [ 0.5722416 ],\n",
       "       [ 0.2576699 ],\n",
       "       [ 0.57549438],\n",
       "       [ 0.65888323],\n",
       "       [ 2.00093156],\n",
       "       [ 1.91136786],\n",
       "       [ 0.86825137],\n",
       "       [ 1.06670542],\n",
       "       [ 0.35174865],\n",
       "       [ 1.87396027],\n",
       "       [ 0.57780658],\n",
       "       [ 0.89128771],\n",
       "       [ 1.36450007],\n",
       "       [ 0.43786654],\n",
       "       [ 0.26228568],\n",
       "       [ 0.61187726],\n",
       "       [ 1.35774093],\n",
       "       [ 1.57725303],\n",
       "       [ 2.18778285],\n",
       "       [ 0.61187726],\n",
       "       [ 0.52255186],\n",
       "       [ 0.52153023],\n",
       "       [ 1.85745178],\n",
       "       [ 0.57294018],\n",
       "       [ 0.55856403],\n",
       "       [ 0.16571193],\n",
       "       [ 1.05766745],\n",
       "       [ 0.8579008 ],\n",
       "       [ 1.05766745],\n",
       "       [ 0.35664237],\n",
       "       [ 0.96774331],\n",
       "       [ 0.89128771],\n",
       "       [ 0.85836692],\n",
       "       [ 0.71795574],\n",
       "       [ 0.65888323],\n",
       "       [ 0.49691761],\n",
       "       [ 0.07827587]])"
      ]
     },
     "execution_count": 306,
     "metadata": {},
     "output_type": "execute_result"
    }
   ],
   "source": [
    "#Euclidean distance\n",
    "total_distance(sepalLength_sepalWidth,euclidean_dist)"
   ]
  },
  {
   "cell_type": "code",
   "execution_count": 327,
   "metadata": {
    "collapsed": false
   },
   "outputs": [
    {
     "data": {
      "text/plain": [
       "(150, 1)"
      ]
     },
     "execution_count": 327,
     "metadata": {},
     "output_type": "execute_result"
    }
   ],
   "source": [
    "#Cosine similarity\n",
    "shape(total_distance(sepalLength_sepalWidth,cosine_sim))"
   ]
  },
  {
   "cell_type": "code",
   "execution_count": 229,
   "metadata": {
    "collapsed": false
   },
   "outputs": [
    {
     "data": {
      "text/plain": [
       "array([[ 0.00653767],\n",
       "       [ 0.00538397],\n",
       "       [ 0.00550849],\n",
       "       [ 0.00522281],\n",
       "       [ 0.00659261],\n",
       "       [ 0.00771336],\n",
       "       [ 0.00572825],\n",
       "       [ 0.00622636],\n",
       "       [ 0.00467343],\n",
       "       [ 0.00556343],\n",
       "       [ 0.0073178 ],\n",
       "       [ 0.0059773 ],\n",
       "       [ 0.00527409],\n",
       "       [ 0.00472471],\n",
       "       [ 0.00849715],\n",
       "       [ 0.00918571],\n",
       "       [ 0.00771336],\n",
       "       [ 0.00653767],\n",
       "       [ 0.00793311],\n",
       "       [ 0.00709805],\n",
       "       [ 0.00672446],\n",
       "       [ 0.00691126],\n",
       "       [ 0.0060652 ],\n",
       "       [ 0.00616409],\n",
       "       [ 0.0059773 ],\n",
       "       [ 0.00549384],\n",
       "       [ 0.00622636],\n",
       "       [ 0.00666586],\n",
       "       [ 0.00647541],\n",
       "       [ 0.00550849],\n",
       "       [ 0.00544989],\n",
       "       [ 0.00672446],\n",
       "       [ 0.00780858],\n",
       "       [ 0.00846052],\n",
       "       [ 0.00556343],\n",
       "       [ 0.0058601 ],\n",
       "       [ 0.00705043],\n",
       "       [ 0.00556343],\n",
       "       [ 0.00483458],\n",
       "       [ 0.00635088],\n",
       "       [ 0.00640948],\n",
       "       [ 0.00379075],\n",
       "       [ 0.00515689],\n",
       "       [ 0.00640948],\n",
       "       [ 0.00709805],\n",
       "       [ 0.00527409],\n",
       "       [ 0.00709805],\n",
       "       [ 0.00539129],\n",
       "       [ 0.00718229],\n",
       "       [ 0.00604323],\n",
       "       [ 0.00820414],\n",
       "       [ 0.00750093],\n",
       "       [ 0.00783422],\n",
       "       [ 0.00463314],\n",
       "       [ 0.00666586],\n",
       "       [ 0.00584545],\n",
       "       [ 0.00761447],\n",
       "       [ 0.00430717],\n",
       "       [ 0.00701014],\n",
       "       [ 0.00514224],\n",
       "       [ 0.00366256],\n",
       "       [ 0.00648274],\n",
       "       [ 0.00483458],\n",
       "       [ 0.00647907],\n",
       "       [ 0.005948  ],\n",
       "       [ 0.00760714],\n",
       "       [ 0.00615311],\n",
       "       [ 0.00573557],\n",
       "       [ 0.00499574],\n",
       "       [ 0.00512759],\n",
       "       [ 0.00691492],\n",
       "       [ 0.00625566],\n",
       "       [ 0.00576854],\n",
       "       [ 0.00625566],\n",
       "       [ 0.00679772],\n",
       "       [ 0.00725187],\n",
       "       [ 0.00697352],\n",
       "       [ 0.00736175],\n",
       "       [ 0.00637286],\n",
       "       [ 0.00542792],\n",
       "       [ 0.00483458],\n",
       "       [ 0.00483458],\n",
       "       [ 0.00573557],\n",
       "       [ 0.00593335],\n",
       "       [ 0.00593335],\n",
       "       [ 0.00747163],\n",
       "       [ 0.00760714],\n",
       "       [ 0.00530705],\n",
       "       [ 0.00615311],\n",
       "       [ 0.00503602],\n",
       "       [ 0.00523746],\n",
       "       [ 0.00670249],\n",
       "       [ 0.00552314],\n",
       "       [ 0.00421195],\n",
       "       [ 0.00553779],\n",
       "       [ 0.00626298],\n",
       "       [ 0.00605422],\n",
       "       [ 0.00658529],\n",
       "       [ 0.00466977],\n",
       "       [ 0.00584545],\n",
       "       [ 0.00761447],\n",
       "       [ 0.00573557],\n",
       "       [ 0.00780126],\n",
       "       [ 0.0066915 ],\n",
       "       [ 0.007142  ],\n",
       "       [ 0.00835064],\n",
       "       [ 0.00448664],\n",
       "       [ 0.00775365],\n",
       "       [ 0.00613479],\n",
       "       [ 0.00949336],\n",
       "       [ 0.00761813],\n",
       "       [ 0.00632891],\n",
       "       [ 0.00747163],\n",
       "       [ 0.00521915],\n",
       "       [ 0.005948  ],\n",
       "       [ 0.00750093],\n",
       "       [ 0.007142  ],\n",
       "       [ 0.01071666],\n",
       "       [ 0.00733245],\n",
       "       [ 0.00483458],\n",
       "       [ 0.00808694],\n",
       "       [ 0.0057429 ],\n",
       "       [ 0.00789648],\n",
       "       [ 0.00623002],\n",
       "       [ 0.00809793],\n",
       "       [ 0.00843854],\n",
       "       [ 0.00635821],\n",
       "       [ 0.00670249],\n",
       "       [ 0.00656331],\n",
       "       [ 0.00791114],\n",
       "       [ 0.00758883],\n",
       "       [ 0.01099501],\n",
       "       [ 0.00656331],\n",
       "       [ 0.00646076],\n",
       "       [ 0.00580882],\n",
       "       [ 0.00846052],\n",
       "       [ 0.00784521],\n",
       "       [ 0.00726652],\n",
       "       [ 0.00659261],\n",
       "       [ 0.00783422],\n",
       "       [ 0.00760714],\n",
       "       [ 0.00783422],\n",
       "       [ 0.00573557],\n",
       "       [ 0.00796974],\n",
       "       [ 0.00809793],\n",
       "       [ 0.00736175],\n",
       "       [ 0.00576854],\n",
       "       [ 0.007142  ],\n",
       "       [ 0.00772068],\n",
       "       [ 0.00648274]])"
      ]
     },
     "execution_count": 229,
     "metadata": {},
     "output_type": "execute_result"
    }
   ],
   "source": [
    "#Cosine similarity\n",
    "total_distance(sepalLength_sepalWidth,cosine_sim)"
   ]
  },
  {
   "cell_type": "markdown",
   "metadata": {},
   "source": [
    "### Plot histograms of the euclidean distances and cosine similarities."
   ]
  },
  {
   "cell_type": "code",
   "execution_count": 328,
   "metadata": {
    "collapsed": false
   },
   "outputs": [
    {
     "name": "stderr",
     "output_type": "stream",
     "text": [
      "/Users/jonathanhilgart/anaconda/lib/python3.5/site-packages/statsmodels/nonparametric/kdetools.py:20: VisibleDeprecationWarning: using a non-integer number instead of an integer will result in an error in the future\n",
      "  y = X[:m/2+1] + np.r_[0,X[m/2+1:],0]*1j\n"
     ]
    },
    {
     "data": {
      "text/plain": [
       "<matplotlib.text.Text at 0x11dfdc2b0>"
      ]
     },
     "execution_count": 328,
     "metadata": {},
     "output_type": "execute_result"
    },
    {
     "data": {
      "image/png": "[encoded data removed]",
      "text/plain": [
       "<matplotlib.figure.Figure at 0x11e0cd4a8>"
      ]
     },
     "metadata": {},
     "output_type": "display_data"
    }
   ],
   "source": [
    "sns.distplot(total_distance(sepalLength_sepalWidth,cosine_sim))\n",
    "plt.title('Cosine Similarity')"
   ]
  },
  {
   "cell_type": "code",
   "execution_count": 329,
   "metadata": {
    "collapsed": false
   },
   "outputs": [
    {
     "name": "stderr",
     "output_type": "stream",
     "text": [
      "/Users/jonathanhilgart/anaconda/lib/python3.5/site-packages/statsmodels/nonparametric/kdetools.py:20: VisibleDeprecationWarning: using a non-integer number instead of an integer will result in an error in the future\n",
      "  y = X[:m/2+1] + np.r_[0,X[m/2+1:],0]*1j\n"
     ]
    },
    {
     "data": {
      "text/plain": [
       "<matplotlib.text.Text at 0x11e40fef0>"
      ]
     },
     "execution_count": 329,
     "metadata": {},
     "output_type": "execute_result"
    },
    {
     "data": {
      "image/png": "[encoded data removed]",
      "text/plain": [
       "<matplotlib.figure.Figure at 0x11e92d748>"
      ]
     },
     "metadata": {},
     "output_type": "display_data"
    }
   ],
   "source": [
    "sns.distplot(total_distance(sepalLength_sepalWidth,eucliean_dist))\n",
    "plt.title('Euclidean Distance')"
   ]
  },
  {
   "cell_type": "markdown",
   "metadata": {},
   "source": [
    "- Euclidean distance looks bimodial while cosine looks unimodial"
   ]
  },
  {
   "cell_type": "code",
   "execution_count": null,
   "metadata": {
    "collapsed": true
   },
   "outputs": [],
   "source": []
  },
  {
   "cell_type": "code",
   "execution_count": null,
   "metadata": {
    "collapsed": true
   },
   "outputs": [],
   "source": []
  },
  {
   "cell_type": "code",
   "execution_count": null,
   "metadata": {
    "collapsed": true
   },
   "outputs": [],
   "source": []
  },
  {
   "cell_type": "markdown",
   "metadata": {
    "collapsed": true
   },
   "source": [
    "## Implementing the PageRank Algorithm\n",
    "\n",
    "The [Page Rank Algorithm](http://en.wikipedia.org/wiki/PageRank) is used by Google Search (in their early days) to rank websites in their search engine in terms of the importance of webpages. Here's a good one page summary of Page rank algo.  http://www.math.cornell.edu/~mec/Winter2009/RalucaRemus/Lecture3/lecture3.html . And a couple of other references.  [More about PageRank](http://books.google.com/books/p/princeton?id=5o_K4rri1CsC&printsec=frontcover&source=gbs_ViewAPI&hl=en#v=onepage&q&f=false)\n",
    "\n",
    "We will implement PageRank on this simple network of websites.\n",
    "\n",
    "   <div align=\"center\">\n",
    "    <img src=\"images/pageweb.png\">\n",
    "   </div>\n",
    "\n",
    "**In the above image:**\n",
    "   - Each node is a web page\n",
    "   - Each directed edge corresponds to one page referencing the other\n",
    "   - These web pages correspond to the states our Markov chain can be in\n",
    "   - Assume that the model of our chain is that of a random surfer/walker.\n",
    "\n",
    "In this model, we transition from one web page (state) to the next with\n",
    "equal probability (to begin).  Or rather we randomly pick an outgoing edge\n",
    "from our current state.  Before we can do any sort of calculation we need to\n",
    "know how we will move on this Markov Chain.\n",
    "\n",
    "1. Create an `numpy ndarray` representing the transition probabilities between\n",
    "   nodes for **the above network (in the image)**. The position _i_, _j_ in the matrix corresponds to the\n",
    "   probability of going from node _i_ to node _j_.\n",
    "\n",
    "2. Now that we have a transition matrix, the next step is to iterate on this\n",
    "   from one page to the next (like someone blindly navigating the internet) and\n",
    "   see where we end up. The probability distribution for our random surfer can\n",
    "   be described in this matrix notation as well (or vector rather).\n",
    "\n",
    "   Initialize a vector for the probability of where our random surfer is.\n",
    "   It will be a vector with length equal to the number of pages.\n",
    "   Initialize it to be equally probable to start on any page\n",
    "   (i.e. you start randomly in a state on the chain).\n",
    "\n",
    "3. To take a step on the chain, simply matrix multiple our user vector by the\n",
    "   transition matrix.\n",
    "   After one iteration, what is the most likely location for your random surfer?\n",
    "\n",
    "4. Plot how the probabilities change.\n",
    "   Iterate the matrix through the first ten steps.\n",
    "   At each step create a bar plot of the surfers probability vector.\n",
    "\n",
    "5. This time to compute the stationary distribution, we can use numpy's\n",
    "   matrix operations. Using the function for calculating [eigenvectors](http://docs.scipy.org/doc/numpy/reference/generated/numpy.linalg.eig.html) compute the\n",
    "   stationary distribution (page rank).  Is it the same as what you found\n",
    "   from above?  What is it's eigenvalue?\n",
    "   \n",
    "   **Hint:** \n",
    "   - The stationary state is represented by the real form of the left (first) eigenvector\n",
    "   - The left eigenvector obtained from `numpy.linalg.eig` has to be normalized\n",
    "   \n",
    "6.  Implement Page and Brin's solution for dealing with isolated portions of the transition graph.  Try different values for the damping factor to see how much effect it has on the probabilities. "
   ]
  },
  {
   "cell_type": "code",
   "execution_count": 330,
   "metadata": {
    "collapsed": true
   },
   "outputs": [],
   "source": [
    "#COlumns are is From A, From B, From C, From D, From E\n",
    "#Rows are To A, To B, TO C, TO D, To E\n",
    "\n",
    "pagerank_transition = np.array([[0,.5,.33,1,0],\n",
    "                               [1,0,.33,0,.33],\n",
    "                               [0,.5,0,0,.33],\n",
    "                               [0,0,0,0,.33],\n",
    "                               [0,0,.33,0,0]])"
   ]
  },
  {
   "cell_type": "code",
   "execution_count": 331,
   "metadata": {
    "collapsed": false
   },
   "outputs": [
    {
     "data": {
      "text/plain": [
       "array([ 0.2,  0.2,  0.2,  0.2,  0.2])"
      ]
     },
     "execution_count": 331,
     "metadata": {},
     "output_type": "execute_result"
    }
   ],
   "source": [
    "#initial start , equal probabilities of each page\n",
    "initial_page=np.array([1/5.0,1/5.0,1/5.0,1/5.0,1/5.0])\n",
    "initial_page"
   ]
  },
  {
   "cell_type": "code",
   "execution_count": 339,
   "metadata": {
    "collapsed": false
   },
   "outputs": [
    {
     "data": {
      "text/plain": [
       "array([ 0.366,  0.332,  0.166,  0.066,  0.066])"
      ]
     },
     "execution_count": 339,
     "metadata": {},
     "output_type": "execute_result"
    }
   ],
   "source": [
    "#First step, probabilities of each page\n",
    "pagerank_transition.dot(initial_page)"
   ]
  },
  {
   "cell_type": "markdown",
   "metadata": {},
   "source": [
    "### We have the highest probability of page A after the first transition"
   ]
  },
  {
   "cell_type": "markdown",
   "metadata": {},
   "source": [
    "Plot how the probabilities change. Iterate the matrix through the first ten steps. At each step create a bar plot of the surfers probability vect"
   ]
  },
  {
   "cell_type": "code",
   "execution_count": 390,
   "metadata": {
    "collapsed": false
   },
   "outputs": [
    {
     "name": "stdout",
     "output_type": "stream",
     "text": [
      "[ 0.366  0.332  0.166  0.066  0.066]\n",
      "[ 0.28678  0.44256  0.18778  0.02178  0.05478]\n",
      "[ 0.3050274  0.3668248  0.2393574  0.0180774  0.0619674]\n",
      "[ 0.28047774  0.40446458  0.20386164  0.02044924  0.07898794]\n",
      "[ 0.28995588  0.3738181   0.22829831  0.02606602  0.06727434]\n",
      "[ 0.28831352  0.38749485  0.20910959  0.02220053  0.07533844]\n",
      "[ 0.28495412  0.38218137  0.21860911  0.02486169  0.06900616]\n",
      "[ 0.28809338  0.37986716  0.21386272  0.02277203  0.07214101]\n",
      "[ 0.28328031  0.38247461  0.21374011  0.02380653  0.0705747 ]\n",
      "[ 0.28557807  0.3771042   0.21452695  0.02328965  0.07053424]\n"
     ]
    },
    {
     "data": {
      "image/png": "[encoded data removed]",
      "text/plain": [
       "<matplotlib.figure.Figure at 0x11fd8e470>"
      ]
     },
     "metadata": {},
     "output_type": "display_data"
    },
    {
     "data": {
      "image/png": "[encoded data removed]",
      "text/plain": [
       "<matplotlib.figure.Figure at 0x12190fdd8>"
      ]
     },
     "metadata": {},
     "output_type": "display_data"
    },
    {
     "data": {
      "image/png": "[encoded data removed]",
      "text/plain": [
       "<matplotlib.figure.Figure at 0x11fc5a9b0>"
      ]
     },
     "metadata": {},
     "output_type": "display_data"
    },
    {
     "data": {
      "image/png": "[encoded data removed]",
      "text/plain": [
       "<matplotlib.figure.Figure at 0x121a46c88>"
      ]
     },
     "metadata": {},
     "output_type": "display_data"
    },
    {
     "data": {
      "image/png": "[encoded data removed]",
      "text/plain": [
       "<matplotlib.figure.Figure at 0x121fd9940>"
      ]
     },
     "metadata": {},
     "output_type": "display_data"
    },
    {
     "data": {
      "image/png": "[encoded data removed]",
      "text/plain": [
       "<matplotlib.figure.Figure at 0x121a982e8>"
      ]
     },
     "metadata": {},
     "output_type": "display_data"
    },
    {
     "data": {
      "image/png": "[encoded data removed]",
      "text/plain": [
       "<matplotlib.figure.Figure at 0x1222e3b00>"
      ]
     },
     "metadata": {},
     "output_type": "display_data"
    },
    {
     "data": {
      "image/png": "[encoded data removed]",
      "text/plain": [
       "<matplotlib.figure.Figure at 0x1223c96a0>"
      ]
     },
     "metadata": {},
     "output_type": "display_data"
    },
    {
     "data": {
      "image/png": "[encoded data removed]",
      "text/plain": [
       "<matplotlib.figure.Figure at 0x122315240>"
      ]
     },
     "metadata": {},
     "output_type": "display_data"
    },
    {
     "data": {
      "image/png": "[encoded data removed]",
      "text/plain": [
       "<matplotlib.figure.Figure at 0x1203c1128>"
      ]
     },
     "metadata": {},
     "output_type": "display_data"
    }
   ],
   "source": [
    "labels = ['A','B','C','D','E']\n",
    "ten_steps = transition(initial_page,pagerank_transition,10.0,text=False)\n",
    "\n",
    "for count,trans in enumerate(ten_steps):\n",
    "    print(trans)\n",
    "    plt.figure()\n",
    "    sns.barplot(x=labels,y=trans)\n",
    "    plt.title('Probabilities after {} transitions'.format(count+1))"
   ]
  },
  {
   "cell_type": "markdown",
   "metadata": {},
   "source": [
    "This time to compute the stationary distribution, we can use numpy's matrix operations. Using the function for calculating eigenvectors compute the stationary distribution (page rank). Is it the same as what you found from above? What is it's eigenvalue?"
   ]
  },
  {
   "cell_type": "code",
   "execution_count": 384,
   "metadata": {
    "collapsed": true
   },
   "outputs": [],
   "source": [
    "import numpy as np"
   ]
  },
  {
   "cell_type": "code",
   "execution_count": 385,
   "metadata": {
    "collapsed": false
   },
   "outputs": [
    {
     "data": {
      "text/plain": [
       "(array([ 0.99707319+0.j        , -0.64582069+0.26830342j,\n",
       "        -0.64582069-0.26830342j,  0.14728409+0.29994618j,\n",
       "         0.14728409-0.29994618j]),\n",
       " array([[-0.54138031+0.j        , -0.32792358+0.20907399j,\n",
       "         -0.32792358-0.20907399j, -0.20283209-0.36308888j,\n",
       "         -0.20283209+0.36308888j],\n",
       "        [-0.72210612+0.j        ,  0.67112655+0.j        ,\n",
       "          0.67112655-0.j        , -0.51783866+0.j        , -0.51783866-0.j        ],\n",
       "        [-0.40665836+0.j        , -0.46841474-0.30608772j,\n",
       "         -0.46841474+0.30608772j, -0.00268547+0.43699475j,\n",
       "         -0.00268547-0.43699475j],\n",
       "        [-0.04454547+0.j        , -0.02530184-0.12199838j,\n",
       "         -0.02530184+0.12199838j,  0.33883872-0.25852419j,\n",
       "          0.33883872+0.25852419j],\n",
       "        [-0.13459118+0.j        ,  0.14870617+0.21818335j,\n",
       "          0.14870617-0.21818335j,  0.38620878+0.1925966j ,\n",
       "          0.38620878-0.1925966j ]]))"
      ]
     },
     "execution_count": 385,
     "metadata": {},
     "output_type": "execute_result"
    }
   ],
   "source": [
    "np.linalg.eig(pagerank_transition)"
   ]
  },
  {
   "cell_type": "code",
   "execution_count": 389,
   "metadata": {
    "collapsed": false
   },
   "outputs": [
    {
     "data": {
      "text/plain": [
       "array([ 0.29275171,  0.3904793 ,  0.21990074,  0.02408799,  0.07278026])"
      ]
     },
     "execution_count": 389,
     "metadata": {},
     "output_type": "execute_result"
    }
   ],
   "source": [
    "#steady state, page A, B, C, D, E, F\n",
    "abs(np.linalg.eig(pagerank_transition)[1][:,0])/sum(abs(np.linalg.eig(pagerank_transition)[1][:,0]))"
   ]
  },
  {
   "cell_type": "markdown",
   "metadata": {},
   "source": [
    "Implement Page and Brin's solution for dealing with isolated portions of the transition graph. Try different values for the damping factor to see how much effect it has on the probabilities."
   ]
  },
  {
   "cell_type": "code",
   "execution_count": 391,
   "metadata": {
    "collapsed": false
   },
   "outputs": [
    {
     "data": {
      "text/plain": [
       "array([[ 0.  ,  0.5 ,  0.33,  1.  ,  0.  ],\n",
       "       [ 1.  ,  0.  ,  0.33,  0.  ,  0.33],\n",
       "       [ 0.  ,  0.5 ,  0.  ,  0.  ,  0.33],\n",
       "       [ 0.  ,  0.  ,  0.  ,  0.  ,  0.33],\n",
       "       [ 0.  ,  0.  ,  0.33,  0.  ,  0.  ]])"
      ]
     },
     "execution_count": 391,
     "metadata": {},
     "output_type": "execute_result"
    }
   ],
   "source": [
    "pagerank_transition"
   ]
  },
  {
   "cell_type": "code",
   "execution_count": 411,
   "metadata": {
    "collapsed": false
   },
   "outputs": [],
   "source": [
    "damping_factor = .25\n",
    "B = np.ones([len(pagerank_transition),len(pagerank_transition)])"
   ]
  },
  {
   "cell_type": "code",
   "execution_count": 412,
   "metadata": {
    "collapsed": true
   },
   "outputs": [],
   "source": [
    "pagerank_damping = (1-damping_factor)*pagerank_transition +damping_factor* B/(len(pagerank_transition))"
   ]
  },
  {
   "cell_type": "code",
   "execution_count": 413,
   "metadata": {
    "collapsed": false
   },
   "outputs": [
    {
     "data": {
      "text/plain": [
       "array([[ 0.05  ,  0.425 ,  0.2975,  0.8   ,  0.05  ],\n",
       "       [ 0.8   ,  0.05  ,  0.2975,  0.05  ,  0.2975],\n",
       "       [ 0.05  ,  0.425 ,  0.05  ,  0.05  ,  0.2975],\n",
       "       [ 0.05  ,  0.05  ,  0.05  ,  0.05  ,  0.2975],\n",
       "       [ 0.05  ,  0.05  ,  0.2975,  0.05  ,  0.05  ]])"
      ]
     },
     "execution_count": 413,
     "metadata": {},
     "output_type": "execute_result"
    }
   ],
   "source": [
    "pagerank_damping"
   ]
  },
  {
   "cell_type": "code",
   "execution_count": 409,
   "metadata": {
    "collapsed": false
   },
   "outputs": [],
   "source": [
    "# Using the damping factor"
   ]
  },
  {
   "cell_type": "code",
   "execution_count": 414,
   "metadata": {
    "collapsed": false
   },
   "outputs": [
    {
     "name": "stdout",
     "output_type": "stream",
     "text": [
      "[ 0.3245  0.299   0.1745  0.0995  0.0995]\n",
      "[ 0.27978875  0.36104     0.18660125  0.07447625  0.09303875]\n",
      "[ 0.28717825  0.32879971  0.20816434  0.07277434  0.09593106]\n",
      "[ 0.27904371  0.34028968  0.19668521  0.07338532  0.10116306]\n",
      "[ 0.28085556  0.33252858  0.20217484  0.07456621  0.09820794]\n",
      "[ 0.2800778   0.33440306  0.19842134  0.07372312  0.09945493]\n",
      "[ 0.27910678  0.33308674  0.19932026  0.07391911  0.09841329]\n",
      "[ 0.27887093  0.33221145  0.19845713  0.0735496   0.09852407]\n",
      "[ 0.27794029  0.3317367   0.19804466  0.07346537  0.0981988 ]\n",
      "[ 0.27748563  0.33074477  0.19767476  0.07327349  0.09798534]\n"
     ]
    },
    {
     "data": {
      "image/png": "[encoded data removed]",
      "text/plain": [
       "<matplotlib.figure.Figure at 0x120f04c18>"
      ]
     },
     "metadata": {},
     "output_type": "display_data"
    },
    {
     "data": {
      "image/png": "[encoded data removed]",
      "text/plain": [
       "<matplotlib.figure.Figure at 0x121a13898>"
      ]
     },
     "metadata": {},
     "output_type": "display_data"
    },
    {
     "data": {
      "image/png": "[encoded data removed]",
      "text/plain": [
       "<matplotlib.figure.Figure at 0x121bfb438>"
      ]
     },
     "metadata": {},
     "output_type": "display_data"
    },
    {
     "data": {
      "image/png": "[encoded data removed]",
      "text/plain": [
       "<matplotlib.figure.Figure at 0x1203c6518>"
      ]
     },
     "metadata": {},
     "output_type": "display_data"
    },
    {
     "data": {
      "image/png": "[encoded data removed]",
      "text/plain": [
       "<matplotlib.figure.Figure at 0x121a8a278>"
      ]
     },
     "metadata": {},
     "output_type": "display_data"
    },
    {
     "data": {
      "image/png": "[encoded data removed]",
      "text/plain": [
       "<matplotlib.figure.Figure at 0x120fcde48>"
      ]
     },
     "metadata": {},
     "output_type": "display_data"
    },
    {
     "data": {
      "image/png": "[encoded data removed]",
      "text/plain": [
       "<matplotlib.figure.Figure at 0x120276470>"
      ]
     },
     "metadata": {},
     "output_type": "display_data"
    },
    {
     "data": {
      "image/png": "[encoded data removed]",
      "text/plain": [
       "<matplotlib.figure.Figure at 0x120f022e8>"
      ]
     },
     "metadata": {},
     "output_type": "display_data"
    },
    {
     "data": {
      "image/png": "[encoded data removed]",
      "text/plain": [
       "<matplotlib.figure.Figure at 0x1204a48d0>"
      ]
     },
     "metadata": {},
     "output_type": "display_data"
    },
    {
     "data": {
      "image/png": "[encoded data removed]",
      "text/plain": [
       "<matplotlib.figure.Figure at 0x121a2c4a8>"
      ]
     },
     "metadata": {},
     "output_type": "display_data"
    }
   ],
   "source": [
    "labels = ['A','B','C','D','E']\n",
    "ten_steps = transition(initial_page,pagerank_damping,10.0,text=False)\n",
    "\n",
    "for count,trans in enumerate(ten_steps):\n",
    "    print(trans)\n",
    "    plt.figure()\n",
    "    sns.barplot(x=labels,y=trans)\n",
    "    plt.title('Probabilities after {} transitions using damping factor of .25'.format(count+1))"
   ]
  },
  {
   "cell_type": "code",
   "execution_count": null,
   "metadata": {
    "collapsed": true
   },
   "outputs": [],
   "source": []
  }
 ],
 "metadata": {
  "kernelspec": {
   "display_name": "Python [Root]",
   "language": "python",
   "name": "Python [Root]"
  },
  "language_info": {
   "codemirror_mode": {
    "name": "ipython",
    "version": 3
   },
   "file_extension": ".py",
   "mimetype": "text/x-python",
   "name": "python",
   "nbconvert_exporter": "python",
   "pygments_lexer": "ipython3",
   "version": "3.5.2"
  }
 },
 "nbformat": 4,
 "nbformat_minor": 0
}
