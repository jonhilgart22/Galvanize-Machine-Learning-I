{
 "cells": [
  {
   "cell_type": "markdown",
   "metadata": {},
   "source": [
    "# DSCI 6003 Skills Test 2"
   ]
  },
  {
   "cell_type": "markdown",
   "metadata": {},
   "source": [
    "### Problem 1:\n",
    "\n",
    "A. For each line of code (except imports) provide a one-line annotation describing what the next line does so that someone without that line of code could easily write their own code that does the same thing, i.e.\n",
    "\n",
    "```python\n",
    "    \n",
    "    # Generates an m X n matrix of random samples from the dirichlet distribution and stores to the global variables X in the form of a numpy array\n",
    " \n",
    "    X = np.random.dirichlet(alpha=0.02, size=(m,n))\n",
    "\n",
    "```\n",
    "\n",
    "B. Write a single paragraph description of what is taking place in the below code and attached figure. Study the code and output carefully.\n",
    "\n",
    "C. What happens if you increase or decrease k1 or the number of samples? Why? Produce a graph and complete explanation of this behavior.\n"
   ]
  },
  {
   "cell_type": "code",
   "execution_count": 39,
   "metadata": {
    "collapsed": false
   },
   "outputs": [
    {
     "name": "stdout",
     "output_type": "stream",
     "text": [
      "Populating the interactive namespace from numpy and matplotlib\n",
      "(1000, 7)\n"
     ]
    },
    {
     "data": {
      "text/plain": [
       "<matplotlib.legend.Legend at 0x10b1f8750>"
      ]
     },
     "execution_count": 39,
     "metadata": {},
     "output_type": "execute_result"
    },
    {
     "data": {
      "image/png": "[encoded data removed]",
      "text/plain": [
       "<matplotlib.figure.Figure at 0x10ce00ad0>"
      ]
     },
     "metadata": {},
     "output_type": "display_data"
    }
   ],
   "source": [
    "%pylab inline\n",
    "\n",
    "import numpy as np\n",
    "from sklearn.linear_model import LinearRegression\n",
    "from sklearn.linear_model import Ridge\n",
    "from sklearn.metrics import mean_squared_error\n",
    "from sklearn.cross_validation import train_test_split\n",
    "\n",
    "try:\n",
    "    from sklearn.preprocessing import PolynomialFeatures\n",
    "    from sklearn.pipeline import make_pipeline\n",
    "except ImportError:\n",
    "    # use backports for sklearn 1.4\n",
    "    # available from https://s3.amazonaws.com/datarobotblog/notebooks/sklearn_backports.py\n",
    "    from sklearn_backports import PolynomialFeatures\n",
    "    from sklearn_backports import make_pipeline\n",
    "\n",
    "\n",
    "def func(x):\n",
    "    print X.shape\n",
    "    return np.sin(2 * np.pi * x.dot(x.T))\n",
    "\n",
    "\n",
    "k1 = 7\n",
    "n_samples = 1000\n",
    "X = np.random.uniform(0, 1, size=(n_samples, k1))\n",
    "y = func(X) + np.random.normal(scale=0.3, size=n_samples)[:, np.newaxis]\n",
    "X_train, X_test, y_train, y_test = train_test_split(X, y, test_size=0.8)\n",
    "\n",
    "\n",
    "train_error = np.empty(10)\n",
    "test_error = np.empty(10)\n",
    "for degree in range(10):\n",
    "    est = make_pipeline(PolynomialFeatures(degree), LinearRegression())\n",
    "    est.fit(X_train, y_train)\n",
    "    train_error[degree] = mean_squared_error(y_train, est.predict(X_train))\n",
    "    test_error[degree] = mean_squared_error(y_test, est.predict(X_test))\n",
    "\n",
    "plt.plot(np.arange(10), train_error, color='green', label='train')\n",
    "plt.plot(np.arange(10), test_error, color='red', label='test')\n",
    "plt.ylim((0.0, 1e0))\n",
    "plt.ylabel('log(mean squared error)')\n",
    "plt.xlabel('degree')\n",
    "plt.legend(loc='lower left')\n"
   ]
  },
  {
   "cell_type": "markdown",
   "metadata": {},
   "source": [
    "### Problem 2:\n",
    "\n",
    "Quickly read the documentation about the dataset warehoused at [this location](http://archive.ics.uci.edu/ml/datasets/Combined+Cycle+Power+Plant). Note that the dataset is downloadable from the links on the top. You will need to unzip it, naturally, into a local directory. The data files are given as an Excel (.xlsx) extension. You can simply copy and paste into a text file so as to create a new (.txt) file, that you can load with numpy loadtxt or pandas. You can also [load excel with pandas](http://pandas-docs.github.io/pandas-docs-travis/10min.html#excel).\n",
    "\n",
    "Produce a professional quality regularized regression study of this data, with a full study of feature selection, proper choice of regularization, a full study (with graphs) of choice of the regularization parameter and features selection for optimal bias-variance tradeoff. Make sure to validate your model completely. Choose the best parameters for the regression and provide a one paragraph explanation of all your choices. \n"
   ]
  },
  {
   "cell_type": "markdown",
   "metadata": {},
   "source": [
    "### Problem 3 (reach goal):\n",
    "\n",
    "Create a study of [this system](http://archive.ics.uci.edu/ml/datasets/CNAE-9). You may need to extract features using PCA/LDA/QDA in order to reduce the dimensionality of the data. You might consider all classifiers that you have learned so far."
   ]
  },
  {
   "cell_type": "code",
   "execution_count": null,
   "metadata": {
    "collapsed": true
   },
   "outputs": [],
   "source": []
  }
 ],
 "metadata": {
  "anaconda-cloud": {},
  "kernelspec": {
   "display_name": "Python [Root]",
   "language": "python",
   "name": "Python [Root]"
  },
  "language_info": {
   "codemirror_mode": {
    "name": "ipython",
    "version": 3
   },
   "file_extension": ".py",
   "mimetype": "text/x-python",
   "name": "python",
   "nbconvert_exporter": "python",
   "pygments_lexer": "ipython3",
   "version": "3.5.2"
  }
 },
 "nbformat": 4,
 "nbformat_minor": 0
}
