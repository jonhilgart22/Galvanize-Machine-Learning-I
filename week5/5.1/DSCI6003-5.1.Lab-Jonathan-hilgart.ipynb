{
 "cells": [
  {
   "cell_type": "markdown",
   "metadata": {},
   "source": [
    "# DSCI6003 5.1 Lab\n",
    "\n",
    "We're going to practice with some problems. Write the functions in `recursion_practice.py`.\n",
    "\n",
    "We'll be using this implementation of a `TreeNode` (in `node.py`) for all the questions concerning trees (2-4):\n",
    "\n",
    "```python\n",
    "class TreeNode(object):\n",
    "    def __init__(self, value, left=None, right=None):\n",
    "        self.value = value\n",
    "        self.left = left\n",
    "        self.right = right\n",
    "```\n",
    "\n",
    "1. Write a recursive function which takes an integer and computes and sum of the digits:\n",
    "\n",
    "    ```python\n",
    "    sum_digits(4502)    # returns 11\n",
    "    ```\n",
    "\n",
    "    Here's how to think about it recursively:\n",
    "    ```\n",
    "    4502 % 10 gives you 2\n",
    "    4502 / 10 gives you 450\n",
    "    So sum_digits(4502) = 4502 % 10 + sum_digits(4502 / 10)\n",
    "    ```\n",
    "\n",
    "2. Write a function `sum_tree` which sums all the values in a binary tree. Here's how to think about it recursively:\n",
    "\n",
    "    ```\n",
    "    sum_tree(root) = sum_tree(root.left) + sum_tree(root.right) + root.value\n",
    "    ```\n",
    "\n",
    "3. Write a function `print_all` which prints all the values in a binary tree. In your recursive call you'll need to print `root.left`, `root.right` and `root.value`. You can do these three things in any order and it will affect the order of the outcome.\n",
    "\n",
    "    As a sidenote these are called *traversals* and each possible order has a name. **Preorder** is `value, left, right`. **Postorder** is `left, right, value`. **Inorder** is `left, value, right`.\n",
    "\n",
    "4. Write a function `build_coinflip_tree` which takes an integer *k* and builds the tree containing all the possible results of flipping a coin *k* times. The value at each node should be a string of the flips to get there. For example, if *k* is 3, your tree should look like something similar to this:\n",
    "\n",
    "    ```\n",
    "                       ''\n",
    "                     /    \\\n",
    "                   /        \\\n",
    "                 /            \\\n",
    "               /                \\\n",
    "             H                    T\n",
    "           /   \\                /   \\\n",
    "         /       \\            /       \\\n",
    "       HH         HT        TH         TT\n",
    "      /  \\       /  \\      /  \\       /  \\\n",
    "    HHH  HHT   HTH  HTT  THH  THT   TTH  TTT\n",
    "    ```\n",
    "\n",
    "    To verify your result, you'll have to just do things like:\n",
    "    ```python\n",
    "    root = build_coinflip_tree(3)\n",
    "    assert root.value == \"\"\n",
    "    assert root.left.value == \"H\"\n",
    "    assert root.left.left.value == \"HH\"\n",
    "    ```\n",
    "    or build the tree manually and use the `equals` function written in `recusion_examples.py`.\n",
    "    \n",
    "    **Hint:** The `value` parameter you'll see in the docstring is so that you can pass to the tree what path you took to get there. It might make the problem a little easier to build a tree like this instead:\n",
    "    \n",
    "    ```\n",
    "         ''\n",
    "        /  \\\n",
    "       /    \\\n",
    "      H      T\n",
    "     / \\    / \\\n",
    "    H   T  H   T\n",
    "    ```\n",
    "\n",
    "\n",
    "## Extra Credit\n",
    "1. Go back to the traversal problem from above. If you are given the *output* of that function, can you rebuild the tree? Let's say you have the preorder and inorder. Write a function which builds the tree. You can assume values are unique.\n",
    "\n",
    "    **Hint:** The first item in the preorder traversal is the root. In the inorder traversal, everything to the left of the root is in the left subtree and everything to the right is in the right subtree.\n",
    "\n",
    "2. Write a function `print_tree` which takes a tree and prints the output in a human readable format.\n",
    "\n",
    "3. Write a function `make_word_breaks` which takes a string `phrase` and a set `word_list`. The idea is to determine if you can make word breaks in the string. For example: `\"thedogruns\"` would become `\"the dog runs\"`. Of course for many strings of letters, this is not possible. Don't worry about being efficient, just try every possibility.\n"
   ]
  },
  {
   "cell_type": "markdown",
   "metadata": {
    "collapsed": true
   },
   "source": [
    "1 )"
   ]
  },
  {
   "cell_type": "code",
   "execution_count": 1,
   "metadata": {
    "collapsed": false
   },
   "outputs": [],
   "source": [
    "def sum_digits(digits):\n",
    "    \"\"\"recursively sum digits\"\"\"\n",
    "    #4502 / 10 gives you 450\n",
    "    if digits/10<1:\n",
    "        \n",
    "        return digits\n",
    "    else:\n",
    "        return sum_digits(int(digits/10))+sum_digits(digits%10)"
   ]
  },
  {
   "cell_type": "markdown",
   "metadata": {},
   "source": []
  },
  {
   "cell_type": "code",
   "execution_count": 2,
   "metadata": {
    "collapsed": false
   },
   "outputs": [
    {
     "data": {
      "text/plain": [
       "10"
      ]
     },
     "execution_count": 2,
     "metadata": {},
     "output_type": "execute_result"
    }
   ],
   "source": [
    "sum_digits(1234)"
   ]
  },
  {
   "cell_type": "markdown",
   "metadata": {},
   "source": [
    "2 )Write a function sum_tree which sums all the values in a binary tree. Here's how to think about it recursively:\n",
    " sum_tree(root) = sum_tree(root.left) + sum_tree(root.right) + root.value"
   ]
  },
  {
   "cell_type": "code",
   "execution_count": 3,
   "metadata": {
    "collapsed": false
   },
   "outputs": [],
   "source": [
    "#sum_tree(root) = sum_tree(root.left) + sum_tree(root.right) + root.value\n",
    "\n",
    "def sum_tree(root):\n",
    "    \"\"\"sum the nodes in a tree\"\"\"\n",
    "\n",
    "    if root == None:\n",
    "        return 0\n",
    "    else:\n",
    "        \n",
    "        return sum_tree(root.left) + sum_tree(root.right) +root.value\n"
   ]
  },
  {
   "cell_type": "markdown",
   "metadata": {},
   "source": [
    "- 3) Write a function print_all which prints all the values in a binary tree. In your recursive call you'll need to print root.left, root.right and root.value. You can do these three things in any order and it will affect the order of the outcome.\n",
    "As a sidenote these are called traversals and each possible order has a name. Preorder is value, left, right. Postorder is left, right, value. Inorder is left, value, right."
   ]
  },
  {
   "cell_type": "code",
   "execution_count": 4,
   "metadata": {
    "collapsed": false
   },
   "outputs": [],
   "source": [
    "def print_preorder(root):\n",
    "    if root != None:\n",
    "        print(root.value)\n",
    "        print_preorder(root.left)\n",
    "        print_preorder(root.right)"
   ]
  },
  {
   "cell_type": "code",
   "execution_count": 5,
   "metadata": {
    "collapsed": true
   },
   "outputs": [],
   "source": [
    "class Node(object):\n",
    "    def __init__(self, value, left=None, right=None):\n",
    "        self.value = value\n",
    "        self.left = left\n",
    "        self.right = right"
   ]
  },
  {
   "cell_type": "code",
   "execution_count": 6,
   "metadata": {
    "collapsed": false
   },
   "outputs": [],
   "source": [
    "class TreeNode(object):\n",
    "    \n",
    "    def __init__(self):\n",
    "        self.root = None\n",
    "        \n",
    "    def get_root(self):\n",
    "        return self.root\n",
    "\n",
    "        \n",
    "    def add(self,number):\n",
    "        ##traverse using preorder (value, left, right)\n",
    "#         if val !=None:\n",
    "#             self.root=val\n",
    "            \n",
    "        if self.root == None:\n",
    "            self.root = Node(number)\n",
    "            \n",
    "        else:\n",
    "            self._add(number,self.root)\n",
    "            \n",
    "            \n",
    "            \n",
    "    def _add(self,number,node):\n",
    "        if  number < node.value:\n",
    "            if node.left ==None:\n",
    "                node.left = Node(number)\n",
    "            else:\n",
    "                self._add(number,node.left)\n",
    "        elif number > node.value:\n",
    "            if node.right == None:\n",
    "                node.right = Node(number)\n",
    "            else:\n",
    "                self._add(number,node.right)\n",
    "        \n",
    "        \n",
    "        \n",
    "    def print_tree(self):\n",
    "        print ('nada')\n",
    "            \n",
    "            \n",
    "            \n",
    "            \n",
    "        "
   ]
  },
  {
   "cell_type": "code",
   "execution_count": 7,
   "metadata": {
    "collapsed": true
   },
   "outputs": [],
   "source": [
    "d = TreeNode()"
   ]
  },
  {
   "cell_type": "code",
   "execution_count": 8,
   "metadata": {
    "collapsed": false
   },
   "outputs": [],
   "source": [
    "d.add(4)"
   ]
  },
  {
   "cell_type": "code",
   "execution_count": 9,
   "metadata": {
    "collapsed": true
   },
   "outputs": [],
   "source": [
    "d.add(5)"
   ]
  },
  {
   "cell_type": "code",
   "execution_count": 10,
   "metadata": {
    "collapsed": false
   },
   "outputs": [],
   "source": [
    "d.add(6)"
   ]
  },
  {
   "cell_type": "code",
   "execution_count": 11,
   "metadata": {
    "collapsed": false
   },
   "outputs": [
    {
     "name": "stdout",
     "output_type": "stream",
     "text": [
      "4\n",
      "5\n",
      "6\n"
     ]
    }
   ],
   "source": [
    "print_preorder(d.get_root())"
   ]
  },
  {
   "cell_type": "code",
   "execution_count": 12,
   "metadata": {
    "collapsed": false
   },
   "outputs": [
    {
     "data": {
      "text/plain": [
       "<__main__.Node at 0x103f75f28>"
      ]
     },
     "execution_count": 12,
     "metadata": {},
     "output_type": "execute_result"
    }
   ],
   "source": [
    "d.get_root()"
   ]
  },
  {
   "cell_type": "code",
   "execution_count": 13,
   "metadata": {
    "collapsed": false
   },
   "outputs": [
    {
     "name": "stdout",
     "output_type": "stream",
     "text": [
      "4\n",
      "5\n",
      "6\n"
     ]
    }
   ],
   "source": [
    "print_preorder(d.get_root())"
   ]
  },
  {
   "cell_type": "code",
   "execution_count": 14,
   "metadata": {
    "collapsed": false
   },
   "outputs": [
    {
     "data": {
      "text/plain": [
       "15"
      ]
     },
     "execution_count": 14,
     "metadata": {},
     "output_type": "execute_result"
    }
   ],
   "source": [
    "sum_tree(d.get_root())"
   ]
  },
  {
   "cell_type": "markdown",
   "metadata": {},
   "source": [
    "- 4\n",
    ">Write a function build_coinflip_tree which takes an integer k and builds the tree containing all the possible results of flipping a coin k times. The value at each node should be a string of the flips to get there. For example, if k is 3, your tree should look like something similar to this:\n",
    "                    ''\n",
    "                  /    \\\n",
    "                /        \\\n",
    "              /            \\\n",
    "            /                \\\n",
    "          H                    T\n",
    "        /   \\                /   \\\n",
    "      /       \\            /       \\\n",
    "    HH         HT        TH         TT\n",
    "   /  \\       /  \\      /  \\       /  \\\n",
    " HHH  HHT   HTH  HTT  THH  THT   TTH  TTT\n",
    "To verify your result, you'll have to just do things like:\n",
    " root = build_coinflip_tree(3)\n",
    " assert root.value == \"\"\n",
    " assert root.left.value == \"H\"\n",
    " assert root.left.left.value == \"HH\"\n",
    "or build the tree manually and use the equals function written in recusion_examples.py.\n",
    "Hint: The value parameter you'll see in the docstring is so that you can pass to the tree what path you took to get there. It might make the problem a little easier to build a tree like this instead:"
   ]
  },
  {
   "cell_type": "code",
   "execution_count": 15,
   "metadata": {
    "collapsed": true
   },
   "outputs": [],
   "source": [
    "class CoinFlipNode(object):\n",
    "    def __init__(self, value, left=None, right=None):\n",
    "        self.value = str(value)\n",
    "        self.left = left\n",
    "        self.right = right"
   ]
  },
  {
   "cell_type": "code",
   "execution_count": 16,
   "metadata": {
    "collapsed": false
   },
   "outputs": [],
   "source": [
    "class CoinFlipTree(object):\n",
    "    \n",
    "    def __init__(self):\n",
    "        self.root = None\n",
    " \n",
    "        \n",
    "    def get_root(self):\n",
    "        \n",
    "        return self.root\n",
    "    \n",
    "    \n",
    "    def flip(self, number):\n",
    "        \"\"\"Number is the number of times to flip\"\"\"\n",
    "        ##traverse using preorder (value, left, right) , \n",
    "        options = [\"H\",\"T\"]\n",
    "        if number==0:\n",
    "            pass\n",
    "            \n",
    "        if self.root == None:\n",
    "            self.root = CoinFlipNode(\"\")\n",
    "            self.root.right=CoinFlipNode(\"T\")\n",
    "            self.root.left=CoinFlipNode(\"H\")\n",
    "            print(self.root.left)\n",
    "            print(self.root.value ,' alue')\n",
    "            if number >0:\n",
    "                self._flip(options,self.root,number)\n",
    "        else:\n",
    "            self._flip(options,self.root,number)\n",
    "            \n",
    "            \n",
    "            \n",
    "    def _flip(self,options,node,flip_number):\n",
    "        if flip_number ==0:\n",
    "            return 'Finished'\n",
    "        elif node.value==\"\":\n",
    "            \n",
    "            self._flip(options,node.left,flip_number-1), self._flip(options,node.right,flip_number-1) ## initial value\n",
    "        \n",
    "            \n",
    "\n",
    "        if node.left == None and node.right == None: ##create two children underneath this node \n",
    "            node.left =CoinFlipNode(options[0]+node.value)\n",
    "            node.right = CoinFlipNode(options[1]+node.value)\n",
    "            self._flip(options,node.left,flip_number-1), self._flip(options,node.right,flip_number-1) # go down the tree\n",
    "            \n",
    "\n",
    "            \n",
    "        else: ## return the elft and right nodes to create children off of\n",
    "            self._flip(options,node.right,flip_number-1), self._flip(options,node.left,flip_number-1)\n",
    "\n",
    "        \n",
    "        \n",
    "        \n",
    "    def print_tree(self):\n",
    "        print ('nada')\n",
    "            \n",
    "            \n",
    "            \n",
    "            \n",
    "        "
   ]
  },
  {
   "cell_type": "code",
   "execution_count": 17,
   "metadata": {
    "collapsed": true
   },
   "outputs": [],
   "source": [
    "c = CoinFlipTree()"
   ]
  },
  {
   "cell_type": "code",
   "execution_count": 18,
   "metadata": {
    "collapsed": false
   },
   "outputs": [
    {
     "name": "stdout",
     "output_type": "stream",
     "text": [
      "<__main__.CoinFlipNode object at 0x103f81a90>\n",
      "  alue\n"
     ]
    }
   ],
   "source": [
    "c.flip(3)"
   ]
  },
  {
   "cell_type": "code",
   "execution_count": 19,
   "metadata": {
    "collapsed": false
   },
   "outputs": [
    {
     "name": "stdout",
     "output_type": "stream",
     "text": [
      "\n",
      "H\n",
      "HH\n",
      "HHH\n",
      "THH\n",
      "TH\n",
      "HTH\n",
      "TTH\n",
      "T\n",
      "HT\n",
      "HHT\n",
      "THT\n",
      "TT\n",
      "HTT\n",
      "TTT\n"
     ]
    }
   ],
   "source": [
    "print_preorder(c.get_root())\n",
    "    "
   ]
  },
  {
   "cell_type": "code",
   "execution_count": 20,
   "metadata": {
    "collapsed": false
   },
   "outputs": [],
   "source": [
    "t = CoinFlipTree()"
   ]
  },
  {
   "cell_type": "code",
   "execution_count": 21,
   "metadata": {
    "collapsed": false
   },
   "outputs": [
    {
     "name": "stdout",
     "output_type": "stream",
     "text": [
      "<__main__.CoinFlipNode object at 0x103ff81d0>\n",
      "  alue\n"
     ]
    }
   ],
   "source": [
    "t.flip(4)"
   ]
  },
  {
   "cell_type": "code",
   "execution_count": 22,
   "metadata": {
    "collapsed": false
   },
   "outputs": [
    {
     "name": "stdout",
     "output_type": "stream",
     "text": [
      "\n",
      "H\n",
      "HH\n",
      "HHH\n",
      "HHHH\n",
      "THHH\n",
      "THH\n",
      "HTHH\n",
      "TTHH\n",
      "TH\n",
      "HTH\n",
      "HHTH\n",
      "THTH\n",
      "TTH\n",
      "HTTH\n",
      "TTTH\n",
      "T\n",
      "HT\n",
      "HHT\n",
      "HHHT\n",
      "THHT\n",
      "THT\n",
      "HTHT\n",
      "TTHT\n",
      "TT\n",
      "HTT\n",
      "HHTT\n",
      "THTT\n",
      "TTT\n",
      "HTTT\n",
      "TTTT\n"
     ]
    }
   ],
   "source": [
    "print_preorder(t.get_root())\n",
    "    "
   ]
  },
  {
   "cell_type": "code",
   "execution_count": 23,
   "metadata": {
    "collapsed": false
   },
   "outputs": [
    {
     "name": "stdout",
     "output_type": "stream",
     "text": [
      "<__main__.CoinFlipNode object at 0x103ffa198>\n",
      "  alue\n",
      "\n",
      "H\n",
      "HH\n",
      "HHH\n",
      "HHHH\n",
      "HHHHH\n",
      "THHHH\n",
      "THHH\n",
      "HTHHH\n",
      "TTHHH\n",
      "THH\n",
      "HTHH\n",
      "HHTHH\n",
      "THTHH\n",
      "TTHH\n",
      "HTTHH\n",
      "TTTHH\n",
      "TH\n",
      "HTH\n",
      "HHTH\n",
      "HHHTH\n",
      "THHTH\n",
      "THTH\n",
      "HTHTH\n",
      "TTHTH\n",
      "TTH\n",
      "HTTH\n",
      "HHTTH\n",
      "THTTH\n",
      "TTTH\n",
      "HTTTH\n",
      "TTTTH\n",
      "T\n",
      "HT\n",
      "HHT\n",
      "HHHT\n",
      "HHHHT\n",
      "THHHT\n",
      "THHT\n",
      "HTHHT\n",
      "TTHHT\n",
      "THT\n",
      "HTHT\n",
      "HHTHT\n",
      "THTHT\n",
      "TTHT\n",
      "HTTHT\n",
      "TTTHT\n",
      "TT\n",
      "HTT\n",
      "HHTT\n",
      "HHHTT\n",
      "THHTT\n",
      "THTT\n",
      "HTHTT\n",
      "TTHTT\n",
      "TTT\n",
      "HTTT\n",
      "HHTTT\n",
      "THTTT\n",
      "TTTT\n",
      "HTTTT\n",
      "TTTTT\n"
     ]
    }
   ],
   "source": [
    "x = CoinFlipTree()\n",
    "x.flip(5)\n",
    "print_preorder(x.get_root())"
   ]
  },
  {
   "cell_type": "code",
   "execution_count": null,
   "metadata": {
    "collapsed": true
   },
   "outputs": [],
   "source": []
  }
 ],
 "metadata": {
  "anaconda-cloud": {},
  "kernelspec": {
   "display_name": "Python [Root]",
   "language": "python",
   "name": "Python [Root]"
  },
  "language_info": {
   "codemirror_mode": {
    "name": "ipython",
    "version": 3
   },
   "file_extension": ".py",
   "mimetype": "text/x-python",
   "name": "python",
   "nbconvert_exporter": "python",
   "pygments_lexer": "ipython3",
   "version": "3.5.2"
  }
 },
 "nbformat": 4,
 "nbformat_minor": 0
}
