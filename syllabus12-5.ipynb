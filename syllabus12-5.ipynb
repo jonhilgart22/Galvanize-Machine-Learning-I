{
 "cells": [
  {
   "cell_type": "markdown",
   "metadata": {},
   "source": [
    "# Syllabus for the rest of the term\n",
    "\n",
    "week 4  \n",
    "1. Basis expansion - new material  \n",
    "2. Decision trees - Lec 5.1  \n",
    "3. Ensembles - lec 5.2  \n",
    "4. Tree typess - lec 5.3  \n",
    "\n",
    "week 5  \n",
    "1. Adaboost - lec 6.1  \n",
    "2. GradientBoosting - lec 6.2  \n",
    "Skills Test 2\n",
    "\n",
    "week 6  \n",
    "1. Probabilistic methods - lec 4.1  \n",
    "2. Naive bayes - lec 4.2  \n",
    "3. Training Ensemble Models - new material  \n",
    "4. Bernoulli bayes - lec 4.3   \n",
    "\n",
    "week 7  \n",
    "1. Clustering - kmeans lec 7.1  \n",
    "2. Gaussian Mixture (EM) - lec 7.4  \n",
    "3. SVM - Lec 6.3\n",
    "4. Recommender systems - lec 8.1\n",
    "\n",
    "week 8  \n",
    "1. Factorization machines - lec 8.2 \n",
    "2. \n"
   ]
  },
  {
   "cell_type": "code",
   "execution_count": null,
   "metadata": {
    "collapsed": true
   },
   "outputs": [],
   "source": []
  }
 ],
 "metadata": {
  "kernelspec": {
   "display_name": "Python [conda root]",
   "language": "python",
   "name": "conda-root-py"
  },
  "language_info": {
   "codemirror_mode": {
    "name": "ipython",
    "version": 3
   },
   "file_extension": ".py",
   "mimetype": "text/x-python",
   "name": "python",
   "nbconvert_exporter": "python",
   "pygments_lexer": "ipython3",
   "version": "3.5.2"
  }
 },
 "nbformat": 4,
 "nbformat_minor": 0
}
