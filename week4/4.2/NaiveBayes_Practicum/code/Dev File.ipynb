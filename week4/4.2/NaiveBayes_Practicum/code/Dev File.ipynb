{
 "cells": [
  {
   "cell_type": "code",
   "execution_count": 1,
   "metadata": {
    "collapsed": true
   },
   "outputs": [],
   "source": [
    "reset -fs"
   ]
  },
  {
   "cell_type": "code",
   "execution_count": 151,
   "metadata": {
    "collapsed": false
   },
   "outputs": [
    {
     "name": "stdout",
     "output_type": "stream",
     "text": [
      "The autoreload extension is already loaded. To reload it, use:\n",
      "  %reload_ext autoreload\n"
     ]
    }
   ],
   "source": [
    "from __future__ import division\n",
    "from imp import reload\n",
    "\n",
    "import nose\n",
    "from naive_bayes import NaiveBayes\n",
    "\n",
    "\n",
    "from nose.tools import assert_equal, assert_not_equal\n",
    "import numpy as np\n",
    "\n",
    "%load_ext autoreload"
   ]
  },
  {
   "cell_type": "code",
   "execution_count": 145,
   "metadata": {
    "collapsed": false
   },
   "outputs": [],
   "source": [
    "\n",
    "\n",
    "%autoreload naive_bayes"
   ]
  },
  {
   "cell_type": "code",
   "execution_count": 152,
   "metadata": {
    "collapsed": false
   },
   "outputs": [],
   "source": [
    "X = ['a long document about fishing',\n",
    "     'a book on fishing',\n",
    "     'a book on knot-tying']\n",
    "X = [x.split() for x in X]\n",
    "y = np.array(['fishing', 'fishing', 'knot-tying'])\n",
    "nb = NaiveBayes()\n",
    "nb.fit(X, y)\n",
    "\n",
    "def test_class_freq():\n",
    "    assert nb.class_freq['fishing'] == 2\n",
    "    assert nb.class_freq['knot-tying'] == 1\n",
    "\n",
    "def test_class_counts():\n",
    "    assert_equal(nb.class_counts['fishing'], 9)\n",
    "\n",
    "def test_p_is_number_features():\n",
    "    assert_equal(nb.p, 8)\n",
    "\n",
    "def test_class_feature_counts():\n",
    "    assert_equal(nb.class_feature_counts['fishing']['document'], 1)\n",
    "    assert_equal(nb.class_feature_counts['knot-tying']['fishing'], 0)\n",
    "    assert_equal(nb.class_feature_counts['fishing']['fishing'], 2)\n",
    "\n",
    "def laplace(n, d, p):\n",
    "    return (n + 1) / (d + 1 * p)\n",
    "\n",
    "def test_predict():\n",
    "    test_X = [[\"book\"]]\n",
    "    p = 8\n",
    "    fishing_likelihood = sum((np.log(laplace(1, 9, p)),\n",
    "                             np.log(2/3)))\n",
    "    knot_tying_likelihood = sum((np.log(laplace(1, 4, p)),\n",
    "                                np.log(1/3)))\n",
    "    posts = nb.posteriors(test_X)\n",
    "    \n",
    "    print(fishing_likelihood, ' fishing lieklihood')\n",
    "    print(knot_tying_likelihood,' knot tying prob')\n",
    "    #print(posts[0],'posts')\n",
    "    \n",
    "    preds = nb.predict(test_X)\n",
    "    print(preds, ' preds')\n",
    "    assert_equal(fishing_likelihood, posts[0]['fishing'])\n",
    "    assert_equal(knot_tying_likelihood, posts[0]['knot-tying'])\n",
    "    assert_equal(preds[0], 'fishing')\n",
    "    assert_not_equal(preds[0], 'knot-tying')\n",
    "\n",
    "def test_score():\n",
    "    print(nb.posteriors(X))\n",
    "    assert_equal(nb.score(X, y), 1.0)\n"
   ]
  },
  {
   "cell_type": "code",
   "execution_count": 153,
   "metadata": {
    "collapsed": true
   },
   "outputs": [],
   "source": [
    "test_class_freq()"
   ]
  },
  {
   "cell_type": "code",
   "execution_count": 154,
   "metadata": {
    "collapsed": false
   },
   "outputs": [
    {
     "data": {
      "text/plain": [
       "Counter({'fishing': 2, 'knot-tying': 1})"
      ]
     },
     "execution_count": 154,
     "metadata": {},
     "output_type": "execute_result"
    }
   ],
   "source": [
    "nb.class_freq"
   ]
  },
  {
   "cell_type": "code",
   "execution_count": 148,
   "metadata": {
    "collapsed": false
   },
   "outputs": [],
   "source": [
    "test_class_counts()"
   ]
  },
  {
   "cell_type": "code",
   "execution_count": 149,
   "metadata": {
    "collapsed": false
   },
   "outputs": [],
   "source": [
    "test_class_feature_counts()"
   ]
  },
  {
   "cell_type": "code",
   "execution_count": 119,
   "metadata": {
    "collapsed": false
   },
   "outputs": [
    {
     "name": "stdout",
     "output_type": "stream",
     "text": [
      "['fishing', 'knot-tying']\n"
     ]
    }
   ],
   "source": [
    "test_X = [[\"book\"]]\n",
    "preds = nb.predict(test_X)\n"
   ]
  },
  {
   "cell_type": "code",
   "execution_count": 136,
   "metadata": {
    "collapsed": false
   },
   "outputs": [
    {
     "name": "stdout",
     "output_type": "stream",
     "text": [
      "-2.5455312716  fishing lieklihood\n",
      "-2.8903717579  knot tying prob\n",
      "['fishing']  preds\n"
     ]
    }
   ],
   "source": [
    "test_predict()"
   ]
  },
  {
   "cell_type": "code",
   "execution_count": 143,
   "metadata": {
    "collapsed": false
   },
   "outputs": [
    {
     "name": "stdout",
     "output_type": "stream",
     "text": [
      "[defaultdict(<class 'int'>, {'knot-tying': -12.829998357048165, 'fishing': -10.294865709373189}), defaultdict(<class 'int'>, {'knot-tying': -8.9587973461402743, 'fishing': -8.1547995458769176}), defaultdict(<class 'int'>, {'knot-tying': -8.2656501655803289, 'fishing': -9.2534118345450267})]\n",
      "['fishing', 'fishing', 'knot-tying']  final predictions\n"
     ]
    }
   ],
   "source": [
    "test_score()"
   ]
  },
  {
   "cell_type": "code",
   "execution_count": 141,
   "metadata": {
    "collapsed": false
   },
   "outputs": [
    {
     "name": "stdout",
     "output_type": "stream",
     "text": [
      "['fishing']  final predictions\n"
     ]
    }
   ],
   "source": [
    "test_X = [[\"book\"]]\n",
    "p = 8\n",
    "fishing_likelihood = sum((np.log(laplace(1, 9, p)),\n",
    "                             np.log(2/3)))\n",
    "knot_tying_likelihood = sum((np.log(laplace(1, 4, p)),\n",
    "                                np.log(1/3)))\n",
    "posts = nb.posteriors(test_X)\n",
    "\n",
    "    \n",
    "preds = nb.predict(test_X)"
   ]
  },
  {
   "cell_type": "code",
   "execution_count": 142,
   "metadata": {
    "collapsed": false
   },
   "outputs": [
    {
     "data": {
      "text/plain": [
       "array(['fishing'], \n",
       "      dtype='<U7')"
      ]
     },
     "execution_count": 142,
     "metadata": {},
     "output_type": "execute_result"
    }
   ],
   "source": [
    "preds"
   ]
  },
  {
   "cell_type": "code",
   "execution_count": null,
   "metadata": {
    "collapsed": true
   },
   "outputs": [],
   "source": []
  },
  {
   "cell_type": "code",
   "execution_count": 133,
   "metadata": {
    "collapsed": false
   },
   "outputs": [
    {
     "data": {
      "text/plain": [
       "[defaultdict(int,\n",
       "             {'fishing': -10.294865709373189,\n",
       "              'knot-tying': -12.829998357048165}),\n",
       " defaultdict(int,\n",
       "             {'fishing': -8.1547995458769176,\n",
       "              'knot-tying': -8.9587973461402743}),\n",
       " defaultdict(int,\n",
       "             {'fishing': -9.2534118345450267,\n",
       "              'knot-tying': -8.2656501655803289})]"
      ]
     },
     "execution_count": 133,
     "metadata": {},
     "output_type": "execute_result"
    }
   ],
   "source": [
    "nb.posteriors(X)"
   ]
  },
  {
   "cell_type": "code",
   "execution_count": 127,
   "metadata": {
    "collapsed": false
   },
   "outputs": [
    {
     "data": {
      "text/plain": [
       "array(['fishing', 'fishing', 'knot-tying'], \n",
       "      dtype='<U10')"
      ]
     },
     "execution_count": 127,
     "metadata": {},
     "output_type": "execute_result"
    }
   ],
   "source": [
    "y"
   ]
  },
  {
   "cell_type": "code",
   "execution_count": null,
   "metadata": {
    "collapsed": true
   },
   "outputs": [],
   "source": []
  }
 ],
 "metadata": {
  "anaconda-cloud": {},
  "kernelspec": {
   "display_name": "Python [conda root]",
   "language": "python",
   "name": "conda-root-py"
  },
  "language_info": {
   "codemirror_mode": {
    "name": "ipython",
    "version": 3
   },
   "file_extension": ".py",
   "mimetype": "text/x-python",
   "name": "python",
   "nbconvert_exporter": "python",
   "pygments_lexer": "ipython3",
   "version": "3.5.2"
  }
 },
 "nbformat": 4,
 "nbformat_minor": 1
}
