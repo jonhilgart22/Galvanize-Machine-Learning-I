{
 "cells": [
  {
   "cell_type": "markdown",
   "metadata": {},
   "source": [
    "##RAT 4.2\n",
    "\n",
    "1 - \n",
    "\n",
    "A recap of regularization: Describe weaknesses and strengths of Lasso, Ridge and Elstic Net Regularization\n",
    "\n",
    "2 - \n",
    "\n",
    "Discuss in plain English the Regularization Paths (\"Squid\" plots) in terms of each of the above three regularization techniques. For reference, here is what a regularization path looks like: \n",
    "\n",
    "![Squid Plots](http://scikit-learn.sourceforge.net/0.6/_images/plot_lasso_coordinate_descent_path.png)"
   ]
  },
  {
   "cell_type": "code",
   "execution_count": null,
   "metadata": {
    "collapsed": true
   },
   "outputs": [],
   "source": []
  }
 ],
 "metadata": {
  "anaconda-cloud": {},
  "kernelspec": {
   "display_name": "Python [py3env]",
   "language": "python",
   "name": "Python [py3env]"
  },
  "language_info": {
   "codemirror_mode": {
    "name": "ipython",
    "version": 3
   },
   "file_extension": ".py",
   "mimetype": "text/x-python",
   "name": "python",
   "nbconvert_exporter": "python",
   "pygments_lexer": "ipython3",
   "version": "3.5.2"
  }
 },
 "nbformat": 4,
 "nbformat_minor": 0
}
