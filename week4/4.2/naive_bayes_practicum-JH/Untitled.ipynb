{
 "cells": [
  {
   "cell_type": "code",
   "execution_count": 1,
   "metadata": {
    "collapsed": false
   },
   "outputs": [
    {
     "name": "stdout",
     "output_type": "stream",
     "text": [
      "Train shape: (3450, 57)\n",
      "Test shape: (1151, 57)\n",
      "\n",
      "My Implementation:\n",
      "\n",
      "sklearn's Implementation\n",
      "Accuracy: 0.787141615986\n"
     ]
    }
   ],
   "source": [
    "_author__ = 'jeffreytang'\n",
    "\n",
    "#from naive_bayes import NaiveBayes\n",
    "from sklearn.naive_bayes import MultinomialNB\n",
    "from sklearn.cross_validation import train_test_split\n",
    "import numpy as np\n",
    "\n",
    "\n",
    "if __name__ == '__main__':\n",
    "    data = np.genfromtxt('spam.csv', delimiter=',')\n",
    "\n",
    "    y = data[:, -1]\n",
    "    X = data[:, 0:-1]\n",
    "\n",
    "    X_train, X_test, y_train, y_test = train_test_split(X, y, random_state=1)\n",
    "    print 'Train shape:', X_train.shape\n",
    "    print 'Test shape:', X_test.shape\n",
    "\n",
    "    print\n",
    "\n",
    "    print \"My Implementation:\"\n",
    "  #  my_nb = NaiveBayes()\n",
    "   # my_nb.fit(X_train, y_train)\n",
    "    #print 'Accuracy:', my_nb.score(X_test, y_test)\n",
    "    #my_predictions =  my_nb.predict(X_test)\n",
    "\n",
    "    print\n",
    "\n",
    "    print \"sklearn's Implementation\"\n",
    "    mnb = MultinomialNB()\n",
    "    mnb.fit(X_train, y_train)\n",
    "    print 'Accuracy:', mnb.score(X_test, y_test)\n",
    "    sklearn_predictions = mnb.predict(X_test)\n",
    "\n",
    "    # Assert I get the same results as sklearn\n",
    "    # (will give an error if different)\n",
    "    #assert np.all(sklearn_predictions == my_predictions)"
   ]
  },
  {
   "cell_type": "code",
   "execution_count": 2,
   "metadata": {
    "collapsed": false
   },
   "outputs": [
    {
     "data": {
      "text/plain": [
       "array([[  0.00000000e+00,   6.40000000e-01,   6.40000000e-01, ...,\n",
       "          3.75600000e+00,   6.10000000e+01,   2.78000000e+02],\n",
       "       [  2.10000000e-01,   2.80000000e-01,   5.00000000e-01, ...,\n",
       "          5.11400000e+00,   1.01000000e+02,   1.02800000e+03],\n",
       "       [  6.00000000e-02,   0.00000000e+00,   7.10000000e-01, ...,\n",
       "          9.82100000e+00,   4.85000000e+02,   2.25900000e+03],\n",
       "       ..., \n",
       "       [  3.00000000e-01,   0.00000000e+00,   3.00000000e-01, ...,\n",
       "          1.40400000e+00,   6.00000000e+00,   1.18000000e+02],\n",
       "       [  9.60000000e-01,   0.00000000e+00,   0.00000000e+00, ...,\n",
       "          1.14700000e+00,   5.00000000e+00,   7.80000000e+01],\n",
       "       [  0.00000000e+00,   0.00000000e+00,   6.50000000e-01, ...,\n",
       "          1.25000000e+00,   5.00000000e+00,   4.00000000e+01]])"
      ]
     },
     "execution_count": 2,
     "metadata": {},
     "output_type": "execute_result"
    }
   ],
   "source": [
    "X"
   ]
  },
  {
   "cell_type": "code",
   "execution_count": null,
   "metadata": {
    "collapsed": true
   },
   "outputs": [],
   "source": []
  }
 ],
 "metadata": {
  "kernelspec": {
   "display_name": "Python 2",
   "language": "python",
   "name": "python2"
  },
  "language_info": {
   "codemirror_mode": {
    "name": "ipython",
    "version": 2
   },
   "file_extension": ".py",
   "mimetype": "text/x-python",
   "name": "python",
   "nbconvert_exporter": "python",
   "pygments_lexer": "ipython2",
   "version": "2.7.10"
  }
 },
 "nbformat": 4,
 "nbformat_minor": 0
}
