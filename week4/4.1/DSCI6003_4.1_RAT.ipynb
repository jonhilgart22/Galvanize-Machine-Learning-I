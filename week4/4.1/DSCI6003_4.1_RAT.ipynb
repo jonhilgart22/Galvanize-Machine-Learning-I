{
 "cells": [
  {
   "cell_type": "markdown",
   "metadata": {},
   "source": [
    "## RAT 4.1\n",
    "\n",
    "1 - What is the Bias-Variance Tradeoff?\n",
    "\n",
    "a. Explain what \"Bias\" and \"Variance\" are.\n",
    "\n",
    "b. When we overfit, what happens to bias and variance?\n",
    "\n",
    "c. When we underfit, what happens to bias and variance?\n",
    "\n",
    "d. Describe relationship between bias/variance and precision/accuracy\n",
    "\n",
    "e. How do Ridge and Lasso attempt to win at the Bias-Variance tradeoff? What exactly is being penalized?"
   ]
  },
  {
   "cell_type": "markdown",
   "metadata": {},
   "source": [
    "2 - Discuss Type I and Type II errors in the context of model quality.\n",
    "\n",
    "3 - Provide formulas and English language descriptions for precision, recall and F-1 statistic"
   ]
  },
  {
   "cell_type": "code",
   "execution_count": null,
   "metadata": {
    "collapsed": true
   },
   "outputs": [],
   "source": []
  }
 ],
 "metadata": {
  "anaconda-cloud": {},
  "kernelspec": {
   "display_name": "Python [conda root]",
   "language": "python",
   "name": "conda-root-py"
  },
  "language_info": {
   "codemirror_mode": {
    "name": "ipython",
    "version": 3
   },
   "file_extension": ".py",
   "mimetype": "text/x-python",
   "name": "python",
   "nbconvert_exporter": "python",
<<<<<<< HEAD
   "pygments_lexer": "ipython3",
   "version": "3.5.2"
=======
   "pygments_lexer": "ipython2",
   "version": "2.7.12"
>>>>>>> upstream/master
  }
 },
 "nbformat": 4,
 "nbformat_minor": 0
}
