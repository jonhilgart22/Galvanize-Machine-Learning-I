{
 "cells": [
  {
   "cell_type": "markdown",
   "metadata": {},
   "source": [
    "## RAT 4.3\n",
    "\n",
    "\n",
    "- Summarize Naive assumption of Naive Bayes\n",
    "\n",
    "- Describe use cases, weaknesses and strengths of Naive Bayes\n",
    "\n",
    "- Derive and write the cost function of Logistic Regression\n"
   ]
  },
  {
   "cell_type": "markdown",
   "metadata": {
    "collapsed": true
   },
   "source": [
    "- The Naive assumptions is that the features are conditionally independent of the thing you are trying to predict. For example, if you are using Naive Bayes to predict the topic of a document. This assumption states that every word in that document is independent of that document (which seems rediculous because chances are a document about cats will contain the word cats significantly more than a document about the plant Mars)."
   ]
  },
  {
   "cell_type": "markdown",
   "metadata": {},
   "source": [
    "- Naive Bayes is an easy algorithm to implement and has good interpretibility (white box).\n",
    "- In general, Naive Bayes is used as a classification technique. \n",
    "- The weakness of Naive Bayes is that if you never observe a word with a class, the estimate will be zero (from MLE). In addition, there is a bag of words assumptions with Naive Bayes ( the order of the words doesn't matter in the document). "
   ]
  },
  {
   "cell_type": "code",
   "execution_count": null,
   "metadata": {
    "collapsed": true
   },
   "outputs": [],
   "source": []
  }
 ],
 "metadata": {
  "anaconda-cloud": {},
  "kernelspec": {
   "display_name": "Python [conda root]",
   "language": "python",
   "name": "conda-root-py"
  },
  "language_info": {
   "codemirror_mode": {
    "name": "ipython",
    "version": 3
   },
   "file_extension": ".py",
   "mimetype": "text/x-python",
   "name": "python",
   "nbconvert_exporter": "python",
   "pygments_lexer": "ipython3",
   "version": "3.5.2"
  }
 },
 "nbformat": 4,
 "nbformat_minor": 0
}
