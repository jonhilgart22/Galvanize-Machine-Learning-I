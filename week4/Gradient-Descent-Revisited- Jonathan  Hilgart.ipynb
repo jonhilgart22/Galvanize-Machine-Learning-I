{
 "cells": [
  {
   "cell_type": "code",
   "execution_count": 1,
   "metadata": {
    "collapsed": false
   },
   "outputs": [],
   "source": [
    "# Place import statements here\n",
    "import numpy as np\n",
    "from numpy.testing import assert_almost_equal\n",
    "from sklearn.datasets import load_iris\n",
    "from sklearn.metrics import accuracy_score\n",
    "import matplotlib.pyplot as plt\n",
    "%matplotlib inline"
   ]
  },
  {
   "cell_type": "markdown",
   "metadata": {},
   "source": [
    "# Gradient Descent - Revisited"
   ]
  },
  {
   "cell_type": "markdown",
   "metadata": {},
   "source": [
    "I will lay out the process here in detail. I did not lay out any pseudocode for the formulas. If you are struggling to program the formulas, please talk to me or Mike.\n",
    "If there are any issues or questions let me know."
   ]
  },
  {
   "cell_type": "markdown",
   "metadata": {},
   "source": [
    "The formula for the hypothesis: \n",
    "\n",
    "$$ h(x_i) = \\frac{1}{1 + e^{-(\\beta_0 + \\beta_1 x_{i1} + \\beta_2 x_{i2} + \\beta_3 x_{i3})}} $$\n",
    "\n",
    "Below, you will find a function defining the hypothesis. Fill it out using the formula from above. To check if it is correct, use the test variables."
   ]
  },
  {
   "cell_type": "markdown",
   "metadata": {},
   "source": [
    "## Do not change the function names if you want to use the assert statements."
   ]
  },
  {
   "cell_type": "code",
   "execution_count": 2,
   "metadata": {
    "collapsed": true
   },
   "outputs": [],
   "source": [
    "import numpy as np"
   ]
  },
  {
   "cell_type": "code",
   "execution_count": 3,
   "metadata": {
    "collapsed": false
   },
   "outputs": [],
   "source": [
    "def hypothesis(X,coeffs):\n",
    "    '''\n",
    "    Input:\n",
    "        -X : (numpy 2D array) containing the input data\n",
    "        -coeffs: (column vector) containing the coefficients being used to get a hypothesis\n",
    "    Output:\n",
    "        -Hypothesis: (column vector) containing hypothesis values\n",
    "    \n",
    "    You can generate hypothesis values using the sigmoid (i.e. the formula from above)\n",
    "    '''\n",
    "    return   1/(1+np.exp(-(np.dot(X,coeffs))))\n",
    "\n",
    "    \n",
    "\n",
    "#Remember that you can call this function in later parts of the code"
   ]
  },
  {
   "cell_type": "code",
   "execution_count": 6,
   "metadata": {
    "collapsed": false
   },
   "outputs": [],
   "source": [
    "# Uncomment the code below to test your hypothesis function\n",
    "test_x,test_coeffs = np.array([1,1,1]).reshape(1,-1),np.array([1,1,1]).reshape(-1,1)\n",
    "assert_almost_equal(0.95257413,hypothesis(test_x,test_coeffs)[0][0],decimal=3)"
   ]
  },
  {
   "cell_type": "markdown",
   "metadata": {},
   "source": [
    "Here is the cost function for logistic regression\n",
    "\n",
    "$$ J(\\beta) = - \\frac{1}{n} \\sum_{i = 1}^{n} \\left[ y_i log(h(x_i)) + (1 - y_i) log(1 - h(x_i)) \\right] $$  \n",
    "\n",
    "Don't forget to take the log of the prediction or else the assert statement will fail."
   ]
  },
  {
   "cell_type": "code",
   "execution_count": 7,
   "metadata": {
    "collapsed": true
   },
   "outputs": [],
   "source": [
    "from math import log"
   ]
  },
  {
   "cell_type": "code",
   "execution_count": 8,
   "metadata": {
    "collapsed": false
   },
   "outputs": [
    {
     "data": {
      "text/plain": [
       "1.0"
      ]
     },
     "execution_count": 8,
     "metadata": {},
     "output_type": "execute_result"
    }
   ],
   "source": [
    "np.log10(10)"
   ]
  },
  {
   "cell_type": "code",
   "execution_count": 9,
   "metadata": {
    "collapsed": false
   },
   "outputs": [],
   "source": [
    "def cost(X,y,coeffs):\n",
    "    '''\n",
    "    Input:\n",
    "        -X: (numpy 2D array) containing the input data\n",
    "        -y: (column vector) containing the labels for the input data\n",
    "        -coeffs: (column vector) containing the coefficient values\n",
    "    Ouput:\n",
    "        -Float Value: the cost associated with using certain coefficient values\n",
    "\n",
    "    Implement the cost function from above.\n",
    "    '''\n",
    "    \n",
    "    h = hypothesis(X,coeffs)\n",
    "\n",
    "\n",
    "    length = len(X)\n",
    "\n",
    "\n",
    "    cost = -(1/length)*sum(y*(np.log(h)) + (1-y)*np.log(1-h))\n",
    "\n",
    "    return cost\n",
    "\n"
   ]
  },
  {
   "cell_type": "code",
   "execution_count": 15,
   "metadata": {
    "collapsed": false
   },
   "outputs": [],
   "source": [
    "# Uncomment the code below to test your cost function\n",
    "test_x,test_coeffs, test_y = np.array([1,2,3]).reshape(-1,1),np.array([0]).reshape(-1,1), np.array([0,0,0]).reshape(-1,1)\n",
    "assert_almost_equal(cost(test_x,test_y,test_coeffs),0.69314718055994518, decimal=3)"
   ]
  },
  {
   "cell_type": "markdown",
   "metadata": {},
   "source": [
    "Here is the gradient formula:\n",
    "\n",
    "$$ \\frac{\\partial}{\\partial \\beta_j} J(\\beta) = \\frac{1}{n} \\sum_{i=1}^{n} \\left( h(x_i) - y_i \\right) x_{ij}$$  "
   ]
  },
  {
   "cell_type": "code",
   "execution_count": 16,
   "metadata": {
    "collapsed": false
   },
   "outputs": [],
   "source": [
    "test_x = np.array([[1,2],\n",
    "                   [2,3],\n",
    "                   [3,4]])"
   ]
  },
  {
   "cell_type": "code",
   "execution_count": 17,
   "metadata": {
    "collapsed": false
   },
   "outputs": [],
   "source": [
    "def gradient(X,y,coeffs):\n",
    "    '''\n",
    "    Input:\n",
    "        -X: (numpy 2D array) containing the input data\n",
    "        -y: (column vector) containing the labels for the input data\n",
    "        -coeffs: (column vector) containing the coefficient values\n",
    "    Output:\n",
    "        -Gradient: the gradient for each of the coefficients\n",
    "    \n",
    "    Use the formula above to calculate gradient\n",
    "    '''\n",
    "    # Some help from below\n",
    "    #https://bryantravissmith.com/2015/12/29/implementing-logistic-regression-from-scratch-part-2-python-code/\n",
    "    \n",
    "\n",
    "    rows,columns = np.shape(X)\n",
    "\n",
    "    \n",
    "    h = hypothesis(X,coeffs)\n",
    "\n",
    "\n",
    "    grad = []\n",
    "    error = h-y\n",
    "    product = error*X\n",
    "    \n",
    "#     print(np.array(sum(product).reshape(coeffs.shape)/rows))\n",
    "    return np.array(sum(product).reshape(coeffs.shape)/rows)\n",
    "    "
   ]
  },
  {
   "cell_type": "code",
   "execution_count": null,
   "metadata": {
    "collapsed": false
   },
   "outputs": [],
   "source": []
  },
  {
   "cell_type": "code",
   "execution_count": 18,
   "metadata": {
    "collapsed": false
   },
   "outputs": [],
   "source": [
    "# Uncomment the code below to figure out if your implementation of the gradient is correct\n",
    "test_x,test_coeffs, test_y = np.array([1,2,3]).reshape(-1,1),np.array([0]).reshape(-1,1), np.array([0,0,0]).reshape(-1,1)\n",
    "assert_almost_equal(gradient(test_x,test_y,test_coeffs)[0][0],1.0)"
   ]
  },
  {
   "cell_type": "code",
   "execution_count": 19,
   "metadata": {
    "collapsed": false
   },
   "outputs": [
    {
     "data": {
      "text/plain": [
       "array([[ 1.]])"
      ]
     },
     "execution_count": 19,
     "metadata": {},
     "output_type": "execute_result"
    }
   ],
   "source": [
    "gradient(test_x,test_y,test_coeffs)"
   ]
  },
  {
   "cell_type": "markdown",
   "metadata": {},
   "source": [
    "Create a predict function which will predict any values strictly greater than 0.5 to be 1 when the hypothesis function is called."
   ]
  },
  {
   "cell_type": "code",
   "execution_count": 20,
   "metadata": {
    "collapsed": false
   },
   "outputs": [],
   "source": [
    "def predict(X, coeffs):\n",
    "    '''\n",
    "    Input:\n",
    "        -X: (numpy 2D array) containing the input data\n",
    "        -coeffs: (column vector) containing the coefficient values\n",
    "    Output:\n",
    "        -Predictions: predicted values using a threshold of 0.5\n",
    "    '''\n",
    "    \n",
    "    threshold = .5\n",
    "    bool_t = hypothesis( X, coeffs)>threshold \n",
    "    final=[]\n",
    "    for item in bool_t:\n",
    "        if item ==True:\n",
    "            final.append(1)\n",
    "        else:\n",
    "            final.append(0)\n",
    "            \n",
    "   \n",
    "    return np.array(final)\n",
    "    "
   ]
  },
  {
   "cell_type": "code",
   "execution_count": 21,
   "metadata": {
    "collapsed": false
   },
   "outputs": [],
   "source": [
    "# Uncomment the code below to figure out if your implementation of the predict function is correct\n",
    "test_x,test_coeffs = np.array([1,1,1]).reshape(1,-1),np.array([1,1,1]).reshape(-1,1)\n",
    "assert_almost_equal(predict(test_x, test_coeffs),1,decimal=3)"
   ]
  },
  {
   "cell_type": "markdown",
   "metadata": {},
   "source": [
    "We are now going to implement gradient descent in the fit function (we are going to treat our class like an sklearn class). For now to see if everything is working we will just implement gradient descent (and tweak some of the code to take care of some functionality we might want). Below is the algorithm for gradient descent.\n",
    "\n",
    "    Gradient Descent:\n",
    "        input: J: optimization function (cost function)\n",
    "               alpha: learning rate\n",
    "               n: number of iterations\n",
    "        output: local minimum of optimization function J\n",
    "\n",
    "        initialize b (often as all 0's)\n",
    "        costs = []\n",
    "        repeat for n iterations:\n",
    "            update b as b - alpha * gradient(J)\n",
    "            append costs for updated b values  "
   ]
  },
  {
   "cell_type": "code",
   "execution_count": 22,
   "metadata": {
    "collapsed": true
   },
   "outputs": [],
   "source": [
    "def gradient_descent(X,y,alpha):\n",
    "    '''\n",
    "    Input:\n",
    "        -X: (numpy 2D array) containing the input data\n",
    "        -y: (column vector) containing the labels for the input data\n",
    "        -alpha: (int) the step-size to multiply the gradient by\n",
    "    Output:\n",
    "        Coefficients - coefficients calculated by gradient descent\n",
    "        Costs - the cost associated with each update of the coefficients\n",
    "    \n",
    "    For this implementation just use 10,000 iterations. MAKE SURE YOU RETURN 2 VALUES!\n",
    "    '''\n",
    "\n",
    "    coeffs=np.zeros(np.shape(X)[1]).reshape(np.shape(X)[1],1)\n",
    "        # * Recall that there should be as many coefficients as features.\n",
    "\n",
    "        # I give you this line here. if fit_intercept = True, set the intercept to 0\n",
    "#         if self.fit_intercept:\n",
    "#             self.coeffs = np.insert(self.coeffs, 0, 0)\n",
    "\n",
    "        # * for each of the num_iterations, update self.coeffs at each step.\n",
    "    num_interations = 5000\n",
    "    grad_cost= []\n",
    "    #def cost(X,y,coeffs):\n",
    "    #X = X.T\n",
    "    \n",
    "    for n in range(num_interations):\n",
    "   \n",
    "        #update b as b - alpha * gradient(J)\n",
    "        coeffs = coeffs- alpha*gradient(X,y,coeffs)\n",
    "        grad_cost.append(cost(X,y,coeffs))\n",
    "    grad_cost = np.array(grad_cost)\n",
    "    #print(grad_cost,'grad cost')\n",
    "    #print(coeffs, ' coeffs')\n",
    "    \n",
    "    \n",
    "    return coeffs, grad_cost"
   ]
  },
  {
   "cell_type": "code",
   "execution_count": 23,
   "metadata": {
    "collapsed": true
   },
   "outputs": [],
   "source": [
    "#1/(1+np.exp(-(np.dot(X,coeffs))))"
   ]
  },
  {
   "cell_type": "code",
   "execution_count": 27,
   "metadata": {
    "collapsed": false
   },
   "outputs": [
    {
     "data": {
      "text/plain": [
       "<matplotlib.text.Text at 0x103339048>"
      ]
     },
     "execution_count": 27,
     "metadata": {},
     "output_type": "execute_result"
    },
    {
     "data": {
      "image/png": "[encoded data removed]",
      "text/plain": [
       "<matplotlib.figure.Figure at 0x10c191978>"
      ]
     },
     "metadata": {},
     "output_type": "display_data"
    }
   ],
   "source": [
    "# Uncomment the code below to figure out if your implementation of gradient_descent is correct\n",
    "# The code depends on your functions from above so make sure those are correct\n",
    "# Use should be generating a plot of the costs it should look like the graph below.\n",
    "\n",
    "\n",
    "test_x, test_alpha, test_y = load_iris().data, 0.01, (load_iris().target >= 1).astype(int).reshape(-1,1)\n",
    "coeffs, costs = gradient_descent(test_x,test_y,test_alpha)\n",
    "assert_almost_equal(accuracy_score(predict(test_x,coeffs),test_y.flatten()),1.0, decimal = 3)\n",
    "plt.plot(costs)\n",
    "plt.xlabel('iteration number')\n",
    "plt.ylabel('Cost')\n",
    "plt.title('Cost Function over 5k iterations')"
   ]
  },
  {
   "cell_type": "markdown",
   "metadata": {},
   "source": [
    "Now that we have all the parts of gradient descent, let's put this in a class. PLEASE DO NOT JUST COPY AND PASTE YOUR FUNCTIONS FROM ABOVE. You should use them to ensure your implementation is correct, but the class should be set up differently. "
   ]
  },
  {
   "cell_type": "markdown",
   "metadata": {},
   "source": [
    "## Fun Fact: Notice there are functions that have 1 underscore before them (for example __hypothesis). In python programming, these are usually considered to be private functions. Unlike C/C++, these functions can be called by users (so they are not really private). The idea behind private functions is that a user would most likely never call this function, but you need it in order to perform operations for functions that users will call. For example, it can be argued that users will never care about what the gradient  or hypothesis for a given example will be. Thus, you can keep these hidden, as users will most likely only care about fitting the model and predicting on new values. "
   ]
  },
  {
   "cell_type": "code",
   "execution_count": 28,
   "metadata": {
    "collapsed": true
   },
   "outputs": [],
   "source": [
    "x = np.array([[1,2],\n",
    "             [1,2],\n",
    "             [0,1],\n",
    "             [2,4]])"
   ]
  },
  {
   "cell_type": "code",
   "execution_count": 29,
   "metadata": {
    "collapsed": false
   },
   "outputs": [
    {
     "name": "stdout",
     "output_type": "stream",
     "text": [
      "[[ 0.  0.]\n",
      " [ 0.  0.]\n",
      " [ 0.  0.]\n",
      " [ 0.  0.]]\n",
      "[1 1 0 2] i\n",
      "[ 0.  0. -1.  1.] mean out\n",
      "[ 0.          0.         -1.41421356  1.41421356] calc\n",
      "[2 2 1 4] i\n",
      "[-0.25 -0.25 -1.25  1.75] mean out\n",
      "[-0.22941573 -0.22941573 -1.14707867  1.60591014] calc\n"
     ]
    },
    {
     "data": {
      "text/plain": [
       "array([[ 0.        , -0.22941573],\n",
       "       [ 0.        , -0.22941573],\n",
       "       [-1.41421356, -1.14707867],\n",
       "       [ 1.41421356,  1.60591014]])"
      ]
     },
     "execution_count": 29,
     "metadata": {},
     "output_type": "execute_result"
    }
   ],
   "source": [
    "z = np.zeros((np.shape(x)))\n",
    "print(z)\n",
    "for col_idx,i in enumerate(x.T):\n",
    "    print(i,'i')\n",
    "    print(i-np.mean(i),'mean out')\n",
    "    print((i-np.mean(i))/np.std(i),'calc')\n",
    "    \n",
    "    z.T[col_idx] = np.array((i-np.mean(i))/np.std(i))\n",
    "    \n",
    "z"
   ]
  },
  {
   "cell_type": "code",
   "execution_count": 30,
   "metadata": {
    "collapsed": false
   },
   "outputs": [],
   "source": [
    "class LogReg(object):\n",
    "    \n",
    "    def __init__(self, alpha = 0.01,num_iterations = 10000, fit_intercept = True, normalize = False):\n",
    "        # I have given the inputs that this class should take. Please set them as class \n",
    "        # attributes so that you can call them throughout the class\n",
    "        self.alpha = alpha\n",
    "        self.num_iterations = num_iterations\n",
    "        self.fit_intercept = fit_intercept\n",
    "        self.normalize = normalize\n",
    "        \n",
    "        \n",
    "        # Now add a coefficients variable so it does not need to be passed from function to function\n",
    "        \n",
    "        self.coeffs = None\n",
    "        # Also, add a scores variable which is a list that will hold the costs associated with\n",
    "        # each update of the coefficients\n",
    "        \n",
    "        if self.normalize:\n",
    "            self.mu = None\n",
    "            self.sigma = None\n",
    "        if self.fit_intercept:\n",
    "            self.n=None\n",
    "            self.m=None\n",
    "        \n",
    "        # You might want to store mu and sigma if normalize is true. For now leave them as None\n",
    "        \n",
    "        # Another thing you can do is store n and m (number of rows and columns in X). However,\n",
    "        # be careful! If fit intercept is true then the value m will change. Store them as None for now. \n",
    "        \n",
    "    \n",
    "    def fit(self, X, y):\n",
    "        '''\n",
    "        Input:\n",
    "            -X: (numpy 2D array) containing the input data\n",
    "            -y: (column vector) containing the labels for the input data\n",
    "        Output:\n",
    "            None\n",
    "\n",
    "        This is where gradient descent will be happening. However, notice we are just inputting \n",
    "        X and Y. Thus the other variables you will have to get from the attributes of the class.\n",
    "        '''\n",
    "        # If fit_intercept is true add a column of ones before the data. I will give you this code below.\n",
    "        if self.fit_intercept:\n",
    "            X = np.hstack((np.ones((X.shape[0], 1)), X))\n",
    "\n",
    "        \n",
    "        # If normalize is true, normalize the data.\n",
    "\n",
    "\n",
    "\n",
    "        if self.normalize:\n",
    "            norm_x = np.zeros((np.shape(X)))\n",
    "                \n",
    "            for col_idx,col in enumerate(X.T):\n",
    "                norm_x.T[col_idx]=(col-np.mean(col))/np.std(col)\n",
    "            \n",
    "        \n",
    "            X = norm_x\n",
    "        else:\n",
    "            pass\n",
    "        # Now that we are done with transformations, save the n and m values.\n",
    "        \n",
    "        # Also, initialize coefficients to be 0\n",
    "      \n",
    "        \n",
    "        # Finally, perform gradient descent. Get num_iterations and alpha from the atrributes\n",
    "        # Don't forget to store the costs for the updated coefficients\n",
    "        #############gradient descent\n",
    "        \n",
    "        self.coeffs=np.zeros(np.shape(X)[1]).reshape(np.shape(X)[1],1)\n",
    "        print(np.shape(self.coeffs),'shape of coefficients')\n",
    "\n",
    "        #self.num_iteration\n",
    "        self.grad_cost = []\n",
    "        #def cost(X,y,coeffs):\n",
    "        #X = X.T\n",
    "\n",
    "        for n in range(self.num_iterations):\n",
    "\n",
    "            #update b as b - alpha * gradient(J)\n",
    "            self.coeffs = self.coeffs- self.alpha*gradient(X,y,self.coeffs)\n",
    "            self.grad_cost.append(cost(X,y,self.coeffs))\n",
    "        self.grad_cost = np.array(self.grad_cost)\n",
    "        \n",
    "        #print(grad_cost,'grad cost')\n",
    "        #print(coeffs, ' coeffs')\n",
    "\n",
    "\n",
    "\n",
    "    \n",
    "    def hypothesis(X,coeffs):\n",
    "        '''\n",
    "        Input:\n",
    "            -X : (numpy 2D array) containing the input data\n",
    "            -coeffs: (column vector) containing the coefficients being used to get a hypothesis\n",
    "        Output:\n",
    "            -Hypothesis: (column vector) containing hypothesis values\n",
    "\n",
    "        You can generate hypothesis values using the sigmoid (i.e. the formula from above)\n",
    "        '''\n",
    "        return   1/(1+np.exp(-(np.dot(X,coeffs))))\n",
    "\n",
    "\n",
    "    def _gradient(self,X,y):\n",
    "        '''\n",
    "        Input:\n",
    "            -X: (numpy 2D array) containing the input data\n",
    "            -y: (column vector) containing the labels for the input data\n",
    "        Output:\n",
    "            -Gradient: the gradient for each of the coefficients\n",
    "        '''        \n",
    "        rows,columns = np.shape(X)\n",
    "\n",
    "    \n",
    "        h = hypothesis(X,coeffs)\n",
    "\n",
    "\n",
    "        grad = []\n",
    "        error = h-y\n",
    "        product = error*X\n",
    "\n",
    "        #     print(np.array(sum(product).reshape(coeffs.shape)/rows))\n",
    "        return np.array(sum(product).reshape(self.coeffs.shape)/rows)\n",
    "    \n",
    "    \n",
    "    def _cost(self,X,y):\n",
    "        '''\n",
    "        Input:\n",
    "            -X: (numpy 2D array) containing the input data\n",
    "            -y: (column vector) containing the labels for the input data\n",
    "        Ouput:\n",
    "            -Float Value: the cost associated with using certain coefficient values\n",
    "        '''\n",
    "        h = hypothesis(X,self.coeffs)\n",
    "\n",
    "\n",
    "        length = len(X)\n",
    "\n",
    "\n",
    "        cost = -(1/length)*sum(y*(np.log(h)) + (1-y)*np.log(1-h))\n",
    "\n",
    "        return cost\n",
    "\n",
    "\n",
    "    def predict(self,X):\n",
    "        '''\n",
    "        Input:\n",
    "            -X: (numpy 2D array) containing the input data\n",
    "        Output:\n",
    "            -Predictions: predicted values using a threshold of 0.5\n",
    "        '''        \n",
    "        threshold = .5\n",
    "        bool_t = hypothesis( X, coeffs)>threshold \n",
    "        final=[]\n",
    "        for item in bool_t:\n",
    "            if item ==True:\n",
    "                final.append(1)\n",
    "            else:\n",
    "                final.append(0)\n",
    "\n",
    "\n",
    "        return np.array(final)     \n",
    "    \n",
    "    def plot_scores(self):\n",
    "        '''\n",
    "        Input:\n",
    "            -None\n",
    "        Ouput:\n",
    "            -Line plot showing how scores decrease\n",
    "        '''\n",
    "        pass\n",
    "    \n",
    "        \n",
    "        \n",
    "        \n",
    "    \n",
    "        plt.plot(self.grad_cost)\n",
    "        plt.xlabel('iteration number')\n",
    "        plt.ylabel('Cost')\n",
    "        plt.title('Cost Function over {} iterations'.format(self.num_iterations))"
   ]
  },
  {
   "cell_type": "code",
   "execution_count": null,
   "metadata": {
    "collapsed": true
   },
   "outputs": [],
   "source": []
  },
  {
   "cell_type": "code",
   "execution_count": 31,
   "metadata": {
    "collapsed": false
   },
   "outputs": [
    {
     "name": "stdout",
     "output_type": "stream",
     "text": [
      "(5, 1) shape of coefficients\n",
      "1.0\n"
     ]
    },
    {
     "data": {
      "image/png": "[encoded data removed]",
      "text/plain": [
       "<matplotlib.figure.Figure at 0x103334048>"
      ]
     },
     "metadata": {},
     "output_type": "display_data"
    }
   ],
   "source": [
    "# This is how your class should be called.\n",
    "X = load_iris().data\n",
    "y = (load_iris().target >= 1).astype(int).reshape(-1,1)\n",
    "logreg = LogReg()\n",
    "logreg.fit(X,y)\n",
    "print(accuracy_score(logreg.predict(X),y.flatten()))\n",
    "logreg.plot_scores()"
   ]
  },
  {
   "cell_type": "code",
   "execution_count": null,
   "metadata": {
    "collapsed": true
   },
   "outputs": [],
   "source": []
  }
 ],
 "metadata": {
  "kernelspec": {
   "display_name": "Python [Root]",
   "language": "python",
   "name": "Python [Root]"
  },
  "language_info": {
   "codemirror_mode": {
    "name": "ipython",
    "version": 3
   },
   "file_extension": ".py",
   "mimetype": "text/x-python",
   "name": "python",
   "nbconvert_exporter": "python",
   "pygments_lexer": "ipython3",
   "version": "3.5.2"
  }
 },
 "nbformat": 4,
 "nbformat_minor": 0
}
