{
 "cells": [
  {
   "cell_type": "code",
   "execution_count": 20,
   "metadata": {
    "collapsed": false
   },
   "outputs": [],
   "source": [
    "# Place import statements here\n",
    "import numpy as np\n",
    "from numpy.testing import assert_almost_equal\n",
    "from sklearn.datasets import load_iris\n",
    "from sklearn.metrics import accuracy_score\n",
    "import matplotlib.pyplot as plt\n",
    "%matplotlib inline"
   ]
  },
  {
   "cell_type": "markdown",
   "metadata": {},
   "source": [
    "# Gradient Descent - Revisited"
   ]
  },
  {
   "cell_type": "markdown",
   "metadata": {},
   "source": [
    "I will lay out the process here in detail. I did not lay out any pseudocode for the formulas. If you are struggling to program the formulas, please talk to me or Mike.\n",
    "If there are any issues or questions let me know."
   ]
  },
  {
   "cell_type": "markdown",
   "metadata": {},
   "source": [
    "The formula for the hypothesis: \n",
    "\n",
    "$$ h(x_i) = \\frac{1}{1 + e^{-(\\beta_0 + \\beta_1 x_{i1} + \\beta_2 x_{i2} + \\beta_3 x_{i3})}} $$\n",
    "\n",
    "Below, you will find a function defining the hypothesis. Fill it out using the formula from above. To check if it is correct, use the test variables."
   ]
  },
  {
   "cell_type": "markdown",
   "metadata": {},
   "source": [
    "## Do not change the function names if you want to use the assert statements."
   ]
  },
  {
   "cell_type": "code",
   "execution_count": 3,
   "metadata": {
    "collapsed": true
   },
   "outputs": [],
   "source": [
    "import numpy as np"
   ]
  },
  {
   "cell_type": "code",
   "execution_count": 387,
   "metadata": {
    "collapsed": false
   },
   "outputs": [],
   "source": [
    "def hypothesis(X,coeffs):\n",
    "    '''\n",
    "    Input:\n",
    "        -X : (numpy 2D array) containing the input data\n",
    "        -coeffs: (column vector) containing the coefficients being used to get a hypothesis\n",
    "    Output:\n",
    "        -Hypothesis: (column vector) containing hypothesis values\n",
    "    \n",
    "    You can generate hypothesis values using the sigmoid (i.e. the formula from above)\n",
    "    '''\n",
    "    return   1/(1+np.exp(-(np.dot(X,coeffs))))\n",
    "\n",
    "    \n",
    "\n",
    "#Remember that you can call this function in later parts of the code"
   ]
  },
  {
   "cell_type": "code",
   "execution_count": 388,
   "metadata": {
    "collapsed": false
   },
   "outputs": [
    {
     "data": {
      "text/plain": [
       "array([[ 0.95257413]])"
      ]
     },
     "execution_count": 388,
     "metadata": {},
     "output_type": "execute_result"
    }
   ],
   "source": [
    "hypothesis(test_x,test_coeffs)"
   ]
  },
  {
   "cell_type": "code",
   "execution_count": 389,
   "metadata": {
    "collapsed": false
   },
   "outputs": [
    {
     "data": {
      "text/plain": [
       "array([[1],\n",
       "       [1],\n",
       "       [1]])"
      ]
     },
     "execution_count": 389,
     "metadata": {},
     "output_type": "execute_result"
    }
   ],
   "source": [
    "test_coeffs"
   ]
  },
  {
   "cell_type": "code",
   "execution_count": 390,
   "metadata": {
    "collapsed": false
   },
   "outputs": [
    {
     "data": {
      "text/plain": [
       "(1, 3)"
      ]
     },
     "execution_count": 390,
     "metadata": {},
     "output_type": "execute_result"
    }
   ],
   "source": [
    "np.shape(test_x)\n"
   ]
  },
  {
   "cell_type": "code",
   "execution_count": 493,
   "metadata": {
    "collapsed": false
   },
   "outputs": [
    {
     "data": {
      "text/plain": [
       "(3, 1)"
      ]
     },
     "execution_count": 493,
     "metadata": {},
     "output_type": "execute_result"
    }
   ],
   "source": [
    "np.shape(test_coeffs)"
   ]
  },
  {
   "cell_type": "code",
   "execution_count": 494,
   "metadata": {
    "collapsed": false
   },
   "outputs": [],
   "source": [
    "# Uncomment the code below to test your hypothesis function\n",
    "test_x,test_coeffs = np.array([1,1,1]).reshape(1,-1),np.array([1,1,1]).reshape(-1,1)\n",
    "assert_almost_equal(0.95257413,hypothesis(test_x,test_coeffs)[0][0],decimal=3)"
   ]
  },
  {
   "cell_type": "markdown",
   "metadata": {},
   "source": [
    "Here is the cost function for logistic regression\n",
    "\n",
    "$$ J(\\beta) = - \\frac{1}{n} \\sum_{i = 1}^{n} \\left[ y_i log(h(x_i)) + (1 - y_i) log(1 - h(x_i)) \\right] $$  \n",
    "\n",
    "Don't forget to take the log of the prediction or else the assert statement will fail."
   ]
  },
  {
   "cell_type": "code",
   "execution_count": 393,
   "metadata": {
    "collapsed": true
   },
   "outputs": [],
   "source": [
    "from math import log"
   ]
  },
  {
   "cell_type": "code",
   "execution_count": 394,
   "metadata": {
    "collapsed": false
   },
   "outputs": [
    {
     "data": {
      "text/plain": [
       "1.0"
      ]
     },
     "execution_count": 394,
     "metadata": {},
     "output_type": "execute_result"
    }
   ],
   "source": [
    "np.log10(10)"
   ]
  },
  {
   "cell_type": "code",
   "execution_count": 401,
   "metadata": {
    "collapsed": false
   },
   "outputs": [],
   "source": [
    "def cost(X,y,coeffs):\n",
    "    '''\n",
    "    Input:\n",
    "        -X: (numpy 2D array) containing the input data\n",
    "        -y: (column vector) containing the labels for the input data\n",
    "        -coeffs: (column vector) containing the coefficient values\n",
    "    Ouput:\n",
    "        -Float Value: the cost associated with using certain coefficient values\n",
    "\n",
    "    Implement the cost function from above.\n",
    "    '''\n",
    "    \n",
    "    h = hypothesis(X,coeffs)\n",
    "\n",
    "\n",
    "    length = len(X)\n",
    "\n",
    "\n",
    "    cost = -(1/length)*sum(y*(np.log(h)) + (1-y)*np.log(1-h))\n",
    "\n",
    "    return cost\n",
    "\n"
   ]
  },
  {
   "cell_type": "code",
   "execution_count": 402,
   "metadata": {
    "collapsed": false
   },
   "outputs": [
    {
     "data": {
      "text/plain": [
       "array([ 0.69314718])"
      ]
     },
     "execution_count": 402,
     "metadata": {},
     "output_type": "execute_result"
    }
   ],
   "source": [
    "cost(test_x,test_y,test_coeffs)"
   ]
  },
  {
   "cell_type": "code",
   "execution_count": 403,
   "metadata": {
    "collapsed": false
   },
   "outputs": [
    {
     "data": {
      "text/plain": [
       "1"
      ]
     },
     "execution_count": 403,
     "metadata": {},
     "output_type": "execute_result"
    }
   ],
   "source": [
    "x = np.array([[1,2,3]])\n",
    "len(x)"
   ]
  },
  {
   "cell_type": "code",
   "execution_count": 404,
   "metadata": {
    "collapsed": false
   },
   "outputs": [],
   "source": [
    "# Uncomment the code below to test your cost function\n",
    "test_x,test_coeffs, test_y = np.array([1,2,3]).reshape(-1,1),np.array([0]).reshape(-1,1), np.array([0,0,0]).reshape(-1,1)\n",
    "assert_almost_equal(cost(test_x,test_y,test_coeffs),0.69314718055994518, decimal=3)"
   ]
  },
  {
   "cell_type": "markdown",
   "metadata": {},
   "source": [
    "Here is the gradient formula:\n",
    "\n",
    "$$ \\frac{\\partial}{\\partial \\beta_j} J(\\beta) = \\frac{1}{n} \\sum_{i=1}^{n} \\left( h(x_i) - y_i \\right) x_{ij}$$  "
   ]
  },
  {
   "cell_type": "code",
   "execution_count": 281,
   "metadata": {
    "collapsed": false
   },
   "outputs": [],
   "source": [
    "test_x = np.array([[1,2],\n",
    "                   [2,3],\n",
    "                   [3,4]])"
   ]
  },
  {
   "cell_type": "code",
   "execution_count": 505,
   "metadata": {
    "collapsed": false
   },
   "outputs": [],
   "source": [
    "def gradient(X,y,coeffs):\n",
    "    '''\n",
    "    Input:\n",
    "        -X: (numpy 2D array) containing the input data\n",
    "        -y: (column vector) containing the labels for the input data\n",
    "        -coeffs: (column vector) containing the coefficient values\n",
    "    Output:\n",
    "        -Gradient: the gradient for each of the coefficients\n",
    "    \n",
    "    Use the formula above to calculate gradient\n",
    "    '''\n",
    "\n",
    "\n",
    "    rows,columns = np.shape(X)\n",
    "\n",
    "    \n",
    "    h = hypothesis(X,coeffs)\n",
    "    print(h, 'h')\n",
    "\n",
    "    grad = []\n",
    "    column_total = np.zeros((np.shape(X)))\n",
    "    \n",
    "    for count_row, row in enumerate(range(rows)):\n",
    "        \n",
    "        inside = h[count_row]-y[count_row]\n",
    "\n",
    "        current_total=0\n",
    "        \n",
    "        for matrix_column,col in enumerate(range(columns)): ## go through the original matrix\n",
    "            for matrix_row,row in enumerate(range(rows)):\n",
    "\n",
    "                current_total +=inside*X[matrix_row,matrix_column] ###\n",
    "\n",
    "        grad.append(current_total/rows)\n",
    "\n",
    "    return np.array(grad)\n",
    "   "
   ]
  },
  {
   "cell_type": "code",
   "execution_count": 506,
   "metadata": {
    "collapsed": false
   },
   "outputs": [
    {
     "name": "stdout",
     "output_type": "stream",
     "text": [
      "[[ 0.5]\n",
      " [ 0.5]\n",
      " [ 0.5]] h\n"
     ]
    },
    {
     "data": {
      "text/plain": [
       "array([[ 1.],\n",
       "       [ 1.],\n",
       "       [ 1.]])"
      ]
     },
     "execution_count": 506,
     "metadata": {},
     "output_type": "execute_result"
    }
   ],
   "source": [
    "gradient(test_x,test_y,test_coeffs)"
   ]
  },
  {
   "cell_type": "code",
   "execution_count": 504,
   "metadata": {
    "collapsed": false
   },
   "outputs": [],
   "source": [
    "# Uncomment the code below to figure out if your implementation of the gradient is correct\n",
    "test_x,test_coeffs, test_y = np.array([1,2,3]).reshape(-1,1),np.array([0]).reshape(-1,1), np.array([0,0,0]).reshape(-1,1)\n",
    "assert_almost_equal(gradient(test_x,test_y,test_coeffs)[0][0],1.0)"
   ]
  },
  {
   "cell_type": "markdown",
   "metadata": {},
   "source": [
    "Create a predict function which will predict any values strictly greater than 0.5 to be 1 when the hypothesis function is called."
   ]
  },
  {
   "cell_type": "code",
   "execution_count": 433,
   "metadata": {
    "collapsed": false
   },
   "outputs": [],
   "source": [
    "def predict(X, coeffs):\n",
    "    '''\n",
    "    Input:\n",
    "        -X: (numpy 2D array) containing the input data\n",
    "        -coeffs: (column vector) containing the coefficient values\n",
    "    Output:\n",
    "        -Predictions: predicted values using a threshold of 0.5\n",
    "    '''\n",
    "    \n",
    "    threshold = .5\n",
    "    bool_t = hypothesis( X, coeffs)>threshold \n",
    "    bool_f = [1 for i in bool_t if i == True ]\n",
    "    return bool_f\n",
    "    "
   ]
  },
  {
   "cell_type": "code",
   "execution_count": 434,
   "metadata": {
    "collapsed": false
   },
   "outputs": [],
   "source": [
    "# Uncomment the code below to figure out if your implementation of the predict function is correct\n",
    "test_x,test_coeffs = np.array([1,1,1]).reshape(1,-1),np.array([1,1,1]).reshape(-1,1)\n",
    "assert_almost_equal(predict(test_x, test_coeffs),1,decimal=3)"
   ]
  },
  {
   "cell_type": "markdown",
   "metadata": {},
   "source": [
    "We are now going to implement gradient descent in the fit function (we are going to treat our class like an sklearn class). For now to see if everything is working we will just implement gradient descent (and tweak some of the code to take care of some functionality we might want). Below is the algorithm for gradient descent.\n",
    "\n",
    "    Gradient Descent:\n",
    "        input: J: optimization function (cost function)\n",
    "               alpha: learning rate\n",
    "               n: number of iterations\n",
    "        output: local minimum of optimization function J\n",
    "\n",
    "        initialize b (often as all 0's)\n",
    "        costs = []\n",
    "        repeat for n iterations:\n",
    "            update b as b - alpha * gradient(J)\n",
    "            append costs for updated b values  "
   ]
  },
  {
   "cell_type": "code",
   "execution_count": 482,
   "metadata": {
    "collapsed": true
   },
   "outputs": [],
   "source": [
    "def gradient_descent(X,y,alpha):\n",
    "    '''\n",
    "    Input:\n",
    "        -X: (numpy 2D array) containing the input data\n",
    "        -y: (column vector) containing the labels for the input data\n",
    "        -alpha: (int) the step-size to multiply the gradient by\n",
    "    Output:\n",
    "        Coefficients - coefficients calculated by gradient descent\n",
    "        Costs - the cost associated with each update of the coefficients\n",
    "    \n",
    "    For this implementation just use 10,000 iterations. MAKE SURE YOU RETURN 2 VALUES!\n",
    "    '''\n",
    "\n",
    "    coeffs=np.zeros(np.shape(X)[1]).reshape(np.shape(X)[1],1)\n",
    "        # * Recall that there should be as many coefficients as features.\n",
    "\n",
    "        # I give you this line here. if fit_intercept = True, set the intercept to 0\n",
    "#         if self.fit_intercept:\n",
    "#             self.coeffs = np.insert(self.coeffs, 0, 0)\n",
    "\n",
    "        # * for each of the num_iterations, update self.coeffs at each step.\n",
    "    num_interations = 10\n",
    "    grad_cost= []\n",
    "    #def cost(X,y,coeffs):\n",
    "    #X = X.T\n",
    "    \n",
    "    for n in range(num_interations):\n",
    "        print(n, ' iteration')\n",
    "        #update b as b - alpha * gradient(J)\n",
    "        coeffs = coeffs- alpha*gradient(X,y,coeffs)\n",
    "        grad_cost.append(cost(X,y,coeffs))\n",
    "        \n",
    "    print(grad_cost)"
   ]
  },
  {
   "cell_type": "code",
   "execution_count": 483,
   "metadata": {
    "collapsed": true
   },
   "outputs": [],
   "source": [
    "#1/(1+np.exp(-(np.dot(X,coeffs))))"
   ]
  },
  {
   "cell_type": "code",
   "execution_count": 508,
   "metadata": {
    "collapsed": false
   },
   "outputs": [
    {
     "name": "stdout",
     "output_type": "stream",
     "text": [
      "[[ 0.5]\n",
      " [ 0.5]\n",
      " [ 0.5]\n",
      " [ 0.5]\n",
      " [ 0.5]\n",
      " [ 0.5]\n",
      " [ 0.5]\n",
      " [ 0.5]\n",
      " [ 0.5]\n",
      " [ 0.5]\n",
      " [ 0.5]\n",
      " [ 0.5]\n",
      " [ 0.5]\n",
      " [ 0.5]\n",
      " [ 0.5]\n",
      " [ 0.5]\n",
      " [ 0.5]\n",
      " [ 0.5]\n",
      " [ 0.5]\n",
      " [ 0.5]\n",
      " [ 0.5]\n",
      " [ 0.5]\n",
      " [ 0.5]\n",
      " [ 0.5]\n",
      " [ 0.5]\n",
      " [ 0.5]\n",
      " [ 0.5]\n",
      " [ 0.5]\n",
      " [ 0.5]\n",
      " [ 0.5]\n",
      " [ 0.5]\n",
      " [ 0.5]\n",
      " [ 0.5]\n",
      " [ 0.5]\n",
      " [ 0.5]\n",
      " [ 0.5]\n",
      " [ 0.5]\n",
      " [ 0.5]\n",
      " [ 0.5]\n",
      " [ 0.5]\n",
      " [ 0.5]\n",
      " [ 0.5]\n",
      " [ 0.5]\n",
      " [ 0.5]\n",
      " [ 0.5]\n",
      " [ 0.5]\n",
      " [ 0.5]\n",
      " [ 0.5]\n",
      " [ 0.5]\n",
      " [ 0.5]\n",
      " [ 0.5]\n",
      " [ 0.5]\n",
      " [ 0.5]\n",
      " [ 0.5]\n",
      " [ 0.5]\n",
      " [ 0.5]\n",
      " [ 0.5]\n",
      " [ 0.5]\n",
      " [ 0.5]\n",
      " [ 0.5]\n",
      " [ 0.5]\n",
      " [ 0.5]\n",
      " [ 0.5]\n",
      " [ 0.5]\n",
      " [ 0.5]\n",
      " [ 0.5]\n",
      " [ 0.5]\n",
      " [ 0.5]\n",
      " [ 0.5]\n",
      " [ 0.5]\n",
      " [ 0.5]\n",
      " [ 0.5]\n",
      " [ 0.5]\n",
      " [ 0.5]\n",
      " [ 0.5]\n",
      " [ 0.5]\n",
      " [ 0.5]\n",
      " [ 0.5]\n",
      " [ 0.5]\n",
      " [ 0.5]\n",
      " [ 0.5]\n",
      " [ 0.5]\n",
      " [ 0.5]\n",
      " [ 0.5]\n",
      " [ 0.5]\n",
      " [ 0.5]\n",
      " [ 0.5]\n",
      " [ 0.5]\n",
      " [ 0.5]\n",
      " [ 0.5]\n",
      " [ 0.5]\n",
      " [ 0.5]\n",
      " [ 0.5]\n",
      " [ 0.5]\n",
      " [ 0.5]\n",
      " [ 0.5]\n",
      " [ 0.5]\n",
      " [ 0.5]\n",
      " [ 0.5]\n",
      " [ 0.5]\n",
      " [ 0.5]\n",
      " [ 0.5]\n",
      " [ 0.5]\n",
      " [ 0.5]\n",
      " [ 0.5]\n",
      " [ 0.5]\n",
      " [ 0.5]\n",
      " [ 0.5]\n",
      " [ 0.5]\n",
      " [ 0.5]\n",
      " [ 0.5]\n",
      " [ 0.5]\n",
      " [ 0.5]\n",
      " [ 0.5]\n",
      " [ 0.5]\n",
      " [ 0.5]\n",
      " [ 0.5]\n",
      " [ 0.5]\n",
      " [ 0.5]\n",
      " [ 0.5]\n",
      " [ 0.5]\n",
      " [ 0.5]\n",
      " [ 0.5]\n",
      " [ 0.5]\n",
      " [ 0.5]\n",
      " [ 0.5]\n",
      " [ 0.5]\n",
      " [ 0.5]\n",
      " [ 0.5]\n",
      " [ 0.5]\n",
      " [ 0.5]\n",
      " [ 0.5]\n",
      " [ 0.5]\n",
      " [ 0.5]\n",
      " [ 0.5]\n",
      " [ 0.5]\n",
      " [ 0.5]\n",
      " [ 0.5]\n",
      " [ 0.5]\n",
      " [ 0.5]\n",
      " [ 0.5]\n",
      " [ 0.5]\n",
      " [ 0.5]\n",
      " [ 0.5]\n",
      " [ 0.5]\n",
      " [ 0.5]\n",
      " [ 0.5]\n",
      " [ 0.5]\n",
      " [ 0.5]\n",
      " [ 0.5]] h\n"
     ]
    },
    {
     "data": {
      "text/plain": [
       "array([[ 6.92733333],\n",
       "       [ 6.92733333],\n",
       "       [ 6.92733333],\n",
       "       [ 6.92733333],\n",
       "       [ 6.92733333],\n",
       "       [ 6.92733333],\n",
       "       [ 6.92733333],\n",
       "       [ 6.92733333],\n",
       "       [ 6.92733333],\n",
       "       [ 6.92733333],\n",
       "       [ 6.92733333],\n",
       "       [ 6.92733333],\n",
       "       [ 6.92733333],\n",
       "       [ 6.92733333],\n",
       "       [ 6.92733333],\n",
       "       [ 6.92733333],\n",
       "       [ 6.92733333],\n",
       "       [ 6.92733333],\n",
       "       [ 6.92733333],\n",
       "       [ 6.92733333],\n",
       "       [ 6.92733333],\n",
       "       [ 6.92733333],\n",
       "       [ 6.92733333],\n",
       "       [ 6.92733333],\n",
       "       [ 6.92733333],\n",
       "       [ 6.92733333],\n",
       "       [ 6.92733333],\n",
       "       [ 6.92733333],\n",
       "       [ 6.92733333],\n",
       "       [ 6.92733333],\n",
       "       [ 6.92733333],\n",
       "       [ 6.92733333],\n",
       "       [ 6.92733333],\n",
       "       [ 6.92733333],\n",
       "       [ 6.92733333],\n",
       "       [ 6.92733333],\n",
       "       [ 6.92733333],\n",
       "       [ 6.92733333],\n",
       "       [ 6.92733333],\n",
       "       [ 6.92733333],\n",
       "       [ 6.92733333],\n",
       "       [ 6.92733333],\n",
       "       [ 6.92733333],\n",
       "       [ 6.92733333],\n",
       "       [ 6.92733333],\n",
       "       [ 6.92733333],\n",
       "       [ 6.92733333],\n",
       "       [ 6.92733333],\n",
       "       [ 6.92733333],\n",
       "       [ 6.92733333],\n",
       "       [-6.92733333],\n",
       "       [-6.92733333],\n",
       "       [-6.92733333],\n",
       "       [-6.92733333],\n",
       "       [-6.92733333],\n",
       "       [-6.92733333],\n",
       "       [-6.92733333],\n",
       "       [-6.92733333],\n",
       "       [-6.92733333],\n",
       "       [-6.92733333],\n",
       "       [-6.92733333],\n",
       "       [-6.92733333],\n",
       "       [-6.92733333],\n",
       "       [-6.92733333],\n",
       "       [-6.92733333],\n",
       "       [-6.92733333],\n",
       "       [-6.92733333],\n",
       "       [-6.92733333],\n",
       "       [-6.92733333],\n",
       "       [-6.92733333],\n",
       "       [-6.92733333],\n",
       "       [-6.92733333],\n",
       "       [-6.92733333],\n",
       "       [-6.92733333],\n",
       "       [-6.92733333],\n",
       "       [-6.92733333],\n",
       "       [-6.92733333],\n",
       "       [-6.92733333],\n",
       "       [-6.92733333],\n",
       "       [-6.92733333],\n",
       "       [-6.92733333],\n",
       "       [-6.92733333],\n",
       "       [-6.92733333],\n",
       "       [-6.92733333],\n",
       "       [-6.92733333],\n",
       "       [-6.92733333],\n",
       "       [-6.92733333],\n",
       "       [-6.92733333],\n",
       "       [-6.92733333],\n",
       "       [-6.92733333],\n",
       "       [-6.92733333],\n",
       "       [-6.92733333],\n",
       "       [-6.92733333],\n",
       "       [-6.92733333],\n",
       "       [-6.92733333],\n",
       "       [-6.92733333],\n",
       "       [-6.92733333],\n",
       "       [-6.92733333],\n",
       "       [-6.92733333],\n",
       "       [-6.92733333],\n",
       "       [-6.92733333],\n",
       "       [-6.92733333],\n",
       "       [-6.92733333],\n",
       "       [-6.92733333],\n",
       "       [-6.92733333],\n",
       "       [-6.92733333],\n",
       "       [-6.92733333],\n",
       "       [-6.92733333],\n",
       "       [-6.92733333],\n",
       "       [-6.92733333],\n",
       "       [-6.92733333],\n",
       "       [-6.92733333],\n",
       "       [-6.92733333],\n",
       "       [-6.92733333],\n",
       "       [-6.92733333],\n",
       "       [-6.92733333],\n",
       "       [-6.92733333],\n",
       "       [-6.92733333],\n",
       "       [-6.92733333],\n",
       "       [-6.92733333],\n",
       "       [-6.92733333],\n",
       "       [-6.92733333],\n",
       "       [-6.92733333],\n",
       "       [-6.92733333],\n",
       "       [-6.92733333],\n",
       "       [-6.92733333],\n",
       "       [-6.92733333],\n",
       "       [-6.92733333],\n",
       "       [-6.92733333],\n",
       "       [-6.92733333],\n",
       "       [-6.92733333],\n",
       "       [-6.92733333],\n",
       "       [-6.92733333],\n",
       "       [-6.92733333],\n",
       "       [-6.92733333],\n",
       "       [-6.92733333],\n",
       "       [-6.92733333],\n",
       "       [-6.92733333],\n",
       "       [-6.92733333],\n",
       "       [-6.92733333],\n",
       "       [-6.92733333],\n",
       "       [-6.92733333],\n",
       "       [-6.92733333],\n",
       "       [-6.92733333],\n",
       "       [-6.92733333],\n",
       "       [-6.92733333],\n",
       "       [-6.92733333],\n",
       "       [-6.92733333],\n",
       "       [-6.92733333],\n",
       "       [-6.92733333]])"
      ]
     },
     "execution_count": 508,
     "metadata": {},
     "output_type": "execute_result"
    }
   ],
   "source": [
    "np.array(gradient(test_x,test_y ,coeffs))"
   ]
  },
  {
   "cell_type": "code",
   "execution_count": 491,
   "metadata": {
    "collapsed": false
   },
   "outputs": [
    {
     "data": {
      "text/plain": [
       "(4, 1)"
      ]
     },
     "execution_count": 491,
     "metadata": {},
     "output_type": "execute_result"
    }
   ],
   "source": [
    "coeffs = np.zeros((np.shape(test_x)[1])).reshape(np.shape(test_x)[1],1)\n",
    "np.shape(coeffs)"
   ]
  },
  {
   "cell_type": "code",
   "execution_count": 497,
   "metadata": {
    "collapsed": false
   },
   "outputs": [
    {
     "data": {
      "text/plain": [
       "(150, 4)"
      ]
     },
     "execution_count": 497,
     "metadata": {},
     "output_type": "execute_result"
    }
   ],
   "source": [
    "np.shape(test_x)"
   ]
  },
  {
   "cell_type": "code",
   "execution_count": null,
   "metadata": {
    "collapsed": true
   },
   "outputs": [],
   "source": [
    "#1/(1+np.exp(-(np.dot(X,coeffs))))\n",
    "\n",
    "# we want a (1,4) return from the hypothesis function\n",
    "# therefore, need to multiply matrices of size 4 x n by n X 1"
   ]
  },
  {
   "cell_type": "code",
   "execution_count": 507,
   "metadata": {
    "collapsed": false
   },
   "outputs": [
    {
     "name": "stdout",
     "output_type": "stream",
     "text": [
      "0  iteration\n",
      "[[ 0.5]\n",
      " [ 0.5]\n",
      " [ 0.5]\n",
      " [ 0.5]\n",
      " [ 0.5]\n",
      " [ 0.5]\n",
      " [ 0.5]\n",
      " [ 0.5]\n",
      " [ 0.5]\n",
      " [ 0.5]\n",
      " [ 0.5]\n",
      " [ 0.5]\n",
      " [ 0.5]\n",
      " [ 0.5]\n",
      " [ 0.5]\n",
      " [ 0.5]\n",
      " [ 0.5]\n",
      " [ 0.5]\n",
      " [ 0.5]\n",
      " [ 0.5]\n",
      " [ 0.5]\n",
      " [ 0.5]\n",
      " [ 0.5]\n",
      " [ 0.5]\n",
      " [ 0.5]\n",
      " [ 0.5]\n",
      " [ 0.5]\n",
      " [ 0.5]\n",
      " [ 0.5]\n",
      " [ 0.5]\n",
      " [ 0.5]\n",
      " [ 0.5]\n",
      " [ 0.5]\n",
      " [ 0.5]\n",
      " [ 0.5]\n",
      " [ 0.5]\n",
      " [ 0.5]\n",
      " [ 0.5]\n",
      " [ 0.5]\n",
      " [ 0.5]\n",
      " [ 0.5]\n",
      " [ 0.5]\n",
      " [ 0.5]\n",
      " [ 0.5]\n",
      " [ 0.5]\n",
      " [ 0.5]\n",
      " [ 0.5]\n",
      " [ 0.5]\n",
      " [ 0.5]\n",
      " [ 0.5]\n",
      " [ 0.5]\n",
      " [ 0.5]\n",
      " [ 0.5]\n",
      " [ 0.5]\n",
      " [ 0.5]\n",
      " [ 0.5]\n",
      " [ 0.5]\n",
      " [ 0.5]\n",
      " [ 0.5]\n",
      " [ 0.5]\n",
      " [ 0.5]\n",
      " [ 0.5]\n",
      " [ 0.5]\n",
      " [ 0.5]\n",
      " [ 0.5]\n",
      " [ 0.5]\n",
      " [ 0.5]\n",
      " [ 0.5]\n",
      " [ 0.5]\n",
      " [ 0.5]\n",
      " [ 0.5]\n",
      " [ 0.5]\n",
      " [ 0.5]\n",
      " [ 0.5]\n",
      " [ 0.5]\n",
      " [ 0.5]\n",
      " [ 0.5]\n",
      " [ 0.5]\n",
      " [ 0.5]\n",
      " [ 0.5]\n",
      " [ 0.5]\n",
      " [ 0.5]\n",
      " [ 0.5]\n",
      " [ 0.5]\n",
      " [ 0.5]\n",
      " [ 0.5]\n",
      " [ 0.5]\n",
      " [ 0.5]\n",
      " [ 0.5]\n",
      " [ 0.5]\n",
      " [ 0.5]\n",
      " [ 0.5]\n",
      " [ 0.5]\n",
      " [ 0.5]\n",
      " [ 0.5]\n",
      " [ 0.5]\n",
      " [ 0.5]\n",
      " [ 0.5]\n",
      " [ 0.5]\n",
      " [ 0.5]\n",
      " [ 0.5]\n",
      " [ 0.5]\n",
      " [ 0.5]\n",
      " [ 0.5]\n",
      " [ 0.5]\n",
      " [ 0.5]\n",
      " [ 0.5]\n",
      " [ 0.5]\n",
      " [ 0.5]\n",
      " [ 0.5]\n",
      " [ 0.5]\n",
      " [ 0.5]\n",
      " [ 0.5]\n",
      " [ 0.5]\n",
      " [ 0.5]\n",
      " [ 0.5]\n",
      " [ 0.5]\n",
      " [ 0.5]\n",
      " [ 0.5]\n",
      " [ 0.5]\n",
      " [ 0.5]\n",
      " [ 0.5]\n",
      " [ 0.5]\n",
      " [ 0.5]\n",
      " [ 0.5]\n",
      " [ 0.5]\n",
      " [ 0.5]\n",
      " [ 0.5]\n",
      " [ 0.5]\n",
      " [ 0.5]\n",
      " [ 0.5]\n",
      " [ 0.5]\n",
      " [ 0.5]\n",
      " [ 0.5]\n",
      " [ 0.5]\n",
      " [ 0.5]\n",
      " [ 0.5]\n",
      " [ 0.5]\n",
      " [ 0.5]\n",
      " [ 0.5]\n",
      " [ 0.5]\n",
      " [ 0.5]\n",
      " [ 0.5]\n",
      " [ 0.5]\n",
      " [ 0.5]\n",
      " [ 0.5]\n",
      " [ 0.5]\n",
      " [ 0.5]\n",
      " [ 0.5]\n",
      " [ 0.5]] h\n"
     ]
    },
    {
     "ename": "ValueError",
     "evalue": "operands could not be broadcast together with shapes (4,1) (150,1) ",
     "output_type": "error",
     "traceback": [
      "\u001b[0;31m---------------------------------------------------------------------------\u001b[0m",
      "\u001b[0;31mValueError\u001b[0m                                Traceback (most recent call last)",
      "\u001b[0;32m<ipython-input-507-287b5b9f2509>\u001b[0m in \u001b[0;36m<module>\u001b[0;34m()\u001b[0m\n\u001b[1;32m      5\u001b[0m \u001b[0;34m\u001b[0m\u001b[0m\n\u001b[1;32m      6\u001b[0m \u001b[0mtest_x\u001b[0m\u001b[0;34m,\u001b[0m \u001b[0mtest_alpha\u001b[0m\u001b[0;34m,\u001b[0m \u001b[0mtest_y\u001b[0m \u001b[0;34m=\u001b[0m \u001b[0mload_iris\u001b[0m\u001b[0;34m(\u001b[0m\u001b[0;34m)\u001b[0m\u001b[0;34m.\u001b[0m\u001b[0mdata\u001b[0m\u001b[0;34m,\u001b[0m \u001b[0;36m0.01\u001b[0m\u001b[0;34m,\u001b[0m \u001b[0;34m(\u001b[0m\u001b[0mload_iris\u001b[0m\u001b[0;34m(\u001b[0m\u001b[0;34m)\u001b[0m\u001b[0;34m.\u001b[0m\u001b[0mtarget\u001b[0m \u001b[0;34m>=\u001b[0m \u001b[0;36m1\u001b[0m\u001b[0;34m)\u001b[0m\u001b[0;34m.\u001b[0m\u001b[0mastype\u001b[0m\u001b[0;34m(\u001b[0m\u001b[0mint\u001b[0m\u001b[0;34m)\u001b[0m\u001b[0;34m.\u001b[0m\u001b[0mreshape\u001b[0m\u001b[0;34m(\u001b[0m\u001b[0;34m-\u001b[0m\u001b[0;36m1\u001b[0m\u001b[0;34m,\u001b[0m\u001b[0;36m1\u001b[0m\u001b[0;34m)\u001b[0m\u001b[0;34m\u001b[0m\u001b[0m\n\u001b[0;32m----> 7\u001b[0;31m \u001b[0mcoeffs\u001b[0m\u001b[0;34m,\u001b[0m \u001b[0mcosts\u001b[0m \u001b[0;34m=\u001b[0m \u001b[0mgradient_descent\u001b[0m\u001b[0;34m(\u001b[0m\u001b[0mtest_x\u001b[0m\u001b[0;34m,\u001b[0m\u001b[0mtest_y\u001b[0m\u001b[0;34m,\u001b[0m\u001b[0mtest_alpha\u001b[0m\u001b[0;34m)\u001b[0m\u001b[0;34m\u001b[0m\u001b[0m\n\u001b[0m\u001b[1;32m      8\u001b[0m \u001b[0massert_almost_equal\u001b[0m\u001b[0;34m(\u001b[0m\u001b[0maccuracy_score\u001b[0m\u001b[0;34m(\u001b[0m\u001b[0mpredict\u001b[0m\u001b[0;34m(\u001b[0m\u001b[0mtest_x\u001b[0m\u001b[0;34m,\u001b[0m\u001b[0mcoeffs\u001b[0m\u001b[0;34m)\u001b[0m\u001b[0;34m,\u001b[0m\u001b[0mtest_y\u001b[0m\u001b[0;34m.\u001b[0m\u001b[0mflatten\u001b[0m\u001b[0;34m(\u001b[0m\u001b[0;34m)\u001b[0m\u001b[0;34m)\u001b[0m\u001b[0;34m,\u001b[0m\u001b[0;36m1.0\u001b[0m\u001b[0;34m,\u001b[0m \u001b[0mdecimal\u001b[0m \u001b[0;34m=\u001b[0m \u001b[0;36m3\u001b[0m\u001b[0;34m)\u001b[0m\u001b[0;34m\u001b[0m\u001b[0m\n\u001b[1;32m      9\u001b[0m \u001b[0;31m# plt.plot(costs)\u001b[0m\u001b[0;34m\u001b[0m\u001b[0;34m\u001b[0m\u001b[0m\n",
      "\u001b[0;32m<ipython-input-482-4a95030e9fac>\u001b[0m in \u001b[0;36mgradient_descent\u001b[0;34m(X, y, alpha)\u001b[0m\n\u001b[1;32m     28\u001b[0m         \u001b[0mprint\u001b[0m\u001b[0;34m(\u001b[0m\u001b[0mn\u001b[0m\u001b[0;34m,\u001b[0m \u001b[0;34m' iteration'\u001b[0m\u001b[0;34m)\u001b[0m\u001b[0;34m\u001b[0m\u001b[0m\n\u001b[1;32m     29\u001b[0m         \u001b[0;31m#update b as b - alpha * gradient(J)\u001b[0m\u001b[0;34m\u001b[0m\u001b[0;34m\u001b[0m\u001b[0m\n\u001b[0;32m---> 30\u001b[0;31m         \u001b[0mcoeffs\u001b[0m \u001b[0;34m=\u001b[0m \u001b[0mcoeffs\u001b[0m\u001b[0;34m-\u001b[0m \u001b[0malpha\u001b[0m\u001b[0;34m*\u001b[0m\u001b[0mgradient\u001b[0m\u001b[0;34m(\u001b[0m\u001b[0mX\u001b[0m\u001b[0;34m,\u001b[0m\u001b[0my\u001b[0m\u001b[0;34m,\u001b[0m\u001b[0mcoeffs\u001b[0m\u001b[0;34m)\u001b[0m\u001b[0;34m\u001b[0m\u001b[0m\n\u001b[0m\u001b[1;32m     31\u001b[0m         \u001b[0mgrad_cost\u001b[0m\u001b[0;34m.\u001b[0m\u001b[0mappend\u001b[0m\u001b[0;34m(\u001b[0m\u001b[0mcost\u001b[0m\u001b[0;34m(\u001b[0m\u001b[0mX\u001b[0m\u001b[0;34m,\u001b[0m\u001b[0my\u001b[0m\u001b[0;34m,\u001b[0m\u001b[0mcoeffs\u001b[0m\u001b[0;34m)\u001b[0m\u001b[0;34m)\u001b[0m\u001b[0;34m\u001b[0m\u001b[0m\n\u001b[1;32m     32\u001b[0m \u001b[0;34m\u001b[0m\u001b[0m\n",
      "\u001b[0;31mValueError\u001b[0m: operands could not be broadcast together with shapes (4,1) (150,1) "
     ]
    }
   ],
   "source": [
    "# Uncomment the code below to figure out if your implementation of gradient_descent is correct\n",
    "# The code depends on your functions from above so make sure those are correct\n",
    "# Use should be generating a plot of the costs it should look like the graph below.\n",
    "\n",
    "\n",
    "test_x, test_alpha, test_y = load_iris().data, 0.01, (load_iris().target >= 1).astype(int).reshape(-1,1)\n",
    "coeffs, costs = gradient_descent(test_x,test_y,test_alpha)\n",
    "assert_almost_equal(accuracy_score(predict(test_x,coeffs),test_y.flatten()),1.0, decimal = 3)\n",
    "# plt.plot(costs)"
   ]
  },
  {
   "cell_type": "markdown",
   "metadata": {},
   "source": [
    "Now that we have all the parts of gradient descent, let's put this in a class. PLEASE DO NOT JUST COPY AND PASTE YOUR FUNCTIONS FROM ABOVE. You should use them to ensure your implementation is correct, but the class should be set up differently. "
   ]
  },
  {
   "cell_type": "markdown",
   "metadata": {},
   "source": [
    "## Fun Fact: Notice there are functions that have 1 underscore before them (for example __hypothesis). In python programming, these are usually considered to be private functions. Unlike C/C++, these functions can be called by users (so they are not really private). The idea behind private functions is that a user would most likely never call this function, but you need it in order to perform operations for functions that users will call. For example, it can be argued that users will never care about what the gradient  or hypothesis for a given example will be. Thus, you can keep these hidden, as users will most likely only care about fitting the model and predicting on new values. "
   ]
  },
  {
   "cell_type": "code",
   "execution_count": 12,
   "metadata": {
    "collapsed": true
   },
   "outputs": [],
   "source": [
    "class LogReg(object):\n",
    "    \n",
    "    def __init__(self, alpha = 0.01,num_iterations = 10000, fit_intercept = True, normalize = False):\n",
    "        # I have given the inputs that this class should take. Please set them as class \n",
    "        # attributes so that you can call them throughout the class\n",
    "        \n",
    "        \n",
    "        # Now add a coefficients variable so it does not need to be passed from function to function\n",
    "        \n",
    "        \n",
    "        # Also, add a scores variable which is a list that will hold the costs associated with\n",
    "        # each update of the coefficients\n",
    "        \n",
    "        # You might want to store mu and sigma if normalize is true. For now leave them as None\n",
    "        \n",
    "        # Another thing you can do is store n and m (number of rows and columns in X). However,\n",
    "        # be careful! If fit intercept is true then the value m will change. Store them as None for now. \n",
    "        \n",
    "    \n",
    "    def fit(self, X, y):\n",
    "        '''\n",
    "        Input:\n",
    "            -X: (numpy 2D array) containing the input data\n",
    "            -y: (column vector) containing the labels for the input data\n",
    "        Output:\n",
    "            None\n",
    "\n",
    "        This is where gradient descent will be happening. However, notice we are just inputting \n",
    "        X and Y. Thus the other variables you will have to get from the attributes of the class.\n",
    "        '''\n",
    "        # If fit_intercept is true add a column of ones before the data. I will give you this code below.\n",
    "        if self.fit_intercept:\n",
    "            X = np.hstack((np.ones((X.shape[0], 1)), X))\n",
    "        \n",
    "        # If normalize is true, normalize the data.\n",
    "        \n",
    "        \n",
    "        # Now that we are done with transformations, save the n and m values.\n",
    "        \n",
    "        # Also, initialize coefficients to be 0\n",
    "        \n",
    "        # Finally, perform gradient descent. Get num_iterations and alpha from the atrributes\n",
    "        # Don't forget to store the costs for the updated coefficients\n",
    "        pass\n",
    "    \n",
    "    \n",
    "    def _hypothesis(self,X):\n",
    "        '''\n",
    "        Input:\n",
    "            -X : (numpy 2D array) containing the input data\n",
    "        Output:\n",
    "            -Hypothesis: (column vector) containing hypothesis values\n",
    "        '''            \n",
    "        pass\n",
    "\n",
    "    def _gradient(self,X,y):\n",
    "        '''\n",
    "        Input:\n",
    "            -X: (numpy 2D array) containing the input data\n",
    "            -y: (column vector) containing the labels for the input data\n",
    "        Output:\n",
    "            -Gradient: the gradient for each of the coefficients\n",
    "        '''        \n",
    "        pass\n",
    "    \n",
    "    def _cost(self,X,y):\n",
    "        '''\n",
    "        Input:\n",
    "            -X: (numpy 2D array) containing the input data\n",
    "            -y: (column vector) containing the labels for the input data\n",
    "        Ouput:\n",
    "            -Float Value: the cost associated with using certain coefficient values\n",
    "        '''\n",
    "        pass\n",
    "\n",
    "    def predict(self,X):\n",
    "        '''\n",
    "        Input:\n",
    "            -X: (numpy 2D array) containing the input data\n",
    "        Output:\n",
    "            -Predictions: predicted values using a threshold of 0.5\n",
    "        '''        \n",
    "        pass      \n",
    "    \n",
    "    def plot_scores(self):\n",
    "        '''\n",
    "        Input:\n",
    "            -None\n",
    "        Ouput:\n",
    "            -Line plot showing how scores decrease\n",
    "        '''\n",
    "        pass"
   ]
  },
  {
   "cell_type": "code",
   "execution_count": 14,
   "metadata": {
    "collapsed": false
   },
   "outputs": [
    {
     "name": "stdout",
     "output_type": "stream",
     "text": [
      "1.0\n"
     ]
    },
    {
     "data": {
      "image/png": "[encoded data removed]",
      "text/plain": [
       "<matplotlib.figure.Figure at 0x10fb38400>"
      ]
     },
     "metadata": {},
     "output_type": "display_data"
    }
   ],
   "source": [
    "# This is how your class should be called.\n",
    "X = load_iris().data\n",
    "y = (load_iris().target >= 1).astype(int).reshape(-1,1)\n",
    "logreg = LogReg()\n",
    "logreg.fit(X,y)\n",
    "print(accuracy_score(logreg.predict(X),y.flatten()))\n",
    "logreg.plot_scores()"
   ]
  },
  {
   "cell_type": "code",
   "execution_count": null,
   "metadata": {
    "collapsed": true
   },
   "outputs": [],
   "source": []
  }
 ],
 "metadata": {
  "kernelspec": {
   "display_name": "Python [Root]",
   "language": "python",
   "name": "Python [Root]"
  },
  "language_info": {
   "codemirror_mode": {
    "name": "ipython",
    "version": 3
   },
   "file_extension": ".py",
   "mimetype": "text/x-python",
   "name": "python",
   "nbconvert_exporter": "python",
   "pygments_lexer": "ipython3",
   "version": "3.5.2"
  }
 },
 "nbformat": 4,
 "nbformat_minor": 0
}
