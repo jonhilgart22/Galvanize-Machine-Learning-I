{
 "cells": [
  {
   "cell_type": "markdown",
   "metadata": {},
   "source": [
    "# Analysis of Ultimatum game to maximize an individuals payoff\n",
    "**Original Study**\n",
    "- Conducted by James Andreoni and Hal Varian\n",
    "\n",
    ">Resources\n",
    "- Full paper can be found here http://www.pnas.org/content/96/19/10933.full\n",
    "- Attiyeh, G., Franciosi, R. & Isaac, R. M. (1999) Public Choice, in press.\n",
    "- Bagnoli M, Ben-David S, McKee M(1992) J Public Econ 47:85–106.\n",
    "-  Chen Y, Plott C R(1996) J Public Econ 59:335–364\n",
    "- Jonathan Levin (2006) http://web.stanford.edu/~jdlevin/Econ%20286/Experimental.pdf\n",
    "\n",
    "**Overview**\n",
    "- The Ultimatum game is an extension of the classic economic thought experiment of Prisoner's Dilemma. To summarize, Prisoner's Dilemma is a situation between two people where each person has the option to defeat of cooperate. The traditional example is given in the following example. Imagine you were brought into a police station to be investigated for a crime. In the other room is your friend who was also being questioned. In the room, you have two options, defect and tell the officers that your friend commited the crime of cooperate with your friend and do no tell the police anything. You friend also has these options. The nash equilibirum is for both parties to stay silent. \n",
    "- Even with the nash equlibirum evident, studies have shown that even with incentives to cooperate subjects reach nash equilibirum 10% (Attiyeh et al.), around 20% ( Chen and Plott), and 54% (Bagnoli and McKee) of the time \n",
    "\n",
    "> Prionser's Dilemma outlined below\n",
    "\n",
    "![alt text](prisoners_dilemma.jpg \"Title\")\n",
    "\n",
    "**Ultimatum Game**\n",
    "- The study expanded upon the traditional prisoner's dilemma by first training subjects on a variant of prisoner's dilemma called the ultimatum game. A brief overview of this game is as follows. Imagine you are sitting across the table from another person. In the middle of you is a pot of money. Each person is labeled of either Proposer or Responder. The Proposer can choose how to split the pot of money, while the Responder can decide whether to accept this split or reject this split. If the Responder accepts the split, both subjects receive money; however, if the Responder rejects the split than neither party receives any money.\n",
    "- However, offers are rejected about 15-20% of the time (Levin).\n",
    "\n",
    "![alt text](results_of_ultimatum.png \"Title\")\n",
    "\n",
    "\n",
    "** Alternative to the game **\n",
    "- This experiment used two stages; the first was a traditional ultimatum game, where as the second was the ultimatum game where subjects where allowed to offer a non-negative number to the other person to accept their offer. \n",
    "\n",
    "** Analysis**\n",
    "- This project will used several machine learning techniques to see \n",
    "    - 1) How to maximize your own payoff throught the different rounds of play\n",
    "    - 2) Which factors are the most important to maximize your payoff\n",
    "    - 3) Test the accuracy of different algorithms to answer the questions above.\n",
    "\n"
   ]
  },
  {
   "cell_type": "code",
   "execution_count": 6,
   "metadata": {
    "collapsed": true
   },
   "outputs": [],
   "source": [
    "import pandas as pd\n",
    "import numpy as np"
   ]
  },
  {
   "cell_type": "code",
   "execution_count": null,
   "metadata": {
    "collapsed": true
   },
   "outputs": [],
   "source": []
  }
 ],
 "metadata": {
  "kernelspec": {
   "display_name": "Python [conda root]",
   "language": "python",
   "name": "conda-root-py"
  },
  "language_info": {
   "codemirror_mode": {
    "name": "ipython",
    "version": 3
   },
   "file_extension": ".py",
   "mimetype": "text/x-python",
   "name": "python",
   "nbconvert_exporter": "python",
   "pygments_lexer": "ipython3",
   "version": "3.5.2"
  }
 },
 "nbformat": 4,
 "nbformat_minor": 1
}
