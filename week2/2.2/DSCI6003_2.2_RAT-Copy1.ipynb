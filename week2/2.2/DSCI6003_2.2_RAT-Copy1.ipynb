{
 "cells": [
  {
   "cell_type": "markdown",
   "metadata": {},
   "source": [
    "##RAT 2.2\n",
    "\n",
    "Let's do a bit more practice before we dive into machine learning algorithms. \n",
    "\n",
    "Say you have an array for which the ith element is the price of a given stock on day i. Design an algorithm to find the maximum profit. You may complete at most k transactions. Note: You may not engage in multiple transactions at the same time (ie, you must sell the stock before you buy again)."
   ]
  },
  {
   "cell_type": "code",
   "execution_count": 438,
   "metadata": {
    "collapsed": true
   },
   "outputs": [],
   "source": [
    "import numpy as np"
   ]
  },
  {
   "cell_type": "code",
   "execution_count": 512,
   "metadata": {
    "collapsed": false
   },
   "outputs": [],
   "source": [
    "def stock_price(input_list,transactions):\n",
    "    \"\"\"Take a list of stock prices, find the difference, then , using DP, find the bets buy and sell days\"\"\"\n",
    "    \n",
    "    price_differences = []\n",
    "    length = len(input_list)\n",
    "    \n",
    "    for count,price in enumerate(input_list):\n",
    "        if count==0:\n",
    "            price_differences.append(price)\n",
    "        else:\n",
    "\n",
    "            price_differences.append(price-input_list[count-1])\n",
    "    print(price_differences, ' price differences')\n",
    "    \n",
    "    M = []\n",
    "    \n",
    "    for count_buy, diff in enumerate(price_differences):\n",
    "        \n",
    "        \n",
    "        if count_buy ==0: # initial starting price\n",
    "            M.append(diff)\n",
    "           \n",
    "            \n",
    "        else: # take the sum of the difference plus the previous value\n",
    "            if (diff+price_differences[count_buy-1]) >(price_differences[count_buy-1]):\n",
    "                \n",
    "                M.append(diff+price_differences[count_buy-1])\n",
    "            else:\n",
    "                M.append(price_differences[count_buy-1])\n",
    "            \n",
    "    current_max=0\n",
    "    buy_sell_tup = []\n",
    "    print(M, ' M')\n",
    "    C=M.copy()\n",
    "    while len(buy_sell_tup)<transactions: ## add the indexes of the buy and sell points for the number of transactions\n",
    "        if len(C)==1 or len(C)==0:\n",
    "            print('There are no more transactions to be made')\n",
    "            break\n",
    "        else:\n",
    "            try:\n",
    "                buy_p=M.index(min(C))\n",
    "                print(buy_p,' buy points')\n",
    "                sell_p = M.index(max(C[buy_p:]))\n",
    "                print(sell_p,'sell point')\n",
    "\n",
    "\n",
    "                #if len\n",
    "                if buy_p == sell_p:\n",
    "                    print('No more transactions')\n",
    "                    break\n",
    "\n",
    "                buy_sell_tup.append((buy_p,sell_p))\n",
    "\n",
    "                print(C,'C')\n",
    "                if len(C[buy_p:])>len(C[:sell_p]):\n",
    "                    C = C[:sell_p+1]\n",
    "                    print(sell_p,'buy p')\n",
    "                    print(C[sell_p+1:])\n",
    "                    print(C,'c chopped')\n",
    "                else:\n",
    "                    print('here')\n",
    "                    C=C[:buy_p+1]\n",
    "                    print(C,'C removed')\n",
    "                \n",
    "     \n",
    "                print(C,'C removed')\n",
    "            except:\n",
    "                print('No more transactions')\n",
    "                break\n",
    "            \n",
    "            \n",
    "        \n",
    "        \n",
    "    \n",
    "                 \n",
    "#         for count_sell, sell_p in enumerate(price_differences):\n",
    "#             if count_buy ==0:\n",
    "#                 M[count_buy,count_sell]=buy_p\n",
    "#             else:\n",
    "#                 M[count_buy,count_sell] = max(M[count_buy,count_sell-1],buy_p)\n",
    "        \n",
    "   \n",
    "   \n",
    "    print(buy_sell_tup,'Buy at first index, sell at second index')\n",
    "    \n",
    "        "
   ]
  },
  {
   "cell_type": "code",
   "execution_count": 513,
   "metadata": {
    "collapsed": true
   },
   "outputs": [],
   "source": [
    "t = [1,9,2,30,7,3,15]"
   ]
  },
  {
   "cell_type": "code",
   "execution_count": 514,
   "metadata": {
    "collapsed": false
   },
   "outputs": [
    {
     "name": "stdout",
     "output_type": "stream",
     "text": [
      "[1, 8, -7, 28, -23, -4, 12]  price differences\n",
      "[1, 9, 8, 21, 28, -23, 8]  M\n",
      "5  buy points\n",
      "2 sell point\n",
      "[1, 9, 8, 21, 28, -23, 8] C\n",
      "here\n",
      "[1, 9, 8, 21, 28, -23] C removed\n",
      "[1, 9, 8, 21, 28, -23] C removed\n",
      "5  buy points\n",
      "5 sell point\n",
      "No more transactions\n",
      "[(5, 2)] Buy at first index, sell at second index\n"
     ]
    }
   ],
   "source": [
    "stock_price(t,3)"
   ]
  },
  {
   "cell_type": "code",
   "execution_count": 84,
   "metadata": {
    "collapsed": false
   },
   "outputs": [
    {
     "data": {
      "text/plain": [
       "21"
      ]
     },
     "execution_count": 84,
     "metadata": {},
     "output_type": "execute_result"
    }
   ],
   "source": [
    "3+ 8-1+1+-1+1+10"
   ]
  },
  {
   "cell_type": "code",
   "execution_count": 87,
   "metadata": {
    "collapsed": false
   },
   "outputs": [
    {
     "data": {
      "text/plain": [
       "10"
      ]
     },
     "execution_count": 87,
     "metadata": {},
     "output_type": "execute_result"
    }
   ],
   "source": [
    "3+1+1-3+ 8"
   ]
  },
  {
   "cell_type": "code",
   "execution_count": 493,
   "metadata": {
    "collapsed": false
   },
   "outputs": [
    {
     "data": {
      "text/plain": [
       "[1, 9, 2, 30, 7, 3, 15]"
      ]
     },
     "execution_count": 493,
     "metadata": {},
     "output_type": "execute_result"
    }
   ],
   "source": [
    "t"
   ]
  },
  {
   "cell_type": "code",
   "execution_count": 494,
   "metadata": {
    "collapsed": false
   },
   "outputs": [
    {
     "data": {
      "text/plain": [
       "[30, 7, 3, 15]"
      ]
     },
     "execution_count": 494,
     "metadata": {},
     "output_type": "execute_result"
    }
   ],
   "source": [
    "t[3:]"
   ]
  },
  {
   "cell_type": "code",
   "execution_count": null,
   "metadata": {
    "collapsed": true
   },
   "outputs": [],
   "source": []
  }
 ],
 "metadata": {
  "anaconda-cloud": {},
  "kernelspec": {
   "display_name": "Python [Root]",
   "language": "python",
   "name": "Python [Root]"
  },
  "language_info": {
   "codemirror_mode": {
    "name": "ipython",
    "version": 3
   },
   "file_extension": ".py",
   "mimetype": "text/x-python",
   "name": "python",
   "nbconvert_exporter": "python",
   "pygments_lexer": "ipython3",
   "version": "3.5.2"
  }
 },
 "nbformat": 4,
 "nbformat_minor": 0
}
