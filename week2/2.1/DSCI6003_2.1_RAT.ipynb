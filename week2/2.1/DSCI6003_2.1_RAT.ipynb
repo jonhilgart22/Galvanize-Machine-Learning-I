{
 "cells": [
  {
   "cell_type": "markdown",
   "metadata": {},
   "source": [
    "##  RAT 2.1\n",
    "\n",
    "This is a classic dynamic programming question. \n",
    "\n",
    "Find the subarray of a given array of integers whose sum is maximum.\n",
    "\n",
    "For example, in the array [1, -2, 3, 10, -4, 7, 2, -5], its sub-array [3, 10, -4, 7, 2] has the maximum sum 18.\n"
   ]
  },
  {
   "cell_type": "code",
   "execution_count": null,
   "metadata": {
    "collapsed": true
   },
   "outputs": [],
   "source": []
  }
 ],
 "metadata": {
  "kernelspec": {
   "display_name": "Python 2",
   "language": "python",
   "name": "python2"
  },
  "language_info": {
   "codemirror_mode": {
    "name": "ipython",
    "version": 2
   },
   "file_extension": ".py",
   "mimetype": "text/x-python",
   "name": "python",
   "nbconvert_exporter": "python",
   "pygments_lexer": "ipython2",
   "version": "2.7.12"
  }
 },
 "nbformat": 4,
 "nbformat_minor": 0
}
