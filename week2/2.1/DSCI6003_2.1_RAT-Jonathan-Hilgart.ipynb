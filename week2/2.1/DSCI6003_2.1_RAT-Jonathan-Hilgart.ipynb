{
 "cells": [
  {
   "cell_type": "markdown",
   "metadata": {},
   "source": [
    "##RAT 2.1\n",
    "\n",
    "This is a classic dynamic programming question. \n",
    "\n",
    "Find the subarray of a given array of integers whose sum is maximum.\n",
    "\n",
    "For example, in the array [1, -2, 3, 10, -4, 7, 2, -5], its sub-array [3, 10, -4, 7, 2] has the maximum sum 18.\n"
   ]
  },
  {
   "cell_type": "code",
   "execution_count": 1,
   "metadata": {
    "collapsed": true
   },
   "outputs": [],
   "source": [
    "import numpy as np\n",
    "\n",
    "test = np.array([1,-2,3,10,-4,7,2,-5])\n",
    "\n"
   ]
  },
  {
   "cell_type": "code",
   "execution_count": 223,
   "metadata": {
    "collapsed": false
   },
   "outputs": [],
   "source": [
    "def sub_array(input_array):\n",
    "    M = np.zeros([len(input_array),len(input_array)])\n",
    "\n",
    "    \n",
    "    for sorted_array_count,number in enumerate(input_array): # go through each number in the list\n",
    "        for number_count,size_of_subarray in enumerate(range(len(input_array))):\n",
    "            if sorted_array_count==0: ## initial case, put the first number in M, this is your largest number\n",
    "                M[sorted_array_count,number_count]=max(input_array)\n",
    "            else:\n",
    "                #Four way comparison either the number above, the number from the start of the string to the current\n",
    "                #The number starting at the end of the string, OR the numbers in the middle.\n",
    "                \n",
    "\n",
    "                M[sorted_array_count,number_count]=max(sum(input_array[:sorted_array_count]),\\\n",
    "                                                       M[sorted_array_count-1,number_count],\\\n",
    "                                                      sum(input_array[-sorted_array_count:]),\\\n",
    "                                                      sum(input_array[number_count:sorted_array_count]))\n",
    "                \n",
    "\n",
    "    max_row = 0\n",
    "    row_num = 0\n",
    "    \n",
    "    for row_number,row in enumerate(M):\n",
    "        \n",
    "        if max(row) > max_row:\n",
    "            max_row=max(row)\n",
    "            row_num=row_number\n",
    "            \n",
    "\n",
    "            \n",
    "    #print(row_num,'row num') \n",
    "    #print(M)\n",
    "    index_of_max = list(M[row_num]).index(max_row)\n",
    "    #print(index_of_max)\n",
    "    #print(max_row, ' the max sum of your sub array is this')\n",
    "    #print(input_array[index_of_max:row_num], ' This is the sub array')\n",
    "    return(max_row,input_array[index_of_max:row_num],)\n",
    "            \n",
    "            \n",
    "    "
   ]
  },
  {
   "cell_type": "code",
   "execution_count": 224,
   "metadata": {
    "collapsed": false
   },
   "outputs": [
    {
     "data": {
      "text/plain": [
       "(18.0, array([ 3, 10, -4,  7,  2]))"
      ]
     },
     "execution_count": 224,
     "metadata": {},
     "output_type": "execute_result"
    }
   ],
   "source": [
    "sub_array(test)"
   ]
  },
  {
   "cell_type": "code",
   "execution_count": 171,
   "metadata": {
    "collapsed": false
   },
   "outputs": [
    {
     "name": "stdout",
     "output_type": "stream",
     "text": [
      "[[ 4.  4.  4.]\n",
      " [ 4.  4.  4.]\n",
      " [ 5.  5.  5.]]\n",
      "5.0  the max sum of your sub array is this\n",
      "[1, 4]  This is the sub array\n"
     ]
    }
   ],
   "source": [
    "sub_array(l)"
   ]
  },
  {
   "cell_type": "code",
   "execution_count": 167,
   "metadata": {
    "collapsed": true
   },
   "outputs": [],
   "source": [
    "testing = [2,3,-3,-4,-2,4,10,5,1,2,-3,8,-7]"
   ]
  },
  {
   "cell_type": "code",
   "execution_count": 168,
   "metadata": {
    "collapsed": false
   },
   "outputs": [
    {
     "name": "stdout",
     "output_type": "stream",
     "text": [
      "27.0  the max sum of your sub array is this\n",
      "[4, 10, 5, 1, 2, -3, 8]  This is the sub array\n"
     ]
    }
   ],
   "source": [
    "sub_array(testing)"
   ]
  },
  {
   "cell_type": "code",
   "execution_count": 221,
   "metadata": {
    "collapsed": false
   },
   "outputs": [],
   "source": [
    "def sub_array2(input_list):\n",
    "    M=np.zeros(len(input_list))\n",
    "    M[0]=input_list[0]\n",
    "    \n",
    "    for i in range(len(input_list)):\n",
    "\n",
    "        M[i]=max(input_list[i]+M[i-1],input_list[i])\n",
    "    \n",
    "\n",
    "    return max(M)\n",
    "            "
   ]
  },
  {
   "cell_type": "code",
   "execution_count": 222,
   "metadata": {
    "collapsed": false,
    "scrolled": true
   },
   "outputs": [
    {
     "name": "stdout",
     "output_type": "stream",
     "text": [
      "10000 loops, best of 3: 30.9 µs per loop\n"
     ]
    }
   ],
   "source": [
    "%timeit sub_array2(test)"
   ]
  },
  {
   "cell_type": "code",
   "execution_count": 225,
   "metadata": {
    "collapsed": false
   },
   "outputs": [
    {
     "name": "stdout",
     "output_type": "stream",
     "text": [
      "1000 loops, best of 3: 408 µs per loop\n"
     ]
    }
   ],
   "source": [
    "%timeit sub_array(test)"
   ]
  },
  {
   "cell_type": "code",
   "execution_count": null,
   "metadata": {
    "collapsed": true
   },
   "outputs": [],
   "source": []
  }
 ],
 "metadata": {
  "anaconda-cloud": {},
  "kernelspec": {
   "display_name": "Python [Root]",
   "language": "python",
   "name": "Python [Root]"
  },
  "language_info": {
   "codemirror_mode": {
    "name": "ipython",
    "version": 3
   },
   "file_extension": ".py",
   "mimetype": "text/x-python",
   "name": "python",
   "nbconvert_exporter": "python",
   "pygments_lexer": "ipython3",
   "version": "3.5.2"
  }
 },
 "nbformat": 4,
 "nbformat_minor": 0
}
