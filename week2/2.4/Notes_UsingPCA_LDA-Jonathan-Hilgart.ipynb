{
 "cells": [
  {
   "cell_type": "markdown",
   "metadata": {},
   "source": [
    "# How to implement PCA with linalg eigenvalue solver\n",
    "\n",
    "You've got a feature matrix, calculated its covariance matrix, extracted the eigenvalues and eigen vectors and decided how many features you want to keep.  How do you produce a new feature matrix with the number of features you've decided to keep?  Here's a cookbook.  \n",
    "\n",
    "Suppose $X$ is the starting feature matrix with the (column-wise) means subtracted.  Then the covariance matrix $C$ is given by $C = X^TX$.  $C$ is square with dimensions equal to $n_f$, the number of features (columns) in $X$.  $C$ is symmetric and at least positive semi-definite.  The eigenvalues $\\lambda$ and eigenvectors $e$ of $C$ satisfy $Ce\\, =\\, \\lambda e$.  These eigenvectors are called \"right\" eigenvectors because they're multiplying the matrix on the right side and are therefore column vectors.  Since the covariance matrix is symmetric each left (row) eigenvector is just the transpose of a right (column) eigenvector.  Since each eigenvector satisfies This is true for each of the eigenvectors (and corresponding eigenvalues) of $C$ so we can aggregate all of the eigenvectors and corresponding eigenvalues into matrices.  Let $E$ be a matrix having the eigenvectors $e_i$ as its columns:   \n",
    "  \n",
    "$E = [e_1 e_2...e_{n_f}]$   \n",
    "and let $\\Lambda$ be a diagonal matrix with the $\\lambda_i$ along its diagonal     \n",
    "  \n",
    "$\\Lambda = Diag(\\lambda_1, \\lambda_2, ... , \\lambda_{n_f})$.  \n",
    "  \n",
    "Then these aggregate matrices satisfy  \n",
    "$CE = E\\Lambda$  \n",
    "  \n",
    "Remember from your recent review of linear algebra that a square symmetric matrix is diagonalized by orthogonal matrices.  That means that $E$ has the properties that $E^T E = I$ so $E^{-1} = E^T$.  You can either multiply both sides of this equation on the right by $E^T$ to get an expression for   \n",
    "\n",
    "$C = E\\Lambda E^T$ \n",
    "  \n",
    "or multiply both sides on the left to get and expression for the diagonalized covariance matrix $\\Lambda$  \n",
    "$E^T C E = \\Lambda$  \n",
    "\n",
    "This means that the eigenvectors of the covariance matrix diagonalize it and the resulting diagonal matrix has the eigenvalues of $C$ along the diagonal.\n",
    "\n",
    "To bring this digression back to the question of how to use PCA for feature reduction, recall where the covariance matrix came from.  Introduce the definition of the covariance matrix into the mix.  \n",
    "\n",
    "$E^T C E = \\Lambda$   \n",
    "\n",
    "and\n",
    "$C = X^TX$  \n",
    "\n",
    "so\n",
    "$E^T X^TX E = \\Lambda$  \n",
    "\n",
    "or  \n",
    "$(XE)^T XE = \\Lambda$\n",
    "\n",
    "That means that multiplying our original features by the matrix of eigenvalues $E$ yields new features $XE$ that are independent of one another.  Since $E$ has the same number of columns as $X$, $XE$ has the same number of columns as $X$.  But if you only use half of the eigenvectors (half of the columns in $E$ call it $E_{1/2}$) then you get half as many features in $XE_{1/2}$ as in $X$.  \n",
    "\n",
    "## Quiz: \n",
    "1.  If you can only use half of the columns of $E$ (the eigenvectors of $C$) which ones would you choose?  \n",
    "2.  If your original feature matrix had 10 features (columns) how many features would your new feature matrix have?\n",
    "3.  How many of the old features would be required to compute the new features?\n",
    "\n"
   ]
  },
  {
   "cell_type": "code",
   "execution_count": null,
   "metadata": {
    "collapsed": true
   },
   "outputs": [],
   "source": []
  }
 ],
 "metadata": {
  "anaconda-cloud": {},
  "kernelspec": {
   "display_name": "Python [Root]",
   "language": "python",
   "name": "Python [Root]"
  },
  "language_info": {
   "codemirror_mode": {
    "name": "ipython",
    "version": 3
   },
   "file_extension": ".py",
   "mimetype": "text/x-python",
   "name": "python",
   "nbconvert_exporter": "python",
   "pygments_lexer": "ipython3",
   "version": "3.5.2"
  }
 },
 "nbformat": 4,
 "nbformat_minor": 0
}
