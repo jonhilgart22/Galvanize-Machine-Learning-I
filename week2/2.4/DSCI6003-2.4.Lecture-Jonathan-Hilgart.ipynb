{
 "cells": [
  {
   "cell_type": "markdown",
   "metadata": {
    "collapsed": true
   },
   "source": [
    "# DSCI6003 2.4 Lecture\n",
    "\n",
    "## LDA and More on Dimensionality Reduction\n",
    "\n",
    "\n",
    "### By the End of This Lecture You Will\n",
    "\n",
    "1. Be familiar with the concepts of Linear Discriminant Analysis\n",
    "2. Be able to perform LDA on a discrete dataset\n",
    "3. Be able to recite the rules of thumb for dimensionality reduction\n"
   ]
  },
  {
   "cell_type": "markdown",
   "metadata": {},
   "source": [
    "[Linear Discriminant Analysis (LDA)](http://scikit-learn.org/0.16/modules/lda_qda.html#lda-qda) is most commonly used as a pre-processing technique, although it has found a home in some fields as a means of classification. Like PCA it makes the assumption of normally distributed, independent data (less common). It also assumes completely separable classes (more common).\n",
    "\n",
    "LDA approach is a discrete analog of Principal Component Analysis, but in addition to finding the component axes that maximize the variance of our data (PCA), we are interested in the axes that maximize the separation between classes (LDA).\n",
    "\n",
    "Because LDA is class-based, we must have the labels a priori, making this an example of a supervised learner. It is called linear discriminant analysis due to the fact that the outputs, the \"linear discriminants\" are the **eigenvectors pointing along the boundaries of separation** between the classes. "
   ]
  },
  {
   "cell_type": "markdown",
   "metadata": {},
   "source": [
    "## The LDA Method\n",
    "\n",
    "LDA is performed in almost exactly the same way as PCA:\n",
    "\n",
    "1. Compute $\\mu_{c}$, the mean feature vectors for each class $c$\n",
    "2. Compute the scatter matrix $\\Sigma_{W}$ and $\\Sigma_{B}$ for between and within classes.\n",
    "3. Solve the eigenvalue equation for $\\Sigma_{W}^{-1}\\Sigma_{B}$\n",
    "4. Sort and select eigenvectors (linear discriminants)\n",
    "5. Project the data onto the new space"
   ]
  },
  {
   "cell_type": "markdown",
   "metadata": {},
   "source": [
    "## Interpreting Eigenvalues in PCA/LDA\n",
    "\n",
    "The scree plot is often enough to determine if we have a clear dimensionality reduction. A looming danger with either method, however, occurs if noise in the data is oscillatory and of greater magnitude than the underlying signal. This is where skill and understanding of the data come in."
   ]
  },
  {
   "cell_type": "markdown",
   "metadata": {},
   "source": [
    "Below we'll perform an LDA by hand. The below code snippets are taken from [Sebastian Raschka's blog](http://sebastianraschka.com/Articles/2014_python_lda.html#step-3-solving-the-generalized-eigenvalue-problem-for-the-matrix-sw-1sb). The analysis is so adequate as to leave nothing to be desired."
   ]
  },
  {
   "cell_type": "code",
   "execution_count": 5,
   "metadata": {
    "collapsed": true
   },
   "outputs": [],
   "source": [
    "feature_dict = {i:label for i,label in zip(\n",
    "                range(4),\n",
    "                  ('sepal length in cm',\n",
    "                  'sepal width in cm',\n",
    "                  'petal length in cm',\n",
    "                  'petal width in cm', ))}"
   ]
  },
  {
   "cell_type": "code",
   "execution_count": 6,
   "metadata": {
    "collapsed": false
   },
   "outputs": [
    {
     "data": {
      "text/html": [
       "<div>\n",
       "<table border=\"1\" class=\"dataframe\">\n",
       "  <thead>\n",
       "    <tr style=\"text-align: right;\">\n",
       "      <th></th>\n",
       "      <th>sepal length in cm</th>\n",
       "      <th>sepal width in cm</th>\n",
       "      <th>petal length in cm</th>\n",
       "      <th>petal width in cm</th>\n",
       "      <th>class label</th>\n",
       "    </tr>\n",
       "  </thead>\n",
       "  <tbody>\n",
       "    <tr>\n",
       "      <th>145</th>\n",
       "      <td>6.7</td>\n",
       "      <td>3.0</td>\n",
       "      <td>5.2</td>\n",
       "      <td>2.3</td>\n",
       "      <td>Iris-virginica</td>\n",
       "    </tr>\n",
       "    <tr>\n",
       "      <th>146</th>\n",
       "      <td>6.3</td>\n",
       "      <td>2.5</td>\n",
       "      <td>5.0</td>\n",
       "      <td>1.9</td>\n",
       "      <td>Iris-virginica</td>\n",
       "    </tr>\n",
       "    <tr>\n",
       "      <th>147</th>\n",
       "      <td>6.5</td>\n",
       "      <td>3.0</td>\n",
       "      <td>5.2</td>\n",
       "      <td>2.0</td>\n",
       "      <td>Iris-virginica</td>\n",
       "    </tr>\n",
       "    <tr>\n",
       "      <th>148</th>\n",
       "      <td>6.2</td>\n",
       "      <td>3.4</td>\n",
       "      <td>5.4</td>\n",
       "      <td>2.3</td>\n",
       "      <td>Iris-virginica</td>\n",
       "    </tr>\n",
       "    <tr>\n",
       "      <th>149</th>\n",
       "      <td>5.9</td>\n",
       "      <td>3.0</td>\n",
       "      <td>5.1</td>\n",
       "      <td>1.8</td>\n",
       "      <td>Iris-virginica</td>\n",
       "    </tr>\n",
       "  </tbody>\n",
       "</table>\n",
       "</div>"
      ],
      "text/plain": [
       "     sepal length in cm  sepal width in cm  petal length in cm  \\\n",
       "145                 6.7                3.0                 5.2   \n",
       "146                 6.3                2.5                 5.0   \n",
       "147                 6.5                3.0                 5.2   \n",
       "148                 6.2                3.4                 5.4   \n",
       "149                 5.9                3.0                 5.1   \n",
       "\n",
       "     petal width in cm     class label  \n",
       "145                2.3  Iris-virginica  \n",
       "146                1.9  Iris-virginica  \n",
       "147                2.0  Iris-virginica  \n",
       "148                2.3  Iris-virginica  \n",
       "149                1.8  Iris-virginica  "
      ]
     },
     "execution_count": 6,
     "metadata": {},
     "output_type": "execute_result"
    }
   ],
   "source": [
    "import pandas as pd\n",
    "\n",
    "df = pd.io.parsers.read_csv(\n",
    "    filepath_or_buffer='https://archive.ics.uci.edu/ml/machine-learning-databases/iris/iris.data',\n",
    "    header=None,\n",
    "    sep=',',\n",
    "    )\n",
    "df.columns = [l for i,l in sorted(feature_dict.items())] + ['class label']\n",
    "df.dropna(how=\"all\", inplace=True) # to drop the empty line at file-end\n",
    "\n",
    "df.tail()"
   ]
  },
  {
   "cell_type": "code",
   "execution_count": 7,
   "metadata": {
    "collapsed": true
   },
   "outputs": [],
   "source": [
    "from sklearn.preprocessing import LabelEncoder\n",
    "\n",
    "X = df[[0,1,2,3]].values\n",
    "y = df['class label'].values\n",
    "\n",
    "enc = LabelEncoder()\n",
    "label_encoder = enc.fit(y)\n",
    "y = label_encoder.transform(y) + 1\n",
    "\n",
    "label_dict = {1: 'Setosa', 2: 'Versicolor', 3:'Virginica'}"
   ]
  },
  {
   "cell_type": "markdown",
   "metadata": {},
   "source": [
    "Once we have loaded the data, it's time to perform some basic eda to see how the classes are distributed."
   ]
  },
  {
   "cell_type": "code",
   "execution_count": 8,
   "metadata": {
    "collapsed": false
   },
   "outputs": [
    {
     "data": {
      "image/png": "[encoded data removed]",
      "text/plain": [
       "<matplotlib.figure.Figure at 0x116b2ac18>"
      ]
     },
     "metadata": {},
     "output_type": "display_data"
    }
   ],
   "source": [
    "%matplotlib inline\n",
    "\n",
    "from matplotlib import pyplot as plt\n",
    "import numpy as np\n",
    "import math\n",
    "\n",
    "fig, axes = plt.subplots(nrows=2, ncols=2, figsize=(12,6))\n",
    "\n",
    "for ax,cnt in zip(axes.ravel(), range(4)):  \n",
    "\n",
    "    # set bin sizes\n",
    "    min_b = math.floor(np.min(X[:,cnt]))\n",
    "    max_b = math.ceil(np.max(X[:,cnt]))\n",
    "    bins = np.linspace(min_b, max_b, 25)\n",
    "\n",
    "    # plottling the histograms\n",
    "    for lab,col in zip(range(1,4), ('blue', 'red', 'green')):\n",
    "        ax.hist(X[y==lab, cnt],\n",
    "                   color=col,\n",
    "                   label='class %s' %label_dict[lab],\n",
    "                   bins=bins,\n",
    "                   alpha=0.5,)\n",
    "    ylims = ax.get_ylim()\n",
    "\n",
    "    # plot annotation\n",
    "    leg = ax.legend(loc='upper right', fancybox=True, fontsize=8)\n",
    "    leg.get_frame().set_alpha(0.5)\n",
    "    ax.set_ylim([0, max(ylims)+2])\n",
    "    ax.set_xlabel(feature_dict[cnt])\n",
    "    ax.set_title('Iris histogram #%s' %str(cnt+1))\n",
    "\n",
    "    # hide axis ticks\n",
    "    ax.tick_params(axis=\"both\", which=\"both\", bottom=\"off\", top=\"off\",  \n",
    "            labelbottom=\"on\", left=\"off\", right=\"off\", labelleft=\"on\")\n",
    "\n",
    "    # remove axis spines\n",
    "    ax.spines[\"top\"].set_visible(False)  \n",
    "    ax.spines[\"right\"].set_visible(False)\n",
    "    ax.spines[\"bottom\"].set_visible(False)\n",
    "    ax.spines[\"left\"].set_visible(False)    \n",
    "\n",
    "axes[0][0].set_ylabel('count')\n",
    "axes[1][0].set_ylabel('count')\n",
    "\n",
    "fig.tight_layout()       \n",
    "\n",
    "plt.show()"
   ]
  },
  {
   "cell_type": "code",
   "execution_count": 9,
   "metadata": {
    "collapsed": false
   },
   "outputs": [
    {
     "data": {
      "text/plain": [
       "array([[ 6.3,  3.3,  6. ,  2.5],\n",
       "       [ 5.8,  2.7,  5.1,  1.9],\n",
       "       [ 7.1,  3. ,  5.9,  2.1],\n",
       "       [ 6.3,  2.9,  5.6,  1.8],\n",
       "       [ 6.5,  3. ,  5.8,  2.2],\n",
       "       [ 7.6,  3. ,  6.6,  2.1],\n",
       "       [ 4.9,  2.5,  4.5,  1.7],\n",
       "       [ 7.3,  2.9,  6.3,  1.8],\n",
       "       [ 6.7,  2.5,  5.8,  1.8],\n",
       "       [ 7.2,  3.6,  6.1,  2.5],\n",
       "       [ 6.5,  3.2,  5.1,  2. ],\n",
       "       [ 6.4,  2.7,  5.3,  1.9],\n",
       "       [ 6.8,  3. ,  5.5,  2.1],\n",
       "       [ 5.7,  2.5,  5. ,  2. ],\n",
       "       [ 5.8,  2.8,  5.1,  2.4],\n",
       "       [ 6.4,  3.2,  5.3,  2.3],\n",
       "       [ 6.5,  3. ,  5.5,  1.8],\n",
       "       [ 7.7,  3.8,  6.7,  2.2],\n",
       "       [ 7.7,  2.6,  6.9,  2.3],\n",
       "       [ 6. ,  2.2,  5. ,  1.5],\n",
       "       [ 6.9,  3.2,  5.7,  2.3],\n",
       "       [ 5.6,  2.8,  4.9,  2. ],\n",
       "       [ 7.7,  2.8,  6.7,  2. ],\n",
       "       [ 6.3,  2.7,  4.9,  1.8],\n",
       "       [ 6.7,  3.3,  5.7,  2.1],\n",
       "       [ 7.2,  3.2,  6. ,  1.8],\n",
       "       [ 6.2,  2.8,  4.8,  1.8],\n",
       "       [ 6.1,  3. ,  4.9,  1.8],\n",
       "       [ 6.4,  2.8,  5.6,  2.1],\n",
       "       [ 7.2,  3. ,  5.8,  1.6],\n",
       "       [ 7.4,  2.8,  6.1,  1.9],\n",
       "       [ 7.9,  3.8,  6.4,  2. ],\n",
       "       [ 6.4,  2.8,  5.6,  2.2],\n",
       "       [ 6.3,  2.8,  5.1,  1.5],\n",
       "       [ 6.1,  2.6,  5.6,  1.4],\n",
       "       [ 7.7,  3. ,  6.1,  2.3],\n",
       "       [ 6.3,  3.4,  5.6,  2.4],\n",
       "       [ 6.4,  3.1,  5.5,  1.8],\n",
       "       [ 6. ,  3. ,  4.8,  1.8],\n",
       "       [ 6.9,  3.1,  5.4,  2.1],\n",
       "       [ 6.7,  3.1,  5.6,  2.4],\n",
       "       [ 6.9,  3.1,  5.1,  2.3],\n",
       "       [ 5.8,  2.7,  5.1,  1.9],\n",
       "       [ 6.8,  3.2,  5.9,  2.3],\n",
       "       [ 6.7,  3.3,  5.7,  2.5],\n",
       "       [ 6.7,  3. ,  5.2,  2.3],\n",
       "       [ 6.3,  2.5,  5. ,  1.9],\n",
       "       [ 6.5,  3. ,  5.2,  2. ],\n",
       "       [ 6.2,  3.4,  5.4,  2.3],\n",
       "       [ 5.9,  3. ,  5.1,  1.8]])"
      ]
     },
     "execution_count": 9,
     "metadata": {},
     "output_type": "execute_result"
    }
   ],
   "source": [
    "X[y==3]"
   ]
  },
  {
   "cell_type": "code",
   "execution_count": 10,
   "metadata": {
    "collapsed": false
   },
   "outputs": [
    {
     "name": "stdout",
     "output_type": "stream",
     "text": [
      "Mean Vector class 1: [ 5.006  3.418  1.464  0.244]\n",
      "\n",
      "Mean Vector class 2: [ 5.936  2.77   4.26   1.326]\n",
      "\n",
      "Mean Vector class 3: [ 6.588  2.974  5.552  2.026]\n",
      "\n"
     ]
    }
   ],
   "source": [
    "np.set_printoptions(precision=4)\n",
    "\n",
    "mean_vectors = []\n",
    "for cl in range(1,4):\n",
    "    mean_vectors.append(np.mean(X[y==cl], axis=0))\n",
    "    print('Mean Vector class %s: %s\\n' %(cl, mean_vectors[cl-1]))"
   ]
  },
  {
   "cell_type": "markdown",
   "metadata": {},
   "source": [
    "Now let's examine the scatter matrices\n"
   ]
  },
  {
   "cell_type": "code",
   "execution_count": 16,
   "metadata": {
    "collapsed": false
   },
   "outputs": [
    {
     "name": "stdout",
     "output_type": "stream",
     "text": [
      "within-class Scatter Matrix:\n",
      " [[ 38.9562  13.683   24.614    5.6556]\n",
      " [ 13.683   17.035    8.12     4.9132]\n",
      " [ 24.614    8.12    27.22     6.2536]\n",
      " [  5.6556   4.9132   6.2536   6.1756]]\n"
     ]
    }
   ],
   "source": [
    "S_W = np.zeros((4,4))\n",
    "for cl,mv in zip(range(1,4), mean_vectors):\n",
    "    class_sc_mat = np.zeros((4,4))                  # scatter matrix for every class\n",
    "    for row in X[y == cl]:\n",
    "        row, mv = row.reshape(4,1), mv.reshape(4,1) # make column vectors\n",
    "        class_sc_mat += (row-mv).dot((row-mv).T)\n",
    "    S_W += class_sc_mat                             # sum class scatter matrices\n",
    "print('within-class Scatter Matrix:\\n', S_W)"
   ]
  },
  {
   "cell_type": "code",
   "execution_count": 17,
   "metadata": {
    "collapsed": false
   },
   "outputs": [
    {
     "name": "stdout",
     "output_type": "stream",
     "text": [
      "[[-0.688]\n",
      " [ 0.026]\n",
      " [-0.452]\n",
      " [-0.226]]\n"
     ]
    },
    {
     "ename": "AttributeError",
     "evalue": "'NoneType' object has no attribute 'dot'",
     "output_type": "error",
     "traceback": [
      "\u001b[0;31m---------------------------------------------------------------------------\u001b[0m",
      "\u001b[0;31mAttributeError\u001b[0m                            Traceback (most recent call last)",
      "\u001b[0;32m<ipython-input-17-78c2cd13ae81>\u001b[0m in \u001b[0;36m<module>\u001b[0;34m()\u001b[0m\n\u001b[1;32m      3\u001b[0m \u001b[0mmv\u001b[0m \u001b[0;34m=\u001b[0m \u001b[0mmv\u001b[0m\u001b[0;34m.\u001b[0m\u001b[0mreshape\u001b[0m\u001b[0;34m(\u001b[0m\u001b[0;36m4\u001b[0m\u001b[0;34m,\u001b[0m\u001b[0;36m1\u001b[0m\u001b[0;34m)\u001b[0m\u001b[0;34m\u001b[0m\u001b[0m\n\u001b[1;32m      4\u001b[0m \u001b[0;34m\u001b[0m\u001b[0m\n\u001b[0;32m----> 5\u001b[0;31m \u001b[0mprint\u001b[0m \u001b[0;34m(\u001b[0m\u001b[0mrow\u001b[0m\u001b[0;34m-\u001b[0m\u001b[0mmv\u001b[0m\u001b[0;34m)\u001b[0m\u001b[0;34m.\u001b[0m\u001b[0mdot\u001b[0m\u001b[0;34m(\u001b[0m\u001b[0;34m(\u001b[0m\u001b[0mrow\u001b[0m\u001b[0;34m-\u001b[0m\u001b[0mmv\u001b[0m\u001b[0;34m)\u001b[0m\u001b[0;34m.\u001b[0m\u001b[0mT\u001b[0m\u001b[0;34m)\u001b[0m\u001b[0;34m\u001b[0m\u001b[0m\n\u001b[0m\u001b[1;32m      6\u001b[0m \u001b[0;34m\u001b[0m\u001b[0m\n\u001b[1;32m      7\u001b[0m \u001b[0;34m\u001b[0m\u001b[0m\n",
      "\u001b[0;31mAttributeError\u001b[0m: 'NoneType' object has no attribute 'dot'"
     ]
    }
   ],
   "source": [
    "import numpy as np\n",
    "row = row.reshape(4,1)\n",
    "mv = mv.reshape(4,1)\n",
    "\n",
    "print (row-mv).dot((row-mv).T)\n",
    "\n",
    "\n",
    "print (S_W)"
   ]
  },
  {
   "cell_type": "code",
   "execution_count": 26,
   "metadata": {
    "collapsed": false
   },
   "outputs": [
    {
     "name": "stdout",
     "output_type": "stream",
     "text": [
      "between-class Scatter Matrix:\n",
      " [[  63.2121  -19.534   165.1647   71.3631]\n",
      " [ -19.534    10.9776  -56.0552  -22.4924]\n",
      " [ 165.1647  -56.0552  436.6437  186.9081]\n",
      " [  71.3631  -22.4924  186.9081   80.6041]]\n"
     ]
    }
   ],
   "source": [
    "overall_mean = np.mean(X, axis=0)\n",
    "\n",
    "S_B = np.zeros((4,4))\n",
    "for i,mean_vec in enumerate(mean_vectors):  \n",
    "    n = X[y==i+1,:].shape[0]\n",
    "    mean_vec = mean_vec.reshape(4,1) # make column vector\n",
    "    overall_mean = overall_mean.reshape(4,1) # make column vector\n",
    "    S_B += n * (mean_vec - overall_mean).dot((mean_vec - overall_mean).T)\n",
    "\n",
    "print('between-class Scatter Matrix:\\n', S_B)"
   ]
  },
  {
   "cell_type": "code",
   "execution_count": 27,
   "metadata": {
    "collapsed": false
   },
   "outputs": [
    {
     "data": {
      "text/plain": [
       "array([[ 0.7447],\n",
       "       [-0.08  ],\n",
       "       [ 1.7933],\n",
       "       [ 0.8273]])"
      ]
     },
     "execution_count": 27,
     "metadata": {},
     "output_type": "execute_result"
    }
   ],
   "source": [
    "mean_vec - overall_mean"
   ]
  },
  {
   "cell_type": "code",
   "execution_count": 28,
   "metadata": {
    "collapsed": false
   },
   "outputs": [
    {
     "name": "stdout",
     "output_type": "stream",
     "text": [
      "\n",
      "Eigenvector 1: \n",
      "[[ 0.2049]\n",
      " [ 0.3871]\n",
      " [-0.5465]\n",
      " [-0.7138]]\n",
      "Eigenvalue 1: 3.23e+01\n",
      "\n",
      "Eigenvector 2: \n",
      "[[-0.009 ]\n",
      " [-0.589 ]\n",
      " [ 0.2543]\n",
      " [-0.767 ]]\n",
      "Eigenvalue 2: 2.78e-01\n",
      "\n",
      "Eigenvector 3: \n",
      "[[-0.4977]\n",
      " [-0.1139]\n",
      " [-0.1857]\n",
      " [ 0.8396]]\n",
      "Eigenvalue 3: -4.26e-15\n",
      "\n",
      "Eigenvector 4: \n",
      "[[ 0.472 ]\n",
      " [-0.4418]\n",
      " [-0.4867]\n",
      " [ 0.5874]]\n",
      "Eigenvalue 4: 6.75e-15\n"
     ]
    }
   ],
   "source": [
    "eig_vals, eig_vecs = np.linalg.eig(np.linalg.inv(S_W).dot(S_B))\n",
    "\n",
    "for i in range(len(eig_vals)):\n",
    "    eigvec_sc = eig_vecs[:,i].reshape(4,1)   \n",
    "    print('\\nEigenvector {}: \\n{}'.format(i+1, eigvec_sc.real))\n",
    "    print('Eigenvalue {:}: {:.2e}'.format(i+1, eig_vals[i].real))"
   ]
  },
  {
   "cell_type": "code",
   "execution_count": 30,
   "metadata": {
    "collapsed": false
   },
   "outputs": [
    {
     "name": "stdout",
     "output_type": "stream",
     "text": [
      "Eigenvalues in decreasing order:\n",
      "\n",
      "32.2719577997\n",
      "0.27756686384\n",
      "6.75111700988e-15\n",
      "4.26188251583e-15\n"
     ]
    }
   ],
   "source": [
    "# Make a list of (eigenvalue, eigenvector) tuples\n",
    "eig_pairs = [(np.abs(eig_vals[i]), eig_vecs[:,i]) for i in range(len(eig_vals))]\n",
    "\n",
    "# Sort the (eigenvalue, eigenvector) tuples from high to low\n",
    "eig_pairs = sorted(eig_pairs, key=lambda k: k[0], reverse=True)\n",
    "\n",
    "# Visually confirm that the list is correctly sorted by decreasing eigenvalues\n",
    "\n",
    "print('Eigenvalues in decreasing order:\\n')\n",
    "for i in eig_pairs:\n",
    "    print(i[0])\n"
   ]
  },
  {
   "cell_type": "code",
   "execution_count": 31,
   "metadata": {
    "collapsed": false
   },
   "outputs": [
    {
     "name": "stdout",
     "output_type": "stream",
     "text": [
      "Matrix W:\n",
      " [[ 0.2049 -0.009 ]\n",
      " [ 0.3871 -0.589 ]\n",
      " [-0.5465  0.2543]\n",
      " [-0.7138 -0.767 ]]\n"
     ]
    },
    {
     "data": {
      "image/png": "[encoded data removed]",
      "text/plain": [
       "<matplotlib.figure.Figure at 0x11a9b3dd8>"
      ]
     },
     "metadata": {},
     "output_type": "display_data"
    }
   ],
   "source": [
    "from matplotlib import pyplot as plt\n",
    "\n",
    "W = np.hstack((eig_pairs[0][1].reshape(4,1), eig_pairs[1][1].reshape(4,1)))\n",
    "print('Matrix W:\\n', W.real)\n",
    "X_lda = X.dot(W)\n",
    "\n",
    "def plot_step_lda():\n",
    "\n",
    "    ax = plt.subplot(111)\n",
    "    for label,marker,color in zip(\n",
    "        range(1,4),('^', 's', 'o'),('blue', 'red', 'green')):\n",
    "\n",
    "        plt.scatter(x=X_lda[:,0].real[y == label],\n",
    "                y=X_lda[:,1].real[y == label],\n",
    "                marker=marker,\n",
    "                color=color,\n",
    "                alpha=0.5,\n",
    "                label=label_dict[label]\n",
    "                )\n",
    "\n",
    "    plt.xlabel('LD1')\n",
    "    plt.ylabel('LD2')\n",
    "\n",
    "    leg = plt.legend(loc='upper right', fancybox=True)\n",
    "    leg.get_frame().set_alpha(0.5)\n",
    "    plt.title('LDA: Iris projection onto the first 2 linear discriminants')\n",
    "\n",
    "    # hide axis ticks\n",
    "    plt.tick_params(axis=\"both\", which=\"both\", bottom=\"off\", top=\"off\",  \n",
    "            labelbottom=\"on\", left=\"off\", right=\"off\", labelleft=\"on\")\n",
    "\n",
    "    # remove axis spines\n",
    "    ax.spines[\"top\"].set_visible(False)  \n",
    "    ax.spines[\"right\"].set_visible(False)\n",
    "    ax.spines[\"bottom\"].set_visible(False)\n",
    "    ax.spines[\"left\"].set_visible(False)    \n",
    "\n",
    "    plt.grid()\n",
    "    plt.tight_layout\n",
    "    plt.show()\n",
    "\n",
    "plot_step_lda()"
   ]
  },
  {
   "cell_type": "markdown",
   "metadata": {
    "collapsed": true
   },
   "source": [
    "## LDA as a Classifier using Sklearn"
   ]
  },
  {
   "cell_type": "code",
   "execution_count": 18,
   "metadata": {
    "collapsed": false
   },
   "outputs": [],
   "source": [
    "from sklearn.discriminant_analysis import LinearDiscriminantAnalysis\n",
    "from sklearn.cross_validation import train_test_split\n",
    "from sklearn.metrics import accuracy_score"
   ]
  },
  {
   "cell_type": "code",
   "execution_count": 19,
   "metadata": {
    "collapsed": false
   },
   "outputs": [],
   "source": [
    "# Create an instance of the class\n",
    "lda = LinearDiscriminantAnalysis(n_components = 3)"
   ]
  },
  {
   "cell_type": "code",
   "execution_count": 20,
   "metadata": {
    "collapsed": false
   },
   "outputs": [],
   "source": [
    "# Run a train test split on the data\n",
    "X_train, X_test, y_train, y_test = train_test_split(X,y,test_size = 0.25)"
   ]
  },
  {
   "cell_type": "code",
   "execution_count": 22,
   "metadata": {
    "collapsed": false
   },
   "outputs": [
    {
     "name": "stdout",
     "output_type": "stream",
     "text": [
      "Accuracy Score Training Set: 0.9732142857142857\n",
      "Accuracy Score Test Set: 1.0\n"
     ]
    }
   ],
   "source": [
    "# Fit the model to the training data\n",
    "lda.fit(X_train,y_train)\n",
    "\n",
    "# Print the accuracy score for the training set\n",
    "print (\"Accuracy Score Training Set: {}\".format(accuracy_score(y_train,lda.predict(X_train))))\n",
    "\n",
    "# Print the accuracy score for the testing set\n",
    "print (\"Accuracy Score Test Set: {}\".format(accuracy_score(y_test,lda.predict(X_test))))"
   ]
  },
  {
   "cell_type": "markdown",
   "metadata": {},
   "source": [
    "### To use it in dimensionality reduction, just set n_components to whatever value you like and run the training data through fit transform and the testing data through transform, like so. "
   ]
  },
  {
   "cell_type": "code",
   "execution_count": 23,
   "metadata": {
    "collapsed": false
   },
   "outputs": [],
   "source": [
    "reduced_X_train = lda.fit_transform(X_train,y_train)\n",
    "reduced_X_test = lda.transform(X_test)"
   ]
  },
  {
   "cell_type": "code",
   "execution_count": 24,
   "metadata": {
    "collapsed": false
   },
   "outputs": [
    {
     "data": {
      "text/plain": [
       "array([[ -6.9389e+00,  -4.1333e-01],\n",
       "       [  2.3690e+00,   7.5081e-01],\n",
       "       [  1.9136e+00,  -3.2669e-01],\n",
       "       [ -6.9779e+00,  -9.6217e-01],\n",
       "       [  1.8136e+00,   5.4162e-02],\n",
       "       [ -8.4176e+00,   1.7950e+00],\n",
       "       [  6.0159e+00,   1.5075e-01],\n",
       "       [  6.0159e+00,   1.5075e-01],\n",
       "       [  5.6477e+00,   6.1116e-01],\n",
       "       [  2.9998e+00,  -1.0493e+00],\n",
       "       [  2.1522e+00,  -2.5023e-01],\n",
       "       [  4.5689e+00,  -1.1774e+00],\n",
       "       [  7.3557e+00,   7.8950e-01],\n",
       "       [ -9.5796e+00,   1.6084e+00],\n",
       "       [ -6.4298e+00,  -7.8182e-01],\n",
       "       [ -7.2458e+00,  -3.5336e-01],\n",
       "       [  7.1292e+00,   1.9849e+00],\n",
       "       [ -7.0412e+00,  -3.4718e-01],\n",
       "       [  5.9667e+00,  -1.6075e+00],\n",
       "       [ -6.0082e+00,   3.5154e-01],\n",
       "       [  4.1497e+00,   1.2960e+00],\n",
       "       [  6.0841e+00,   1.4326e-02],\n",
       "       [  2.6212e-01,  -1.2579e+00],\n",
       "       [  6.4229e+00,  -2.5445e-02],\n",
       "       [ -1.1283e-01,  -9.3536e-01],\n",
       "       [  8.3469e+00,   3.8476e-01],\n",
       "       [  3.2508e+00,   2.8668e-01],\n",
       "       [  6.2668e+00,   1.0836e+00],\n",
       "       [  3.1510e+00,   2.5208e-01],\n",
       "       [  1.6944e+00,  -1.5039e+00],\n",
       "       [  7.6645e-01,  -1.8403e+00],\n",
       "       [ -7.3798e+00,  -1.8127e-01],\n",
       "       [  1.8698e+00,  -1.0895e+00],\n",
       "       [ -6.5881e+00,   4.1562e-01],\n",
       "       [  5.5582e+00,   2.0506e+00],\n",
       "       [  7.0170e+00,   8.2927e-01],\n",
       "       [  2.0890e+00,   8.7786e-02],\n",
       "       [  7.3823e+00,   3.1063e+00],\n",
       "       [ -8.2957e+00,   3.5107e-01],\n",
       "       [ -9.2339e+00,   1.9712e+00],\n",
       "       [ -6.9802e+00,  -1.1384e+00],\n",
       "       [  1.4579e+00,  -1.3918e+00],\n",
       "       [  5.5040e+00,  -3.1236e-01],\n",
       "       [  6.1014e+00,   1.7524e+00],\n",
       "       [  3.0291e+00,  -1.3314e+00],\n",
       "       [  5.1558e+00,  -5.7434e-01],\n",
       "       [  4.5419e+00,  -5.8053e-01],\n",
       "       [  5.7725e+00,  -2.7813e-01],\n",
       "       [  3.3141e+00,  -3.2831e-01],\n",
       "       [  1.6921e+00,  -1.6802e+00],\n",
       "       [ -8.5662e+00,   7.9601e-01],\n",
       "       [  6.0786e+00,   2.1847e+00],\n",
       "       [  5.2020e+00,   6.2928e-01],\n",
       "       [ -7.7135e+00,   6.0169e-01],\n",
       "       [ -6.6127e+00,   1.1887e+00],\n",
       "       [ -5.3550e+00,  -2.2717e+00],\n",
       "       [ -7.8087e+00,   1.1965e+00],\n",
       "       [ -6.8072e+00,  -9.0012e-01],\n",
       "       [  3.2121e+00,  -2.7450e-01],\n",
       "       [ -7.8113e+00,   8.9413e-01],\n",
       "       [ -7.5430e+00,   5.3760e-01],\n",
       "       [ -6.7050e+00,  -8.2779e-01],\n",
       "       [  2.5467e+00,   1.4800e+00],\n",
       "       [ -8.0182e+00,   7.1173e-01],\n",
       "       [  2.3546e+00,  -2.9413e-01],\n",
       "       [  7.5677e+00,   1.1735e+00],\n",
       "       [ -6.9779e+00,  -9.6217e-01],\n",
       "       [  5.5166e+00,  -1.9541e+00],\n",
       "       [  2.5567e+00,  -7.2878e-01],\n",
       "       [  4.9563e+00,   2.4188e-02],\n",
       "       [  2.4933e+00,  -5.1690e-01],\n",
       "       [  4.1766e+00,   4.3451e-01],\n",
       "       [ -7.7842e+00,   2.9728e-01],\n",
       "       [ -7.0339e+00,   3.0760e-01],\n",
       "       [  6.6650e-01,  -1.5980e+00],\n",
       "       [  5.7479e+00,   7.5956e-01],\n",
       "       [  7.2798e+00,  -3.8424e-01],\n",
       "       [ -7.6890e+00,  -2.9751e-01],\n",
       "       [ -6.2181e+00,  -2.4700e-01],\n",
       "       [  7.8828e-01,   1.2401e-01],\n",
       "       [  1.2121e+00,  -1.8584e+00],\n",
       "       [ -6.4978e+00,  -6.5774e-01],\n",
       "       [  2.0500e+00,  -3.2257e-01],\n",
       "       [  7.0539e+00,   1.5927e+00],\n",
       "       [ -7.3092e+00,  -2.9968e-03],\n",
       "       [ -6.5297e+00,  -5.3945e-01],\n",
       "       [  7.1680e+00,  -1.0229e+00],\n",
       "       [  1.5702e+00,  -3.7472e-01],\n",
       "       [ -7.4628e+00,   1.5469e+00],\n",
       "       [  6.1275e+00,   5.2483e-01],\n",
       "       [ -6.9342e+00,  -6.0906e-02],\n",
       "       [  3.3872e+00,   2.9080e-01],\n",
       "       [  2.4838e+00,  -1.0833e+00],\n",
       "       [ -8.8638e+00,   1.4347e+00],\n",
       "       [ -7.3774e+00,  -5.0574e-03],\n",
       "       [  2.8100e+00,   3.8026e-01],\n",
       "       [ -6.2981e+00,  -1.1301e+00],\n",
       "       [ -7.6137e+00,   2.3319e-01],\n",
       "       [  4.5883e+00,   7.4922e-01],\n",
       "       [  1.4630e+00,  -7.8713e-01],\n",
       "       [  1.7482e+00,  -2.6853e+00],\n",
       "       [ -6.2738e+00,   1.1366e+00],\n",
       "       [  3.2293e+00,  -1.8285e+00],\n",
       "       [  4.1868e+00,  -1.6481e+00],\n",
       "       [  7.2729e+00,   2.6438e+00],\n",
       "       [  2.8200e+00,  -1.5639e+00],\n",
       "       [  2.3302e+00,   4.6659e-01],\n",
       "       [  3.1462e+00,   3.8136e-02],\n",
       "       [ -7.8842e+00,   5.3964e-01],\n",
       "       [  5.7477e+00,   3.6879e-01],\n",
       "       [  6.2909e+00,   7.0581e-02],\n",
       "       [ -7.7405e+00,   1.0601e+00]])"
      ]
     },
     "execution_count": 24,
     "metadata": {},
     "output_type": "execute_result"
    }
   ],
   "source": [
    "# Notice now how there are only two components\n",
    "\n",
    "reduced_X_train"
   ]
  },
  {
   "cell_type": "code",
   "execution_count": null,
   "metadata": {
    "collapsed": true
   },
   "outputs": [],
   "source": []
  },
  {
   "cell_type": "code",
   "execution_count": null,
   "metadata": {
    "collapsed": true
   },
   "outputs": [],
   "source": []
  }
 ],
 "metadata": {
  "anaconda-cloud": {},
  "kernelspec": {
   "display_name": "Python [Root]",
   "language": "python",
   "name": "Python [Root]"
  },
  "language_info": {
   "codemirror_mode": {
    "name": "ipython",
    "version": 3
   },
   "file_extension": ".py",
   "mimetype": "text/x-python",
   "name": "python",
   "nbconvert_exporter": "python",
   "pygments_lexer": "ipython3",
   "version": "3.5.2"
  }
 },
 "nbformat": 4,
 "nbformat_minor": 0
}
