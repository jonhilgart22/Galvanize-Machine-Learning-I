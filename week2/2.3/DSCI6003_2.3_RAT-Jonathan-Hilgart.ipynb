{
 "cells": [
  {
   "cell_type": "markdown",
   "metadata": {},
   "source": [
    "## RAT 2.3\n",
    "\n",
    "- Give a concise description of k-Nearest Neighbors\n",
    "\n",
    "- What are the strengths and weaknesses of kNN?"
   ]
  },
  {
   "cell_type": "markdown",
   "metadata": {},
   "source": [
    ">KNN is a method to classify test data points from a training set of data. You set the K, which determines the number of 'neighbors' that are used to predict which point the test data should belong to. Each 'neighborhood' consists of K 'neighbors' which are the closest points to your test data point. 'Closest' here could be a number of different distance metrics (Euclidean, Mahalanobis, Cosine ...etc).  Finally, to determine the classifications of your test points' neighborhood, you find the most common label and predict that the test data point will belong to that classification. "
   ]
  },
  {
   "cell_type": "markdown",
   "metadata": {},
   "source": [
    "- Strengths\n",
    "> - Works well for data that has 'clumps' (clusters together). \n",
    "> - Very general approach that can be adjusted for the specifics of a variety of problems.\n",
    "> - Keeps all of the training data to predict off of (you don't lose information).\n",
    "\n",
    "- Weaknesses\n",
    "> - KNN has to cycle through every data point, so ineffective for large datasets. \n",
    "> - Need to preset your k, even if you don't know what the optimal K should be for your dataset.\n",
    "> - Only works if your data clasifications are clustered together. If they are spread far apart, you can't predict your test data based upon it's neighborhood.\n",
    "> - Not robust to noisy data.\n"
   ]
  },
  {
   "cell_type": "code",
   "execution_count": null,
   "metadata": {
    "collapsed": true
   },
   "outputs": [],
   "source": []
  }
 ],
 "metadata": {
  "kernelspec": {
   "display_name": "Python [Root]",
   "language": "python",
   "name": "Python [Root]"
  },
  "language_info": {
   "codemirror_mode": {
    "name": "ipython",
    "version": 3
   },
   "file_extension": ".py",
   "mimetype": "text/x-python",
   "name": "python",
   "nbconvert_exporter": "python",
   "pygments_lexer": "ipython3",
   "version": "3.5.2"
  }
 },
 "nbformat": 4,
 "nbformat_minor": 0
}
