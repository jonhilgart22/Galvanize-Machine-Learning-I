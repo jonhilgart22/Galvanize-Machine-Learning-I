{
 "cells": [
  {
   "cell_type": "markdown",
   "metadata": {},
   "source": [
    "# Recommender Systems Notes\n",
    "\n",
    "Recommender systems recommend products and services.  They can be used to decide what links will be placed on a web page and what ads will be displayed.  The close the promotions can be to real user needs and tastes, the more effective they are and the more consumers like them.  For a long time promotions were based on broad demographic grouping (soccer mom, Joe six-pack, etc.).  These broad demographic groupings were the best available in the era of broadcast media like over-the-air TV and radio.  Broadcast networks could target demographic groups by their choice of programming and the attract advertiser support based for products aimed at those consumers.  Internet delivery of content changed that equation.  \n",
    "\n",
    "Delivery of content by internet makes it possible for companies to learn very specific narrow tastes of each user and to then rifle-shot very specific products and services.  Sometimes this can get so specific that it becomes commercial stalking.  Your personal experience probably confirms this and stories abound.  This kind of rifle-shot targeting requires more information about a consumer than broad demographics (age, sex, zip code, yearly income, etc.).  Behavioral data is the highest grade source of information.  That includes past purchase behavior, items viewed during visits, content of emails, etc.  Compare amazon before and after signing in, for an example.  Behavioral data is powerful because it is unambiguous.  Surveys and questionaires can reflect wishful thinking.  Purchase and click information is closer to reality.  \n",
    "\n",
    "This lecture will focus on one specific type of recommendation - based on the historic Netflix competition to improve their movie recommendations based on rankings users gave for movies they's watched.  \n",
    "\n",
    "# References\n",
    "https://en.wikipedia.org/wiki/Netflix_Prize - summary info on Netflix prize   \n",
    "https://en.wikipedia.org/wiki/Collaborative_filtering - collaborative filtering   \n",
    "https://en.wikipedia.org/wiki/Latent_semantic_analysis - latent semantic analysis (aka indexing)  \n",
    "http://infolab.stanford.edu/~ullman/mmds/ch11.pdf - pg 420 for movie example  \n",
    "http://cs229.stanford.edu/proj2014/Christopher%20Aberger,%20Recommender.pdf - Alternating least squares (ALS) algo  \n",
    "http://courses.cs.washington.edu/courses/cse599c1/13wi/slides/matrix-factorization-sgd-nmf.pdf - nice summary of ALS and SGD  \n",
    "https://en.wikipedia.org/wiki/Jaccard_index - jaccard similarity measure  \n",
    "https://en.wikipedia.org/wiki/Cosine_similarity - cosine similarity  \n",
    "https://en.wikipedia.org/wiki/Pearson_product-moment_correlation_coefficient - Pearson correlation  \n",
    "\n",
    "\n",
    "# Order of topics\n",
    "1.  Netflix prize and problem definition  \n",
    "2.  Discussion of collaborative filtering  \n",
    "3.  Discussion of matrix factorization methods - SVD, UV factors and differences.  \n",
    "\n",
    "# Matrix doesn't have to be \"ratings\"\n",
    "\n",
    "\n",
    "# Collaborative filtering\n",
    "-Ask my brother.  To give a recommendation for a user (called \"active\" user), find another user whose taste matches and see what movies they like.  \n",
    "-How to metrize user proximity.  How to metrize item proximity.  \n",
    "&nbsp;&nbsp;&nbsp;-Correlation  \n",
    "&nbsp;&nbsp;&nbsp;-Cosine similarity  \n",
    "&nbsp;&nbsp;&nbsp;-Jacard similarity  \n",
    "\n",
    "# Filling in missing values in the ratings matrix\n",
    "-Singular value decomposition  \n",
    "-Matrix factorization - based on non-zero values  \n",
    "&nbsp;&nbsp;&nbsp;-Alternating least squares  \n",
    "&nbsp;&nbsp;&nbsp;-Gradient descent (perhaps stochastic)  \n",
    "&nbsp;&nbsp;&nbsp;-Regularization  \n",
    "\n"
   ]
  },
  {
   "cell_type": "code",
   "execution_count": null,
   "metadata": {
    "collapsed": true
   },
   "outputs": [],
   "source": []
  },
  {
   "cell_type": "code",
   "execution_count": null,
   "metadata": {
    "collapsed": true
   },
   "outputs": [],
   "source": []
  }
 ],
 "metadata": {
  "kernelspec": {
   "display_name": "Python [conda root]",
   "language": "python",
   "name": "conda-root-py"
  },
  "language_info": {
   "codemirror_mode": {
    "name": "ipython",
    "version": 3
   },
   "file_extension": ".py",
   "mimetype": "text/x-python",
   "name": "python",
   "nbconvert_exporter": "python",
   "pygments_lexer": "ipython3",
   "version": "3.5.2"
  }
 },
 "nbformat": 4,
 "nbformat_minor": 0
}
